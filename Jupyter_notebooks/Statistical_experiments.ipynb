{
 "cells": [
  {
   "metadata": {},
   "cell_type": "markdown",
   "source": [
    "* Formulate a hypothesis\n",
    "* Design an experiment\n",
    "* Collect the data\n",
    "* Inference and conclusions"
   ],
   "id": "5224295d2cd88677"
  },
  {
   "metadata": {},
   "cell_type": "markdown",
   "source": [
    "A/B Testing\n",
    "* Hypothesis in mind and any observed difference is due to random chance in assignment or the true difference in the treatments."
   ],
   "id": "e01990cca533c37"
  },
  {
   "metadata": {},
   "cell_type": "markdown",
   "source": [
    "Treatment\n",
    "* Something to which a subject is exposed"
   ],
   "id": "597fc6394413ca22"
  },
  {
   "metadata": {},
   "cell_type": "markdown",
   "source": [
    "Treatment group\n",
    "* A group of subjects exposed to a treatment"
   ],
   "id": "9dc22f846be42358"
  },
  {
   "metadata": {},
   "cell_type": "markdown",
   "source": [
    "Control group\n",
    "* A group of subjects exposed to no treatment or the standard treatment"
   ],
   "id": "d1ef0e9d8e0fee5f"
  },
  {
   "metadata": {},
   "cell_type": "markdown",
   "source": [
    "Randomization\n",
    "* The process of randomly assigning subjects to treatments"
   ],
   "id": "fdab4a1bf9ab2543"
  },
  {
   "metadata": {},
   "cell_type": "markdown",
   "source": [
    "Subjects\n",
    "* the items that are being studied"
   ],
   "id": "c7df11de317878b8"
  },
  {
   "metadata": {},
   "cell_type": "markdown",
   "source": [
    "Test statistic\n",
    "* The metric used to measure the effect"
   ],
   "id": "38d71f5fc097c52e"
  },
  {
   "metadata": {},
   "cell_type": "markdown",
   "source": "Hypothesis test",
   "id": "748642685130b1ee"
  },
  {
   "metadata": {},
   "cell_type": "markdown",
   "source": [
    "Null hypothesis\n",
    "* The hypothesis that there is no effect"
   ],
   "id": "b235cb8ee5310c10"
  },
  {
   "metadata": {},
   "cell_type": "markdown",
   "source": [
    "Alternative hypothesis\n",
    "* The hypothesis that there is an effect"
   ],
   "id": "c19318264ec5625d"
  },
  {
   "metadata": {},
   "cell_type": "markdown",
   "source": [
    "One way test\n",
    "* Hypothesis test that counts chance results only in one direction"
   ],
   "id": "e376dd1462eb959a"
  },
  {
   "metadata": {},
   "cell_type": "markdown",
   "source": [
    "Two-way test\n",
    "* Hypothesis test that counts chance results in two directions"
   ],
   "id": "ca232f01436fb1a6"
  },
  {
   "metadata": {},
   "cell_type": "markdown",
   "source": "* Statistical hypothesis test is further analysis of an A/B test to asses whether the observed difference is statistically significant",
   "id": "f0a0c30002174e4f"
  },
  {
   "metadata": {},
   "cell_type": "markdown",
   "source": [
    "The null hypotheses\n",
    "* Require proof that the difference between groups is more extreme than the chance might reasonably produce"
   ],
   "id": "d9d81094e94be976"
  },
  {
   "metadata": {},
   "cell_type": "markdown",
   "source": "* Groups are equivalent and any difference between the groups is due to chance.",
   "id": "c68d70a9e242647b"
  },
  {
   "metadata": {},
   "cell_type": "markdown",
   "source": "* The outcomes for groups A and B are different than the chance might produce.",
   "id": "d6d86de880d2bfda"
  },
  {
   "metadata": {},
   "cell_type": "markdown",
   "source": [
    "Resampling permutation\n",
    "* Shuffle the results from groups and then repeatedly deal out the data in the same group sizes as the original data."
   ],
   "id": "12f9c27f466f358e"
  },
  {
   "metadata": {},
   "cell_type": "markdown",
   "source": "* Observe how often we get difference as extreme as the observed difference.",
   "id": "54b6ace0a1abad50"
  },
  {
   "metadata": {},
   "cell_type": "markdown",
   "source": [
    "Alternative hypothesis\n",
    "* Offset alternative hypothesis"
   ],
   "id": "80b9ad3e4b4dbe6f"
  },
  {
   "metadata": {},
   "cell_type": "markdown",
   "source": [
    "* Null \"no difference between the means of group A dn group B\"\n",
    "* Alternative \"there is a difference between the means of group A and group B\""
   ],
   "id": "a46c467f7d543c86"
  },
  {
   "metadata": {},
   "cell_type": "markdown",
   "source": "One-way versus Two way hypothesis test",
   "id": "bf341bd10e9b4d6d"
  },
  {
   "metadata": {},
   "cell_type": "markdown",
   "source": [
    "One way test\n",
    "* You don't care about being fooled by chance in one direction, you will be sticking with A unless B is significantly better."
   ],
   "id": "6fe8581ec497d70d"
  },
  {
   "metadata": {},
   "cell_type": "markdown",
   "source": [
    "Two way test\n",
    "* Protect you from being fooled by chance in either direction, the alternative hypothesis is that the means are different."
   ],
   "id": "b3692c42a86e37c1"
  },
  {
   "metadata": {},
   "cell_type": "markdown",
   "source": "* The bootstrap is used to asses the reliability of an estimate and the permutation test is used to test the hypothesis between groups.",
   "id": "c385400e0191e5b3"
  },
  {
   "metadata": {},
   "cell_type": "markdown",
   "source": [
    "Permutation test\n",
    "* Combining two or more samples together and randomly reallocating the observations to the groups."
   ],
   "id": "427ad94ccae4b90e"
  },
  {
   "metadata": {},
   "cell_type": "markdown",
   "source": [
    "Resampling\n",
    "* Drawing additional samples form an observed dataset"
   ],
   "id": "53e1d5cb6208311d"
  },
  {
   "metadata": {},
   "cell_type": "markdown",
   "source": [
    "With or without replacement\n",
    "* Whether or not an item is returned to the population after it is drawn"
   ],
   "id": "568c6a8c8a69fd32"
  },
  {
   "metadata": {},
   "cell_type": "markdown",
   "source": [
    "Permutation test\n",
    "* Change the order of a set of values\n",
    "* Combine the results of two groups, they do not differ\n",
    "* Randomly drawing groups from this combine set and seeing how much they differ"
   ],
   "id": "fedfdcc41b99ec00"
  },
  {
   "metadata": {},
   "cell_type": "markdown",
   "source": [
    "Process\n",
    "* Combine the results from the different groups into a single data set\n",
    "* Shuffle the combined data and then randomly draw without replacement a resample of the same size as group B\n",
    "* Do the same for groups C, D, and so on\n",
    "* You have collected a set of resamples that mirror the sizes of the original samples.\n",
    "* Now calculate the estimate for the resamples and record it\n",
    "* Repeat the previous step to yield a permutation distribution"
   ],
   "id": "cb96961248433d81"
  },
  {
   "metadata": {},
   "cell_type": "markdown",
   "source": "* Go back to the observed difference between groups and compare it to the set of permuted differences, If the observed differences are extreme, then the null hypothesis is rejected and chance is not responsible for the difference and is statistically significant.",
   "id": "ee312e961f2b2b60"
  },
  {
   "metadata": {},
   "cell_type": "markdown",
   "source": [
    "Proxy variable\n",
    "* Stands in for the true variable of interest, which may be unavailable or difficult to measure"
   ],
   "id": "51c10bafde8f04d0"
  },
  {
   "cell_type": "code",
   "id": "initial_id",
   "metadata": {
    "collapsed": true,
    "ExecuteTime": {
     "end_time": "2025-02-14T14:11:58.736459Z",
     "start_time": "2025-02-14T14:11:58.733702Z"
    }
   },
   "source": [
    "import numpy as np\n",
    "import matplotlib.pyplot as plt\n",
    "import random\n",
    "import pandas as pd"
   ],
   "outputs": [],
   "execution_count": 14
  },
  {
   "metadata": {
    "ExecuteTime": {
     "end_time": "2025-02-14T14:11:58.769272Z",
     "start_time": "2025-02-14T14:11:58.762955Z"
    }
   },
   "cell_type": "code",
   "source": "data = pd.read_csv(\"/home/satire/PycharmProjects/Statistics/csv/AB_Test_Results.csv\")",
   "id": "eddc91b25ca00806",
   "outputs": [],
   "execution_count": 15
  },
  {
   "metadata": {},
   "cell_type": "markdown",
   "source": "Cleaning the data",
   "id": "cd6a0b75cbe60325"
  },
  {
   "metadata": {
    "ExecuteTime": {
     "end_time": "2025-02-14T14:11:58.818269Z",
     "start_time": "2025-02-14T14:11:58.811511Z"
    }
   },
   "cell_type": "code",
   "source": "data.USER_ID.value_counts()",
   "id": "337fda5a0b2b5394",
   "outputs": [
    {
     "data": {
      "text/plain": [
       "USER_ID\n",
       "5652    6\n",
       "9101    6\n",
       "668     6\n",
       "8359    6\n",
       "4879    6\n",
       "       ..\n",
       "7165    1\n",
       "8395    1\n",
       "9168    1\n",
       "2380    1\n",
       "6174    1\n",
       "Name: count, Length: 6324, dtype: int64"
      ]
     },
     "execution_count": 16,
     "metadata": {},
     "output_type": "execute_result"
    }
   ],
   "execution_count": 16
  },
  {
   "metadata": {
    "ExecuteTime": {
     "end_time": "2025-02-14T14:11:58.920935Z",
     "start_time": "2025-02-14T14:11:58.894943Z"
    }
   },
   "cell_type": "code",
   "source": [
    "double_control = data[(data['USER_ID'].value_counts()>=2) & (data['VARIANT_NAME'] == 'control')]\n",
    "double_variant = data[(data['USER_ID'].value_counts()>=2) & (data['VARIANT_NAME'] == 'variant')]\n",
    "merged_id = pd.merge(double_control, double_variant, on='USER_ID')\n",
    "print(f\"not null revenue x: {len(merged_id[merged_id['REVENUE_x']>0])}\")\n",
    "print(f\"not null revenue y: {len(merged_id['REVENUE_y']>0)}\")\n",
    "merged_id.shape"
   ],
   "id": "1bed5a1a8c1e45fd",
   "outputs": [
    {
     "name": "stdout",
     "output_type": "stream",
     "text": [
      "not null revenue x: 3\n",
      "not null revenue y: 179\n"
     ]
    },
    {
     "name": "stderr",
     "output_type": "stream",
     "text": [
      "/tmp/ipykernel_17387/332722917.py:1: UserWarning: Boolean Series key will be reindexed to match DataFrame index.\n",
      "  double_control = data[(data['USER_ID'].value_counts()>=2) & (data['VARIANT_NAME'] == 'control')]\n",
      "/tmp/ipykernel_17387/332722917.py:2: UserWarning: Boolean Series key will be reindexed to match DataFrame index.\n",
      "  double_variant = data[(data['USER_ID'].value_counts()>=2) & (data['VARIANT_NAME'] == 'variant')]\n"
     ]
    },
    {
     "data": {
      "text/plain": [
       "(179, 5)"
      ]
     },
     "execution_count": 17,
     "metadata": {},
     "output_type": "execute_result"
    }
   ],
   "execution_count": 17
  },
  {
   "metadata": {
    "ExecuteTime": {
     "end_time": "2025-02-14T14:11:58.952872Z",
     "start_time": "2025-02-14T14:11:58.947615Z"
    }
   },
   "cell_type": "code",
   "source": [
    "# The operator ~ check whether a value is present in the list, identifying values that are missing from the merge_id dataframe\n",
    "df_not_null = data[~data['USER_ID'].isin(merged_id.USER_ID)]\n",
    "print(f\"After: {data.shape[0]}, before: {df_not_null.shape[0]}\")"
   ],
   "id": "91898a0382f8996f",
   "outputs": [
    {
     "name": "stdout",
     "output_type": "stream",
     "text": [
      "After: 10000, before: 9555\n"
     ]
    }
   ],
   "execution_count": 18
  },
  {
   "metadata": {
    "ExecuteTime": {
     "end_time": "2025-02-14T14:11:59.079167Z",
     "start_time": "2025-02-14T14:11:59.074478Z"
    }
   },
   "cell_type": "code",
   "source": "df_not_null.shape",
   "id": "adb1fef9f2e26bf",
   "outputs": [
    {
     "data": {
      "text/plain": [
       "(9555, 3)"
      ]
     },
     "execution_count": 19,
     "metadata": {},
     "output_type": "execute_result"
    }
   ],
   "execution_count": 19
  },
  {
   "metadata": {
    "ExecuteTime": {
     "end_time": "2025-02-14T14:11:59.163777Z",
     "start_time": "2025-02-14T14:11:59.155757Z"
    }
   },
   "cell_type": "code",
   "source": "df_not_null.sample(10)",
   "id": "bf38524297cf05af",
   "outputs": [
    {
     "data": {
      "text/plain": [
       "      USER_ID VARIANT_NAME  REVENUE\n",
       "2964     2382      control      0.0\n",
       "5626     9244      control      0.0\n",
       "4866     1993      variant      0.0\n",
       "7513     8340      variant      0.0\n",
       "7280     4685      variant      0.0\n",
       "4351     5366      control      0.0\n",
       "4437     7296      control      0.0\n",
       "1725     7166      control      0.0\n",
       "1670     1789      variant      0.0\n",
       "6048     4411      control      0.0"
      ],
      "text/html": [
       "<div>\n",
       "<style scoped>\n",
       "    .dataframe tbody tr th:only-of-type {\n",
       "        vertical-align: middle;\n",
       "    }\n",
       "\n",
       "    .dataframe tbody tr th {\n",
       "        vertical-align: top;\n",
       "    }\n",
       "\n",
       "    .dataframe thead th {\n",
       "        text-align: right;\n",
       "    }\n",
       "</style>\n",
       "<table border=\"1\" class=\"dataframe\">\n",
       "  <thead>\n",
       "    <tr style=\"text-align: right;\">\n",
       "      <th></th>\n",
       "      <th>USER_ID</th>\n",
       "      <th>VARIANT_NAME</th>\n",
       "      <th>REVENUE</th>\n",
       "    </tr>\n",
       "  </thead>\n",
       "  <tbody>\n",
       "    <tr>\n",
       "      <th>2964</th>\n",
       "      <td>2382</td>\n",
       "      <td>control</td>\n",
       "      <td>0.0</td>\n",
       "    </tr>\n",
       "    <tr>\n",
       "      <th>5626</th>\n",
       "      <td>9244</td>\n",
       "      <td>control</td>\n",
       "      <td>0.0</td>\n",
       "    </tr>\n",
       "    <tr>\n",
       "      <th>4866</th>\n",
       "      <td>1993</td>\n",
       "      <td>variant</td>\n",
       "      <td>0.0</td>\n",
       "    </tr>\n",
       "    <tr>\n",
       "      <th>7513</th>\n",
       "      <td>8340</td>\n",
       "      <td>variant</td>\n",
       "      <td>0.0</td>\n",
       "    </tr>\n",
       "    <tr>\n",
       "      <th>7280</th>\n",
       "      <td>4685</td>\n",
       "      <td>variant</td>\n",
       "      <td>0.0</td>\n",
       "    </tr>\n",
       "    <tr>\n",
       "      <th>4351</th>\n",
       "      <td>5366</td>\n",
       "      <td>control</td>\n",
       "      <td>0.0</td>\n",
       "    </tr>\n",
       "    <tr>\n",
       "      <th>4437</th>\n",
       "      <td>7296</td>\n",
       "      <td>control</td>\n",
       "      <td>0.0</td>\n",
       "    </tr>\n",
       "    <tr>\n",
       "      <th>1725</th>\n",
       "      <td>7166</td>\n",
       "      <td>control</td>\n",
       "      <td>0.0</td>\n",
       "    </tr>\n",
       "    <tr>\n",
       "      <th>1670</th>\n",
       "      <td>1789</td>\n",
       "      <td>variant</td>\n",
       "      <td>0.0</td>\n",
       "    </tr>\n",
       "    <tr>\n",
       "      <th>6048</th>\n",
       "      <td>4411</td>\n",
       "      <td>control</td>\n",
       "      <td>0.0</td>\n",
       "    </tr>\n",
       "  </tbody>\n",
       "</table>\n",
       "</div>"
      ]
     },
     "execution_count": 20,
     "metadata": {},
     "output_type": "execute_result"
    }
   ],
   "execution_count": 20
  },
  {
   "metadata": {
    "ExecuteTime": {
     "end_time": "2025-02-14T14:11:59.326706Z",
     "start_time": "2025-02-14T14:11:59.246152Z"
    }
   },
   "cell_type": "code",
   "source": [
    "ax = df_not_null.boxplot(by=\"VARIANT_NAME\", column='REVENUE')\n",
    "ax.set_xlabel('')\n",
    "ax.set_ylabel('Revenue')\n",
    "plt.suptitle('')"
   ],
   "id": "49f0e53e2e439d6c",
   "outputs": [
    {
     "data": {
      "text/plain": [
       "Text(0.5, 0.98, '')"
      ]
     },
     "execution_count": 21,
     "metadata": {},
     "output_type": "execute_result"
    },
    {
     "data": {
      "text/plain": [
       "<Figure size 640x480 with 1 Axes>"
      ],
      "image/png": "[encoded data removed]"
     },
     "metadata": {},
     "output_type": "display_data"
    }
   ],
   "execution_count": 21
  },
  {
   "metadata": {
    "ExecuteTime": {
     "end_time": "2025-02-14T14:11:59.390285Z",
     "start_time": "2025-02-14T14:11:59.381763Z"
    }
   },
   "cell_type": "code",
   "source": [
    "mean_control = df_not_null[df_not_null['VARIANT_NAME'] == \"control\"].REVENUE.mean()\n",
    "mean_variant = df_not_null[df_not_null['VARIANT_NAME'] == \"variant\"].REVENUE.mean()\n",
    "mean_control - mean_variant"
   ],
   "id": "a453c9a53ce4bdd5",
   "outputs": [
    {
     "data": {
      "text/plain": [
       "np.float64(0.059225257458739175)"
      ]
     },
     "execution_count": 22,
     "metadata": {},
     "output_type": "execute_result"
    }
   ],
   "execution_count": 22
  },
  {
   "metadata": {},
   "cell_type": "markdown",
   "source": "* Now it needs to be questioned whether this difference is within range of what random chance might produce is statically significant.",
   "id": "89092b8897753e01"
  },
  {
   "metadata": {},
   "cell_type": "markdown",
   "source": [
    "Permutation test\n",
    "* Combine all the revenue values together and then repeatedly shuffle and divide them into groups"
   ],
   "id": "4f958096f6935251"
  },
  {
   "metadata": {},
   "cell_type": "markdown",
   "source": "* Sampling without replacement number of elements of control group and the remaining indices are assigned to variant group. The difference between the two means is returned, calling this function R times = 1,000 times leading to a distribution of differences can be plotted as a histogram",
   "id": "30584a44ff3663ed"
  },
  {
   "metadata": {
    "ExecuteTime": {
     "end_time": "2025-02-14T14:11:59.468836Z",
     "start_time": "2025-02-14T14:11:59.464696Z"
    }
   },
   "cell_type": "code",
   "source": [
    "def perm_func(x, n_control, n_variant):\n",
    "    n = n_control + n_variant\n",
    "    idx_variant = list(random.sample(range(n), n_variant))\n",
    "    idx_control = list(set(range(n)) - set(idx_variant))\n",
    "    return x.loc[idx_control].mean() - x.loc[idx_variant].mean()"
   ],
   "id": "488a694e29d48a6a",
   "outputs": [],
   "execution_count": 23
  },
  {
   "metadata": {
    "ExecuteTime": {
     "end_time": "2025-02-14T14:12:02.178191Z",
     "start_time": "2025-02-14T14:11:59.514942Z"
    }
   },
   "cell_type": "code",
   "source": [
    "n_control = len(df_not_null[df_not_null['VARIANT_NAME'] == \"control\"])\n",
    "n_variant = len(df_not_null[df_not_null['VARIANT_NAME'] == \"variant\"])\n",
    "\n",
    "perm_diffs = [perm_func(data.REVENUE, n_control, n_variant) for _ in range(1000)]\n",
    "fig, ax = plt.subplots(figsize=(5, 5))\n",
    "ax.hist(perm_diffs, bins=11, rwidth=0.9)\n",
    "ax.axvline(x = mean_control - mean_variant, color='black', lw=2)\n",
    "ax.set_xlabel('Revenue differences')\n",
    "ax.set_ylabel('Frequency')"
   ],
   "id": "1d1b76ee78200cb5",
   "outputs": [
    {
     "data": {
      "text/plain": [
       "Text(0, 0.5, 'Frequency')"
      ]
     },
     "execution_count": 24,
     "metadata": {},
     "output_type": "execute_result"
    },
    {
     "data": {
      "text/plain": [
       "<Figure size 500x500 with 1 Axes>"
      ],
      "image/png": "[encoded data removed]"
     },
     "metadata": {},
     "output_type": "display_data"
    }
   ],
   "execution_count": 24
  },
  {
   "metadata": {},
   "cell_type": "markdown",
   "source": "This histogram shows that mean difference of random permutations often exceeds the observed difference in revenues between the control and variant groups.",
   "id": "78ad94fbd016a5dc"
  },
  {
   "metadata": {
    "ExecuteTime": {
     "end_time": "2025-02-14T14:12:02.208976Z",
     "start_time": "2025-02-14T14:12:02.204757Z"
    }
   },
   "cell_type": "code",
   "source": "np.mean(perm_diffs > mean_control - mean_variant)",
   "id": "b8f97edf19a98630",
   "outputs": [
    {
     "data": {
      "text/plain": [
       "np.float64(0.127)"
      ]
     },
     "execution_count": 25,
     "metadata": {},
     "output_type": "execute_result"
    }
   ],
   "execution_count": 25
  },
  {
   "metadata": {},
   "cell_type": "markdown",
   "source": "This happens 0.117 times out of 1,000, which is not statistically significant.",
   "id": "29a328735b16614a"
  },
  {
   "metadata": {},
   "cell_type": "markdown",
   "source": "This suggest that the observed difference in revenue is well within range and is not statistically significant.",
   "id": "aa47149a6b0a6687"
  },
  {
   "metadata": {},
   "cell_type": "markdown",
   "source": [
    "Variations of permutation tests\n",
    "* Bootstrap\n",
    "* Exhaustive permutation test"
   ],
   "id": "b3ae4f8b24dd3b51"
  },
  {
   "metadata": {},
   "cell_type": "markdown",
   "source": [
    "Exhaustive permutation test\n",
    "* Figuring out all the possible ways it could be divided into groups, only for small sample sizes"
   ],
   "id": "14ea91ae790a9979"
  },
  {
   "metadata": {},
   "cell_type": "markdown",
   "source": [
    "Bootstrap\n",
    "* Made with replacement instead of without replacement, Not just the random element in the assignment of treatment to subject but also the random element in the selection of subjects from a population."
   ],
   "id": "131546b5b9dd1986"
  }
 ],
 "metadata": {
  "kernelspec": {
   "display_name": "Python 3",
   "language": "python",
   "name": "python3"
  },
  "language_info": {
   "codemirror_mode": {
    "name": "ipython",
    "version": 2
   },
   "file_extension": ".py",
   "mimetype": "text/x-python",
   "name": "python",
   "nbconvert_exporter": "python",
   "pygments_lexer": "ipython2",
   "version": "2.7.6"
  }
 },
 "nbformat": 4,
 "nbformat_minor": 5
}
