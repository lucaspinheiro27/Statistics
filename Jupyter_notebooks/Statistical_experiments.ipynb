{
 "cells": [
  {
   "metadata": {},
   "cell_type": "markdown",
   "source": [
    "* Formulate a hypothesis\n",
    "* Design an experiment\n",
    "* Collect the data\n",
    "* Inference and conclusions"
   ],
   "id": "5224295d2cd88677"
  },
  {
   "metadata": {},
   "cell_type": "markdown",
   "source": [
    "A/B Testing\n",
    "* Hypothesis in mind and any observed difference is due to random chance in assignment or the true difference in the treatments."
   ],
   "id": "e01990cca533c37"
  },
  {
   "metadata": {},
   "cell_type": "markdown",
   "source": [
    "Treatment\n",
    "* Something to which a subject is exposed"
   ],
   "id": "597fc6394413ca22"
  },
  {
   "metadata": {},
   "cell_type": "markdown",
   "source": [
    "Treatment group\n",
    "* A group of subjects exposed to a treatment"
   ],
   "id": "9dc22f846be42358"
  },
  {
   "metadata": {},
   "cell_type": "markdown",
   "source": [
    "Control group\n",
    "* A group of subjects exposed to no treatment or the standard treatment"
   ],
   "id": "d1ef0e9d8e0fee5f"
  },
  {
   "metadata": {},
   "cell_type": "markdown",
   "source": [
    "Randomization\n",
    "* The process of randomly assigning subjects to treatments"
   ],
   "id": "fdab4a1bf9ab2543"
  },
  {
   "metadata": {},
   "cell_type": "markdown",
   "source": [
    "Subjects\n",
    "* the items that are being studied"
   ],
   "id": "c7df11de317878b8"
  },
  {
   "metadata": {},
   "cell_type": "markdown",
   "source": [
    "Test statistic\n",
    "* The metric used to measure the effect"
   ],
   "id": "38d71f5fc097c52e"
  },
  {
   "metadata": {},
   "cell_type": "markdown",
   "source": "Hypothesis test",
   "id": "748642685130b1ee"
  },
  {
   "metadata": {},
   "cell_type": "markdown",
   "source": [
    "Null hypothesis\n",
    "* The hypothesis that there is no effect"
   ],
   "id": "b235cb8ee5310c10"
  },
  {
   "metadata": {},
   "cell_type": "markdown",
   "source": [
    "Alternative hypothesis\n",
    "* The hypothesis that there is an effect"
   ],
   "id": "c19318264ec5625d"
  },
  {
   "metadata": {},
   "cell_type": "markdown",
   "source": [
    "One way test\n",
    "* Hypothesis test that counts chance results only in one direction"
   ],
   "id": "e376dd1462eb959a"
  },
  {
   "metadata": {},
   "cell_type": "markdown",
   "source": [
    "Two-way test\n",
    "* Hypothesis test that counts chance results in two directions"
   ],
   "id": "ca232f01436fb1a6"
  },
  {
   "metadata": {},
   "cell_type": "markdown",
   "source": "* Statistical hypothesis test is further analysis of an A/B test to asses whether the observed difference is statistically significant",
   "id": "f0a0c30002174e4f"
  },
  {
   "metadata": {},
   "cell_type": "markdown",
   "source": [
    "The null hypotheses\n",
    "* Require proof that the difference between groups is more extreme than the chance might reasonably produce"
   ],
   "id": "d9d81094e94be976"
  },
  {
   "metadata": {},
   "cell_type": "markdown",
   "source": "* Groups are equivalent and any difference between the groups is due to chance.",
   "id": "c68d70a9e242647b"
  },
  {
   "metadata": {},
   "cell_type": "markdown",
   "source": "* The outcomes for groups A and B are different than the chance might produce.",
   "id": "d6d86de880d2bfda"
  },
  {
   "metadata": {},
   "cell_type": "markdown",
   "source": [
    "Resampling permutation\n",
    "* Shuffle the results from groups and then repeatedly deal out the data in the same group sizes as the original data."
   ],
   "id": "12f9c27f466f358e"
  },
  {
   "metadata": {},
   "cell_type": "markdown",
   "source": "* Observe how often we get difference as extreme as the observed difference.",
   "id": "54b6ace0a1abad50"
  },
  {
   "metadata": {},
   "cell_type": "markdown",
   "source": [
    "Alternative hypothesis\n",
    "* Offset alternative hypothesis"
   ],
   "id": "80b9ad3e4b4dbe6f"
  },
  {
   "metadata": {},
   "cell_type": "markdown",
   "source": [
    "* Null \"no difference between the means of group A dn group B\"\n",
    "* Alternative \"there is a difference between the means of group A and group B\""
   ],
   "id": "a46c467f7d543c86"
  },
  {
   "metadata": {},
   "cell_type": "markdown",
   "source": "One-way versus Two way hypothesis test",
   "id": "bf341bd10e9b4d6d"
  },
  {
   "metadata": {},
   "cell_type": "markdown",
   "source": [
    "One way test\n",
    "* You don't care about being fooled by chance in one direction, you will be sticking with A unless B is significantly better."
   ],
   "id": "6fe8581ec497d70d"
  },
  {
   "metadata": {},
   "cell_type": "markdown",
   "source": [
    "Two way test\n",
    "* Protect you from being fooled by chance in either direction, the alternative hypothesis is that the means are different."
   ],
   "id": "b3692c42a86e37c1"
  },
  {
   "metadata": {},
   "cell_type": "markdown",
   "source": "* The bootstrap is used to asses the reliability of an estimate and the permutation test is used to test the hypothesis between groups.",
   "id": "c385400e0191e5b3"
  },
  {
   "metadata": {},
   "cell_type": "markdown",
   "source": [
    "Permutation test\n",
    "* Combining two or more samples together and randomly reallocating the observations to the groups."
   ],
   "id": "427ad94ccae4b90e"
  },
  {
   "metadata": {},
   "cell_type": "markdown",
   "source": [
    "Resampling\n",
    "* Drawing additional samples form an observed dataset"
   ],
   "id": "53e1d5cb6208311d"
  },
  {
   "metadata": {},
   "cell_type": "markdown",
   "source": [
    "With or without replacement\n",
    "* Whether or not an item is returned to the population after it is drawn"
   ],
   "id": "568c6a8c8a69fd32"
  },
  {
   "metadata": {},
   "cell_type": "markdown",
   "source": [
    "Permutation test\n",
    "* Change the order of a set of values\n",
    "* Combine the results of two groups, they do not differ\n",
    "* Randomly drawing groups from this combine set and seeing how much they differ"
   ],
   "id": "fedfdcc41b99ec00"
  },
  {
   "metadata": {},
   "cell_type": "markdown",
   "source": [
    "Process\n",
    "* Combine the results from the different groups into a single data set\n",
    "* Shuffle the combined data and then randomly draw without replacement a resample of the same size as group B\n",
    "* Do the same for groups C, D, and so on\n",
    "* You have collected a set of resamples that mirror the sizes of the original samples.\n",
    "* Now calculate the estimate for the resamples and record it\n",
    "* Repeat the previous step to yield a permutation distribution"
   ],
   "id": "cb96961248433d81"
  },
  {
   "metadata": {},
   "cell_type": "markdown",
   "source": "* Go back to the observed difference between groups and compare it to the set of permuted differences, If the observed differences are extreme, then the null hypothesis is rejected and chance is not responsible for the difference and is statistically significant.",
   "id": "ee312e961f2b2b60"
  },
  {
   "metadata": {},
   "cell_type": "markdown",
   "source": [
    "Proxy variable\n",
    "* Stands in for the true variable of interest, which may be unavailable or difficult to measure"
   ],
   "id": "51c10bafde8f04d0"
  },
  {
   "cell_type": "code",
   "id": "initial_id",
   "metadata": {
    "collapsed": true,
    "ExecuteTime": {
     "end_time": "2025-02-12T19:04:42.170033Z",
     "start_time": "2025-02-12T19:04:42.167081Z"
    }
   },
   "source": [
    "import pandas as pd\n",
    "import matplotlib.pyplot as plt"
   ],
   "outputs": [],
   "execution_count": 17
  },
  {
   "metadata": {
    "ExecuteTime": {
     "end_time": "2025-02-12T19:04:42.204772Z",
     "start_time": "2025-02-12T19:04:42.195577Z"
    }
   },
   "cell_type": "code",
   "source": [
    "data = pd.read_csv(\"/home/satire/PycharmProjects/Statistics/csv/AB_Test_Results.csv\")\n",
    "data"
   ],
   "id": "eddc91b25ca00806",
   "outputs": [
    {
     "data": {
      "text/plain": [
       "      USER_ID VARIANT_NAME  REVENUE\n",
       "0         737      variant      0.0\n",
       "1        2423      control      0.0\n",
       "2        9411      control      0.0\n",
       "3        7311      control      0.0\n",
       "4        6174      variant      0.0\n",
       "...       ...          ...      ...\n",
       "9995     1981      control      0.0\n",
       "9996      502      variant      0.0\n",
       "9997     9214      variant      0.0\n",
       "9998     7741      control      0.0\n",
       "9999     9468      control      0.0\n",
       "\n",
       "[10000 rows x 3 columns]"
      ],
      "text/html": [
       "<div>\n",
       "<style scoped>\n",
       "    .dataframe tbody tr th:only-of-type {\n",
       "        vertical-align: middle;\n",
       "    }\n",
       "\n",
       "    .dataframe tbody tr th {\n",
       "        vertical-align: top;\n",
       "    }\n",
       "\n",
       "    .dataframe thead th {\n",
       "        text-align: right;\n",
       "    }\n",
       "</style>\n",
       "<table border=\"1\" class=\"dataframe\">\n",
       "  <thead>\n",
       "    <tr style=\"text-align: right;\">\n",
       "      <th></th>\n",
       "      <th>USER_ID</th>\n",
       "      <th>VARIANT_NAME</th>\n",
       "      <th>REVENUE</th>\n",
       "    </tr>\n",
       "  </thead>\n",
       "  <tbody>\n",
       "    <tr>\n",
       "      <th>0</th>\n",
       "      <td>737</td>\n",
       "      <td>variant</td>\n",
       "      <td>0.0</td>\n",
       "    </tr>\n",
       "    <tr>\n",
       "      <th>1</th>\n",
       "      <td>2423</td>\n",
       "      <td>control</td>\n",
       "      <td>0.0</td>\n",
       "    </tr>\n",
       "    <tr>\n",
       "      <th>2</th>\n",
       "      <td>9411</td>\n",
       "      <td>control</td>\n",
       "      <td>0.0</td>\n",
       "    </tr>\n",
       "    <tr>\n",
       "      <th>3</th>\n",
       "      <td>7311</td>\n",
       "      <td>control</td>\n",
       "      <td>0.0</td>\n",
       "    </tr>\n",
       "    <tr>\n",
       "      <th>4</th>\n",
       "      <td>6174</td>\n",
       "      <td>variant</td>\n",
       "      <td>0.0</td>\n",
       "    </tr>\n",
       "    <tr>\n",
       "      <th>...</th>\n",
       "      <td>...</td>\n",
       "      <td>...</td>\n",
       "      <td>...</td>\n",
       "    </tr>\n",
       "    <tr>\n",
       "      <th>9995</th>\n",
       "      <td>1981</td>\n",
       "      <td>control</td>\n",
       "      <td>0.0</td>\n",
       "    </tr>\n",
       "    <tr>\n",
       "      <th>9996</th>\n",
       "      <td>502</td>\n",
       "      <td>variant</td>\n",
       "      <td>0.0</td>\n",
       "    </tr>\n",
       "    <tr>\n",
       "      <th>9997</th>\n",
       "      <td>9214</td>\n",
       "      <td>variant</td>\n",
       "      <td>0.0</td>\n",
       "    </tr>\n",
       "    <tr>\n",
       "      <th>9998</th>\n",
       "      <td>7741</td>\n",
       "      <td>control</td>\n",
       "      <td>0.0</td>\n",
       "    </tr>\n",
       "    <tr>\n",
       "      <th>9999</th>\n",
       "      <td>9468</td>\n",
       "      <td>control</td>\n",
       "      <td>0.0</td>\n",
       "    </tr>\n",
       "  </tbody>\n",
       "</table>\n",
       "<p>10000 rows × 3 columns</p>\n",
       "</div>"
      ]
     },
     "execution_count": 18,
     "metadata": {},
     "output_type": "execute_result"
    }
   ],
   "execution_count": 18
  },
  {
   "metadata": {
    "ExecuteTime": {
     "end_time": "2025-02-12T19:04:42.271341Z",
     "start_time": "2025-02-12T19:04:42.266274Z"
    }
   },
   "cell_type": "code",
   "source": "data.isna().sum()",
   "id": "8c0d64b5b766b5e8",
   "outputs": [
    {
     "data": {
      "text/plain": [
       "USER_ID         0\n",
       "VARIANT_NAME    0\n",
       "REVENUE         0\n",
       "dtype: int64"
      ]
     },
     "execution_count": 19,
     "metadata": {},
     "output_type": "execute_result"
    }
   ],
   "execution_count": 19
  },
  {
   "metadata": {
    "ExecuteTime": {
     "end_time": "2025-02-12T19:04:42.429382Z",
     "start_time": "2025-02-12T19:04:42.342178Z"
    }
   },
   "cell_type": "code",
   "source": [
    "ax = data.boxplot(by=\"VARIANT_NAME\", column='REVENUE')\n",
    "ax.set_xlabel('')\n",
    "ax.set_ylabel('Revenue')\n",
    "plt.suptitle('')"
   ],
   "id": "49f0e53e2e439d6c",
   "outputs": [
    {
     "data": {
      "text/plain": [
       "Text(0.5, 0.98, '')"
      ]
     },
     "execution_count": 20,
     "metadata": {},
     "output_type": "execute_result"
    },
    {
     "data": {
      "text/plain": [
       "<Figure size 640x480 with 1 Axes>"
      ],
      "image/png": "[encoded data removed]"
     },
     "metadata": {},
     "output_type": "display_data"
    }
   ],
   "execution_count": 20
  },
  {
   "metadata": {
    "ExecuteTime": {
     "end_time": "2025-02-12T19:04:42.483807Z",
     "start_time": "2025-02-12T19:04:42.477671Z"
    }
   },
   "cell_type": "code",
   "source": [
    "mean_control = data[data['VARIANT_NAME'] == \"control\"].REVENUE.mean()\n",
    "mean_variant = data[data['VARIANT_NAME'] == \"variant\"].REVENUE.mean()\n",
    "mean_control - mean_variant"
   ],
   "id": "a453c9a53ce4bdd5",
   "outputs": [
    {
     "data": {
      "text/plain": [
       "np.float64(0.058943064376979215)"
      ]
     },
     "execution_count": 21,
     "metadata": {},
     "output_type": "execute_result"
    }
   ],
   "execution_count": 21
  },
  {
   "metadata": {
    "ExecuteTime": {
     "end_time": "2025-02-12T19:04:42.518255Z",
     "start_time": "2025-02-12T19:04:42.516339Z"
    }
   },
   "cell_type": "code",
   "source": "",
   "id": "646b63ffb0abf600",
   "outputs": [],
   "execution_count": null
  }
 ],
 "metadata": {
  "kernelspec": {
   "display_name": "Python 3",
   "language": "python",
   "name": "python3"
  },
  "language_info": {
   "codemirror_mode": {
    "name": "ipython",
    "version": 2
   },
   "file_extension": ".py",
   "mimetype": "text/x-python",
   "name": "python",
   "nbconvert_exporter": "python",
   "pygments_lexer": "ipython2",
   "version": "2.7.6"
  }
 },
 "nbformat": 4,
 "nbformat_minor": 5
}
