{
 "cells": [
  {
   "metadata": {},
   "cell_type": "markdown",
   "source": [
    "* Formulate a hypothesis\n",
    "* Design an experiment\n",
    "* Collect the data\n",
    "* Inference and conclusions"
   ],
   "id": "5224295d2cd88677"
  },
  {
   "metadata": {},
   "cell_type": "markdown",
   "source": [
    "A/B Testing\n",
    "* Hypothesis in mind and any observed difference is due to random chance in assignment or the true difference in the treatments."
   ],
   "id": "e01990cca533c37"
  },
  {
   "metadata": {},
   "cell_type": "markdown",
   "source": [
    "Treatment\n",
    "* Something to which a subject is exposed"
   ],
   "id": "597fc6394413ca22"
  },
  {
   "metadata": {},
   "cell_type": "markdown",
   "source": [
    "Treatment group\n",
    "* A group of subjects exposed to a treatment"
   ],
   "id": "9dc22f846be42358"
  },
  {
   "metadata": {},
   "cell_type": "markdown",
   "source": [
    "Control group\n",
    "* A group of subjects exposed to no treatment or the standard treatment"
   ],
   "id": "d1ef0e9d8e0fee5f"
  },
  {
   "metadata": {},
   "cell_type": "markdown",
   "source": [
    "Randomization\n",
    "* The process of randomly assigning subjects to treatments"
   ],
   "id": "fdab4a1bf9ab2543"
  },
  {
   "metadata": {},
   "cell_type": "markdown",
   "source": [
    "Subjects\n",
    "* the items that are being studied"
   ],
   "id": "c7df11de317878b8"
  },
  {
   "metadata": {},
   "cell_type": "markdown",
   "source": [
    "Test statistic\n",
    "* The metric used to measure the effect"
   ],
   "id": "38d71f5fc097c52e"
  },
  {
   "metadata": {},
   "cell_type": "markdown",
   "source": "Hypothesis test",
   "id": "748642685130b1ee"
  },
  {
   "metadata": {},
   "cell_type": "markdown",
   "source": [
    "Null hypothesis\n",
    "* The hypothesis that there is no effect"
   ],
   "id": "b235cb8ee5310c10"
  },
  {
   "metadata": {},
   "cell_type": "markdown",
   "source": [
    "Alternative hypothesis\n",
    "* The hypothesis that there is an effect"
   ],
   "id": "c19318264ec5625d"
  },
  {
   "metadata": {},
   "cell_type": "markdown",
   "source": [
    "One way test\n",
    "* Hypothesis test that counts chance results only in one direction"
   ],
   "id": "e376dd1462eb959a"
  },
  {
   "metadata": {},
   "cell_type": "markdown",
   "source": [
    "Two-way test\n",
    "* Hypothesis test that counts chance results in two directions"
   ],
   "id": "ca232f01436fb1a6"
  },
  {
   "metadata": {},
   "cell_type": "markdown",
   "source": "* Statistical hypothesis test is further analysis of an A/B test to asses whether the observed difference is statistically significant",
   "id": "f0a0c30002174e4f"
  },
  {
   "metadata": {},
   "cell_type": "markdown",
   "source": [
    "The null hypotheses\n",
    "* Require proof that the difference between groups is more extreme than the chance might reasonably produce"
   ],
   "id": "d9d81094e94be976"
  },
  {
   "metadata": {},
   "cell_type": "markdown",
   "source": "* Groups are equivalent and any difference between the groups is due to chance.",
   "id": "c68d70a9e242647b"
  },
  {
   "metadata": {},
   "cell_type": "markdown",
   "source": "* The outcomes for groups A and B are different than the chance might produce.",
   "id": "d6d86de880d2bfda"
  },
  {
   "metadata": {},
   "cell_type": "markdown",
   "source": [
    "Resampling permutation\n",
    "* Shuffle the results from groups and then repeatedly deal out the data in the same group sizes as the original data."
   ],
   "id": "12f9c27f466f358e"
  },
  {
   "metadata": {},
   "cell_type": "markdown",
   "source": "* Observe how often we get difference as extreme as the observed difference.",
   "id": "54b6ace0a1abad50"
  },
  {
   "metadata": {},
   "cell_type": "markdown",
   "source": [
    "Alternative hypothesis\n",
    "* Offset alternative hypothesis"
   ],
   "id": "80b9ad3e4b4dbe6f"
  },
  {
   "metadata": {},
   "cell_type": "markdown",
   "source": [
    "* Null \"no difference between the means of group A dn group B\"\n",
    "* Alternative \"there is a difference between the means of group A and group B\""
   ],
   "id": "a46c467f7d543c86"
  },
  {
   "metadata": {},
   "cell_type": "markdown",
   "source": "One-way versus Two way hypothesis test",
   "id": "bf341bd10e9b4d6d"
  },
  {
   "metadata": {},
   "cell_type": "markdown",
   "source": [
    "One way test\n",
    "* You don't care about being fooled by chance in one direction, you will be sticking with A unless B is significantly better."
   ],
   "id": "6fe8581ec497d70d"
  },
  {
   "metadata": {},
   "cell_type": "markdown",
   "source": [
    "Two way test\n",
    "* Protect you from being fooled by chance in either direction, the alternative hypothesis is that the means are different."
   ],
   "id": "b3692c42a86e37c1"
  },
  {
   "metadata": {},
   "cell_type": "markdown",
   "source": "* The bootstrap is used to asses the reliability of an estimate and the permutation test is used to test the hypothesis between groups.",
   "id": "c385400e0191e5b3"
  },
  {
   "metadata": {},
   "cell_type": "markdown",
   "source": [
    "Permutation test\n",
    "* Combining two or more samples together and randomly reallocating the observations to the groups."
   ],
   "id": "427ad94ccae4b90e"
  },
  {
   "metadata": {},
   "cell_type": "markdown",
   "source": [
    "Resampling\n",
    "* Drawing additional samples form an observed dataset"
   ],
   "id": "53e1d5cb6208311d"
  },
  {
   "metadata": {},
   "cell_type": "markdown",
   "source": [
    "With or without replacement\n",
    "* Whether or not an item is returned to the population after it is drawn"
   ],
   "id": "568c6a8c8a69fd32"
  },
  {
   "metadata": {},
   "cell_type": "markdown",
   "source": [
    "Permutation test\n",
    "* Change the order of a set of values\n",
    "* Combine the results of two groups, they do not differ\n",
    "* Randomly drawing groups from this combine set and seeing how much they differ"
   ],
   "id": "fedfdcc41b99ec00"
  },
  {
   "metadata": {},
   "cell_type": "markdown",
   "source": [
    "Process\n",
    "* Combine the results from the different groups into a single data set\n",
    "* Shuffle the combined data and then randomly draw without replacement a resample of the same size as group B\n",
    "* Do the same for groups C, D, and so on\n",
    "* You have collected a set of resamples that mirror the sizes of the original samples.\n",
    "* Now calculate the estimate for the resamples and record it\n",
    "* Repeat the previous step to yield a permutation distribution"
   ],
   "id": "cb96961248433d81"
  },
  {
   "metadata": {},
   "cell_type": "markdown",
   "source": "* Go back to the observed difference between groups and compare it to the set of permuted differences, If the observed differences are extreme, then the null hypothesis is rejected and chance is not responsible for the difference and is statistically significant.",
   "id": "ee312e961f2b2b60"
  },
  {
   "metadata": {},
   "cell_type": "markdown",
   "source": [
    "Proxy variable\n",
    "* Stands in for the true variable of interest, which may be unavailable or difficult to measure"
   ],
   "id": "51c10bafde8f04d0"
  },
  {
   "cell_type": "code",
   "id": "initial_id",
   "metadata": {
    "collapsed": true,
    "ExecuteTime": {
     "end_time": "2025-02-13T15:31:49.112636Z",
     "start_time": "2025-02-13T15:31:49.107720Z"
    }
   },
   "source": [
    "import numpy as np\n",
    "import matplotlib.pyplot as plt\n",
    "import random\n",
    "import pandas as pd"
   ],
   "outputs": [],
   "execution_count": 48
  },
  {
   "metadata": {
    "ExecuteTime": {
     "end_time": "2025-02-13T15:31:49.174242Z",
     "start_time": "2025-02-13T15:31:49.161800Z"
    }
   },
   "cell_type": "code",
   "source": [
    "data = pd.read_csv(\"/home/satire/PycharmProjects/Statistics/csv/AB_Test_Results.csv\")\n",
    "data"
   ],
   "id": "eddc91b25ca00806",
   "outputs": [
    {
     "data": {
      "text/plain": [
       "      USER_ID VARIANT_NAME  REVENUE\n",
       "0         737      variant      0.0\n",
       "1        2423      control      0.0\n",
       "2        9411      control      0.0\n",
       "3        7311      control      0.0\n",
       "4        6174      variant      0.0\n",
       "...       ...          ...      ...\n",
       "9995     1981      control      0.0\n",
       "9996      502      variant      0.0\n",
       "9997     9214      variant      0.0\n",
       "9998     7741      control      0.0\n",
       "9999     9468      control      0.0\n",
       "\n",
       "[10000 rows x 3 columns]"
      ],
      "text/html": [
       "<div>\n",
       "<style scoped>\n",
       "    .dataframe tbody tr th:only-of-type {\n",
       "        vertical-align: middle;\n",
       "    }\n",
       "\n",
       "    .dataframe tbody tr th {\n",
       "        vertical-align: top;\n",
       "    }\n",
       "\n",
       "    .dataframe thead th {\n",
       "        text-align: right;\n",
       "    }\n",
       "</style>\n",
       "<table border=\"1\" class=\"dataframe\">\n",
       "  <thead>\n",
       "    <tr style=\"text-align: right;\">\n",
       "      <th></th>\n",
       "      <th>USER_ID</th>\n",
       "      <th>VARIANT_NAME</th>\n",
       "      <th>REVENUE</th>\n",
       "    </tr>\n",
       "  </thead>\n",
       "  <tbody>\n",
       "    <tr>\n",
       "      <th>0</th>\n",
       "      <td>737</td>\n",
       "      <td>variant</td>\n",
       "      <td>0.0</td>\n",
       "    </tr>\n",
       "    <tr>\n",
       "      <th>1</th>\n",
       "      <td>2423</td>\n",
       "      <td>control</td>\n",
       "      <td>0.0</td>\n",
       "    </tr>\n",
       "    <tr>\n",
       "      <th>2</th>\n",
       "      <td>9411</td>\n",
       "      <td>control</td>\n",
       "      <td>0.0</td>\n",
       "    </tr>\n",
       "    <tr>\n",
       "      <th>3</th>\n",
       "      <td>7311</td>\n",
       "      <td>control</td>\n",
       "      <td>0.0</td>\n",
       "    </tr>\n",
       "    <tr>\n",
       "      <th>4</th>\n",
       "      <td>6174</td>\n",
       "      <td>variant</td>\n",
       "      <td>0.0</td>\n",
       "    </tr>\n",
       "    <tr>\n",
       "      <th>...</th>\n",
       "      <td>...</td>\n",
       "      <td>...</td>\n",
       "      <td>...</td>\n",
       "    </tr>\n",
       "    <tr>\n",
       "      <th>9995</th>\n",
       "      <td>1981</td>\n",
       "      <td>control</td>\n",
       "      <td>0.0</td>\n",
       "    </tr>\n",
       "    <tr>\n",
       "      <th>9996</th>\n",
       "      <td>502</td>\n",
       "      <td>variant</td>\n",
       "      <td>0.0</td>\n",
       "    </tr>\n",
       "    <tr>\n",
       "      <th>9997</th>\n",
       "      <td>9214</td>\n",
       "      <td>variant</td>\n",
       "      <td>0.0</td>\n",
       "    </tr>\n",
       "    <tr>\n",
       "      <th>9998</th>\n",
       "      <td>7741</td>\n",
       "      <td>control</td>\n",
       "      <td>0.0</td>\n",
       "    </tr>\n",
       "    <tr>\n",
       "      <th>9999</th>\n",
       "      <td>9468</td>\n",
       "      <td>control</td>\n",
       "      <td>0.0</td>\n",
       "    </tr>\n",
       "  </tbody>\n",
       "</table>\n",
       "<p>10000 rows × 3 columns</p>\n",
       "</div>"
      ]
     },
     "execution_count": 49,
     "metadata": {},
     "output_type": "execute_result"
    }
   ],
   "execution_count": 49
  },
  {
   "metadata": {},
   "cell_type": "markdown",
   "source": "Cleaning the data",
   "id": "cd6a0b75cbe60325"
  },
  {
   "metadata": {
    "ExecuteTime": {
     "end_time": "2025-02-13T15:31:49.236302Z",
     "start_time": "2025-02-13T15:31:49.234291Z"
    }
   },
   "cell_type": "code",
   "source": "",
   "id": "1bed5a1a8c1e45fd",
   "outputs": [],
   "execution_count": null
  },
  {
   "metadata": {
    "ExecuteTime": {
     "end_time": "2025-02-13T15:31:49.364932Z",
     "start_time": "2025-02-13T15:31:49.283135Z"
    }
   },
   "cell_type": "code",
   "source": [
    "ax = data.boxplot(by=\"VARIANT_NAME\", column='REVENUE')\n",
    "ax.set_xlabel('')\n",
    "ax.set_ylabel('Revenue')\n",
    "plt.suptitle('')"
   ],
   "id": "49f0e53e2e439d6c",
   "outputs": [
    {
     "data": {
      "text/plain": [
       "Text(0.5, 0.98, '')"
      ]
     },
     "execution_count": 50,
     "metadata": {},
     "output_type": "execute_result"
    },
    {
     "data": {
      "text/plain": [
       "<Figure size 640x480 with 1 Axes>"
      ],
      "image/png": "[encoded data removed]"
     },
     "metadata": {},
     "output_type": "display_data"
    }
   ],
   "execution_count": 50
  },
  {
   "metadata": {
    "ExecuteTime": {
     "end_time": "2025-02-13T15:31:49.488662Z",
     "start_time": "2025-02-13T15:31:49.478694Z"
    }
   },
   "cell_type": "code",
   "source": [
    "mean_control = data[data['VARIANT_NAME'] == \"control\"].REVENUE.mean()\n",
    "mean_variant = data[data['VARIANT_NAME'] == \"variant\"].REVENUE.mean()\n",
    "mean_control - mean_variant"
   ],
   "id": "a453c9a53ce4bdd5",
   "outputs": [
    {
     "data": {
      "text/plain": [
       "np.float64(0.058943064376979215)"
      ]
     },
     "execution_count": 51,
     "metadata": {},
     "output_type": "execute_result"
    }
   ],
   "execution_count": 51
  },
  {
   "metadata": {},
   "cell_type": "markdown",
   "source": "* Now it needs to be questioned whether this difference is within range of what random chance might produce is statically significant.",
   "id": "89092b8897753e01"
  },
  {
   "metadata": {},
   "cell_type": "markdown",
   "source": [
    "Permutation test\n",
    "* Combine all the revenue values together and then repeatedly shuffle and divide them into groups"
   ],
   "id": "4f958096f6935251"
  },
  {
   "metadata": {},
   "cell_type": "markdown",
   "source": "* Sampling without replacement number of elements of control group and the remaining indices are assigned to variant group. The difference between the two means is returned, calling this function R times = 1,000 times leading to a distribution of differences can be plotted as a histogram",
   "id": "30584a44ff3663ed"
  },
  {
   "metadata": {
    "ExecuteTime": {
     "end_time": "2025-02-13T15:31:49.610963Z",
     "start_time": "2025-02-13T15:31:49.607064Z"
    }
   },
   "cell_type": "code",
   "source": [
    "def perm_func(x, n_control, n_variant):\n",
    "    n = n_control + n_variant\n",
    "    idx_variant = list(random.sample(range(n), n_variant))\n",
    "    idx_control = list(set(range(n)) - set(idx_variant))\n",
    "    return x.loc[idx_control].mean() - x.loc[idx_variant].mean()"
   ],
   "id": "488a694e29d48a6a",
   "outputs": [],
   "execution_count": 52
  },
  {
   "metadata": {
    "ExecuteTime": {
     "end_time": "2025-02-13T15:31:52.410969Z",
     "start_time": "2025-02-13T15:31:49.647908Z"
    }
   },
   "cell_type": "code",
   "source": [
    "n_control = len(data[data['VARIANT_NAME'] == \"control\"])\n",
    "n_variant = len(data[data['VARIANT_NAME'] == \"variant\"])\n",
    "\n",
    "perm_diffs = [perm_func(data.REVENUE, n_control, n_variant) for _ in range(1000)]\n",
    "fig, ax = plt.subplots(figsize=(5, 5))\n",
    "ax.hist(perm_diffs, bins=11, rwidth=0.9)\n",
    "ax.axvline(x = mean_control - mean_variant, color='black', lw=2)\n",
    "ax.set_xlabel('Revenue differences')\n",
    "ax.set_ylabel('Frequency')"
   ],
   "id": "1d1b76ee78200cb5",
   "outputs": [
    {
     "data": {
      "text/plain": [
       "Text(0, 0.5, 'Frequency')"
      ]
     },
     "execution_count": 53,
     "metadata": {},
     "output_type": "execute_result"
    },
    {
     "data": {
      "text/plain": [
       "<Figure size 500x500 with 1 Axes>"
      ],
      "image/png": "[encoded data removed]"
     },
     "metadata": {},
     "output_type": "display_data"
    }
   ],
   "execution_count": 53
  },
  {
   "metadata": {},
   "cell_type": "markdown",
   "source": "This histogram shows that mean difference of random permutations often exceeds the observed difference in revenues between the control and variant groups.",
   "id": "78ad94fbd016a5dc"
  },
  {
   "metadata": {
    "ExecuteTime": {
     "end_time": "2025-02-13T15:31:52.421307Z",
     "start_time": "2025-02-13T15:31:52.418291Z"
    }
   },
   "cell_type": "code",
   "source": "np.mean(perm_diffs > mean_control - mean_variant)",
   "id": "b8f97edf19a98630",
   "outputs": [
    {
     "data": {
      "text/plain": [
       "np.float64(0.094)"
      ]
     },
     "execution_count": 54,
     "metadata": {},
     "output_type": "execute_result"
    }
   ],
   "execution_count": 54
  },
  {
   "metadata": {},
   "cell_type": "markdown",
   "source": "This happens 0.117 times out of 1,000, which is not statistically significant.",
   "id": "29a328735b16614a"
  },
  {
   "metadata": {},
   "cell_type": "markdown",
   "source": "This suggest that the observed difference in revenue is well within range and is not statistically significant.",
   "id": "aa47149a6b0a6687"
  },
  {
   "metadata": {},
   "cell_type": "markdown",
   "source": [
    "Variations of permutation tests\n",
    "* Bootstrap\n",
    "* Exhaustive permutation test"
   ],
   "id": "b3ae4f8b24dd3b51"
  },
  {
   "metadata": {},
   "cell_type": "markdown",
   "source": [
    "Exhaustive permutation test\n",
    "* Figuring out all the possible ways it could be divided into groups, only for small sample sizes"
   ],
   "id": "14ea91ae790a9979"
  },
  {
   "metadata": {},
   "cell_type": "markdown",
   "source": [
    "Bootstrap\n",
    "* Made with replacement instead of without replacement, Not just the random element in the assignment of treatment to subject but also the random element in the selection of subjects from a population."
   ],
   "id": "131546b5b9dd1986"
  },
  {
   "metadata": {},
   "cell_type": "markdown",
   "source": [
    "Statistical significance\n",
    "* Whether an experiment yields a result more extreme than what chance might produce, thus is beyond the chance variation, and said to be statistically significant."
   ],
   "id": "ab1b8196af4dff77"
  },
  {
   "metadata": {},
   "cell_type": "markdown",
   "source": [
    "P-value\n",
    "* The probability of obtaining results as unusual or extreme as the observed results"
   ],
   "id": "70c458f66715a7a5"
  },
  {
   "metadata": {},
   "cell_type": "markdown",
   "source": [
    "Alpha\n",
    "* the probability that chance results must surpass for actual outcomes to be deemed statistically significant"
   ],
   "id": "a2a93b3ee9e6308e"
  },
  {
   "metadata": {},
   "cell_type": "markdown",
   "source": [
    "Type 1 error\n",
    "* Concluding an effect is present when it is not"
   ],
   "id": "2015bc9f68377f0e"
  },
  {
   "metadata": {},
   "cell_type": "markdown",
   "source": [
    "Type 2 error\n",
    "* Concluding an effect is not present when it is"
   ],
   "id": "7178e493e37b376"
  },
  {
   "metadata": {
    "ExecuteTime": {
     "end_time": "2025-02-13T15:31:52.474727Z",
     "start_time": "2025-02-13T15:31:52.472217Z"
    }
   },
   "cell_type": "code",
   "source": "",
   "id": "cbcfb1044e49a306",
   "outputs": [],
   "execution_count": null
  }
 ],
 "metadata": {
  "kernelspec": {
   "display_name": "Python 3",
   "language": "python",
   "name": "python3"
  },
  "language_info": {
   "codemirror_mode": {
    "name": "ipython",
    "version": 2
   },
   "file_extension": ".py",
   "mimetype": "text/x-python",
   "name": "python",
   "nbconvert_exporter": "python",
   "pygments_lexer": "ipython2",
   "version": "2.7.6"
  }
 },
 "nbformat": 4,
 "nbformat_minor": 5
}
