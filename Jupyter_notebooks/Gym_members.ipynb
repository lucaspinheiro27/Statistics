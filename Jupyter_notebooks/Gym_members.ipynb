{
 "cells": [
  {
   "cell_type": "code",
   "id": "initial_id",
   "metadata": {
    "collapsed": true,
    "ExecuteTime": {
     "end_time": "2025-01-29T16:20:18.466681Z",
     "start_time": "2025-01-29T16:20:18.424428Z"
    }
   },
   "source": [
    "import pandas as pd\n",
    "import numpy as np\n",
    "from scipy import stats\n",
    "import wquantiles\n",
    "import statsmodels.robust.robust_linear_model as robust"
   ],
   "outputs": [],
   "execution_count": 8
  },
  {
   "metadata": {
    "ExecuteTime": {
     "end_time": "2025-01-29T15:26:04.525678Z",
     "start_time": "2025-01-29T15:26:04.496763Z"
    }
   },
   "cell_type": "code",
   "source": [
    "gym = pd.read_csv('/home/satire/PycharmProjects/Statistics/csv/gym_members_exercise_tracking.csv')\n",
    "gym.head()"
   ],
   "id": "5019823afd8adc2f",
   "outputs": [
    {
     "data": {
      "text/plain": [
       "   Age  Gender  Weight (kg)  Height (m)  Max_BPM  Avg_BPM  Resting_BPM  \\\n",
       "0   56    Male         88.3        1.71      180      157           60   \n",
       "1   46  Female         74.9        1.53      179      151           66   \n",
       "2   32  Female         68.1        1.66      167      122           54   \n",
       "3   25    Male         53.2        1.70      190      164           56   \n",
       "4   38    Male         46.1        1.79      188      158           68   \n",
       "\n",
       "   Session_Duration (hours)  Calories_Burned Workout_Type  Fat_Percentage  \\\n",
       "0                      1.69           1313.0         Yoga            12.6   \n",
       "1                      1.30            883.0         HIIT            33.9   \n",
       "2                      1.11            677.0       Cardio            33.4   \n",
       "3                      0.59            532.0     Strength            28.8   \n",
       "4                      0.64            556.0     Strength            29.2   \n",
       "\n",
       "   Water_Intake (liters)  Workout_Frequency (days/week)  Experience_Level  \\\n",
       "0                    3.5                              4                 3   \n",
       "1                    2.1                              4                 2   \n",
       "2                    2.3                              4                 2   \n",
       "3                    2.1                              3                 1   \n",
       "4                    2.8                              3                 1   \n",
       "\n",
       "     BMI  \n",
       "0  30.20  \n",
       "1  32.00  \n",
       "2  24.71  \n",
       "3  18.41  \n",
       "4  14.39  "
      ],
      "text/html": [
       "<div>\n",
       "<style scoped>\n",
       "    .dataframe tbody tr th:only-of-type {\n",
       "        vertical-align: middle;\n",
       "    }\n",
       "\n",
       "    .dataframe tbody tr th {\n",
       "        vertical-align: top;\n",
       "    }\n",
       "\n",
       "    .dataframe thead th {\n",
       "        text-align: right;\n",
       "    }\n",
       "</style>\n",
       "<table border=\"1\" class=\"dataframe\">\n",
       "  <thead>\n",
       "    <tr style=\"text-align: right;\">\n",
       "      <th></th>\n",
       "      <th>Age</th>\n",
       "      <th>Gender</th>\n",
       "      <th>Weight (kg)</th>\n",
       "      <th>Height (m)</th>\n",
       "      <th>Max_BPM</th>\n",
       "      <th>Avg_BPM</th>\n",
       "      <th>Resting_BPM</th>\n",
       "      <th>Session_Duration (hours)</th>\n",
       "      <th>Calories_Burned</th>\n",
       "      <th>Workout_Type</th>\n",
       "      <th>Fat_Percentage</th>\n",
       "      <th>Water_Intake (liters)</th>\n",
       "      <th>Workout_Frequency (days/week)</th>\n",
       "      <th>Experience_Level</th>\n",
       "      <th>BMI</th>\n",
       "    </tr>\n",
       "  </thead>\n",
       "  <tbody>\n",
       "    <tr>\n",
       "      <th>0</th>\n",
       "      <td>56</td>\n",
       "      <td>Male</td>\n",
       "      <td>88.3</td>\n",
       "      <td>1.71</td>\n",
       "      <td>180</td>\n",
       "      <td>157</td>\n",
       "      <td>60</td>\n",
       "      <td>1.69</td>\n",
       "      <td>1313.0</td>\n",
       "      <td>Yoga</td>\n",
       "      <td>12.6</td>\n",
       "      <td>3.5</td>\n",
       "      <td>4</td>\n",
       "      <td>3</td>\n",
       "      <td>30.20</td>\n",
       "    </tr>\n",
       "    <tr>\n",
       "      <th>1</th>\n",
       "      <td>46</td>\n",
       "      <td>Female</td>\n",
       "      <td>74.9</td>\n",
       "      <td>1.53</td>\n",
       "      <td>179</td>\n",
       "      <td>151</td>\n",
       "      <td>66</td>\n",
       "      <td>1.30</td>\n",
       "      <td>883.0</td>\n",
       "      <td>HIIT</td>\n",
       "      <td>33.9</td>\n",
       "      <td>2.1</td>\n",
       "      <td>4</td>\n",
       "      <td>2</td>\n",
       "      <td>32.00</td>\n",
       "    </tr>\n",
       "    <tr>\n",
       "      <th>2</th>\n",
       "      <td>32</td>\n",
       "      <td>Female</td>\n",
       "      <td>68.1</td>\n",
       "      <td>1.66</td>\n",
       "      <td>167</td>\n",
       "      <td>122</td>\n",
       "      <td>54</td>\n",
       "      <td>1.11</td>\n",
       "      <td>677.0</td>\n",
       "      <td>Cardio</td>\n",
       "      <td>33.4</td>\n",
       "      <td>2.3</td>\n",
       "      <td>4</td>\n",
       "      <td>2</td>\n",
       "      <td>24.71</td>\n",
       "    </tr>\n",
       "    <tr>\n",
       "      <th>3</th>\n",
       "      <td>25</td>\n",
       "      <td>Male</td>\n",
       "      <td>53.2</td>\n",
       "      <td>1.70</td>\n",
       "      <td>190</td>\n",
       "      <td>164</td>\n",
       "      <td>56</td>\n",
       "      <td>0.59</td>\n",
       "      <td>532.0</td>\n",
       "      <td>Strength</td>\n",
       "      <td>28.8</td>\n",
       "      <td>2.1</td>\n",
       "      <td>3</td>\n",
       "      <td>1</td>\n",
       "      <td>18.41</td>\n",
       "    </tr>\n",
       "    <tr>\n",
       "      <th>4</th>\n",
       "      <td>38</td>\n",
       "      <td>Male</td>\n",
       "      <td>46.1</td>\n",
       "      <td>1.79</td>\n",
       "      <td>188</td>\n",
       "      <td>158</td>\n",
       "      <td>68</td>\n",
       "      <td>0.64</td>\n",
       "      <td>556.0</td>\n",
       "      <td>Strength</td>\n",
       "      <td>29.2</td>\n",
       "      <td>2.8</td>\n",
       "      <td>3</td>\n",
       "      <td>1</td>\n",
       "      <td>14.39</td>\n",
       "    </tr>\n",
       "  </tbody>\n",
       "</table>\n",
       "</div>"
      ]
     },
     "execution_count": 2,
     "metadata": {},
     "output_type": "execute_result"
    }
   ],
   "execution_count": 2
  },
  {
   "metadata": {},
   "cell_type": "markdown",
   "source": [
    "Mean\n",
    "* The sum of all values divided by the number of all values\n",
    "$$\n",
    "\\text{Set of numbers: } \\{3, 5, 1, 2\\}\n",
    "$$\n",
    "$$\n",
    "\\text{The mean is } \\frac{3 + 5 + 1 + 2}{4} = \\frac{11}{4} = 2.75\n",
    "$$\n",
    "Mean formula\n",
    "$$\n",
    "\\text{Mean} = \\bar{x} = \\frac{\\sum_{i=1}^{n} x_i}{n}\n",
    "$$\n",
    "$$\n",
    "N = \\text{Total number of records or observations}\n",
    "$$"
   ],
   "id": "f405cb23ed620a8a"
  },
  {
   "metadata": {},
   "cell_type": "markdown",
   "source": [
    "Trimmed mean\n",
    "* Calculated by dropping a fixed number of sorted values at each end and then taking an average of the remaining values.\n",
    "Formula\n",
    "$$\n",
    "\\text{Trimmed mean} = \\bar{x} = \\frac{\\sum_{i = p+1}^{n - p} x_{(i)}}{n - 2p}\n",
    "$$\n",
    "* Eliminates the influence of extremes values. the trimmed mean excludes the largest ans the smalled values (trim=0.1 drops 10 % from each end)."
   ],
   "id": "394059b283845ff0"
  },
  {
   "metadata": {},
   "cell_type": "markdown",
   "source": [
    "Weighted mean\n",
    "* Some values are intrinsically more variable than others, and highly variable observations are given a lower weight.\n",
    "* The data collected does not equally represent the different groups that we are interested in measuring.\n",
    "Formula\n",
    "$$\n",
    "\\bar{x}_w = \\frac{\\sum_{i=1}^n w_i x_i}{\\sum_{i=1}^n w_i}\n",
    "$$"
   ],
   "id": "4ed3b8840ddf2254"
  },
  {
   "metadata": {
    "ExecuteTime": {
     "end_time": "2025-01-29T15:26:04.678148Z",
     "start_time": "2025-01-29T15:26:04.661532Z"
    }
   },
   "cell_type": "code",
   "source": "gym.describe()",
   "id": "625feee0f960d744",
   "outputs": [
    {
     "data": {
      "text/plain": [
       "              Age  Weight (kg)  Height (m)     Max_BPM     Avg_BPM  \\\n",
       "count  973.000000   973.000000   973.00000  973.000000  973.000000   \n",
       "mean    38.683453    73.854676     1.72258  179.883864  143.766701   \n",
       "std     12.180928    21.207500     0.12772   11.525686   14.345101   \n",
       "min     18.000000    40.000000     1.50000  160.000000  120.000000   \n",
       "25%     28.000000    58.100000     1.62000  170.000000  131.000000   \n",
       "50%     40.000000    70.000000     1.71000  180.000000  143.000000   \n",
       "75%     49.000000    86.000000     1.80000  190.000000  156.000000   \n",
       "max     59.000000   129.900000     2.00000  199.000000  169.000000   \n",
       "\n",
       "       Resting_BPM  Session_Duration (hours)  Calories_Burned  Fat_Percentage  \\\n",
       "count   973.000000                973.000000       973.000000      973.000000   \n",
       "mean     62.223022                  1.256423       905.422405       24.976773   \n",
       "std       7.327060                  0.343033       272.641516        6.259419   \n",
       "min      50.000000                  0.500000       303.000000       10.000000   \n",
       "25%      56.000000                  1.040000       720.000000       21.300000   \n",
       "50%      62.000000                  1.260000       893.000000       26.200000   \n",
       "75%      68.000000                  1.460000      1076.000000       29.300000   \n",
       "max      74.000000                  2.000000      1783.000000       35.000000   \n",
       "\n",
       "       Water_Intake (liters)  Workout_Frequency (days/week)  Experience_Level  \\\n",
       "count             973.000000                     973.000000        973.000000   \n",
       "mean                2.626619                       3.321686          1.809866   \n",
       "std                 0.600172                       0.913047          0.739693   \n",
       "min                 1.500000                       2.000000          1.000000   \n",
       "25%                 2.200000                       3.000000          1.000000   \n",
       "50%                 2.600000                       3.000000          2.000000   \n",
       "75%                 3.100000                       4.000000          2.000000   \n",
       "max                 3.700000                       5.000000          3.000000   \n",
       "\n",
       "              BMI  \n",
       "count  973.000000  \n",
       "mean    24.912127  \n",
       "std      6.660879  \n",
       "min     12.320000  \n",
       "25%     20.110000  \n",
       "50%     24.160000  \n",
       "75%     28.560000  \n",
       "max     49.840000  "
      ],
      "text/html": [
       "<div>\n",
       "<style scoped>\n",
       "    .dataframe tbody tr th:only-of-type {\n",
       "        vertical-align: middle;\n",
       "    }\n",
       "\n",
       "    .dataframe tbody tr th {\n",
       "        vertical-align: top;\n",
       "    }\n",
       "\n",
       "    .dataframe thead th {\n",
       "        text-align: right;\n",
       "    }\n",
       "</style>\n",
       "<table border=\"1\" class=\"dataframe\">\n",
       "  <thead>\n",
       "    <tr style=\"text-align: right;\">\n",
       "      <th></th>\n",
       "      <th>Age</th>\n",
       "      <th>Weight (kg)</th>\n",
       "      <th>Height (m)</th>\n",
       "      <th>Max_BPM</th>\n",
       "      <th>Avg_BPM</th>\n",
       "      <th>Resting_BPM</th>\n",
       "      <th>Session_Duration (hours)</th>\n",
       "      <th>Calories_Burned</th>\n",
       "      <th>Fat_Percentage</th>\n",
       "      <th>Water_Intake (liters)</th>\n",
       "      <th>Workout_Frequency (days/week)</th>\n",
       "      <th>Experience_Level</th>\n",
       "      <th>BMI</th>\n",
       "    </tr>\n",
       "  </thead>\n",
       "  <tbody>\n",
       "    <tr>\n",
       "      <th>count</th>\n",
       "      <td>973.000000</td>\n",
       "      <td>973.000000</td>\n",
       "      <td>973.00000</td>\n",
       "      <td>973.000000</td>\n",
       "      <td>973.000000</td>\n",
       "      <td>973.000000</td>\n",
       "      <td>973.000000</td>\n",
       "      <td>973.000000</td>\n",
       "      <td>973.000000</td>\n",
       "      <td>973.000000</td>\n",
       "      <td>973.000000</td>\n",
       "      <td>973.000000</td>\n",
       "      <td>973.000000</td>\n",
       "    </tr>\n",
       "    <tr>\n",
       "      <th>mean</th>\n",
       "      <td>38.683453</td>\n",
       "      <td>73.854676</td>\n",
       "      <td>1.72258</td>\n",
       "      <td>179.883864</td>\n",
       "      <td>143.766701</td>\n",
       "      <td>62.223022</td>\n",
       "      <td>1.256423</td>\n",
       "      <td>905.422405</td>\n",
       "      <td>24.976773</td>\n",
       "      <td>2.626619</td>\n",
       "      <td>3.321686</td>\n",
       "      <td>1.809866</td>\n",
       "      <td>24.912127</td>\n",
       "    </tr>\n",
       "    <tr>\n",
       "      <th>std</th>\n",
       "      <td>12.180928</td>\n",
       "      <td>21.207500</td>\n",
       "      <td>0.12772</td>\n",
       "      <td>11.525686</td>\n",
       "      <td>14.345101</td>\n",
       "      <td>7.327060</td>\n",
       "      <td>0.343033</td>\n",
       "      <td>272.641516</td>\n",
       "      <td>6.259419</td>\n",
       "      <td>0.600172</td>\n",
       "      <td>0.913047</td>\n",
       "      <td>0.739693</td>\n",
       "      <td>6.660879</td>\n",
       "    </tr>\n",
       "    <tr>\n",
       "      <th>min</th>\n",
       "      <td>18.000000</td>\n",
       "      <td>40.000000</td>\n",
       "      <td>1.50000</td>\n",
       "      <td>160.000000</td>\n",
       "      <td>120.000000</td>\n",
       "      <td>50.000000</td>\n",
       "      <td>0.500000</td>\n",
       "      <td>303.000000</td>\n",
       "      <td>10.000000</td>\n",
       "      <td>1.500000</td>\n",
       "      <td>2.000000</td>\n",
       "      <td>1.000000</td>\n",
       "      <td>12.320000</td>\n",
       "    </tr>\n",
       "    <tr>\n",
       "      <th>25%</th>\n",
       "      <td>28.000000</td>\n",
       "      <td>58.100000</td>\n",
       "      <td>1.62000</td>\n",
       "      <td>170.000000</td>\n",
       "      <td>131.000000</td>\n",
       "      <td>56.000000</td>\n",
       "      <td>1.040000</td>\n",
       "      <td>720.000000</td>\n",
       "      <td>21.300000</td>\n",
       "      <td>2.200000</td>\n",
       "      <td>3.000000</td>\n",
       "      <td>1.000000</td>\n",
       "      <td>20.110000</td>\n",
       "    </tr>\n",
       "    <tr>\n",
       "      <th>50%</th>\n",
       "      <td>40.000000</td>\n",
       "      <td>70.000000</td>\n",
       "      <td>1.71000</td>\n",
       "      <td>180.000000</td>\n",
       "      <td>143.000000</td>\n",
       "      <td>62.000000</td>\n",
       "      <td>1.260000</td>\n",
       "      <td>893.000000</td>\n",
       "      <td>26.200000</td>\n",
       "      <td>2.600000</td>\n",
       "      <td>3.000000</td>\n",
       "      <td>2.000000</td>\n",
       "      <td>24.160000</td>\n",
       "    </tr>\n",
       "    <tr>\n",
       "      <th>75%</th>\n",
       "      <td>49.000000</td>\n",
       "      <td>86.000000</td>\n",
       "      <td>1.80000</td>\n",
       "      <td>190.000000</td>\n",
       "      <td>156.000000</td>\n",
       "      <td>68.000000</td>\n",
       "      <td>1.460000</td>\n",
       "      <td>1076.000000</td>\n",
       "      <td>29.300000</td>\n",
       "      <td>3.100000</td>\n",
       "      <td>4.000000</td>\n",
       "      <td>2.000000</td>\n",
       "      <td>28.560000</td>\n",
       "    </tr>\n",
       "    <tr>\n",
       "      <th>max</th>\n",
       "      <td>59.000000</td>\n",
       "      <td>129.900000</td>\n",
       "      <td>2.00000</td>\n",
       "      <td>199.000000</td>\n",
       "      <td>169.000000</td>\n",
       "      <td>74.000000</td>\n",
       "      <td>2.000000</td>\n",
       "      <td>1783.000000</td>\n",
       "      <td>35.000000</td>\n",
       "      <td>3.700000</td>\n",
       "      <td>5.000000</td>\n",
       "      <td>3.000000</td>\n",
       "      <td>49.840000</td>\n",
       "    </tr>\n",
       "  </tbody>\n",
       "</table>\n",
       "</div>"
      ]
     },
     "execution_count": 3,
     "metadata": {},
     "output_type": "execute_result"
    }
   ],
   "execution_count": 3
  },
  {
   "metadata": {
    "ExecuteTime": {
     "end_time": "2025-01-29T15:26:04.770314Z",
     "start_time": "2025-01-29T15:26:04.763034Z"
    }
   },
   "cell_type": "code",
   "source": [
    "mean = gym['Age'].mean()\n",
    "trim_mean = stats.trim_mean(gym['Age'], 0.1)\n",
    "median = gym['Age'].median()\n",
    "print(mean)\n",
    "print(trim_mean)\n",
    "print(median)"
   ],
   "id": "8d12ad94255b1560",
   "outputs": [
    {
     "name": "stdout",
     "output_type": "stream",
     "text": [
      "38.68345323741007\n",
      "38.79204107830552\n",
      "40.0\n"
     ]
    }
   ],
   "execution_count": 4
  },
  {
   "metadata": {},
   "cell_type": "markdown",
   "source": "Most of the time the mean is bigger than the trimmed mean, which is bigger than the median.",
   "id": "8ec6f1987b9f6eac"
  },
  {
   "metadata": {
    "ExecuteTime": {
     "end_time": "2025-01-29T15:26:05.118988Z",
     "start_time": "2025-01-29T15:26:05.112135Z"
    }
   },
   "cell_type": "code",
   "source": [
    "weighted_mean = np.average(gym['Height (m)'], weights=gym['Weight (kg)'])\n",
    "weighted_median = wquantiles.median(gym['Height (m)'], weights=gym['Weight (kg)'])\n",
    "print(weighted_mean)\n",
    "print(weighted_median)"
   ],
   "id": "3d75c6c89b3eb27e",
   "outputs": [
    {
     "name": "stdout",
     "output_type": "stream",
     "text": [
      "1.7359640331419441\n",
      "1.73\n"
     ]
    }
   ],
   "execution_count": 5
  },
  {
   "metadata": {},
   "cell_type": "markdown",
   "source": [
    "Deviations\n",
    "* The difference between the observed values and the estimate of location. (errors, residuals)\n",
    "* For a set of numbers\n",
    "$$\n",
    "\\{1, 4, 4\\}\n",
    "$$\n",
    "* the mean is 3 and the median is 4.\n",
    "* the deviations from the mean are the differences:\n",
    "$$\n",
    "1 - 3 = -2, \\quad 4 - 3 = 1, \\quad 4 - 3 = 1.\n",
    "$$"
   ],
   "id": "b8fafea4534d29f3"
  },
  {
   "metadata": {},
   "cell_type": "markdown",
   "source": [
    "Mean absolute deviation\n",
    "* The mean of the absolute values of the deviations from the mean. (l1-norm, Manhattan norm)\n",
    "* Take the absolute values of the deviations\n",
    "$$\n",
    "\\{2, 1, 1\\}\n",
    "$$\n",
    "* their average is\n",
    "$$\n",
    "\\frac{2 + 1 + 1}{3} = 1.33\\\n",
    "$$\n",
    "* Formula\n",
    "$$\n",
    "\\text{Mean absolute deviation} = \\frac{\\sum_{i=1}^{n} |x_i - \\bar{x}|}{n}\n",
    "$$\n"
   ],
   "id": "77dfee70df00b8be"
  },
  {
   "metadata": {},
   "cell_type": "markdown",
   "source": [
    "Variance\n",
    "* The sum of squared deviations from the mean divided by the number of observations minus 1. (mean-squared error)\n",
    "* Formula\n",
    "$$\n",
    "\\text{Variance} = s^2 = \\frac{\\sum_{i=1}^{n} (x_i - \\bar{x})^2}{n-1}\n",
    "$$"
   ],
   "id": "458aa87a599c6d6c"
  },
  {
   "metadata": {},
   "cell_type": "markdown",
   "source": [
    "Standard deviation\n",
    "* The square root of the variance.\n",
    "* Formula\n",
    "$$\n",
    "s = \\sqrt{\\frac{\\sum_{i=1}^{n} (x_i - \\bar{x})^2}{n-1}}\n",
    "$$\n",
    "* The standard deviation is the same scale as the original data."
   ],
   "id": "f55c6de05b44a707"
  },
  {
   "metadata": {},
   "cell_type": "markdown",
   "source": [
    "Median absolute deviation from the median\n",
    "* The median of the absolute values of the deviations from the median.\n",
    "* Formula\n",
    "$$\n",
    "\\text{Median absolute deviation} = \\text{median}(|x_1 - \\text{median}, |x_2 - \\text{median}, \\ldots, |x_n - \\text{median}|)\n",
    "$$\n",
    "* The MAD is not influenced by extreme values."
   ],
   "id": "c374726401e4e52c"
  },
  {
   "metadata": {
    "ExecuteTime": {
     "end_time": "2025-01-29T16:20:58.618136Z",
     "start_time": "2025-01-29T16:20:58.610442Z"
    }
   },
   "cell_type": "code",
   "source": [
    "standard_deviation = gym['Weight (kg)'].std()\n",
    "iqr = gym['Weight (kg)'].quantile(0.75) - gym['Weight (kg)'].quantile(0.25)\n",
    "mad = robust.scale.mad(gym['Weight (kg)'])\n",
    "print(standard_deviation)\n",
    "print(iqr)\n",
    "print(mad)"
   ],
   "id": "9617eef06fd4513f",
   "outputs": [
    {
     "name": "stdout",
     "output_type": "stream",
     "text": [
      "21.20750049840716\n",
      "27.9\n",
      "19.866869727975075\n"
     ]
    }
   ],
   "execution_count": 11
  },
  {
   "metadata": {},
   "cell_type": "markdown",
   "source": "* the standard deviation is almost twice as large as the MAD due to the influence of the extreme values.",
   "id": "6f1df22dd12e4084"
  },
  {
   "metadata": {},
   "cell_type": "markdown",
   "source": [
    "Range\n",
    "* The difference between the largest and the smallest value in a data set."
   ],
   "id": "a532428bb2b225"
  },
  {
   "metadata": {},
   "cell_type": "markdown",
   "source": [
    "Order statistics\n",
    "* Metrics based on thw data values sorted from smallest to biggest. (ranks)"
   ],
   "id": "f05854f670d81eaf"
  },
  {
   "metadata": {},
   "cell_type": "markdown",
   "source": [
    "Percentile\n",
    "* The value such P percent of the values take on this value or less and (100 - P) percent take on this value or more. (quantile)"
   ],
   "id": "b47478180abcb770"
  },
  {
   "metadata": {},
   "cell_type": "markdown",
   "source": [
    "Interquartile range\n",
    "* The difference between the 75th percentile and the 25th percentile. (IQR)\n",
    "* Take this set of numbers\n",
    "$$\n",
    "\\{3,1,5,3,6,7,2,9\\}\n",
    "$$\n",
    "* We sort them\n",
    "$$\n",
    "\\{1,2,3,3,5,6,7,9\\}\n",
    "$$\n",
    "* The 25th percentile is at 2.5 and the 75th percentile is at 6.5. So, the IQR is 6.5 - 2.5 = 4."
   ],
   "id": "abdfd92eace566be"
  },
  {
   "metadata": {
    "ExecuteTime": {
     "end_time": "2025-01-29T15:26:05.309552Z",
     "start_time": "2025-01-29T15:26:05.307413Z"
    }
   },
   "cell_type": "code",
   "source": "",
   "id": "75676bde42681959",
   "outputs": [],
   "execution_count": null
  }
 ],
 "metadata": {
  "kernelspec": {
   "display_name": "Python 3",
   "language": "python",
   "name": "python3"
  },
  "language_info": {
   "codemirror_mode": {
    "name": "ipython",
    "version": 2
   },
   "file_extension": ".py",
   "mimetype": "text/x-python",
   "name": "python",
   "nbconvert_exporter": "python",
   "pygments_lexer": "ipython2",
   "version": "2.7.6"
  }
 },
 "nbformat": 4,
 "nbformat_minor": 5
}
