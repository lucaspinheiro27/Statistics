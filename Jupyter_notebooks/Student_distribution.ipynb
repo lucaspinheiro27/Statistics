{
 "cells": [
  {
   "metadata": {},
   "cell_type": "markdown",
   "source": [
    "Student's t-distribution\n",
    "* Is a normally shaped distribution, except that it has heavier tails.\n",
    "* Distributions of sample means are typically shaped like a t-distribution."
   ],
   "id": "516f9ff71268ac4b"
  },
  {
   "metadata": {},
   "cell_type": "markdown",
   "source": [
    "Degrees of freedom\n",
    "* A parameter that allows the t-distribution to adjust to the sample size.\n",
    "* A 90% confidence interval around the sample mean is given by:\n",
    "* $ \\bar{x} \\pm t_{\\alpha/2, n-1} \\times \\frac{s}{\\sqrt{n}} $\n",
    "* Where $t_{\\alpha/2, n-1}$ is the t-value for the given confidence level and degrees of freedom.\n",
    "* Chops off the tails of the distribution at either end to give a more accurate confidence interval."
   ],
   "id": "6a411633ff858329"
  },
  {
   "metadata": {},
   "cell_type": "markdown",
   "source": [
    "Binomial Distribution\n",
    "* Use of the term success does not imply that the outcome is positive or desirable but rather that it is the outcome of interest."
   ],
   "id": "523f3152e4ba1847"
  },
  {
   "metadata": {},
   "cell_type": "markdown",
   "source": [
    "Trial\n",
    "* A event with a discrete outcome"
   ],
   "id": "fc23c88a48b43e2b"
  },
  {
   "metadata": {},
   "cell_type": "markdown",
   "source": [
    "Success\n",
    "* The outcome of interest"
   ],
   "id": "74c92d0b9403ffe5"
  },
  {
   "metadata": {},
   "cell_type": "markdown",
   "source": [
    "Binomial\n",
    "* having two possible outcomes"
   ],
   "id": "4d8e106a040ab6ab"
  },
  {
   "metadata": {},
   "cell_type": "markdown",
   "source": [
    "Binomial trial\n",
    "* A trial with two possible outcomes"
   ],
   "id": "62225ec9f8ca2535"
  },
  {
   "metadata": {},
   "cell_type": "markdown",
   "source": [
    "A binomial distribution\n",
    "* A distribution of number of successes in a fixed number of trials.\n",
    "* Bernoulli distribution is a special case of the binomial distribution.\n",
    "* The binomial distribution is the frequency distribution of the number of successes (x) in a given number of trials (n) with a specified probability (p) of success in each trial."
   ],
   "id": "d98553e657c4ab6d"
  },
  {
   "metadata": {},
   "cell_type": "markdown",
   "source": "* If the probability of a click converting to a sale is 0.02, what is the probability of observing 0 sales in 200 clicks?",
   "id": "458c2b9e9299b5fb"
  },
  {
   "metadata": {
    "ExecuteTime": {
     "end_time": "2025-02-06T15:48:30.840806Z",
     "start_time": "2025-02-06T15:48:30.836732Z"
    }
   },
   "cell_type": "code",
   "source": "import scipy.stats as stats",
   "id": "b0cd49a8278a9791",
   "outputs": [],
   "execution_count": 1
  },
  {
   "metadata": {
    "ExecuteTime": {
     "end_time": "2025-02-06T15:53:12.192682Z",
     "start_time": "2025-02-06T15:53:12.174359Z"
    }
   },
   "cell_type": "code",
   "source": [
    "# x = 0, n = 200, p = 0.02\n",
    "stats.binom.pmf(0, n=200, p=0.02)"
   ],
   "id": "804d529b15d332b3",
   "outputs": [
    {
     "data": {
      "text/plain": [
       "np.float64(0.017587946605721567)"
      ]
     },
     "execution_count": 2,
     "metadata": {},
     "output_type": "execute_result"
    }
   ],
   "execution_count": 2
  },
  {
   "metadata": {},
   "cell_type": "markdown",
   "source": "* What is the probability of observing 2 sales in 5 clicks for a conversion rate of 0.1?",
   "id": "eb702af33b035052"
  },
  {
   "metadata": {
    "ExecuteTime": {
     "end_time": "2025-02-06T15:55:08.139699Z",
     "start_time": "2025-02-06T15:55:08.135186Z"
    }
   },
   "cell_type": "code",
   "source": "stats.binom.cdf(2, n=5, p=0.1)",
   "id": "344237eb263bd7bd",
   "outputs": [
    {
     "data": {
      "text/plain": [
       "np.float64(0.99144)"
      ]
     },
     "execution_count": 4,
     "metadata": {},
     "output_type": "execute_result"
    }
   ],
   "execution_count": 4
  },
  {
   "metadata": {},
   "cell_type": "markdown",
   "source": [
    "The mean of a binomial distribution is given by:\n",
    "* $ \\mu = n \\times p $\n",
    "* As the expected number of successes in n trials, for a success probability of p."
   ],
   "id": "78cebf8d99125cad"
  },
  {
   "metadata": {},
   "cell_type": "markdown",
   "source": [
    "The variance of a binomial distribution is given by:\n",
    "* $ \\sigma^2 = n \\times p \\times (1-p) $\n",
    "* With a large enough number of trials when p is close to 0.5, the binomial distribution is approximately normal."
   ],
   "id": "60468f51d92f0705"
  },
  {
   "metadata": {},
   "cell_type": "code",
   "outputs": [],
   "execution_count": null,
   "source": "",
   "id": "ad844b3f1ac5962"
  }
 ],
 "metadata": {
  "kernelspec": {
   "display_name": "Python 3",
   "language": "python",
   "name": "python3"
  },
  "language_info": {
   "codemirror_mode": {
    "name": "ipython",
    "version": 2
   },
   "file_extension": ".py",
   "mimetype": "text/x-python",
   "name": "python",
   "nbconvert_exporter": "python",
   "pygments_lexer": "ipython2",
   "version": "2.7.6"
  }
 },
 "nbformat": 4,
 "nbformat_minor": 5
}
