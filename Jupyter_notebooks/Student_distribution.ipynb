{
 "cells": [
  {
   "metadata": {},
   "cell_type": "markdown",
   "source": [
    "Student's t-distribution\n",
    "* Is a normally shaped distribution, except that it has heavier tails.\n",
    "* Distributions of sample means are typically shaped like a t-distribution."
   ],
   "id": "516f9ff71268ac4b"
  },
  {
   "metadata": {},
   "cell_type": "markdown",
   "source": [
    "Degrees of freedom\n",
    "* A parameter that allows the t-distribution to adjust to the sample size.\n",
    "* A 90% confidence interval around the sample mean is given by:\n",
    "* $\n",
    "\\bar{x} \\pm t_{n-1}(0.05) \\cdot \\frac{s}{\\sqrt{n}}\n",
    " $\n",
    "* Where $t_{n-1}$ is the t-value for the given confidence level and degrees of freedom.\n",
    "* Chops off the tails of the distribution at either end to give a more accurate confidence interval."
   ],
   "id": "6a411633ff858329"
  },
  {
   "metadata": {},
   "cell_type": "markdown",
   "source": [
    "Binomial Distribution\n",
    "* Use of the term success does not imply that the outcome is positive or desirable but rather that it is the outcome of interest."
   ],
   "id": "523f3152e4ba1847"
  },
  {
   "metadata": {},
   "cell_type": "markdown",
   "source": [
    "Trial\n",
    "* A event with a discrete outcome"
   ],
   "id": "fc23c88a48b43e2b"
  },
  {
   "metadata": {},
   "cell_type": "markdown",
   "source": [
    "Success\n",
    "* The outcome of interest"
   ],
   "id": "74c92d0b9403ffe5"
  },
  {
   "metadata": {},
   "cell_type": "markdown",
   "source": [
    "Binomial\n",
    "* having two possible outcomes"
   ],
   "id": "4d8e106a040ab6ab"
  },
  {
   "metadata": {},
   "cell_type": "markdown",
   "source": [
    "Binomial trial\n",
    "* A trial with two possible outcomes"
   ],
   "id": "62225ec9f8ca2535"
  },
  {
   "metadata": {},
   "cell_type": "markdown",
   "source": [
    "A binomial distribution\n",
    "* A distribution of number of successes in a fixed number of trials.\n",
    "* Bernoulli distribution is a special case of the binomial distribution.\n",
    "* The binomial distribution is the frequency distribution of the number of successes (x) in a given number of trials (n) with a specified probability (p) of success in each trial."
   ],
   "id": "d98553e657c4ab6d"
  },
  {
   "metadata": {},
   "cell_type": "markdown",
   "source": "* If the probability of a click converting to a sale is 0.02, what is the probability of observing 0 sales in 200 clicks?",
   "id": "458c2b9e9299b5fb"
  },
  {
   "metadata": {
    "ExecuteTime": {
     "end_time": "2025-02-10T19:11:53.584919Z",
     "start_time": "2025-02-10T19:11:53.581576Z"
    }
   },
   "cell_type": "code",
   "source": [
    "import scipy.stats as stats\n",
    "import scipy\n",
    "from scipy.stats import chi2\n",
    "import numpy as np\n",
    "import matplotlib.pyplot as plt"
   ],
   "id": "b0cd49a8278a9791",
   "outputs": [],
   "execution_count": 100
  },
  {
   "metadata": {
    "ExecuteTime": {
     "end_time": "2025-02-10T19:11:53.644233Z",
     "start_time": "2025-02-10T19:11:53.636623Z"
    }
   },
   "cell_type": "code",
   "source": [
    "# x = 0, n = 200, p = 0.02\n",
    "stats.binom.pmf(0, n=200, p=0.02)"
   ],
   "id": "804d529b15d332b3",
   "outputs": [
    {
     "data": {
      "text/plain": [
       "np.float64(0.017587946605721567)"
      ]
     },
     "execution_count": 101,
     "metadata": {},
     "output_type": "execute_result"
    }
   ],
   "execution_count": 101
  },
  {
   "metadata": {},
   "cell_type": "markdown",
   "source": "* What is the probability of observing 2 sales in 5 clicks for a conversion rate of 0.1?",
   "id": "eb702af33b035052"
  },
  {
   "metadata": {
    "ExecuteTime": {
     "end_time": "2025-02-10T19:11:53.699263Z",
     "start_time": "2025-02-10T19:11:53.695359Z"
    }
   },
   "cell_type": "code",
   "source": "stats.binom.cdf(2, n=5, p=0.1)",
   "id": "344237eb263bd7bd",
   "outputs": [
    {
     "data": {
      "text/plain": [
       "np.float64(0.99144)"
      ]
     },
     "execution_count": 102,
     "metadata": {},
     "output_type": "execute_result"
    }
   ],
   "execution_count": 102
  },
  {
   "metadata": {},
   "cell_type": "markdown",
   "source": [
    "The mean of a binomial distribution is given by:\n",
    "* $ \\mu = n \\times p $\n",
    "* As the expected number of successes in n trials, for a success probability of p."
   ],
   "id": "78cebf8d99125cad"
  },
  {
   "metadata": {},
   "cell_type": "markdown",
   "source": [
    "The variance of a binomial distribution is given by:\n",
    "* $ n \\times p(1 - p) $\n",
    "* With a large enough number of trials when p is close to 0.5, the binomial distribution is approximately normal."
   ],
   "id": "60468f51d92f0705"
  },
  {
   "metadata": {},
   "cell_type": "markdown",
   "source": [
    "Chi-Square Distribution\n",
    "* Expectation defines as nothing unusual or of note in the data (correlation between variables or predictable patterns)\n",
    "* This is termed as the null hypothesis."
   ],
   "id": "da29c9365d918132"
  },
  {
   "metadata": {
    "ExecuteTime": {
     "end_time": "2025-02-10T19:11:53.819382Z",
     "start_time": "2025-02-10T19:11:53.748596Z"
    }
   },
   "cell_type": "code",
   "source": [
    "x = np.arange(0, 20, 0.001)\n",
    "plt.plot(x, chi2.pdf(x, df=4), color='orange', linewidth=3)"
   ],
   "id": "cd8d7b3065db3f48",
   "outputs": [
    {
     "data": {
      "text/plain": [
       "[<matplotlib.lines.Line2D at 0x7cfeebb22ea0>]"
      ]
     },
     "execution_count": 103,
     "metadata": {},
     "output_type": "execute_result"
    },
    {
     "data": {
      "text/plain": [
       "<Figure size 640x480 with 1 Axes>"
      ],
      "image/png": "[encoded data removed]"
     },
     "metadata": {},
     "output_type": "display_data"
    }
   ],
   "execution_count": 103
  },
  {
   "metadata": {},
   "cell_type": "markdown",
   "source": "Chi-Square distributions with different degrees of freedom",
   "id": "db956886c57def32"
  },
  {
   "metadata": {
    "ExecuteTime": {
     "end_time": "2025-02-10T19:11:53.965121Z",
     "start_time": "2025-02-10T19:11:53.827583Z"
    }
   },
   "cell_type": "code",
   "source": [
    "plt.plot(x, chi2.pdf(x, df=4), label='df: 4', color = 'blue')\n",
    "plt.plot(x, chi2.pdf(x, df=8), label='df: 8', color = 'green')\n",
    "plt.plot(x, chi2.pdf(x, df=12), label='df: 12', color='yellow')\n",
    "plt.legend(title=\"Parameters\")\n",
    "plt.ylabel('Density')\n",
    "plt.xlabel('x')\n",
    "plt.title('Chi-Square Distributions', fontsize=14)"
   ],
   "id": "38d5a42e65d148b7",
   "outputs": [
    {
     "data": {
      "text/plain": [
       "Text(0.5, 1.0, 'Chi-Square Distributions')"
      ]
     },
     "execution_count": 104,
     "metadata": {},
     "output_type": "execute_result"
    },
    {
     "data": {
      "text/plain": [
       "<Figure size 640x480 with 1 Axes>"
      ],
      "image/png": "[encoded data removed]"
     },
     "metadata": {},
     "output_type": "display_data"
    }
   ],
   "execution_count": 104
  },
  {
   "metadata": {},
   "cell_type": "markdown",
   "source": [
    "Null hypothesis\n",
    "* Test whether one variable is independent of another.\n",
    "* The statistics that measures the extent to which results depart from the null expectation of independence is the chi-square statistic. Defined by the difference between the observed and expected values, divided by the expected values, squared, then summed across all categories.\n",
    "* Is a measure of extent to which a set of observed values \"fits\" a specified distribution\n",
    "* Useful determining whether multiple treatments differ from one another in their effects.\n",
    "* Is the distribution of this statistic under repeated resampling from the data draws from the null hypothesis.\n",
    "* A low chi-square statistic indicates that the null hypothesis is likely true.\n",
    "* A high chi-square statistic indicates that the null hypothesis is likely false."
   ],
   "id": "85f2e89fff763411"
  },
  {
   "metadata": {},
   "cell_type": "markdown",
   "source": [
    "F-Distribution\n",
    "* A common procedure to test multiple treatments across groups, similarly to the A/B/C test, except that deals with measured continuous variables rather than counts.\n",
    "* F-Distribution is interested in the ratio of variances among group means are greater than expected by chance, also the variability within each group called the Anova\n",
    "* Otherwise, this would be produced by random sampling which all the group means are equal(null model).\n",
    "* Also used in linear regression to compare the variation accounted for by the regression model to overall variation in the data."
   ],
   "id": "d7d635e8666a3f94"
  },
  {
   "metadata": {},
   "cell_type": "markdown",
   "source": "* These distributions are used to fit models to data and performing accurate analyses.",
   "id": "53c6227200c2add2"
  },
  {
   "metadata": {},
   "cell_type": "markdown",
   "source": "F-Test",
   "id": "daddea4b1703d740"
  },
  {
   "metadata": {},
   "cell_type": "markdown",
   "source": [
    "* To test whether two populations variances are equal, the null and alternative hypotheses are:\n",
    "* Null hypothesis: The two variances populations are equal.\n",
    "$ \\mathbf{H_0}: \\sigma_1^2 = \\sigma_2^2 $\n",
    "* Alternative hypothesis: The two populations variances are not equal.\n",
    "$ \\mathbf{H_1}: \\sigma_1^2 \\neq \\sigma_2^2 $\n",
    "* The F-test tries to answer whether the two samples comes with equal variances and if some new treatment reduces the variability."
   ],
   "id": "f0c8cd387f0b5336"
  },
  {
   "metadata": {
    "ExecuteTime": {
     "end_time": "2025-02-10T19:11:53.984411Z",
     "start_time": "2025-02-10T19:11:53.981269Z"
    }
   },
   "cell_type": "code",
   "source": [
    "x = [18, 19, 22, 25, 27, 28, 41, 45, 51, 55]\n",
    "y = [14, 15, 15, 17, 18, 22, 25, 25, 27, 34]"
   ],
   "id": "ad844b3f1ac5962",
   "outputs": [],
   "execution_count": 105
  },
  {
   "metadata": {
    "ExecuteTime": {
     "end_time": "2025-02-10T19:11:54.033295Z",
     "start_time": "2025-02-10T19:11:54.029271Z"
    }
   },
   "cell_type": "code",
   "source": [
    "def f_test(x, y):\n",
    "    var_x = np.array(x)\n",
    "    var_y = np.array(y)\n",
    "\n",
    "    f = np.var(var_x, ddof=1) / np.var(var_y, ddof=1)\n",
    "\n",
    "    dfn = len(var_x) - 1\n",
    "    dfd = len(var_y) - 1\n",
    "\n",
    "    p = 1 - scipy.stats.f.cdf(f, dfn, dfd)\n",
    "    return f, p"
   ],
   "id": "b80e2ceda86c43f8",
   "outputs": [],
   "execution_count": 106
  },
  {
   "metadata": {
    "ExecuteTime": {
     "end_time": "2025-02-10T19:11:54.089451Z",
     "start_time": "2025-02-10T19:11:54.083319Z"
    }
   },
   "cell_type": "code",
   "source": "f_test(x, y)",
   "id": "387e74526d2b070b",
   "outputs": [
    {
     "data": {
      "text/plain": [
       "(np.float64(4.387122002085505), np.float64(0.01912653593238578))"
      ]
     },
     "execution_count": 107,
     "metadata": {},
     "output_type": "execute_result"
    }
   ],
   "execution_count": 107
  },
  {
   "metadata": {},
   "cell_type": "markdown",
   "source": "In this case the p-value is less than .05, so we reject the null hypothesis.",
   "id": "95db46fae2f2afac"
  },
  {
   "metadata": {},
   "cell_type": "markdown",
   "source": "Poisson Distributions",
   "id": "43c8e63d136e5946"
  },
  {
   "metadata": {},
   "cell_type": "markdown",
   "source": [
    "Lambda\n",
    "* The rate (per unit of time or space) at which events occur"
   ],
   "id": "6dd732cd31096fb1"
  },
  {
   "metadata": {},
   "cell_type": "markdown",
   "source": [
    "Poisson distribution\n",
    "* The frequency distribution of the number of events in sampled units of time or space\n",
    "* estimate the average number of events per unit of time or space or how different from one unit of time to another"
   ],
   "id": "c5cd44018611fed2"
  },
  {
   "metadata": {},
   "cell_type": "markdown",
   "source": "* tries to answer questions like \"How much capacity do we need to be 95% sure of fully processing the internet traffic that arrive on a server in any five second period?\"",
   "id": "9eedcc8ddf94686"
  },
  {
   "metadata": {
    "ExecuteTime": {
     "end_time": "2025-02-10T19:11:54.139242Z",
     "start_time": "2025-02-10T19:11:54.135802Z"
    }
   },
   "cell_type": "code",
   "source": "poisson = stats.poisson.rvs(2, size=100)",
   "id": "5a2f9c8043fbca96",
   "outputs": [],
   "execution_count": 108
  },
  {
   "metadata": {},
   "cell_type": "markdown",
   "source": "* generating 100 number from a poisson distribution with lambda=2, if incoming customer service calls average two per minute, this will simulate 100 minutes, returning the number of calls",
   "id": "c221d74a6307bb3c"
  },
  {
   "metadata": {},
   "cell_type": "markdown",
   "source": [
    "Exponential distribution\n",
    "* The frequency distribution of the time or distance from one event to the next one"
   ],
   "id": "6cc65562c33838c5"
  },
  {
   "metadata": {
    "ExecuteTime": {
     "end_time": "2025-02-10T19:11:54.190869Z",
     "start_time": "2025-02-10T19:11:54.185878Z"
    }
   },
   "cell_type": "code",
   "source": "exponential = stats.expon.rvs(0.2, size=100)",
   "id": "50a0b6f6e24e9e57",
   "outputs": [],
   "execution_count": 109
  },
  {
   "metadata": {},
   "cell_type": "markdown",
   "source": [
    "Weibull distribution\n",
    "* A generalized version of the exponential distribution in which the event rate is allowed to shift over time"
   ],
   "id": "7c17ff510bcc0b0e"
  },
  {
   "metadata": {},
   "cell_type": "markdown",
   "source": [
    "Shape parameter that allows the event rate to change by $ \\beta $\n",
    "If $ \\beta > 1 $ The probability of an event increases over time\n",
    "If $ \\beta < 1 $ The probability decreases over time"
   ],
   "id": "47ceb01f5536f9d"
  },
  {
   "metadata": {},
   "cell_type": "markdown",
   "source": "The second parameter is used with time to failure, the symbol used is $\\eta$ Which is called the scale parameter.",
   "id": "d5f567e9be0cd3c1"
  },
  {
   "metadata": {},
   "cell_type": "markdown",
   "source": "Generating 100 random numbers (lifetimes) from a weibull distribution with shape of 1.5 which represents beta, and characteristics life of 5,000, which represents eta.",
   "id": "b928610a83751612"
  },
  {
   "metadata": {
    "ExecuteTime": {
     "end_time": "2025-02-10T19:11:54.241541Z",
     "start_time": "2025-02-10T19:11:54.238201Z"
    }
   },
   "cell_type": "code",
   "source": "weibull = stats.weibull_min.rvs(1.5, scale=5000, size=100)",
   "id": "12883586218b75f8",
   "outputs": [],
   "execution_count": 110
  },
  {
   "metadata": {},
   "cell_type": "markdown",
   "source": "* For events that occur at a constant rate, the number of events per unit of time or space can be modeled as Poisson.",
   "id": "48503e7c63089296"
  },
  {
   "metadata": {},
   "cell_type": "markdown",
   "source": "* Modelling the time an distance between one event and the next as exponential",
   "id": "4785d14c5470eb12"
  },
  {
   "metadata": {},
   "cell_type": "markdown",
   "source": "* A changing event rate over time ( increasing probability of device failure) can be modeled as Weibull.",
   "id": "6339126c8ca2b2b4"
  },
  {
   "metadata": {},
   "cell_type": "code",
   "outputs": [],
   "execution_count": null,
   "source": "",
   "id": "58a842090ed564a6"
  }
 ],
 "metadata": {
  "kernelspec": {
   "display_name": "Python 3",
   "language": "python",
   "name": "python3"
  },
  "language_info": {
   "codemirror_mode": {
    "name": "ipython",
    "version": 2
   },
   "file_extension": ".py",
   "mimetype": "text/x-python",
   "name": "python",
   "nbconvert_exporter": "python",
   "pygments_lexer": "ipython2",
   "version": "2.7.6"
  }
 },
 "nbformat": 4,
 "nbformat_minor": 5
}
