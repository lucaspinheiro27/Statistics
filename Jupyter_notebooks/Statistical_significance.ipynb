{
 "cells": [
  {
   "metadata": {},
   "cell_type": "markdown",
   "source": [
    "Statistical significance\n",
    "* Whether an experiment yields a result more extreme than what chance might produce, thus is beyond the chance variation, and said to be statistically significant."
   ],
   "id": "aac032413af89520"
  },
  {
   "metadata": {},
   "cell_type": "markdown",
   "source": [
    "P-value\n",
    "* The probability of obtaining results as unusual or extreme as the observed results. The probability that, given a chance model, results as extreme as the observed results would occur."
   ],
   "id": "9c8fcaf2f8fe1405"
  },
  {
   "metadata": {},
   "cell_type": "markdown",
   "source": [
    "Alpha\n",
    "* the probability that chance results must surpass for actual outcomes to be deemed statistically significant. Typical alpha levels are 0.05 or 0.01. Any chosen level is arbitrary."
   ],
   "id": "98f1d662b794cd2c"
  },
  {
   "metadata": {},
   "cell_type": "markdown",
   "source": [
    "Type 1 error\n",
    "* Concluding an effect is present when it is not"
   ],
   "id": "68a78a5302338bf3"
  },
  {
   "metadata": {},
   "cell_type": "markdown",
   "source": [
    "Type 2 error\n",
    "* Concluding an effect is not present when it is"
   ],
   "id": "de5732346dc02668"
  },
  {
   "metadata": {
    "ExecuteTime": {
     "end_time": "2025-02-27T15:41:50.602802Z",
     "start_time": "2025-02-27T15:41:50.599121Z"
    }
   },
   "cell_type": "code",
   "source": [
    "import pandas as pd\n",
    "import numpy as np\n",
    "import random\n",
    "import matplotlib.pyplot as plt\n",
    "from scipy.stats import chi2\n",
    "from scipy.stats import chi2_contingency\n",
    "from scipy.stats import fisher_exact"
   ],
   "id": "7421485a7b34e725",
   "outputs": [],
   "execution_count": 88
  },
  {
   "cell_type": "code",
   "id": "initial_id",
   "metadata": {
    "collapsed": true,
    "ExecuteTime": {
     "end_time": "2025-02-27T15:41:50.666288Z",
     "start_time": "2025-02-27T15:41:50.655246Z"
    }
   },
   "source": [
    "df_seed = pd.read_csv('/home/satire/PycharmProjects/Statistics/csv/click_rates.csv')\n",
    "df = df_seed.pivot(index='Headline', columns='Click', values='Rate')\n",
    "df"
   ],
   "outputs": [
    {
     "data": {
      "text/plain": [
       "Click       Click  No-click\n",
       "Headline                   \n",
       "Headline A     14       986\n",
       "Headline B      8       992\n",
       "Headline C     12       988"
      ],
      "text/html": [
       "<div>\n",
       "<style scoped>\n",
       "    .dataframe tbody tr th:only-of-type {\n",
       "        vertical-align: middle;\n",
       "    }\n",
       "\n",
       "    .dataframe tbody tr th {\n",
       "        vertical-align: top;\n",
       "    }\n",
       "\n",
       "    .dataframe thead th {\n",
       "        text-align: right;\n",
       "    }\n",
       "</style>\n",
       "<table border=\"1\" class=\"dataframe\">\n",
       "  <thead>\n",
       "    <tr style=\"text-align: right;\">\n",
       "      <th>Click</th>\n",
       "      <th>Click</th>\n",
       "      <th>No-click</th>\n",
       "    </tr>\n",
       "    <tr>\n",
       "      <th>Headline</th>\n",
       "      <th></th>\n",
       "      <th></th>\n",
       "    </tr>\n",
       "  </thead>\n",
       "  <tbody>\n",
       "    <tr>\n",
       "      <th>Headline A</th>\n",
       "      <td>14</td>\n",
       "      <td>986</td>\n",
       "    </tr>\n",
       "    <tr>\n",
       "      <th>Headline B</th>\n",
       "      <td>8</td>\n",
       "      <td>992</td>\n",
       "    </tr>\n",
       "    <tr>\n",
       "      <th>Headline C</th>\n",
       "      <td>12</td>\n",
       "      <td>988</td>\n",
       "    </tr>\n",
       "  </tbody>\n",
       "</table>\n",
       "</div>"
      ]
     },
     "execution_count": 89,
     "metadata": {},
     "output_type": "execute_result"
    }
   ],
   "execution_count": 89
  },
  {
   "metadata": {
    "ExecuteTime": {
     "end_time": "2025-02-27T15:41:50.750056Z",
     "start_time": "2025-02-27T15:41:50.746651Z"
    }
   },
   "cell_type": "code",
   "source": [
    "def perm_fun(x, n_control, n_variant):\n",
    "    n = n_control + n_variant\n",
    "    idx_variant = list(random.sample(range(n), n_variant))\n",
    "    idx_control = list(set(range(n)) - set(idx_variant))\n",
    "    return x.loc[idx_control].mean() - x.loc[idx_variant].mean()"
   ],
   "id": "29564b6e57abf440",
   "outputs": [],
   "execution_count": 90
  },
  {
   "metadata": {
    "ExecuteTime": {
     "end_time": "2025-02-27T15:41:50.797677Z",
     "start_time": "2025-02-27T15:41:50.793458Z"
    }
   },
   "cell_type": "code",
   "source": [
    "obs_pct_diff = 100 * (14 / 986 - 8 / 992)\n",
    "print(f'Observed difference: {obs_pct_diff:.4f}%')"
   ],
   "id": "b017e037e7291a42",
   "outputs": [
    {
     "name": "stdout",
     "output_type": "stream",
     "text": [
      "Observed difference: 0.6134%\n"
     ]
    }
   ],
   "execution_count": 91
  },
  {
   "metadata": {},
   "cell_type": "markdown",
   "source": "The number of zeros match the overall sample size minus the total number of successes, which is 1978 items in total (986 + 992) with 22 ones and 1956 zeros.",
   "id": "92015850fce03f75"
  },
  {
   "metadata": {
    "ExecuteTime": {
     "end_time": "2025-02-27T15:41:51.471248Z",
     "start_time": "2025-02-27T15:41:50.838381Z"
    }
   },
   "cell_type": "code",
   "source": [
    "conversion = [1] * 22 + [0] * (1978 - 22)\n",
    "conversion = pd.Series(conversion)\n",
    "perm_diffs = [100 * perm_fun(conversion, 986, 992) for _ in range(1000)]"
   ],
   "id": "6ba4e13e99a068d",
   "outputs": [],
   "execution_count": 92
  },
  {
   "metadata": {
    "ExecuteTime": {
     "end_time": "2025-02-27T15:41:51.549685Z",
     "start_time": "2025-02-27T15:41:51.477947Z"
    }
   },
   "cell_type": "code",
   "source": [
    "fig, ax = plt.subplots(figsize=(5, 5))\n",
    "ax.hist(perm_diffs, bins=11, rwidth=0.9)\n",
    "ax.axvline(x=obs_pct_diff, color='black', lw=2)\n",
    "ax.text(0.06, 200, 'Observed\\ndifference', bbox={'facecolor': 'white'})\n",
    "ax.set_xlabel('Conversion rate (percentage points)')\n",
    "ax.set_ylabel('Frequency')"
   ],
   "id": "57631cdea34df5be",
   "outputs": [
    {
     "data": {
      "text/plain": [
       "Text(0, 0.5, 'Frequency')"
      ]
     },
     "execution_count": 93,
     "metadata": {},
     "output_type": "execute_result"
    },
    {
     "data": {
      "text/plain": [
       "<Figure size 500x500 with 1 Axes>"
      ],
      "image/png": "[encoded data removed]"
     },
     "metadata": {},
     "output_type": "display_data"
    }
   ],
   "execution_count": 93
  },
  {
   "metadata": {
    "ExecuteTime": {
     "end_time": "2025-02-27T15:41:51.563039Z",
     "start_time": "2025-02-27T15:41:51.560019Z"
    }
   },
   "cell_type": "code",
   "source": [
    "p_value = np.mean([diff > obs_pct_diff for diff in perm_diffs])\n",
    "print(f'P-value: {p_value:.4f}')"
   ],
   "id": "2de2db2f537a59d5",
   "outputs": [
    {
     "name": "stdout",
     "output_type": "stream",
     "text": [
      "P-value: 0.0650\n"
     ]
    }
   ],
   "execution_count": 94
  },
  {
   "metadata": {},
   "cell_type": "markdown",
   "source": "* Estimating the p-value from the permutation test by taking the proportion of times that the permutation test produces a difference equal to or greater than the observed difference.",
   "id": "9e6ca22e59c1d3a2"
  },
  {
   "metadata": {},
   "cell_type": "markdown",
   "source": "* Since we have a binomial distribution, we can aproximate the p-value using the chi-squared test",
   "id": "91eb7d3739d67a5f"
  },
  {
   "metadata": {
    "ExecuteTime": {
     "end_time": "2025-02-27T15:41:51.611200Z",
     "start_time": "2025-02-27T15:41:51.607434Z"
    }
   },
   "cell_type": "code",
   "source": [
    "conversions = np.array([[8, 986 - 8], [14, 992 - 14]])\n",
    "chi2, p_value, df, _ = chi2_contingency(conversions)\n",
    "print(f'p-value for a single sided test: {p_value / 2:.4f}')"
   ],
   "id": "6f6aacd465425dc8",
   "outputs": [
    {
     "name": "stdout",
     "output_type": "stream",
     "text": [
      "p-value for a single sided test: 0.1451\n"
     ]
    }
   ],
   "execution_count": 95
  },
  {
   "metadata": {},
   "cell_type": "markdown",
   "source": "* Hypothesis tests are a way to protect against being fooled by randomness.",
   "id": "41c903e44f61ef74"
  },
  {
   "metadata": {},
   "cell_type": "markdown",
   "source": [
    "Relevance\n",
    "* Chi-square test, Fisher's exact test is used when you want to know whether an effect is for real or might be the product of chance.\n",
    "* Chi-square test role is to establish statistical significance\n",
    "* Determine appropriate sample sizes.\n",
    "* Due to experiments sometimes having low rates, being too small to yield definitive conclusions in a experiment.\n",
    "* For example(propensity to buy a particular item is independent of gender)\n",
    "* Chi-square distribution is a reference distribution(Embodies the assumption of independence) to which observed calculated chi-squared statistic must be compared.\n"
   ],
   "id": "fc2b6609f117ae67"
  },
  {
   "metadata": {},
   "cell_type": "markdown",
   "source": [
    "Chi_Square Test\n",
    "* Test used with count data to test how well it fits some expected distribution, The most common use is with 2 x 3 contingency tables, to assess whether the null hypothesis of independence among variables is reasonable.\n",
    "* A measure of extent to which some observed data departs form expectation\n",
    "* How well we would expect the data to turn out under some assumption(null hypothesis)"
   ],
   "id": "d9d0b7e5092abd05"
  },
  {
   "metadata": {},
   "cell_type": "markdown",
   "source": [
    "The Pearson Residual is defined as:\n",
    "$$\n",
    "r_i = \\frac{y_i - \\hat{\\mu}_i}{\\sqrt{\\text{Var}(y_i)}}\n",
    "$$"
   ],
   "id": "bb31b7744a999f79"
  },
  {
   "metadata": {},
   "cell_type": "markdown",
   "source": "* Measuring the extent to which the actual counts differ from these expected counts in which ${y_i}$ represents the expected values and ${\\hat{\\mu}_i}$ represents the observed values",
   "id": "8d49c4fa4f605a0f"
  },
  {
   "metadata": {},
   "cell_type": "markdown",
   "source": [
    "The chi-square statistic is defined as the sum of the squared Pearson residuals:\n",
    "$$\n",
    "\\chi^2 = \\sum_{i} \\frac{(O_i - E_i)^2}{E_i}\n",
    "$$"
   ],
   "id": "117f75e9b6fd817a"
  },
  {
   "metadata": {},
   "cell_type": "markdown",
   "source": [
    "* Where $_i$ represents the number os rows and columns, respectively\n",
    "* $X_2$ measures the extent to which the actual counts differ from these expected counts"
   ],
   "id": "13c4e3cfbf65288f"
  },
  {
   "metadata": {},
   "cell_type": "markdown",
   "source": [
    "Resampling algorithm\n",
    "* Constitute a box with the number of ones (yes) and the number of zeros (no)\n",
    "* Shuffle, take three separate samples of the total number of samples and count the values in each.\n",
    "* Find the squared differences between the shuffled counts and the expected counts and sum them\n",
    "* Repeat steps 2 and 3, 1000 times.\n",
    "* The amount exceed from the resampled sum of squared deviations is the p-value."
   ],
   "id": "cb1e47df14de6736"
  },
  {
   "metadata": {
    "ExecuteTime": {
     "end_time": "2025-02-27T15:41:51.679241Z",
     "start_time": "2025-02-27T15:41:51.664113Z"
    }
   },
   "cell_type": "code",
   "source": [
    "table = df_seed.pivot_table(index='Click', columns='Headline', values='Rate')\n",
    "table"
   ],
   "id": "5392c6acc1068f66",
   "outputs": [
    {
     "data": {
      "text/plain": [
       "Headline  Headline A  Headline B  Headline C\n",
       "Click                                       \n",
       "Click           14.0         8.0        12.0\n",
       "No-click       986.0       992.0       988.0"
      ],
      "text/html": [
       "<div>\n",
       "<style scoped>\n",
       "    .dataframe tbody tr th:only-of-type {\n",
       "        vertical-align: middle;\n",
       "    }\n",
       "\n",
       "    .dataframe tbody tr th {\n",
       "        vertical-align: top;\n",
       "    }\n",
       "\n",
       "    .dataframe thead th {\n",
       "        text-align: right;\n",
       "    }\n",
       "</style>\n",
       "<table border=\"1\" class=\"dataframe\">\n",
       "  <thead>\n",
       "    <tr style=\"text-align: right;\">\n",
       "      <th>Headline</th>\n",
       "      <th>Headline A</th>\n",
       "      <th>Headline B</th>\n",
       "      <th>Headline C</th>\n",
       "    </tr>\n",
       "    <tr>\n",
       "      <th>Click</th>\n",
       "      <th></th>\n",
       "      <th></th>\n",
       "      <th></th>\n",
       "    </tr>\n",
       "  </thead>\n",
       "  <tbody>\n",
       "    <tr>\n",
       "      <th>Click</th>\n",
       "      <td>14.0</td>\n",
       "      <td>8.0</td>\n",
       "      <td>12.0</td>\n",
       "    </tr>\n",
       "    <tr>\n",
       "      <th>No-click</th>\n",
       "      <td>986.0</td>\n",
       "      <td>992.0</td>\n",
       "      <td>988.0</td>\n",
       "    </tr>\n",
       "  </tbody>\n",
       "</table>\n",
       "</div>"
      ]
     },
     "execution_count": 96,
     "metadata": {},
     "output_type": "execute_result"
    }
   ],
   "execution_count": 96
  },
  {
   "metadata": {
    "ExecuteTime": {
     "end_time": "2025-02-27T15:41:51.814263Z",
     "start_time": "2025-02-27T15:41:51.810443Z"
    }
   },
   "cell_type": "code",
   "source": [
    "box = [1] * 34 # A box with number ones (yes)\n",
    "box.extend([0] * 2966) # A box with number of zeros (no)\n",
    "random.shuffle(box) # Shuffle the box\n",
    "\n",
    "def chi2(observed, expected): # The observed and expected values\n",
    "    pearson_residuals = [] # The extent to which the actual counts differ from the expected counts\n",
    "    for row, expect in zip(observed, expected):\n",
    "        pearson_residuals.append([(observe - expect) ** 2 / expect\n",
    "                                  for observe in row]) # Find the squared differences between the shuffled counts and the expected counts\n",
    "        return np.sum(pearson_residuals) # and sum them\n",
    "\n",
    "expected_clicks = 34 / 3 # take three separate samples of 1000 (total number of each sample)\n",
    "expected_noclicks = 1000 - expected_clicks\n",
    "expected = [34 / 3, 1000 - 34 / 3]\n",
    "chi2observed = chi2(table.values, expected) # Count the values in each"
   ],
   "id": "9c9286b45afabff6",
   "outputs": [],
   "execution_count": 97
  },
  {
   "metadata": {
    "ExecuteTime": {
     "end_time": "2025-02-27T15:41:52.847179Z",
     "start_time": "2025-02-27T15:41:51.841505Z"
    }
   },
   "cell_type": "code",
   "source": [
    "def perm_fun(box): # Repeat steps 2 and 3, 1000 times.\n",
    "    sample_clicks = [sum(random.sample(box, 1000)),\n",
    "                     sum(random.sample(box, 1000)),\n",
    "                     sum(random.sample(box, 1000))]\n",
    "    sample_noclicks = [1000 - n for n in sample_clicks]\n",
    "    return chi2([sample_clicks, sample_noclicks], expected)\n",
    "perm_chi2 = [perm_fun(box) for _ in range(2000)]"
   ],
   "id": "da21e6e90934f0b7",
   "outputs": [],
   "execution_count": 98
  },
  {
   "metadata": {
    "ExecuteTime": {
     "end_time": "2025-02-27T15:41:52.870594Z",
     "start_time": "2025-02-27T15:41:52.867481Z"
    }
   },
   "cell_type": "code",
   "source": [
    "# The amount exceed from the resampled sum of squared deviations is the p-value\n",
    "resampled_p_value = sum(perm_chi2 > chi2observed) / len(perm_chi2)\n",
    "print(f'Observed chi2: {chi2observed:.4f}')\n",
    "print(f'Resampled p-value: {resampled_p_value:.4f}')"
   ],
   "id": "36896e52013af3e3",
   "outputs": [
    {
     "name": "stdout",
     "output_type": "stream",
     "text": [
      "Observed chi2: 1.6471\n",
      "Resampled p-value: 0.4885\n"
     ]
    }
   ],
   "execution_count": 99
  },
  {
   "metadata": {},
   "cell_type": "markdown",
   "source": [
    "Chi-Square test:\n",
    "* Statistical Theory shows that the distribution of the chi-square statistic can be approximated by a chi-square distribution\n",
    "* The appropriate standard chi-square distribution is determined by the degrees of freedom\n",
    "* A contingency table, the degrees of freedom are related to the number of rows and columns as follows:\n",
    "$$\\text{degrees of freedom} = (r - 1) \\times (c - 1)$$"
   ],
   "id": "75e3bc84e62584ef"
  },
  {
   "metadata": {},
   "cell_type": "markdown",
   "source": [
    "* Typically skewed, with a long tail to the right\n",
    "* For a Distribution with 1,2,5 and 20 degrees of freedom, the further out on the chi-square distribution the observed statistic is, the lower the p-value."
   ],
   "id": "711838f2723abe0b"
  },
  {
   "metadata": {
    "ExecuteTime": {
     "end_time": "2025-02-27T15:41:52.919241Z",
     "start_time": "2025-02-27T15:41:52.915558Z"
    }
   },
   "cell_type": "code",
   "source": [
    "chisq, pvalue, df, expected = chi2_contingency(table)\n",
    "print(f'Observed chi2: {chi2observed:.4f}')\n",
    "print(f'p-value: {pvalue:.4f}')"
   ],
   "id": "3f5d4f940030c000",
   "outputs": [
    {
     "name": "stdout",
     "output_type": "stream",
     "text": [
      "Observed chi2: 1.6471\n",
      "p-value: 0.4348\n"
     ]
    }
   ],
   "execution_count": 100
  },
  {
   "metadata": {},
   "cell_type": "markdown",
   "source": "* The p-value is a little less than the resampling p-value, because the chi-square distribution is only an approximation of the actual distribution of the statistic.",
   "id": "8b89101ca30fbd60"
  },
  {
   "metadata": {},
   "cell_type": "markdown",
   "source": [
    "Fisher's Exact test\n",
    "* When counts are extremely low(single digits, especially five or fewer).\n",
    "* Procedure to enumerate all the possible rearrangements(permutations) that can occur, tabulate their frequencies and determine exactly how extreme the observe result is"
   ],
   "id": "ebf409ebc03187b4"
  },
  {
   "metadata": {
    "ExecuteTime": {
     "end_time": "2025-02-27T15:41:52.990675Z",
     "start_time": "2025-02-27T15:41:52.979270Z"
    }
   },
   "cell_type": "code",
   "source": [
    "res = fisher_exact(table)\n",
    "res.pvalue"
   ],
   "id": "dfa64f5760be12d3",
   "outputs": [
    {
     "data": {
      "text/plain": [
       "np.float64(0.4606)"
      ]
     },
     "execution_count": 101,
     "metadata": {},
     "output_type": "execute_result"
    }
   ],
   "execution_count": 101
  },
  {
   "metadata": {
    "ExecuteTime": {
     "end_time": "2025-02-27T15:41:53.035897Z",
     "start_time": "2025-02-27T15:41:53.033174Z"
    }
   },
   "cell_type": "code",
   "source": "",
   "id": "3af3c189d0b76814",
   "outputs": [],
   "execution_count": null
  }
 ],
 "metadata": {
  "kernelspec": {
   "display_name": "Python 3",
   "language": "python",
   "name": "python3"
  },
  "language_info": {
   "codemirror_mode": {
    "name": "ipython",
    "version": 2
   },
   "file_extension": ".py",
   "mimetype": "text/x-python",
   "name": "python",
   "nbconvert_exporter": "python",
   "pygments_lexer": "ipython2",
   "version": "2.7.6"
  }
 },
 "nbformat": 4,
 "nbformat_minor": 5
}
