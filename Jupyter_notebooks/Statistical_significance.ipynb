{
 "cells": [
  {
   "metadata": {},
   "cell_type": "markdown",
   "source": [
    "Statistical significance\n",
    "* Whether an experiment yields a result more extreme than what chance might produce, thus is beyond the chance variation, and said to be statistically significant."
   ],
   "id": "aac032413af89520"
  },
  {
   "metadata": {},
   "cell_type": "markdown",
   "source": [
    "P-value\n",
    "* The probability of obtaining results as unusual or extreme as the observed results. The probability that, given a chance model, results as extreme as the observed results would occur."
   ],
   "id": "9c8fcaf2f8fe1405"
  },
  {
   "metadata": {},
   "cell_type": "markdown",
   "source": [
    "Alpha\n",
    "* the probability that chance results must surpass for actual outcomes to be deemed statistically significant. Typical alpha levels are 0.05 or 0.01. Any chosen level is arbitrary."
   ],
   "id": "98f1d662b794cd2c"
  },
  {
   "metadata": {},
   "cell_type": "markdown",
   "source": [
    "Type 1 error\n",
    "* Concluding an effect is present when it is not"
   ],
   "id": "68a78a5302338bf3"
  },
  {
   "metadata": {},
   "cell_type": "markdown",
   "source": [
    "Type 2 error\n",
    "* Concluding an effect is not present when it is"
   ],
   "id": "de5732346dc02668"
  },
  {
   "metadata": {
    "ExecuteTime": {
     "end_time": "2025-02-28T14:19:09.015071Z",
     "start_time": "2025-02-28T14:19:08.692265Z"
    }
   },
   "cell_type": "code",
   "source": [
    "import pandas as pd\n",
    "import numpy as np\n",
    "import random\n",
    "import matplotlib.pyplot as plt\n",
    "from scipy.stats import chi2\n",
    "from scipy.stats import chi2_contingency\n",
    "from scipy.stats import fisher_exact\n",
    "import statsmodels.api as sm"
   ],
   "id": "7421485a7b34e725",
   "outputs": [],
   "execution_count": 15
  },
  {
   "cell_type": "code",
   "id": "initial_id",
   "metadata": {
    "collapsed": true,
    "ExecuteTime": {
     "end_time": "2025-02-28T12:54:43.925371Z",
     "start_time": "2025-02-28T12:54:43.905074Z"
    }
   },
   "source": [
    "df_seed = pd.read_csv('/home/satire/PycharmProjects/Statistics/csv/click_rates.csv')\n",
    "df = df_seed.pivot(index='Headline', columns='Click', values='Rate')\n",
    "df"
   ],
   "outputs": [
    {
     "data": {
      "text/plain": [
       "Click       Click  No-click\n",
       "Headline                   \n",
       "Headline A     14       986\n",
       "Headline B      8       992\n",
       "Headline C     12       988"
      ],
      "text/html": [
       "<div>\n",
       "<style scoped>\n",
       "    .dataframe tbody tr th:only-of-type {\n",
       "        vertical-align: middle;\n",
       "    }\n",
       "\n",
       "    .dataframe tbody tr th {\n",
       "        vertical-align: top;\n",
       "    }\n",
       "\n",
       "    .dataframe thead th {\n",
       "        text-align: right;\n",
       "    }\n",
       "</style>\n",
       "<table border=\"1\" class=\"dataframe\">\n",
       "  <thead>\n",
       "    <tr style=\"text-align: right;\">\n",
       "      <th>Click</th>\n",
       "      <th>Click</th>\n",
       "      <th>No-click</th>\n",
       "    </tr>\n",
       "    <tr>\n",
       "      <th>Headline</th>\n",
       "      <th></th>\n",
       "      <th></th>\n",
       "    </tr>\n",
       "  </thead>\n",
       "  <tbody>\n",
       "    <tr>\n",
       "      <th>Headline A</th>\n",
       "      <td>14</td>\n",
       "      <td>986</td>\n",
       "    </tr>\n",
       "    <tr>\n",
       "      <th>Headline B</th>\n",
       "      <td>8</td>\n",
       "      <td>992</td>\n",
       "    </tr>\n",
       "    <tr>\n",
       "      <th>Headline C</th>\n",
       "      <td>12</td>\n",
       "      <td>988</td>\n",
       "    </tr>\n",
       "  </tbody>\n",
       "</table>\n",
       "</div>"
      ]
     },
     "execution_count": 2,
     "metadata": {},
     "output_type": "execute_result"
    }
   ],
   "execution_count": 2
  },
  {
   "metadata": {
    "ExecuteTime": {
     "end_time": "2025-02-28T12:54:44.042706Z",
     "start_time": "2025-02-28T12:54:44.040410Z"
    }
   },
   "cell_type": "code",
   "source": [
    "def perm_fun(x, n_control, n_variant):\n",
    "    n = n_control + n_variant\n",
    "    idx_variant = list(random.sample(range(n), n_variant))\n",
    "    idx_control = list(set(range(n)) - set(idx_variant))\n",
    "    return x.loc[idx_control].mean() - x.loc[idx_variant].mean()"
   ],
   "id": "29564b6e57abf440",
   "outputs": [],
   "execution_count": 3
  },
  {
   "metadata": {
    "ExecuteTime": {
     "end_time": "2025-02-28T12:54:44.081176Z",
     "start_time": "2025-02-28T12:54:44.076214Z"
    }
   },
   "cell_type": "code",
   "source": [
    "obs_pct_diff = 100 * (14 / 986 - 8 / 992)\n",
    "print(f'Observed difference: {obs_pct_diff:.4f}%')"
   ],
   "id": "b017e037e7291a42",
   "outputs": [
    {
     "name": "stdout",
     "output_type": "stream",
     "text": [
      "Observed difference: 0.6134%\n"
     ]
    }
   ],
   "execution_count": 4
  },
  {
   "metadata": {},
   "cell_type": "markdown",
   "source": "The number of zeros match the overall sample size minus the total number of successes, which is 1978 items in total (986 + 992) with 22 ones and 1956 zeros.",
   "id": "92015850fce03f75"
  },
  {
   "metadata": {
    "ExecuteTime": {
     "end_time": "2025-02-28T12:54:44.987210Z",
     "start_time": "2025-02-28T12:54:44.239064Z"
    }
   },
   "cell_type": "code",
   "source": [
    "conversion = [1] * 22 + [0] * (1978 - 22)\n",
    "conversion = pd.Series(conversion)\n",
    "perm_diffs = [100 * perm_fun(conversion, 986, 992) for _ in range(1000)]"
   ],
   "id": "6ba4e13e99a068d",
   "outputs": [],
   "execution_count": 5
  },
  {
   "metadata": {
    "ExecuteTime": {
     "end_time": "2025-02-28T12:54:45.099280Z",
     "start_time": "2025-02-28T12:54:44.995040Z"
    }
   },
   "cell_type": "code",
   "source": [
    "fig, ax = plt.subplots(figsize=(5, 5))\n",
    "ax.hist(perm_diffs, bins=11, rwidth=0.9)\n",
    "ax.axvline(x=obs_pct_diff, color='black', lw=2)\n",
    "ax.text(0.06, 200, 'Observed\\ndifference', bbox={'facecolor': 'white'})\n",
    "ax.set_xlabel('Conversion rate (percentage points)')\n",
    "ax.set_ylabel('Frequency')"
   ],
   "id": "57631cdea34df5be",
   "outputs": [
    {
     "data": {
      "text/plain": [
       "Text(0, 0.5, 'Frequency')"
      ]
     },
     "execution_count": 6,
     "metadata": {},
     "output_type": "execute_result"
    },
    {
     "data": {
      "text/plain": [
       "<Figure size 500x500 with 1 Axes>"
      ],
      "image/png": "[encoded data removed]"
     },
     "metadata": {},
     "output_type": "display_data"
    }
   ],
   "execution_count": 6
  },
  {
   "metadata": {
    "ExecuteTime": {
     "end_time": "2025-02-28T12:54:45.115127Z",
     "start_time": "2025-02-28T12:54:45.111802Z"
    }
   },
   "cell_type": "code",
   "source": [
    "p_value = np.mean([diff > obs_pct_diff for diff in perm_diffs])\n",
    "print(f'P-value: {p_value:.4f}')"
   ],
   "id": "2de2db2f537a59d5",
   "outputs": [
    {
     "name": "stdout",
     "output_type": "stream",
     "text": [
      "P-value: 0.0610\n"
     ]
    }
   ],
   "execution_count": 7
  },
  {
   "metadata": {},
   "cell_type": "markdown",
   "source": "* Estimating the p-value from the permutation test by taking the proportion of times that the permutation test produces a difference equal to or greater than the observed difference.",
   "id": "9e6ca22e59c1d3a2"
  },
  {
   "metadata": {},
   "cell_type": "markdown",
   "source": "* Since we have a binomial distribution, we can aproximate the p-value using the chi-squared test",
   "id": "91eb7d3739d67a5f"
  },
  {
   "metadata": {
    "ExecuteTime": {
     "end_time": "2025-02-28T12:54:45.182521Z",
     "start_time": "2025-02-28T12:54:45.177964Z"
    }
   },
   "cell_type": "code",
   "source": [
    "conversions = np.array([[8, 986 - 8], [14, 992 - 14]])\n",
    "chi2, p_value, df, _ = chi2_contingency(conversions)\n",
    "print(f'p-value for a single sided test: {p_value / 2:.4f}')"
   ],
   "id": "6f6aacd465425dc8",
   "outputs": [
    {
     "name": "stdout",
     "output_type": "stream",
     "text": [
      "p-value for a single sided test: 0.1451\n"
     ]
    }
   ],
   "execution_count": 8
  },
  {
   "metadata": {},
   "cell_type": "markdown",
   "source": "* Hypothesis tests are a way to protect against being fooled by randomness.",
   "id": "41c903e44f61ef74"
  },
  {
   "metadata": {},
   "cell_type": "markdown",
   "source": [
    "Relevance\n",
    "* Chi-square test, Fisher's exact test is used when you want to know whether an effect is for real or might be the product of chance.\n",
    "* Chi-square test role is to establish statistical significance\n",
    "* Determine appropriate sample sizes.\n",
    "* Due to experiments sometimes having low rates, being too small to yield definitive conclusions in a experiment.\n",
    "* For example(propensity to buy a particular item is independent of gender)\n",
    "* Chi-square distribution is a reference distribution(Embodies the assumption of independence) to which observed calculated chi-squared statistic must be compared.\n"
   ],
   "id": "fc2b6609f117ae67"
  },
  {
   "metadata": {},
   "cell_type": "markdown",
   "source": [
    "Chi_Square Test\n",
    "* Test used with count data to test how well it fits some expected distribution, The most common use is with 2 x 3 contingency tables, to assess whether the null hypothesis of independence among variables is reasonable.\n",
    "* A measure of extent to which some observed data departs form expectation\n",
    "* How well we would expect the data to turn out under some assumption(null hypothesis)"
   ],
   "id": "d9d0b7e5092abd05"
  },
  {
   "metadata": {},
   "cell_type": "markdown",
   "source": [
    "The Pearson Residual is defined as:\n",
    "$$\n",
    "r_i = \\frac{y_i - \\hat{\\mu}_i}{\\sqrt{\\text{Var}(y_i)}}\n",
    "$$"
   ],
   "id": "bb31b7744a999f79"
  },
  {
   "metadata": {},
   "cell_type": "markdown",
   "source": "* Measuring the extent to which the actual counts differ from these expected counts in which ${y_i}$ represents the expected values and ${\\hat{\\mu}_i}$ represents the observed values",
   "id": "8d49c4fa4f605a0f"
  },
  {
   "metadata": {},
   "cell_type": "markdown",
   "source": [
    "The chi-square statistic is defined as the sum of the squared Pearson residuals:\n",
    "$$\n",
    "\\chi^2 = \\sum_{i} \\frac{(O_i - E_i)^2}{E_i}\n",
    "$$"
   ],
   "id": "117f75e9b6fd817a"
  },
  {
   "metadata": {},
   "cell_type": "markdown",
   "source": [
    "* Where $_i$ represents the number os rows and columns, respectively\n",
    "* $X_2$ measures the extent to which the actual counts differ from these expected counts"
   ],
   "id": "13c4e3cfbf65288f"
  },
  {
   "metadata": {},
   "cell_type": "markdown",
   "source": [
    "Resampling algorithm\n",
    "* Constitute a box with the number of ones (yes) and the number of zeros (no)\n",
    "* Shuffle, take three separate samples of the total number of samples and count the values in each.\n",
    "* Find the squared differences between the shuffled counts and the expected counts and sum them\n",
    "* Repeat steps 2 and 3, 1000 times.\n",
    "* The amount exceed from the resampled sum of squared deviations is the p-value."
   ],
   "id": "cb1e47df14de6736"
  },
  {
   "metadata": {
    "ExecuteTime": {
     "end_time": "2025-02-28T12:54:45.248046Z",
     "start_time": "2025-02-28T12:54:45.232057Z"
    }
   },
   "cell_type": "code",
   "source": [
    "table = df_seed.pivot_table(index='Click', columns='Headline', values='Rate')\n",
    "table"
   ],
   "id": "5392c6acc1068f66",
   "outputs": [
    {
     "data": {
      "text/plain": [
       "Headline  Headline A  Headline B  Headline C\n",
       "Click                                       \n",
       "Click           14.0         8.0        12.0\n",
       "No-click       986.0       992.0       988.0"
      ],
      "text/html": [
       "<div>\n",
       "<style scoped>\n",
       "    .dataframe tbody tr th:only-of-type {\n",
       "        vertical-align: middle;\n",
       "    }\n",
       "\n",
       "    .dataframe tbody tr th {\n",
       "        vertical-align: top;\n",
       "    }\n",
       "\n",
       "    .dataframe thead th {\n",
       "        text-align: right;\n",
       "    }\n",
       "</style>\n",
       "<table border=\"1\" class=\"dataframe\">\n",
       "  <thead>\n",
       "    <tr style=\"text-align: right;\">\n",
       "      <th>Headline</th>\n",
       "      <th>Headline A</th>\n",
       "      <th>Headline B</th>\n",
       "      <th>Headline C</th>\n",
       "    </tr>\n",
       "    <tr>\n",
       "      <th>Click</th>\n",
       "      <th></th>\n",
       "      <th></th>\n",
       "      <th></th>\n",
       "    </tr>\n",
       "  </thead>\n",
       "  <tbody>\n",
       "    <tr>\n",
       "      <th>Click</th>\n",
       "      <td>14.0</td>\n",
       "      <td>8.0</td>\n",
       "      <td>12.0</td>\n",
       "    </tr>\n",
       "    <tr>\n",
       "      <th>No-click</th>\n",
       "      <td>986.0</td>\n",
       "      <td>992.0</td>\n",
       "      <td>988.0</td>\n",
       "    </tr>\n",
       "  </tbody>\n",
       "</table>\n",
       "</div>"
      ]
     },
     "execution_count": 9,
     "metadata": {},
     "output_type": "execute_result"
    }
   ],
   "execution_count": 9
  },
  {
   "metadata": {
    "ExecuteTime": {
     "end_time": "2025-02-28T12:54:45.393280Z",
     "start_time": "2025-02-28T12:54:45.386865Z"
    }
   },
   "cell_type": "code",
   "source": [
    "box = [1] * 34 # A box with number ones (yes)\n",
    "box.extend([0] * 2966) # A box with number of zeros (no)\n",
    "random.shuffle(box) # Shuffle the box\n",
    "\n",
    "def chi2(observed, expected): # The observed and expected values\n",
    "    pearson_residuals = [] # The extent to which the actual counts differ from the expected counts\n",
    "    for row, expect in zip(observed, expected):\n",
    "        pearson_residuals.append([(observe - expect) ** 2 / expect\n",
    "                                  for observe in row]) # Find the squared differences between the shuffled counts and the expected counts\n",
    "        return np.sum(pearson_residuals) # and sum them\n",
    "\n",
    "expected_clicks = 34 / 3 # take three separate samples of 1000 (total number of each sample)\n",
    "expected_noclicks = 1000 - expected_clicks\n",
    "expected = [34 / 3, 1000 - 34 / 3]\n",
    "chi2observed = chi2(table.values, expected) # Count the values in each"
   ],
   "id": "9c9286b45afabff6",
   "outputs": [],
   "execution_count": 10
  },
  {
   "metadata": {
    "ExecuteTime": {
     "end_time": "2025-02-28T12:54:46.658525Z",
     "start_time": "2025-02-28T12:54:45.431055Z"
    }
   },
   "cell_type": "code",
   "source": [
    "def perm_fun(box): # Repeat steps 2 and 3, 1000 times.\n",
    "    sample_clicks = [sum(random.sample(box, 1000)),\n",
    "                     sum(random.sample(box, 1000)),\n",
    "                     sum(random.sample(box, 1000))]\n",
    "    sample_noclicks = [1000 - n for n in sample_clicks]\n",
    "    return chi2([sample_clicks, sample_noclicks], expected)\n",
    "perm_chi2 = [perm_fun(box) for _ in range(2000)]"
   ],
   "id": "da21e6e90934f0b7",
   "outputs": [],
   "execution_count": 11
  },
  {
   "metadata": {
    "ExecuteTime": {
     "end_time": "2025-02-28T12:54:46.687122Z",
     "start_time": "2025-02-28T12:54:46.683258Z"
    }
   },
   "cell_type": "code",
   "source": [
    "# The amount exceed from the resampled sum of squared deviations is the p-value\n",
    "resampled_p_value = sum(perm_chi2 > chi2observed) / len(perm_chi2)\n",
    "print(f'Observed chi2: {chi2observed:.4f}')\n",
    "print(f'Resampled p-value: {resampled_p_value:.4f}')"
   ],
   "id": "36896e52013af3e3",
   "outputs": [
    {
     "name": "stdout",
     "output_type": "stream",
     "text": [
      "Observed chi2: 1.6471\n",
      "Resampled p-value: 0.4800\n"
     ]
    }
   ],
   "execution_count": 12
  },
  {
   "metadata": {},
   "cell_type": "markdown",
   "source": [
    "Chi-Square test:\n",
    "* Statistical Theory shows that the distribution of the chi-square statistic can be approximated by a chi-square distribution\n",
    "* The appropriate standard chi-square distribution is determined by the degrees of freedom\n",
    "* A contingency table, the degrees of freedom are related to the number of rows and columns as follows:\n",
    "$$\\text{degrees of freedom} = (r - 1) \\times (c - 1)$$"
   ],
   "id": "75e3bc84e62584ef"
  },
  {
   "metadata": {},
   "cell_type": "markdown",
   "source": [
    "* Typically skewed, with a long tail to the right\n",
    "* For a Distribution with 1,2,5 and 20 degrees of freedom, the further out on the chi-square distribution the observed statistic is, the lower the p-value."
   ],
   "id": "711838f2723abe0b"
  },
  {
   "metadata": {
    "ExecuteTime": {
     "end_time": "2025-02-28T12:54:46.790397Z",
     "start_time": "2025-02-28T12:54:46.786110Z"
    }
   },
   "cell_type": "code",
   "source": [
    "chisq, pvalue, df, expected = chi2_contingency(table)\n",
    "print(f'Observed chi2: {chi2observed:.4f}')\n",
    "print(f'p-value: {pvalue:.4f}')"
   ],
   "id": "3f5d4f940030c000",
   "outputs": [
    {
     "name": "stdout",
     "output_type": "stream",
     "text": [
      "Observed chi2: 1.6471\n",
      "p-value: 0.4348\n"
     ]
    }
   ],
   "execution_count": 13
  },
  {
   "metadata": {},
   "cell_type": "markdown",
   "source": "* The p-value is a little less than the resampling p-value, because the chi-square distribution is only an approximation of the actual distribution of the statistic.",
   "id": "8b89101ca30fbd60"
  },
  {
   "metadata": {},
   "cell_type": "markdown",
   "source": [
    "Fisher's Exact test\n",
    "* When counts are extremely low(single digits, especially five or fewer).\n",
    "* Procedure to enumerate all the possible rearrangements(permutations) that can occur, tabulate their frequencies and determine exactly how extreme the observe result is"
   ],
   "id": "ebf409ebc03187b4"
  },
  {
   "metadata": {
    "ExecuteTime": {
     "end_time": "2025-02-28T12:54:46.885796Z",
     "start_time": "2025-02-28T12:54:46.872862Z"
    }
   },
   "cell_type": "code",
   "source": [
    "res = fisher_exact(table)\n",
    "res.pvalue"
   ],
   "id": "dfa64f5760be12d3",
   "outputs": [
    {
     "data": {
      "text/plain": [
       "np.float64(0.4623)"
      ]
     },
     "execution_count": 14,
     "metadata": {},
     "output_type": "execute_result"
    }
   ],
   "execution_count": 14
  },
  {
   "metadata": {},
   "cell_type": "markdown",
   "source": [
    "Multi-Arm bandit Algorithm\n",
    "* Offer an approach to testing that allows explicit optimization and more rapid decision making than traditional statistical approach\n",
    "* Multiple arms for a customer to choose form, each with different payoffs, multitreatment experiment."
   ],
   "id": "8e3e0dc6ba111ec0"
  },
  {
   "metadata": {},
   "cell_type": "markdown",
   "source": [
    "Arm\n",
    "* A treatment in an experiment(A feature)"
   ],
   "id": "4ba3c04008820f11"
  },
  {
   "metadata": {},
   "cell_type": "markdown",
   "source": [
    "Win\n",
    "* The experimental analog of a win at a slot machine"
   ],
   "id": "9216ff1d40c53898"
  },
  {
   "metadata": {},
   "cell_type": "markdown",
   "source": [
    "Example results of an experiment\n",
    "* Arm A: 10 wins out of 50\n",
    "* Arm B: 2 win out of 50\n",
    "* Arm C: 4 wins out of 50"
   ],
   "id": "c13a8304918c7379"
  },
  {
   "metadata": {},
   "cell_type": "markdown",
   "source": [
    "Epsilon-greedy algorithm for A/B Test\n",
    "* Generate a uniformly distributed random number between 0 and 1\n",
    "* If te number lies between 0 and epsilon(Number between 0 and 1), flip a fair coin(50/50 probability)\n",
    "* If the coin is heads, show offer A\n",
    "* If the coin is tails, show offer B\n",
    "* If the number is > epsilon, show whichever offer has had the highest response rate to date\n",
    "* Epsilon is a single parameter: If is 1, we end up with a standard simple A/B test\n",
    "* If epsilon is 0, we end up with a purely greedy algorithm - chooses the best available immediate option, seeking no further experiment other than the best performing treatment"
   ],
   "id": "db2168f1ba33bef8"
  },
  {
   "metadata": {},
   "cell_type": "markdown",
   "source": [
    "Thompson's sampling\n",
    "* Samples a bandit arm at each stage to maximize the probability of choosing the best arm\n",
    "* With each successive draw, you gain more information\n",
    "* Bayesian approach: prior distribution of rewards is assumed initially, using a beta distribution\n",
    "* As information accumulates from each draw, the information is updated, thus choosing the best right arm\n",
    "* Handles 3+ treatments and move toward optimal selection of the best\n",
    "* The advantage for multiple treatments is much greater"
   ],
   "id": "d6b55ae60c8fa320"
  },
  {
   "metadata": {},
   "cell_type": "markdown",
   "source": [
    "Power and Sample size\n",
    "* How long a test should run(how many impressions per treatment are needed)\n",
    "* It depends on the frequency with which the desired goal is attained"
   ],
   "id": "b41e962fb9938f8a"
  },
  {
   "metadata": {},
   "cell_type": "markdown",
   "source": [
    "Effect size\n",
    "* The minimum size of the effect that you hope to be able to detect in a statistical test, such as \"20 % of improvement\""
   ],
   "id": "cea4b5fc69676bb0"
  },
  {
   "metadata": {},
   "cell_type": "markdown",
   "source": [
    "Power\n",
    "* The probability of detecting a given effect size with a given sample size and variability\n",
    "* Example: Hypothetically the probability of distinguishing between .330 and .200 in 25 attempts is 0.75\n",
    "* The effect size is a difference of .130\n",
    "* Hypothesis test will reject the null hypothesis of \"no difference and conclude there is a real effect\n",
    "* Conclusion: 25 attempts for two treatments, with an effect size of 0.130, has hypothetical power of 0.75(75 %)"
   ],
   "id": "918746d942edbefa"
  },
  {
   "metadata": {},
   "cell_type": "markdown",
   "source": [
    "Significance level\n",
    "* The statistical significance level at which the test will be conducted"
   ],
   "id": "11115d51f07aa7e2"
  },
  {
   "metadata": {},
   "cell_type": "markdown",
   "source": [
    "* Always ask \"Will a hypothesis test actually reveal a difference between treatments A and B?\n",
    "* The outcome os a hypothesis is the p-value, also depending on the luck of the draw, the bigger the actual difference between them, the greater the probability that our experiment will reveal it, the smaller the difference, the more data will be needed to detect it\n",
    "* Example: .350 - 200 (not many data are needed)\n",
    "* Example: .300 and .280, a good many more will be needed"
   ],
   "id": "23f9a19f1af00a91"
  },
  {
   "metadata": {},
   "cell_type": "markdown",
   "source": [
    "Intuitive approach to collect data at a fairly cost\n",
    "* Start with some hypothetical data that represents your best guess about the data that will result -for example a box with 20 ones and 80 zeros to represent .200 match, or a box with some observations\n",
    "* Create a second sample simply adding the desired effect size to the first sample - 33 ones and 67 zeros\n",
    "* Draw a bootstrap sample size $_n$ from each box\n",
    "* Conduct a permutation hypothesis test on the two bootstrap samples and record whether the difference between them is statistically significant\n",
    "* Repeat the preceding two steps many times and determine how often the difference was significant - estimated power"
   ],
   "id": "2597da05fdecc2c7"
  },
  {
   "metadata": {},
   "cell_type": "markdown",
   "source": [
    "Sample size\n",
    "* Estimate how big a sample will be needed\n",
    "* Big difference - minor sample will be needed (50% difference)\n",
    "* Minor difference - big sample will be needed\n",
    "* Establish a policy that a new treatment must be superior than an existing one by some percentage(at least 10%), otherwise the existing one will remain in place(the effect size that drives the sample size)"
   ],
   "id": "2021dc45da87b2b1"
  },
  {
   "metadata": {},
   "cell_type": "markdown",
   "source": [
    "Example\n",
    "* Your rate is about 1.1% and you are seeking 10% boost to 1.21%\n",
    "* We have two boxes - A with 1.1% ones(110 ones and 9,890 zeros) and a box B with 1.21% ones(121 ones and 9,879 zeros)\n",
    "* Try 300 draws from each box at the start(300 impressions for each treatment)\n",
    "* Results are as follows:\n",
    "* Box A: 3 ones\n",
    "* Box B: 5 ones\n",
    "* Any hypothesis test would reveal this difference to be within the range of chance variation\n",
    "* Combination is too small\n",
    "* $_n = 300$ in each group and effect size (10% difference) for any hypothesis test to show a difference"
   ],
   "id": "a06b8709b4737ed7"
  },
  {
   "metadata": {},
   "cell_type": "markdown",
   "source": [
    "Calculating power\n",
    "* Sample size\n",
    "* Effect size you want to detect\n",
    "* Significance level (alpha) at which the test will be conducted\n",
    "* Power\n",
    "* After calculating, specify the alternative hypothesis as greater or larger to get one a one-sided test"
   ],
   "id": "497c21acd43c8caa"
  },
  {
   "metadata": {
    "ExecuteTime": {
     "end_time": "2025-02-28T14:21:48.661910Z",
     "start_time": "2025-02-28T14:21:48.653703Z"
    }
   },
   "cell_type": "code",
   "source": [
    "effect_size = sm.stats.proportion_effectsize(0.0121, 0.011)\n",
    "analysis = sm.stats.TTestIndPower()\n",
    "result = analysis.solve_power(effect_size=effect_size,\n",
    "                              alpha=0.05, power=0.8, alternative='larger')\n",
    "print('Sample Size: %.3f' % result)"
   ],
   "id": "3af3c189d0b76814",
   "outputs": [
    {
     "name": "stdout",
     "output_type": "stream",
     "text": [
      "Sample Size: 116602.391\n"
     ]
    }
   ],
   "execution_count": 16
  },
  {
   "metadata": {},
   "cell_type": "code",
   "outputs": [],
   "execution_count": null,
   "source": "",
   "id": "24cc0aa3f7a17ee1"
  }
 ],
 "metadata": {
  "kernelspec": {
   "display_name": "Python 3",
   "language": "python",
   "name": "python3"
  },
  "language_info": {
   "codemirror_mode": {
    "name": "ipython",
    "version": 2
   },
   "file_extension": ".py",
   "mimetype": "text/x-python",
   "name": "python",
   "nbconvert_exporter": "python",
   "pygments_lexer": "ipython2",
   "version": "2.7.6"
  }
 },
 "nbformat": 4,
 "nbformat_minor": 5
}
