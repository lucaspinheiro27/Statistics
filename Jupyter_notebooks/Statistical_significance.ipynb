{
 "cells": [
  {
   "metadata": {},
   "cell_type": "markdown",
   "source": [
    "Statistical significance\n",
    "* Whether an experiment yields a result more extreme than what chance might produce, thus is beyond the chance variation, and said to be statistically significant."
   ],
   "id": "aac032413af89520"
  },
  {
   "metadata": {},
   "cell_type": "markdown",
   "source": [
    "P-value\n",
    "* The probability of obtaining results as unusual or extreme as the observed results"
   ],
   "id": "9c8fcaf2f8fe1405"
  },
  {
   "metadata": {},
   "cell_type": "markdown",
   "source": [
    "Alpha\n",
    "* the probability that chance results must surpass for actual outcomes to be deemed statistically significant"
   ],
   "id": "98f1d662b794cd2c"
  },
  {
   "metadata": {},
   "cell_type": "markdown",
   "source": [
    "Type 1 error\n",
    "* Concluding an effect is present when it is not"
   ],
   "id": "68a78a5302338bf3"
  },
  {
   "metadata": {},
   "cell_type": "markdown",
   "source": [
    "Type 2 error\n",
    "* Concluding an effect is not present when it is"
   ],
   "id": "de5732346dc02668"
  },
  {
   "metadata": {
    "ExecuteTime": {
     "end_time": "2025-02-19T17:41:29.734905Z",
     "start_time": "2025-02-19T17:41:29.731620Z"
    }
   },
   "cell_type": "code",
   "source": [
    "import pandas as pd\n",
    "import numpy as np"
   ],
   "id": "7421485a7b34e725",
   "outputs": [],
   "execution_count": 25
  },
  {
   "cell_type": "code",
   "id": "initial_id",
   "metadata": {
    "collapsed": true,
    "ExecuteTime": {
     "end_time": "2025-02-19T17:41:29.766986Z",
     "start_time": "2025-02-19T17:41:29.759899Z"
    }
   },
   "source": [
    "data = pd.read_csv(\"/home/satire/PycharmProjects/Statistics/csv/social_ads.csv\")\n",
    "data"
   ],
   "outputs": [
    {
     "data": {
      "text/plain": [
       "     Age  EstimatedSalary  Purchased\n",
       "0     19            19000          0\n",
       "1     35            20000          0\n",
       "2     26            43000          0\n",
       "3     27            57000          0\n",
       "4     19            76000          0\n",
       "..   ...              ...        ...\n",
       "395   46            41000          1\n",
       "396   51            23000          1\n",
       "397   50            20000          1\n",
       "398   36            33000          0\n",
       "399   49            36000          1\n",
       "\n",
       "[400 rows x 3 columns]"
      ],
      "text/html": [
       "<div>\n",
       "<style scoped>\n",
       "    .dataframe tbody tr th:only-of-type {\n",
       "        vertical-align: middle;\n",
       "    }\n",
       "\n",
       "    .dataframe tbody tr th {\n",
       "        vertical-align: top;\n",
       "    }\n",
       "\n",
       "    .dataframe thead th {\n",
       "        text-align: right;\n",
       "    }\n",
       "</style>\n",
       "<table border=\"1\" class=\"dataframe\">\n",
       "  <thead>\n",
       "    <tr style=\"text-align: right;\">\n",
       "      <th></th>\n",
       "      <th>Age</th>\n",
       "      <th>EstimatedSalary</th>\n",
       "      <th>Purchased</th>\n",
       "    </tr>\n",
       "  </thead>\n",
       "  <tbody>\n",
       "    <tr>\n",
       "      <th>0</th>\n",
       "      <td>19</td>\n",
       "      <td>19000</td>\n",
       "      <td>0</td>\n",
       "    </tr>\n",
       "    <tr>\n",
       "      <th>1</th>\n",
       "      <td>35</td>\n",
       "      <td>20000</td>\n",
       "      <td>0</td>\n",
       "    </tr>\n",
       "    <tr>\n",
       "      <th>2</th>\n",
       "      <td>26</td>\n",
       "      <td>43000</td>\n",
       "      <td>0</td>\n",
       "    </tr>\n",
       "    <tr>\n",
       "      <th>3</th>\n",
       "      <td>27</td>\n",
       "      <td>57000</td>\n",
       "      <td>0</td>\n",
       "    </tr>\n",
       "    <tr>\n",
       "      <th>4</th>\n",
       "      <td>19</td>\n",
       "      <td>76000</td>\n",
       "      <td>0</td>\n",
       "    </tr>\n",
       "    <tr>\n",
       "      <th>...</th>\n",
       "      <td>...</td>\n",
       "      <td>...</td>\n",
       "      <td>...</td>\n",
       "    </tr>\n",
       "    <tr>\n",
       "      <th>395</th>\n",
       "      <td>46</td>\n",
       "      <td>41000</td>\n",
       "      <td>1</td>\n",
       "    </tr>\n",
       "    <tr>\n",
       "      <th>396</th>\n",
       "      <td>51</td>\n",
       "      <td>23000</td>\n",
       "      <td>1</td>\n",
       "    </tr>\n",
       "    <tr>\n",
       "      <th>397</th>\n",
       "      <td>50</td>\n",
       "      <td>20000</td>\n",
       "      <td>1</td>\n",
       "    </tr>\n",
       "    <tr>\n",
       "      <th>398</th>\n",
       "      <td>36</td>\n",
       "      <td>33000</td>\n",
       "      <td>0</td>\n",
       "    </tr>\n",
       "    <tr>\n",
       "      <th>399</th>\n",
       "      <td>49</td>\n",
       "      <td>36000</td>\n",
       "      <td>1</td>\n",
       "    </tr>\n",
       "  </tbody>\n",
       "</table>\n",
       "<p>400 rows × 3 columns</p>\n",
       "</div>"
      ]
     },
     "execution_count": 26,
     "metadata": {},
     "output_type": "execute_result"
    }
   ],
   "execution_count": 26
  },
  {
   "metadata": {
    "ExecuteTime": {
     "end_time": "2025-02-19T17:41:29.834178Z",
     "start_time": "2025-02-19T17:41:29.829599Z"
    }
   },
   "cell_type": "code",
   "source": "data.isna().sum()",
   "id": "81ef213282a213f",
   "outputs": [
    {
     "data": {
      "text/plain": [
       "Age                0\n",
       "EstimatedSalary    0\n",
       "Purchased          0\n",
       "dtype: int64"
      ]
     },
     "execution_count": 27,
     "metadata": {},
     "output_type": "execute_result"
    }
   ],
   "execution_count": 27
  },
  {
   "metadata": {
    "ExecuteTime": {
     "end_time": "2025-02-19T17:41:29.903632Z",
     "start_time": "2025-02-19T17:41:29.898797Z"
    }
   },
   "cell_type": "code",
   "source": [
    "labels = ['11-20', '21-30', '31-40', '41-50', '51-60', '+61']\n",
    "bins = [10, 20, 30, 40, 50, 60, float('inf')]\n",
    "data['Age_Group'] = pd.cut(data['Age'], bins=bins, labels=labels, right=False)\n",
    "each = data['Age_Group'].value_counts().reindex(labels)"
   ],
   "id": "e1b9e9c0434052e1",
   "outputs": [],
   "execution_count": 28
  },
  {
   "metadata": {
    "ExecuteTime": {
     "end_time": "2025-02-19T17:41:29.963338Z",
     "start_time": "2025-02-19T17:41:29.947778Z"
    }
   },
   "cell_type": "code",
   "source": [
    "tab = pd.crosstab(data['Age_Group'], data['Purchased'])\n",
    "tab"
   ],
   "id": "2f4de5b5ee61fc02",
   "outputs": [
    {
     "data": {
      "text/plain": [
       "Purchased    0   1\n",
       "Age_Group         \n",
       "11-20       12   0\n",
       "21-30       84   4\n",
       "31-40      106  32\n",
       "41-50       50  59\n",
       "51-60        5  41\n",
       "+61          0   7"
      ],
      "text/html": [
       "<div>\n",
       "<style scoped>\n",
       "    .dataframe tbody tr th:only-of-type {\n",
       "        vertical-align: middle;\n",
       "    }\n",
       "\n",
       "    .dataframe tbody tr th {\n",
       "        vertical-align: top;\n",
       "    }\n",
       "\n",
       "    .dataframe thead th {\n",
       "        text-align: right;\n",
       "    }\n",
       "</style>\n",
       "<table border=\"1\" class=\"dataframe\">\n",
       "  <thead>\n",
       "    <tr style=\"text-align: right;\">\n",
       "      <th>Purchased</th>\n",
       "      <th>0</th>\n",
       "      <th>1</th>\n",
       "    </tr>\n",
       "    <tr>\n",
       "      <th>Age_Group</th>\n",
       "      <th></th>\n",
       "      <th></th>\n",
       "    </tr>\n",
       "  </thead>\n",
       "  <tbody>\n",
       "    <tr>\n",
       "      <th>11-20</th>\n",
       "      <td>12</td>\n",
       "      <td>0</td>\n",
       "    </tr>\n",
       "    <tr>\n",
       "      <th>21-30</th>\n",
       "      <td>84</td>\n",
       "      <td>4</td>\n",
       "    </tr>\n",
       "    <tr>\n",
       "      <th>31-40</th>\n",
       "      <td>106</td>\n",
       "      <td>32</td>\n",
       "    </tr>\n",
       "    <tr>\n",
       "      <th>41-50</th>\n",
       "      <td>50</td>\n",
       "      <td>59</td>\n",
       "    </tr>\n",
       "    <tr>\n",
       "      <th>51-60</th>\n",
       "      <td>5</td>\n",
       "      <td>41</td>\n",
       "    </tr>\n",
       "    <tr>\n",
       "      <th>+61</th>\n",
       "      <td>0</td>\n",
       "      <td>7</td>\n",
       "    </tr>\n",
       "  </tbody>\n",
       "</table>\n",
       "</div>"
      ]
     },
     "execution_count": 29,
     "metadata": {},
     "output_type": "execute_result"
    }
   ],
   "execution_count": 29
  },
  {
   "metadata": {
    "ExecuteTime": {
     "end_time": "2025-02-19T17:41:30.110779Z",
     "start_time": "2025-02-19T17:41:30.100132Z"
    }
   },
   "cell_type": "code",
   "source": [
    "cross_percentage = pd.crosstab(data['Age_Group'], data['Purchased'], normalize='index') * 100\n",
    "cross_percentage"
   ],
   "id": "4853fee25e713b1e",
   "outputs": [
    {
     "data": {
      "text/plain": [
       "Purchased           0           1\n",
       "Age_Group                        \n",
       "11-20      100.000000    0.000000\n",
       "21-30       95.454545    4.545455\n",
       "31-40       76.811594   23.188406\n",
       "41-50       45.871560   54.128440\n",
       "51-60       10.869565   89.130435\n",
       "+61          0.000000  100.000000"
      ],
      "text/html": [
       "<div>\n",
       "<style scoped>\n",
       "    .dataframe tbody tr th:only-of-type {\n",
       "        vertical-align: middle;\n",
       "    }\n",
       "\n",
       "    .dataframe tbody tr th {\n",
       "        vertical-align: top;\n",
       "    }\n",
       "\n",
       "    .dataframe thead th {\n",
       "        text-align: right;\n",
       "    }\n",
       "</style>\n",
       "<table border=\"1\" class=\"dataframe\">\n",
       "  <thead>\n",
       "    <tr style=\"text-align: right;\">\n",
       "      <th>Purchased</th>\n",
       "      <th>0</th>\n",
       "      <th>1</th>\n",
       "    </tr>\n",
       "    <tr>\n",
       "      <th>Age_Group</th>\n",
       "      <th></th>\n",
       "      <th></th>\n",
       "    </tr>\n",
       "  </thead>\n",
       "  <tbody>\n",
       "    <tr>\n",
       "      <th>11-20</th>\n",
       "      <td>100.000000</td>\n",
       "      <td>0.000000</td>\n",
       "    </tr>\n",
       "    <tr>\n",
       "      <th>21-30</th>\n",
       "      <td>95.454545</td>\n",
       "      <td>4.545455</td>\n",
       "    </tr>\n",
       "    <tr>\n",
       "      <th>31-40</th>\n",
       "      <td>76.811594</td>\n",
       "      <td>23.188406</td>\n",
       "    </tr>\n",
       "    <tr>\n",
       "      <th>41-50</th>\n",
       "      <td>45.871560</td>\n",
       "      <td>54.128440</td>\n",
       "    </tr>\n",
       "    <tr>\n",
       "      <th>51-60</th>\n",
       "      <td>10.869565</td>\n",
       "      <td>89.130435</td>\n",
       "    </tr>\n",
       "    <tr>\n",
       "      <th>+61</th>\n",
       "      <td>0.000000</td>\n",
       "      <td>100.000000</td>\n",
       "    </tr>\n",
       "  </tbody>\n",
       "</table>\n",
       "</div>"
      ]
     },
     "execution_count": 30,
     "metadata": {},
     "output_type": "execute_result"
    }
   ],
   "execution_count": 30
  },
  {
   "metadata": {
    "ExecuteTime": {
     "end_time": "2025-02-19T17:41:30.153639Z",
     "start_time": "2025-02-19T17:41:30.149699Z"
    }
   },
   "cell_type": "code",
   "source": [
    "total_conversion = tab[0].sum()\n",
    "total_noconversion = tab[1].sum()\n",
    "print(total_conversion)\n",
    "print(total_noconversion)"
   ],
   "id": "82f018d084637f63",
   "outputs": [
    {
     "name": "stdout",
     "output_type": "stream",
     "text": [
      "257\n",
      "143\n"
     ]
    }
   ],
   "execution_count": 31
  },
  {
   "metadata": {
    "ExecuteTime": {
     "end_time": "2025-02-19T17:41:30.215619Z",
     "start_time": "2025-02-19T17:41:30.211873Z"
    }
   },
   "cell_type": "code",
   "source": [
    "obs_pct_diff = 100 * (84/4 - 12)\n",
    "print(f'Observed difference: {obs_pct_diff:.4f}%')"
   ],
   "id": "ff259738fe4648c0",
   "outputs": [
    {
     "name": "stdout",
     "output_type": "stream",
     "text": [
      "Observed difference: 900.0000%\n"
     ]
    }
   ],
   "execution_count": 32
  },
  {
   "metadata": {
    "ExecuteTime": {
     "end_time": "2025-02-19T17:41:30.307884Z",
     "start_time": "2025-02-19T17:41:30.304463Z"
    }
   },
   "cell_type": "code",
   "source": [
    "conversion = [0] * 257\n",
    "conversion.extend([1] * 143)\n",
    "conversion = pd.Series(conversion)"
   ],
   "id": "3e37246bb71f0a9a",
   "outputs": [],
   "execution_count": 33
  },
  {
   "metadata": {
    "ExecuteTime": {
     "end_time": "2025-02-19T17:41:30.365036Z",
     "start_time": "2025-02-19T17:41:30.362933Z"
    }
   },
   "cell_type": "code",
   "source": [
    "# def perm_fun(x, nA, nB):\n",
    "# n = nA + nB\n",
    "# idx_B = set(random.sample(range(n), nB))\n",
    "# idx_A = set(range(n)) - idx_B\n",
    "# return x.loc[idx_B].mean() - x.loc[idx_A].mean()"
   ],
   "id": "841ce21557f44ffa",
   "outputs": [],
   "execution_count": 34
  },
  {
   "metadata": {
    "ExecuteTime": {
     "end_time": "2025-02-19T17:41:30.413484Z",
     "start_time": "2025-02-19T17:41:30.411770Z"
    }
   },
   "cell_type": "code",
   "source": "",
   "id": "9f98ecd224b5c2d1",
   "outputs": [],
   "execution_count": null
  }
 ],
 "metadata": {
  "kernelspec": {
   "display_name": "Python 3",
   "language": "python",
   "name": "python3"
  },
  "language_info": {
   "codemirror_mode": {
    "name": "ipython",
    "version": 2
   },
   "file_extension": ".py",
   "mimetype": "text/x-python",
   "name": "python",
   "nbconvert_exporter": "python",
   "pygments_lexer": "ipython2",
   "version": "2.7.6"
  }
 },
 "nbformat": 4,
 "nbformat_minor": 5
}
