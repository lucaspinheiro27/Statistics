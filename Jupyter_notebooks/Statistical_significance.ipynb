{
 "cells": [
  {
   "metadata": {},
   "cell_type": "markdown",
   "source": [
    "Statistical significance\n",
    "* Whether an experiment yields a result more extreme than what chance might produce, thus is beyond the chance variation, and said to be statistically significant."
   ],
   "id": "aac032413af89520"
  },
  {
   "metadata": {},
   "cell_type": "markdown",
   "source": [
    "P-value\n",
    "* The probability of obtaining results as unusual or extreme as the observed results"
   ],
   "id": "9c8fcaf2f8fe1405"
  },
  {
   "metadata": {},
   "cell_type": "markdown",
   "source": [
    "Alpha\n",
    "* the probability that chance results must surpass for actual outcomes to be deemed statistically significant"
   ],
   "id": "98f1d662b794cd2c"
  },
  {
   "metadata": {},
   "cell_type": "markdown",
   "source": [
    "Type 1 error\n",
    "* Concluding an effect is present when it is not"
   ],
   "id": "68a78a5302338bf3"
  },
  {
   "metadata": {},
   "cell_type": "markdown",
   "source": [
    "Type 2 error\n",
    "* Concluding an effect is not present when it is"
   ],
   "id": "de5732346dc02668"
  },
  {
   "metadata": {
    "ExecuteTime": {
     "end_time": "2025-02-20T17:44:01.339323Z",
     "start_time": "2025-02-20T17:44:01.336665Z"
    }
   },
   "cell_type": "code",
   "source": [
    "import pandas as pd\n",
    "import numpy as np\n",
    "import random\n",
    "import matplotlib.pyplot as plt\n",
    "from scipy.stats import chi2_contingency"
   ],
   "id": "7421485a7b34e725",
   "outputs": [],
   "execution_count": 54
  },
  {
   "cell_type": "code",
   "id": "initial_id",
   "metadata": {
    "collapsed": true,
    "ExecuteTime": {
     "end_time": "2025-02-20T17:20:25.057541Z",
     "start_time": "2025-02-20T17:20:25.049197Z"
    }
   },
   "source": [
    "df_seed = pd.read_csv('/home/satire/PycharmProjects/Statistics/csv/click_rates.csv')\n",
    "df = df_seed.pivot(index='Headline', columns='Click', values='Rate')\n",
    "df"
   ],
   "outputs": [
    {
     "data": {
      "text/plain": [
       "Click       Click  No-click\n",
       "Headline                   \n",
       "Headline A     14       986\n",
       "Headline B      8       992\n",
       "Headline C     12       988"
      ],
      "text/html": [
       "<div>\n",
       "<style scoped>\n",
       "    .dataframe tbody tr th:only-of-type {\n",
       "        vertical-align: middle;\n",
       "    }\n",
       "\n",
       "    .dataframe tbody tr th {\n",
       "        vertical-align: top;\n",
       "    }\n",
       "\n",
       "    .dataframe thead th {\n",
       "        text-align: right;\n",
       "    }\n",
       "</style>\n",
       "<table border=\"1\" class=\"dataframe\">\n",
       "  <thead>\n",
       "    <tr style=\"text-align: right;\">\n",
       "      <th>Click</th>\n",
       "      <th>Click</th>\n",
       "      <th>No-click</th>\n",
       "    </tr>\n",
       "    <tr>\n",
       "      <th>Headline</th>\n",
       "      <th></th>\n",
       "      <th></th>\n",
       "    </tr>\n",
       "  </thead>\n",
       "  <tbody>\n",
       "    <tr>\n",
       "      <th>Headline A</th>\n",
       "      <td>14</td>\n",
       "      <td>986</td>\n",
       "    </tr>\n",
       "    <tr>\n",
       "      <th>Headline B</th>\n",
       "      <td>8</td>\n",
       "      <td>992</td>\n",
       "    </tr>\n",
       "    <tr>\n",
       "      <th>Headline C</th>\n",
       "      <td>12</td>\n",
       "      <td>988</td>\n",
       "    </tr>\n",
       "  </tbody>\n",
       "</table>\n",
       "</div>"
      ]
     },
     "execution_count": 43,
     "metadata": {},
     "output_type": "execute_result"
    }
   ],
   "execution_count": 43
  },
  {
   "metadata": {
    "ExecuteTime": {
     "end_time": "2025-02-20T17:20:25.134674Z",
     "start_time": "2025-02-20T17:20:25.131974Z"
    }
   },
   "cell_type": "code",
   "source": [
    "def perm_fun(x, n_control, n_variant):\n",
    "    n = n_control + n_variant\n",
    "    idx_variant = list(random.sample(range(n), n_variant))\n",
    "    idx_control = list(set(range(n)) - set(idx_variant))\n",
    "    return x.loc[idx_control].mean() - x.loc[idx_variant].mean()"
   ],
   "id": "29564b6e57abf440",
   "outputs": [],
   "execution_count": 44
  },
  {
   "metadata": {
    "ExecuteTime": {
     "end_time": "2025-02-20T17:20:25.182202Z",
     "start_time": "2025-02-20T17:20:25.178628Z"
    }
   },
   "cell_type": "code",
   "source": [
    "obs_pct_diff = 100 * (14 / 986 - 8 / 992)\n",
    "print(f'Observed difference: {obs_pct_diff:.4f}%')"
   ],
   "id": "b017e037e7291a42",
   "outputs": [
    {
     "name": "stdout",
     "output_type": "stream",
     "text": [
      "Observed difference: 0.6134%\n"
     ]
    }
   ],
   "execution_count": 45
  },
  {
   "metadata": {},
   "cell_type": "markdown",
   "source": "The number of zeros match the overall sample size minus the total number of successes, which is 1978 items in total (986 + 992) with 22 ones and 1956 zeros.",
   "id": "92015850fce03f75"
  },
  {
   "metadata": {
    "ExecuteTime": {
     "end_time": "2025-02-20T17:20:25.853692Z",
     "start_time": "2025-02-20T17:20:25.232747Z"
    }
   },
   "cell_type": "code",
   "source": [
    "conversion = [1] * 22 + [0] * (1978 - 22)\n",
    "conversion = pd.Series(conversion)\n",
    "perm_diffs = [100 * perm_fun(conversion, 986, 992) for _ in range(1000)]"
   ],
   "id": "6ba4e13e99a068d",
   "outputs": [],
   "execution_count": 46
  },
  {
   "metadata": {
    "ExecuteTime": {
     "end_time": "2025-02-20T17:20:25.939610Z",
     "start_time": "2025-02-20T17:20:25.860977Z"
    }
   },
   "cell_type": "code",
   "source": [
    "fig, ax = plt.subplots(figsize=(5, 5))\n",
    "ax.hist(perm_diffs, bins=11, rwidth=0.9)\n",
    "ax.axvline(x=obs_pct_diff, color='black', lw=2)\n",
    "ax.text(0.06, 200, 'Observed\\ndifference', bbox={'facecolor': 'white'})\n",
    "ax.set_xlabel('Conversion rate (percentage points)')\n",
    "ax.set_ylabel('Frequency')"
   ],
   "id": "57631cdea34df5be",
   "outputs": [
    {
     "data": {
      "text/plain": [
       "Text(0, 0.5, 'Frequency')"
      ]
     },
     "execution_count": 47,
     "metadata": {},
     "output_type": "execute_result"
    },
    {
     "data": {
      "text/plain": [
       "<Figure size 500x500 with 1 Axes>"
      ],
      "image/png": "[encoded data removed]"
     },
     "metadata": {},
     "output_type": "display_data"
    }
   ],
   "execution_count": 47
  },
  {
   "metadata": {
    "ExecuteTime": {
     "end_time": "2025-02-20T17:26:25.364499Z",
     "start_time": "2025-02-20T17:26:25.360837Z"
    }
   },
   "cell_type": "code",
   "source": [
    "p_value = np.mean([diff > obs_pct_diff for diff in perm_diffs])\n",
    "print(f'P-value: {p_value:.4f}')"
   ],
   "id": "2de2db2f537a59d5",
   "outputs": [
    {
     "name": "stdout",
     "output_type": "stream",
     "text": [
      "P-value: 0.0710\n"
     ]
    }
   ],
   "execution_count": 50
  },
  {
   "metadata": {},
   "cell_type": "markdown",
   "source": "* Estimating the p-value from the permutation test by taking the proportion of times that the permutation test produces a difference equal to or greater than the observed difference.",
   "id": "9e6ca22e59c1d3a2"
  },
  {
   "metadata": {},
   "cell_type": "markdown",
   "source": "* Since we have a binomial distribution, we can aproximate the p-value using the chi-squared test",
   "id": "91eb7d3739d67a5f"
  },
  {
   "metadata": {
    "ExecuteTime": {
     "end_time": "2025-02-20T17:45:49.638209Z",
     "start_time": "2025-02-20T17:45:49.633628Z"
    }
   },
   "cell_type": "code",
   "source": [
    "conversions = np.array([[8, 986 - 8], [14, 992 - 14]])\n",
    "chi2, p_value, df, _ = chi2_contingency(conversions)\n",
    "print(f'p-value for a single sided test: {p_value / 2:.4f}')"
   ],
   "id": "6f6aacd465425dc8",
   "outputs": [
    {
     "name": "stdout",
     "output_type": "stream",
     "text": [
      "p-value for a single sided test: 0.1451\n"
     ]
    }
   ],
   "execution_count": 56
  },
  {
   "metadata": {},
   "cell_type": "code",
   "outputs": [],
   "execution_count": null,
   "source": "",
   "id": "a83472a8b5ae7534"
  }
 ],
 "metadata": {
  "kernelspec": {
   "display_name": "Python 3",
   "language": "python",
   "name": "python3"
  },
  "language_info": {
   "codemirror_mode": {
    "name": "ipython",
    "version": 2
   },
   "file_extension": ".py",
   "mimetype": "text/x-python",
   "name": "python",
   "nbconvert_exporter": "python",
   "pygments_lexer": "ipython2",
   "version": "2.7.6"
  }
 },
 "nbformat": 4,
 "nbformat_minor": 5
}
