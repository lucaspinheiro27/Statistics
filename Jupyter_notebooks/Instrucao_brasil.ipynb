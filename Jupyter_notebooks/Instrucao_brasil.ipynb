{
 "cells": [
  {
   "cell_type": "code",
   "id": "initial_id",
   "metadata": {
    "collapsed": true,
    "ExecuteTime": {
     "end_time": "2025-03-17T15:46:16.388987Z",
     "start_time": "2025-03-17T15:46:16.384314Z"
    }
   },
   "source": [
    "import pandas as pd\n",
    "import numpy as np\n",
    "import requests\n",
    "import re\n",
    "from io import StringIO"
   ],
   "outputs": [],
   "execution_count": 170
  },
  {
   "metadata": {
    "ExecuteTime": {
     "end_time": "2025-03-17T15:46:17.718954Z",
     "start_time": "2025-03-17T15:46:16.395661Z"
    }
   },
   "cell_type": "code",
   "source": [
    "url = \"https://apisidra.ibge.gov.br/values//t/9542/p/2022/v/950/c59/allxt/c2/allxt/c86/allxt/c287/93086,93087,2999,9482,9483,9484/n3/all/h/y/f/n\"\n",
    "r = requests.get(url)\n",
    "if r.ok:\n",
    "    df = pd.read_json(StringIO(r.text))\n",
    "else:\n",
    "    print('Tente novamente. Status code:', r.status_code)"
   ],
   "id": "6018266de1d7074a",
   "outputs": [],
   "execution_count": 171
  },
  {
   "metadata": {
    "ExecuteTime": {
     "end_time": "2025-03-17T15:46:17.738438Z",
     "start_time": "2025-03-17T15:46:17.730072Z"
    }
   },
   "cell_type": "code",
   "source": [
    "data = df.rename(columns=df.iloc[0]).drop(df.index[0])\n",
    "data = data.reset_index(drop=True)\n",
    "data = data.drop(columns=['Nível Territorial','Unidade de Medida','Variável'])\n",
    "data.info()"
   ],
   "id": "409d1348b12e79af",
   "outputs": [
    {
     "name": "stdout",
     "output_type": "stream",
     "text": [
      "<class 'pandas.core.frame.DataFrame'>\n",
      "RangeIndex: 3240 entries, 0 to 3239\n",
      "Data columns (total 7 columns):\n",
      " #   Column                Non-Null Count  Dtype \n",
      "---  ------                --------------  ----- \n",
      " 0   Valor                 3240 non-null   object\n",
      " 1   Ano                   3240 non-null   object\n",
      " 2   Alfabetização         3240 non-null   object\n",
      " 3   Sexo                  3240 non-null   object\n",
      " 4   Cor ou raça           3240 non-null   object\n",
      " 5   Idade                 3240 non-null   object\n",
      " 6   Unidade da Federação  3240 non-null   object\n",
      "dtypes: object(7)\n",
      "memory usage: 177.3+ KB\n"
     ]
    }
   ],
   "execution_count": 172
  },
  {
   "metadata": {
    "ExecuteTime": {
     "end_time": "2025-03-17T15:46:17.797470Z",
     "start_time": "2025-03-17T15:46:17.778515Z"
    }
   },
   "cell_type": "code",
   "source": [
    "negativos = len(data[data['Valor']=='-'])\n",
    "print(f'Valores negativos:', negativos)\n",
    "print('---------Cleaning-------')\n",
    "data['Valor'] = data['Valor'].replace({'-': np.nan})\n",
    "data['Valor'] = pd.to_numeric(data['Valor'])\n",
    "data['Ano'] = pd.to_numeric(data['Ano'])\n",
    "data = data.dropna(subset=['Valor'])\n",
    "print(data.isnull().sum())\n",
    "print('-------dtypes-----------')\n",
    "print(data.dtypes)\n",
    "data.loc[:, 'Idade'] = data['Idade'].str.replace(r'(\\d+)\\s*a\\s*(\\d+)\\s*anos', r'\\1-\\2', regex=True)"
   ],
   "id": "60863620037a96a7",
   "outputs": [
    {
     "name": "stdout",
     "output_type": "stream",
     "text": [
      "Valores negativos: 15\n",
      "---------Cleaning-------\n",
      "Valor                   0\n",
      "Ano                     0\n",
      "Alfabetização           0\n",
      "Sexo                    0\n",
      "Cor ou raça             0\n",
      "Idade                   0\n",
      "Unidade da Federação    0\n",
      "dtype: int64\n",
      "-------dtypes-----------\n",
      "Valor                   float64\n",
      "Ano                       int64\n",
      "Alfabetização            object\n",
      "Sexo                     object\n",
      "Cor ou raça              object\n",
      "Idade                    object\n",
      "Unidade da Federação     object\n",
      "dtype: object\n"
     ]
    }
   ],
   "execution_count": 173
  },
  {
   "metadata": {
    "ExecuteTime": {
     "end_time": "2025-03-17T15:46:17.855762Z",
     "start_time": "2025-03-17T15:46:17.847313Z"
    }
   },
   "cell_type": "code",
   "source": [
    "lista = data.columns[1:].tolist()\n",
    "for coluna in lista:\n",
    "    print(f'Coluna {coluna}:')\n",
    "    print(data[coluna].unique())"
   ],
   "id": "a8d7844394a1e5f6",
   "outputs": [
    {
     "name": "stdout",
     "output_type": "stream",
     "text": [
      "Coluna Ano:\n",
      "[2022]\n",
      "Coluna Alfabetização:\n",
      "['Alfabetizadas' 'Não alfabetizadas']\n",
      "Coluna Sexo:\n",
      "['Homens' 'Mulheres']\n",
      "Coluna Cor ou raça:\n",
      "['Branca' 'Preta' 'Amarela' 'Parda' 'Indígena']\n",
      "Coluna Idade:\n",
      "['15-19' '20-24' '25-34' '35-44' '45-54' '55-64']\n",
      "Coluna Unidade da Federação:\n",
      "['Rondônia' 'Acre' 'Amazonas' 'Roraima' 'Pará' 'Amapá' 'Tocantins'\n",
      " 'Maranhão' 'Piauí' 'Ceará' 'Rio Grande do Norte' 'Paraíba' 'Pernambuco'\n",
      " 'Alagoas' 'Sergipe' 'Bahia' 'Minas Gerais' 'Espírito Santo'\n",
      " 'Rio de Janeiro' 'São Paulo' 'Paraná' 'Santa Catarina'\n",
      " 'Rio Grande do Sul' 'Mato Grosso do Sul' 'Mato Grosso' 'Goiás'\n",
      " 'Distrito Federal']\n"
     ]
    }
   ],
   "execution_count": 174
  },
  {
   "metadata": {
    "ExecuteTime": {
     "end_time": "2025-03-17T15:46:17.920090Z",
     "start_time": "2025-03-17T15:46:17.902370Z"
    }
   },
   "cell_type": "code",
   "source": [
    "uf = {\n",
    "    'Rondônia': 'RO',\n",
    "    'Acre': 'AC',\n",
    "    'Amazonas': 'AM',\n",
    "    'Roraima': 'RR',\n",
    "    'Pará': 'PA',\n",
    "    'Amapá': 'AP',\n",
    "    'Tocantins': 'TO',\n",
    "    'Maranhão': 'MA',\n",
    "    'Piauí': 'PI',\n",
    "    'Ceará': 'CE',\n",
    "    'Rio Grande do Norte': 'RN',\n",
    "    'Paraíba': 'PB',\n",
    "    'Pernambuco': 'PE',\n",
    "    'Alagoas': 'AL',\n",
    "    'Sergipe': 'SE',\n",
    "    'Bahia': 'BA',\n",
    "    'Minas Gerais': 'MG',\n",
    "    'Espírito Santo': 'ES',\n",
    "    'Rio de Janeiro': 'RJ',\n",
    "    'São Paulo': 'SP',\n",
    "    'Paraná': 'PR',\n",
    "    'Santa Catarina': 'SC',\n",
    "    'Rio Grande do Sul': 'RS',\n",
    "    'Mato Grosso do Sul': 'MS',\n",
    "    'Mato Grosso': 'MT',\n",
    "    'Goiás': 'GO',\n",
    "    'Distrito Federal': 'DF'\n",
    "}\n",
    "\n",
    "# Changing the values for its acronyms\n",
    "cor = {'Branca':'White','Preta':'Black','Amarela':'Asian','Parda':'Latino','Indígena':'Indigenous'}\n",
    "genero = {'Homens':'Male','Mulheres':'Female'}\n",
    "alfabetizacao = {'Alfabetizadas':'Yes','Não alfabetizadas':'No'}\n",
    "\n",
    "data.loc[:, 'Cor ou raça'] = data['Cor ou raça'].replace(cor)\n",
    "data.loc[:, 'Alfabetização'] = data['Alfabetização'].replace(alfabetizacao)\n",
    "data.loc[:, 'Unidade da Federação'] = data['Unidade da Federação'].replace(uf)\n",
    "data.loc[:, 'Sexo'] = data['Sexo'].replace(genero)\n",
    "\n",
    "# renaming the columns\n",
    "data = data.rename(columns={\"Valor\": \"Population\", \"Ano\": \"Year\", 'Alfabetização': 'Literate', 'Cor ou raça': 'Race', 'Idade': 'Age-Group', 'Unidade da Federação': 'State', 'Sexo': 'Gender'})"
   ],
   "id": "267c23fcfca98c1e",
   "outputs": [],
   "execution_count": 175
  },
  {
   "metadata": {
    "ExecuteTime": {
     "end_time": "2025-03-17T15:46:17.960218Z",
     "start_time": "2025-03-17T15:46:17.957187Z"
    }
   },
   "cell_type": "code",
   "source": [
    "# exporting\n",
    "# data.to_csv(\"/home/satire/PycharmProjects/Statistics/csv/data.csv\", index=False)"
   ],
   "id": "b8e38fe55131eea4",
   "outputs": [],
   "execution_count": 176
  },
  {
   "metadata": {
    "ExecuteTime": {
     "end_time": "2025-03-17T15:46:18.017480Z",
     "start_time": "2025-03-17T15:46:18.009902Z"
    }
   },
   "cell_type": "code",
   "source": "data",
   "id": "785ef9bc60dc8860",
   "outputs": [
    {
     "data": {
      "text/plain": [
       "      Population  Year Literate  Gender        Race Age-Group State\n",
       "0        16855.0  2022      Yes    Male       White     15-19    RO\n",
       "1         8208.0  2022      Yes    Male       White     15-19    AC\n",
       "2        30666.0  2022      Yes    Male       White     15-19    AM\n",
       "3         5093.0  2022      Yes    Male       White     15-19    RR\n",
       "4        64688.0  2022      Yes    Male       White     15-19    PA\n",
       "...          ...   ...      ...     ...         ...       ...   ...\n",
       "3235       341.0  2022       No  Female  Indigenous     55-64    RS\n",
       "3236       844.0  2022       No  Female  Indigenous     55-64    MS\n",
       "3237       399.0  2022       No  Female  Indigenous     55-64    MT\n",
       "3238       101.0  2022       No  Female  Indigenous     55-64    GO\n",
       "3239        21.0  2022       No  Female  Indigenous     55-64    DF\n",
       "\n",
       "[3225 rows x 7 columns]"
      ],
      "text/html": [
       "<div>\n",
       "<style scoped>\n",
       "    .dataframe tbody tr th:only-of-type {\n",
       "        vertical-align: middle;\n",
       "    }\n",
       "\n",
       "    .dataframe tbody tr th {\n",
       "        vertical-align: top;\n",
       "    }\n",
       "\n",
       "    .dataframe thead th {\n",
       "        text-align: right;\n",
       "    }\n",
       "</style>\n",
       "<table border=\"1\" class=\"dataframe\">\n",
       "  <thead>\n",
       "    <tr style=\"text-align: right;\">\n",
       "      <th></th>\n",
       "      <th>Population</th>\n",
       "      <th>Year</th>\n",
       "      <th>Literate</th>\n",
       "      <th>Gender</th>\n",
       "      <th>Race</th>\n",
       "      <th>Age-Group</th>\n",
       "      <th>State</th>\n",
       "    </tr>\n",
       "  </thead>\n",
       "  <tbody>\n",
       "    <tr>\n",
       "      <th>0</th>\n",
       "      <td>16855.0</td>\n",
       "      <td>2022</td>\n",
       "      <td>Yes</td>\n",
       "      <td>Male</td>\n",
       "      <td>White</td>\n",
       "      <td>15-19</td>\n",
       "      <td>RO</td>\n",
       "    </tr>\n",
       "    <tr>\n",
       "      <th>1</th>\n",
       "      <td>8208.0</td>\n",
       "      <td>2022</td>\n",
       "      <td>Yes</td>\n",
       "      <td>Male</td>\n",
       "      <td>White</td>\n",
       "      <td>15-19</td>\n",
       "      <td>AC</td>\n",
       "    </tr>\n",
       "    <tr>\n",
       "      <th>2</th>\n",
       "      <td>30666.0</td>\n",
       "      <td>2022</td>\n",
       "      <td>Yes</td>\n",
       "      <td>Male</td>\n",
       "      <td>White</td>\n",
       "      <td>15-19</td>\n",
       "      <td>AM</td>\n",
       "    </tr>\n",
       "    <tr>\n",
       "      <th>3</th>\n",
       "      <td>5093.0</td>\n",
       "      <td>2022</td>\n",
       "      <td>Yes</td>\n",
       "      <td>Male</td>\n",
       "      <td>White</td>\n",
       "      <td>15-19</td>\n",
       "      <td>RR</td>\n",
       "    </tr>\n",
       "    <tr>\n",
       "      <th>4</th>\n",
       "      <td>64688.0</td>\n",
       "      <td>2022</td>\n",
       "      <td>Yes</td>\n",
       "      <td>Male</td>\n",
       "      <td>White</td>\n",
       "      <td>15-19</td>\n",
       "      <td>PA</td>\n",
       "    </tr>\n",
       "    <tr>\n",
       "      <th>...</th>\n",
       "      <td>...</td>\n",
       "      <td>...</td>\n",
       "      <td>...</td>\n",
       "      <td>...</td>\n",
       "      <td>...</td>\n",
       "      <td>...</td>\n",
       "      <td>...</td>\n",
       "    </tr>\n",
       "    <tr>\n",
       "      <th>3235</th>\n",
       "      <td>341.0</td>\n",
       "      <td>2022</td>\n",
       "      <td>No</td>\n",
       "      <td>Female</td>\n",
       "      <td>Indigenous</td>\n",
       "      <td>55-64</td>\n",
       "      <td>RS</td>\n",
       "    </tr>\n",
       "    <tr>\n",
       "      <th>3236</th>\n",
       "      <td>844.0</td>\n",
       "      <td>2022</td>\n",
       "      <td>No</td>\n",
       "      <td>Female</td>\n",
       "      <td>Indigenous</td>\n",
       "      <td>55-64</td>\n",
       "      <td>MS</td>\n",
       "    </tr>\n",
       "    <tr>\n",
       "      <th>3237</th>\n",
       "      <td>399.0</td>\n",
       "      <td>2022</td>\n",
       "      <td>No</td>\n",
       "      <td>Female</td>\n",
       "      <td>Indigenous</td>\n",
       "      <td>55-64</td>\n",
       "      <td>MT</td>\n",
       "    </tr>\n",
       "    <tr>\n",
       "      <th>3238</th>\n",
       "      <td>101.0</td>\n",
       "      <td>2022</td>\n",
       "      <td>No</td>\n",
       "      <td>Female</td>\n",
       "      <td>Indigenous</td>\n",
       "      <td>55-64</td>\n",
       "      <td>GO</td>\n",
       "    </tr>\n",
       "    <tr>\n",
       "      <th>3239</th>\n",
       "      <td>21.0</td>\n",
       "      <td>2022</td>\n",
       "      <td>No</td>\n",
       "      <td>Female</td>\n",
       "      <td>Indigenous</td>\n",
       "      <td>55-64</td>\n",
       "      <td>DF</td>\n",
       "    </tr>\n",
       "  </tbody>\n",
       "</table>\n",
       "<p>3225 rows × 7 columns</p>\n",
       "</div>"
      ]
     },
     "execution_count": 177,
     "metadata": {},
     "output_type": "execute_result"
    }
   ],
   "execution_count": 177
  }
 ],
 "metadata": {
  "kernelspec": {
   "display_name": "Python 3",
   "language": "python",
   "name": "python3"
  },
  "language_info": {
   "codemirror_mode": {
    "name": "ipython",
    "version": 2
   },
   "file_extension": ".py",
   "mimetype": "text/x-python",
   "name": "python",
   "nbconvert_exporter": "python",
   "pygments_lexer": "ipython2",
   "version": "2.7.6"
  }
 },
 "nbformat": 4,
 "nbformat_minor": 5
}
