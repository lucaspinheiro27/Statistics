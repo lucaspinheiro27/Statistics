{
 "cells": [
  {
   "metadata": {},
   "cell_type": "markdown",
   "source": "Importing packages",
   "id": "689d0ee5396e78a0"
  },
  {
   "cell_type": "code",
   "id": "initial_id",
   "metadata": {
    "collapsed": true,
    "ExecuteTime": {
     "end_time": "2025-03-18T14:42:57.166200Z",
     "start_time": "2025-03-18T14:42:57.107265Z"
    }
   },
   "source": [
    "import pandas as pd\n",
    "import numpy as np\n",
    "import requests\n",
    "from io import StringIO\n",
    "import seaborn as sns\n",
    "import matplotlib.pyplot as plt"
   ],
   "outputs": [],
   "execution_count": 1
  },
  {
   "metadata": {},
   "cell_type": "markdown",
   "source": "Pulling data from API",
   "id": "e5ca67512b1ece0a"
  },
  {
   "metadata": {
    "ExecuteTime": {
     "end_time": "2025-03-18T14:42:59.217162Z",
     "start_time": "2025-03-18T14:42:57.187698Z"
    }
   },
   "cell_type": "code",
   "source": [
    "url = \"https://apisidra.ibge.gov.br/values//t/9542/p/2022/v/950/c59/allxt/c2/allxt/c86/allxt/c287/93086,93087,2999,9482,9483,9484/n3/all/h/y/f/n\"\n",
    "r = requests.get(url)\n",
    "if r.ok:\n",
    "    data = pd.read_json(StringIO(r.text))\n",
    "else:\n",
    "    print('Tente novamente. Status code:', r.status_code)"
   ],
   "id": "6018266de1d7074a",
   "outputs": [],
   "execution_count": 2
  },
  {
   "metadata": {},
   "cell_type": "markdown",
   "source": "Cleaning data",
   "id": "b3651291faed3e27"
  },
  {
   "metadata": {
    "ExecuteTime": {
     "end_time": "2025-03-18T14:42:59.324650Z",
     "start_time": "2025-03-18T14:42:59.308517Z"
    }
   },
   "cell_type": "code",
   "source": [
    "data = data.rename(columns=data.iloc[0]).drop(data.index[0])\n",
    "data = data.reset_index(drop=True)\n",
    "data = data.drop(columns=['Nível Territorial','Unidade de Medida','Variável', 'Ano'])\n",
    "negativos = len(data[data['Valor']=='-'])\n",
    "print(f'Valores negativos:', negativos)\n",
    "print('---------Cleaning-------')\n",
    "data['Valor'] = data['Valor'].replace({'-': np.nan})\n",
    "data['Valor'] = pd.to_numeric(data['Valor'])\n",
    "data = data.dropna(subset=['Valor'])\n",
    "print(data.isnull().sum())\n",
    "print('-------dtypes-----------')\n",
    "print(data.dtypes)\n",
    "data.loc[:, 'Idade'] = data['Idade'].str.replace(r'(\\d+)\\s*a\\s*(\\d+)\\s*anos', r'\\1-\\2', regex=True)"
   ],
   "id": "409d1348b12e79af",
   "outputs": [
    {
     "name": "stdout",
     "output_type": "stream",
     "text": [
      "Valores negativos: 15\n",
      "---------Cleaning-------\n",
      "Valor                   0\n",
      "Alfabetização           0\n",
      "Sexo                    0\n",
      "Cor ou raça             0\n",
      "Idade                   0\n",
      "Unidade da Federação    0\n",
      "dtype: int64\n",
      "-------dtypes-----------\n",
      "Valor                   float64\n",
      "Alfabetização            object\n",
      "Sexo                     object\n",
      "Cor ou raça              object\n",
      "Idade                    object\n",
      "Unidade da Federação     object\n",
      "dtype: object\n"
     ]
    }
   ],
   "execution_count": 3
  },
  {
   "metadata": {
    "ExecuteTime": {
     "end_time": "2025-03-18T14:42:59.388858Z",
     "start_time": "2025-03-18T14:42:59.383004Z"
    }
   },
   "cell_type": "code",
   "source": [
    "lista = data.columns[1:].tolist()\n",
    "for coluna in lista:\n",
    "    print(f'Coluna {coluna}:')\n",
    "    print(data[coluna].unique())"
   ],
   "id": "a8d7844394a1e5f6",
   "outputs": [
    {
     "name": "stdout",
     "output_type": "stream",
     "text": [
      "Coluna Alfabetização:\n",
      "['Alfabetizadas' 'Não alfabetizadas']\n",
      "Coluna Sexo:\n",
      "['Homens' 'Mulheres']\n",
      "Coluna Cor ou raça:\n",
      "['Branca' 'Preta' 'Amarela' 'Parda' 'Indígena']\n",
      "Coluna Idade:\n",
      "['15-19' '20-24' '25-34' '35-44' '45-54' '55-64']\n",
      "Coluna Unidade da Federação:\n",
      "['Rondônia' 'Acre' 'Amazonas' 'Roraima' 'Pará' 'Amapá' 'Tocantins'\n",
      " 'Maranhão' 'Piauí' 'Ceará' 'Rio Grande do Norte' 'Paraíba' 'Pernambuco'\n",
      " 'Alagoas' 'Sergipe' 'Bahia' 'Minas Gerais' 'Espírito Santo'\n",
      " 'Rio de Janeiro' 'São Paulo' 'Paraná' 'Santa Catarina'\n",
      " 'Rio Grande do Sul' 'Mato Grosso do Sul' 'Mato Grosso' 'Goiás'\n",
      " 'Distrito Federal']\n"
     ]
    }
   ],
   "execution_count": 4
  },
  {
   "metadata": {
    "ExecuteTime": {
     "end_time": "2025-03-18T14:42:59.503750Z",
     "start_time": "2025-03-18T14:42:59.485844Z"
    }
   },
   "cell_type": "code",
   "source": [
    "uf = {\n",
    "    'Rondônia': 'RO',\n",
    "    'Acre': 'AC',\n",
    "    'Amazonas': 'AM',\n",
    "    'Roraima': 'RR',\n",
    "    'Pará': 'PA',\n",
    "    'Amapá': 'AP',\n",
    "    'Tocantins': 'TO',\n",
    "    'Maranhão': 'MA',\n",
    "    'Piauí': 'PI',\n",
    "    'Ceará': 'CE',\n",
    "    'Rio Grande do Norte': 'RN',\n",
    "    'Paraíba': 'PB',\n",
    "    'Pernambuco': 'PE',\n",
    "    'Alagoas': 'AL',\n",
    "    'Sergipe': 'SE',\n",
    "    'Bahia': 'BA',\n",
    "    'Minas Gerais': 'MG',\n",
    "    'Espírito Santo': 'ES',\n",
    "    'Rio de Janeiro': 'RJ',\n",
    "    'São Paulo': 'SP',\n",
    "    'Paraná': 'PR',\n",
    "    'Santa Catarina': 'SC',\n",
    "    'Rio Grande do Sul': 'RS',\n",
    "    'Mato Grosso do Sul': 'MS',\n",
    "    'Mato Grosso': 'MT',\n",
    "    'Goiás': 'GO',\n",
    "    'Distrito Federal': 'DF'\n",
    "}\n",
    "\n",
    "cor = {'Branca':'White','Preta':'Black','Amarela':'Asian','Parda':'Latino','Indígena':'Indigenous'}\n",
    "genero = {'Homens':'Male','Mulheres':'Female'}\n",
    "alfabetizacao = {'Alfabetizadas':'Yes','Não alfabetizadas':'No'}\n",
    "\n",
    "data.loc[:, 'Cor ou raça'] = data['Cor ou raça'].replace(cor)\n",
    "data.loc[:, 'Alfabetização'] = data['Alfabetização'].replace(alfabetizacao)\n",
    "data.loc[:, 'Unidade da Federação'] = data['Unidade da Federação'].replace(uf)\n",
    "data.loc[:, 'Sexo'] = data['Sexo'].replace(genero)\n",
    "\n",
    "data = data.rename(columns={\"Valor\": \"Population\", 'Alfabetização': 'Literate', 'Cor ou raça': 'Race', 'Idade': 'Age-Group', 'Unidade da Federação': 'State', 'Sexo': 'Gender'})"
   ],
   "id": "267c23fcfca98c1e",
   "outputs": [],
   "execution_count": 5
  },
  {
   "metadata": {
    "ExecuteTime": {
     "end_time": "2025-03-18T14:42:59.560114Z",
     "start_time": "2025-03-18T14:42:59.557063Z"
    }
   },
   "cell_type": "code",
   "source": [
    "# data.to_csv(\"/home/satire/PycharmProjects/Statistics/csv/data.csv\", index=False)\n",
    "df = data.copy()"
   ],
   "id": "b8e38fe55131eea4",
   "outputs": [],
   "execution_count": 6
  },
  {
   "metadata": {
    "ExecuteTime": {
     "end_time": "2025-03-18T14:42:59.633796Z",
     "start_time": "2025-03-18T14:42:59.616651Z"
    }
   },
   "cell_type": "code",
   "source": [
    "table_race = pd.pivot_table(df, values='Population', index=['Literate', 'Gender'],\n",
    "                       columns=['Race'], aggfunc=\"sum\")\n",
    "table_age = pd.pivot_table(df, values='Population', index=['Literate', 'Gender'],\n",
    "                       columns=['Age-Group'], aggfunc=\"sum\")"
   ],
   "id": "96ce6539ef00d52d",
   "outputs": [],
   "execution_count": 7
  },
  {
   "metadata": {
    "ExecuteTime": {
     "end_time": "2025-03-18T14:42:59.687195Z",
     "start_time": "2025-03-18T14:42:59.682527Z"
    }
   },
   "cell_type": "code",
   "source": [
    "columns_age = table_age.columns[0:].tolist()\n",
    "for col in columns_age:\n",
    "    table_age[col] = (table_age[col] / table_age[col].sum()) * 100"
   ],
   "id": "9bb9d39221078867",
   "outputs": [],
   "execution_count": 8
  },
  {
   "metadata": {
    "ExecuteTime": {
     "end_time": "2025-03-18T14:42:59.804164Z",
     "start_time": "2025-03-18T14:42:59.742532Z"
    }
   },
   "cell_type": "code",
   "source": [
    "table_age = table_age.style. \\\n",
    "    background_gradient(cmap='Reds', axis=None). \\\n",
    "    set_table_styles(\n",
    "    [{'selector':'th,td,tr', 'props': [('border-style', 'solid'), ('border-width', '2px')]}]\n",
    ")\n",
    "table_age"
   ],
   "id": "b91261ad5a749a73",
   "outputs": [
    {
     "data": {
      "text/plain": [
       "<pandas.io.formats.style.Styler at 0x7aa8d4764e00>"
      ],
      "text/html": [
       "<style type=\"text/css\">\n",
       "#T_223f4 th {\n",
       "  border-style: solid;\n",
       "  border-width: 2px;\n",
       "}\n",
       "#T_223f4 td {\n",
       "  border-style: solid;\n",
       "  border-width: 2px;\n",
       "}\n",
       "#T_223f4 tr {\n",
       "  border-style: solid;\n",
       "  border-width: 2px;\n",
       "}\n",
       "#T_223f4_row0_col0, #T_223f4_row0_col1, #T_223f4_row0_col2 {\n",
       "  background-color: #fff5f0;\n",
       "  color: #000000;\n",
       "}\n",
       "#T_223f4_row0_col3 {\n",
       "  background-color: #fff2eb;\n",
       "  color: #000000;\n",
       "}\n",
       "#T_223f4_row0_col4 {\n",
       "  background-color: #ffece3;\n",
       "  color: #000000;\n",
       "}\n",
       "#T_223f4_row0_col5 {\n",
       "  background-color: #fee4d8;\n",
       "  color: #000000;\n",
       "}\n",
       "#T_223f4_row1_col0, #T_223f4_row1_col1 {\n",
       "  background-color: #fff4ee;\n",
       "  color: #000000;\n",
       "}\n",
       "#T_223f4_row1_col2 {\n",
       "  background-color: #fff2ec;\n",
       "  color: #000000;\n",
       "}\n",
       "#T_223f4_row1_col3 {\n",
       "  background-color: #ffeee7;\n",
       "  color: #000000;\n",
       "}\n",
       "#T_223f4_row1_col4 {\n",
       "  background-color: #fee8dd;\n",
       "  color: #000000;\n",
       "}\n",
       "#T_223f4_row1_col5 {\n",
       "  background-color: #fee3d7;\n",
       "  color: #000000;\n",
       "}\n",
       "#T_223f4_row2_col0, #T_223f4_row2_col4 {\n",
       "  background-color: #77040f;\n",
       "  color: #f1f1f1;\n",
       "}\n",
       "#T_223f4_row2_col1, #T_223f4_row3_col1 {\n",
       "  background-color: #71020e;\n",
       "  color: #f1f1f1;\n",
       "}\n",
       "#T_223f4_row2_col2 {\n",
       "  background-color: #67000d;\n",
       "  color: #f1f1f1;\n",
       "}\n",
       "#T_223f4_row2_col3 {\n",
       "  background-color: #69000d;\n",
       "  color: #f1f1f1;\n",
       "}\n",
       "#T_223f4_row2_col5, #T_223f4_row3_col2 {\n",
       "  background-color: #800610;\n",
       "  color: #f1f1f1;\n",
       "}\n",
       "#T_223f4_row3_col0 {\n",
       "  background-color: #6b010e;\n",
       "  color: #f1f1f1;\n",
       "}\n",
       "#T_223f4_row3_col3 {\n",
       "  background-color: #920a13;\n",
       "  color: #f1f1f1;\n",
       "}\n",
       "#T_223f4_row3_col4 {\n",
       "  background-color: #a91016;\n",
       "  color: #f1f1f1;\n",
       "}\n",
       "#T_223f4_row3_col5 {\n",
       "  background-color: #b91419;\n",
       "  color: #f1f1f1;\n",
       "}\n",
       "</style>\n",
       "<table id=\"T_223f4\">\n",
       "  <thead>\n",
       "    <tr>\n",
       "      <th class=\"blank\" >&nbsp;</th>\n",
       "      <th class=\"index_name level0\" >Age-Group</th>\n",
       "      <th id=\"T_223f4_level0_col0\" class=\"col_heading level0 col0\" >15-19</th>\n",
       "      <th id=\"T_223f4_level0_col1\" class=\"col_heading level0 col1\" >20-24</th>\n",
       "      <th id=\"T_223f4_level0_col2\" class=\"col_heading level0 col2\" >25-34</th>\n",
       "      <th id=\"T_223f4_level0_col3\" class=\"col_heading level0 col3\" >35-44</th>\n",
       "      <th id=\"T_223f4_level0_col4\" class=\"col_heading level0 col4\" >45-54</th>\n",
       "      <th id=\"T_223f4_level0_col5\" class=\"col_heading level0 col5\" >55-64</th>\n",
       "    </tr>\n",
       "    <tr>\n",
       "      <th class=\"index_name level0\" >Literate</th>\n",
       "      <th class=\"index_name level1\" >Gender</th>\n",
       "      <th class=\"blank col0\" >&nbsp;</th>\n",
       "      <th class=\"blank col1\" >&nbsp;</th>\n",
       "      <th class=\"blank col2\" >&nbsp;</th>\n",
       "      <th class=\"blank col3\" >&nbsp;</th>\n",
       "      <th class=\"blank col4\" >&nbsp;</th>\n",
       "      <th class=\"blank col5\" >&nbsp;</th>\n",
       "    </tr>\n",
       "  </thead>\n",
       "  <tbody>\n",
       "    <tr>\n",
       "      <th id=\"T_223f4_level0_row0\" class=\"row_heading level0 row0\" rowspan=\"2\">No</th>\n",
       "      <th id=\"T_223f4_level1_row0\" class=\"row_heading level1 row0\" >Female</th>\n",
       "      <td id=\"T_223f4_row0_col0\" class=\"data row0 col0\" >0.501067</td>\n",
       "      <td id=\"T_223f4_row0_col1\" class=\"data row0 col1\" >0.518901</td>\n",
       "      <td id=\"T_223f4_row0_col2\" class=\"data row0 col2\" >0.676253</td>\n",
       "      <td id=\"T_223f4_row0_col3\" class=\"data row0 col3\" >1.602087</td>\n",
       "      <td id=\"T_223f4_row0_col4\" class=\"data row0 col4\" >3.400500</td>\n",
       "      <td id=\"T_223f4_row0_col5\" class=\"data row0 col5\" >5.627645</td>\n",
       "    </tr>\n",
       "    <tr>\n",
       "      <th id=\"T_223f4_level1_row1\" class=\"row_heading level1 row1\" >Male</th>\n",
       "      <td id=\"T_223f4_row1_col0\" class=\"data row1 col0\" >1.037681</td>\n",
       "      <td id=\"T_223f4_row1_col1\" class=\"data row1 col1\" >1.019840</td>\n",
       "      <td id=\"T_223f4_row1_col2\" class=\"data row1 col2\" >1.287280</td>\n",
       "      <td id=\"T_223f4_row1_col3\" class=\"data row1 col3\" >2.508374</td>\n",
       "      <td id=\"T_223f4_row1_col4\" class=\"data row1 col4\" >4.429578</td>\n",
       "      <td id=\"T_223f4_row1_col5\" class=\"data row1 col5\" >5.840646</td>\n",
       "    </tr>\n",
       "    <tr>\n",
       "      <th id=\"T_223f4_level0_row2\" class=\"row_heading level0 row2\" rowspan=\"2\">Yes</th>\n",
       "      <th id=\"T_223f4_level1_row2\" class=\"row_heading level1 row2\" >Female</th>\n",
       "      <td id=\"T_223f4_row2_col0\" class=\"data row2 col0\" >48.597913</td>\n",
       "      <td id=\"T_223f4_row2_col1\" class=\"data row2 col1\" >49.262272</td>\n",
       "      <td id=\"T_223f4_row2_col2\" class=\"data row2 col2\" >50.316128</td>\n",
       "      <td id=\"T_223f4_row2_col3\" class=\"data row2 col3\" >49.992847</td>\n",
       "      <td id=\"T_223f4_row2_col4\" class=\"data row2 col4\" >48.718096</td>\n",
       "      <td id=\"T_223f4_row2_col5\" class=\"data row2 col5\" >47.772389</td>\n",
       "    </tr>\n",
       "    <tr>\n",
       "      <th id=\"T_223f4_level1_row3\" class=\"row_heading level1 row3\" >Male</th>\n",
       "      <td id=\"T_223f4_row3_col0\" class=\"data row3 col0\" >49.863339</td>\n",
       "      <td id=\"T_223f4_row3_col1\" class=\"data row3 col1\" >49.198988</td>\n",
       "      <td id=\"T_223f4_row3_col2\" class=\"data row3 col2\" >47.720340</td>\n",
       "      <td id=\"T_223f4_row3_col3\" class=\"data row3 col3\" >45.896692</td>\n",
       "      <td id=\"T_223f4_row3_col4\" class=\"data row3 col4\" >43.451827</td>\n",
       "      <td id=\"T_223f4_row3_col5\" class=\"data row3 col5\" >40.759320</td>\n",
       "    </tr>\n",
       "  </tbody>\n",
       "</table>\n"
      ]
     },
     "execution_count": 9,
     "metadata": {},
     "output_type": "execute_result"
    }
   ],
   "execution_count": 9
  },
  {
   "metadata": {
    "ExecuteTime": {
     "end_time": "2025-03-18T14:42:59.832752Z",
     "start_time": "2025-03-18T14:42:59.823425Z"
    }
   },
   "cell_type": "code",
   "source": [
    "columns_race = table_race.columns[0:].tolist()\n",
    "for col in columns_race:\n",
    "    table_race[col] = (table_race[col] / table_race[col].sum()) * 100"
   ],
   "id": "25bf8485053f1390",
   "outputs": [],
   "execution_count": 10
  },
  {
   "metadata": {
    "ExecuteTime": {
     "end_time": "2025-03-18T14:42:59.899828Z",
     "start_time": "2025-03-18T14:42:59.881405Z"
    }
   },
   "cell_type": "code",
   "source": [
    "table_race = table_race.style. \\\n",
    "    background_gradient(cmap='Reds', axis=None). \\\n",
    "    set_table_styles(\n",
    "    [{'selector':'th,td,tr', 'props': [('border-style', 'solid'), ('border-width', '2px')]}]\n",
    ")\n",
    "table_race"
   ],
   "id": "5440c0a09594c71a",
   "outputs": [
    {
     "data": {
      "text/plain": [
       "<pandas.io.formats.style.Styler at 0x7aa8d477d0a0>"
      ],
      "text/html": [
       "<style type=\"text/css\">\n",
       "#T_9e97f th {\n",
       "  border-style: solid;\n",
       "  border-width: 2px;\n",
       "}\n",
       "#T_9e97f td {\n",
       "  border-style: solid;\n",
       "  border-width: 2px;\n",
       "}\n",
       "#T_9e97f tr {\n",
       "  border-style: solid;\n",
       "  border-width: 2px;\n",
       "}\n",
       "#T_9e97f_row0_col0, #T_9e97f_row1_col0 {\n",
       "  background-color: #fff5f0;\n",
       "  color: #000000;\n",
       "}\n",
       "#T_9e97f_row0_col1 {\n",
       "  background-color: #ffefe8;\n",
       "  color: #000000;\n",
       "}\n",
       "#T_9e97f_row0_col2 {\n",
       "  background-color: #fee2d5;\n",
       "  color: #000000;\n",
       "}\n",
       "#T_9e97f_row0_col3 {\n",
       "  background-color: #fff0e8;\n",
       "  color: #000000;\n",
       "}\n",
       "#T_9e97f_row0_col4 {\n",
       "  background-color: #fff4ef;\n",
       "  color: #000000;\n",
       "}\n",
       "#T_9e97f_row1_col1 {\n",
       "  background-color: #feeae1;\n",
       "  color: #000000;\n",
       "}\n",
       "#T_9e97f_row1_col2 {\n",
       "  background-color: #fee5d8;\n",
       "  color: #000000;\n",
       "}\n",
       "#T_9e97f_row1_col3 {\n",
       "  background-color: #ffece4;\n",
       "  color: #000000;\n",
       "}\n",
       "#T_9e97f_row1_col4 {\n",
       "  background-color: #fff3ed;\n",
       "  color: #000000;\n",
       "}\n",
       "#T_9e97f_row2_col0 {\n",
       "  background-color: #67000d;\n",
       "  color: #f1f1f1;\n",
       "}\n",
       "#T_9e97f_row2_col1, #T_9e97f_row3_col3 {\n",
       "  background-color: #a30f15;\n",
       "  color: #f1f1f1;\n",
       "}\n",
       "#T_9e97f_row2_col2 {\n",
       "  background-color: #b01217;\n",
       "  color: #f1f1f1;\n",
       "}\n",
       "#T_9e97f_row2_col3 {\n",
       "  background-color: #860811;\n",
       "  color: #f1f1f1;\n",
       "}\n",
       "#T_9e97f_row2_col4 {\n",
       "  background-color: #69000d;\n",
       "  color: #f1f1f1;\n",
       "}\n",
       "#T_9e97f_row3_col0 {\n",
       "  background-color: #9a0c14;\n",
       "  color: #f1f1f1;\n",
       "}\n",
       "#T_9e97f_row3_col1 {\n",
       "  background-color: #900a12;\n",
       "  color: #f1f1f1;\n",
       "}\n",
       "#T_9e97f_row3_col2 {\n",
       "  background-color: #af1117;\n",
       "  color: #f1f1f1;\n",
       "}\n",
       "#T_9e97f_row3_col4 {\n",
       "  background-color: #9f0e14;\n",
       "  color: #f1f1f1;\n",
       "}\n",
       "</style>\n",
       "<table id=\"T_9e97f\">\n",
       "  <thead>\n",
       "    <tr>\n",
       "      <th class=\"blank\" >&nbsp;</th>\n",
       "      <th class=\"index_name level0\" >Race</th>\n",
       "      <th id=\"T_9e97f_level0_col0\" class=\"col_heading level0 col0\" >Asian</th>\n",
       "      <th id=\"T_9e97f_level0_col1\" class=\"col_heading level0 col1\" >Black</th>\n",
       "      <th id=\"T_9e97f_level0_col2\" class=\"col_heading level0 col2\" >Indigenous</th>\n",
       "      <th id=\"T_9e97f_level0_col3\" class=\"col_heading level0 col3\" >Latino</th>\n",
       "      <th id=\"T_9e97f_level0_col4\" class=\"col_heading level0 col4\" >White</th>\n",
       "    </tr>\n",
       "    <tr>\n",
       "      <th class=\"index_name level0\" >Literate</th>\n",
       "      <th class=\"index_name level1\" >Gender</th>\n",
       "      <th class=\"blank col0\" >&nbsp;</th>\n",
       "      <th class=\"blank col1\" >&nbsp;</th>\n",
       "      <th class=\"blank col2\" >&nbsp;</th>\n",
       "      <th class=\"blank col3\" >&nbsp;</th>\n",
       "      <th class=\"blank col4\" >&nbsp;</th>\n",
       "    </tr>\n",
       "  </thead>\n",
       "  <tbody>\n",
       "    <tr>\n",
       "      <th id=\"T_9e97f_level0_row0\" class=\"row_heading level0 row0\" rowspan=\"2\">No</th>\n",
       "      <th id=\"T_9e97f_level1_row0\" class=\"row_heading level1 row0\" >Female</th>\n",
       "      <td id=\"T_9e97f_row0_col0\" class=\"data row0 col0\" >0.957194</td>\n",
       "      <td id=\"T_9e97f_row0_col1\" class=\"data row0 col1\" >2.844942</td>\n",
       "      <td id=\"T_9e97f_row0_col2\" class=\"data row0 col2\" >6.842280</td>\n",
       "      <td id=\"T_9e97f_row0_col3\" class=\"data row0 col3\" >2.697161</td>\n",
       "      <td id=\"T_9e97f_row0_col4\" class=\"data row0 col4\" >1.253348</td>\n",
       "    </tr>\n",
       "    <tr>\n",
       "      <th id=\"T_9e97f_level1_row1\" class=\"row_heading level1 row1\" >Male</th>\n",
       "      <td id=\"T_9e97f_row1_col0\" class=\"data row1 col0\" >1.004661</td>\n",
       "      <td id=\"T_9e97f_row1_col1\" class=\"data row1 col1\" >4.169288</td>\n",
       "      <td id=\"T_9e97f_row1_col2\" class=\"data row1 col2\" >6.066727</td>\n",
       "      <td id=\"T_9e97f_row1_col3\" class=\"data row1 col3\" >3.577489</td>\n",
       "      <td id=\"T_9e97f_row1_col4\" class=\"data row1 col4\" >1.563420</td>\n",
       "    </tr>\n",
       "    <tr>\n",
       "      <th id=\"T_9e97f_level0_row2\" class=\"row_heading level0 row2\" rowspan=\"2\">Yes</th>\n",
       "      <th id=\"T_9e97f_level1_row2\" class=\"row_heading level1 row2\" >Female</th>\n",
       "      <td id=\"T_9e97f_row2_col0\" class=\"data row2 col0\" >51.681692</td>\n",
       "      <td id=\"T_9e97f_row2_col1\" class=\"data row2 col1\" >45.491376</td>\n",
       "      <td id=\"T_9e97f_row2_col2\" class=\"data row2 col2\" >43.486158</td>\n",
       "      <td id=\"T_9e97f_row2_col3\" class=\"data row2 col3\" >48.327258</td>\n",
       "      <td id=\"T_9e97f_row2_col4\" class=\"data row2 col4\" >51.312366</td>\n",
       "    </tr>\n",
       "    <tr>\n",
       "      <th id=\"T_9e97f_level1_row3\" class=\"row_heading level1 row3\" >Male</th>\n",
       "      <td id=\"T_9e97f_row3_col0\" class=\"data row3 col0\" >46.356453</td>\n",
       "      <td id=\"T_9e97f_row3_col1\" class=\"data row3 col1\" >47.494394</td>\n",
       "      <td id=\"T_9e97f_row3_col2\" class=\"data row3 col2\" >43.604835</td>\n",
       "      <td id=\"T_9e97f_row3_col3\" class=\"data row3 col3\" >45.398092</td>\n",
       "      <td id=\"T_9e97f_row3_col4\" class=\"data row3 col4\" >45.870866</td>\n",
       "    </tr>\n",
       "  </tbody>\n",
       "</table>\n"
      ]
     },
     "execution_count": 11,
     "metadata": {},
     "output_type": "execute_result"
    }
   ],
   "execution_count": 11
  },
  {
   "metadata": {
    "ExecuteTime": {
     "end_time": "2025-03-18T14:42:59.968506Z",
     "start_time": "2025-03-18T14:42:59.958919Z"
    }
   },
   "cell_type": "code",
   "source": "df.groupby('Gender')['Population'].sum()",
   "id": "1a9003bfa5a218d4",
   "outputs": [
    {
     "data": {
      "text/plain": [
       "Gender\n",
       "Female    72332125.0\n",
       "Male      68441661.0\n",
       "Name: Population, dtype: float64"
      ]
     },
     "execution_count": 12,
     "metadata": {},
     "output_type": "execute_result"
    }
   ],
   "execution_count": 12
  },
  {
   "metadata": {
    "ExecuteTime": {
     "end_time": "2025-03-18T14:43:00.086509Z",
     "start_time": "2025-03-18T14:43:00.079409Z"
    }
   },
   "cell_type": "code",
   "source": "df.groupby('Literate')['Population'].sum()",
   "id": "c50a03f64845517e",
   "outputs": [
    {
     "data": {
      "text/plain": [
       "Literate\n",
       "No       6913558.0\n",
       "Yes    133860228.0\n",
       "Name: Population, dtype: float64"
      ]
     },
     "execution_count": 13,
     "metadata": {},
     "output_type": "execute_result"
    }
   ],
   "execution_count": 13
  },
  {
   "metadata": {
    "ExecuteTime": {
     "end_time": "2025-03-18T14:43:00.202032Z",
     "start_time": "2025-03-18T14:43:00.172973Z"
    }
   },
   "cell_type": "code",
   "source": [
    "race_literacy = df.groupby(['Literate', 'Race']).agg(\n",
    "    Population=('Population', 'sum')\n",
    ")\n",
    "race_literacy"
   ],
   "id": "df4ab3a737a2b08d",
   "outputs": [
    {
     "data": {
      "text/plain": [
       "                     Population\n",
       "Literate Race                  \n",
       "No       Asian          10994.0\n",
       "         Black        1093352.0\n",
       "         Indigenous     96374.0\n",
       "         Latino       4034654.0\n",
       "         White        1678184.0\n",
       "Yes      Asian         549394.0\n",
       "         Black       14494275.0\n",
       "         Indigenous    650190.0\n",
       "         Latino      60266205.0\n",
       "         White       57900164.0"
      ],
      "text/html": [
       "<div>\n",
       "<style scoped>\n",
       "    .dataframe tbody tr th:only-of-type {\n",
       "        vertical-align: middle;\n",
       "    }\n",
       "\n",
       "    .dataframe tbody tr th {\n",
       "        vertical-align: top;\n",
       "    }\n",
       "\n",
       "    .dataframe thead th {\n",
       "        text-align: right;\n",
       "    }\n",
       "</style>\n",
       "<table border=\"1\" class=\"dataframe\">\n",
       "  <thead>\n",
       "    <tr style=\"text-align: right;\">\n",
       "      <th></th>\n",
       "      <th></th>\n",
       "      <th>Population</th>\n",
       "    </tr>\n",
       "    <tr>\n",
       "      <th>Literate</th>\n",
       "      <th>Race</th>\n",
       "      <th></th>\n",
       "    </tr>\n",
       "  </thead>\n",
       "  <tbody>\n",
       "    <tr>\n",
       "      <th rowspan=\"5\" valign=\"top\">No</th>\n",
       "      <th>Asian</th>\n",
       "      <td>10994.0</td>\n",
       "    </tr>\n",
       "    <tr>\n",
       "      <th>Black</th>\n",
       "      <td>1093352.0</td>\n",
       "    </tr>\n",
       "    <tr>\n",
       "      <th>Indigenous</th>\n",
       "      <td>96374.0</td>\n",
       "    </tr>\n",
       "    <tr>\n",
       "      <th>Latino</th>\n",
       "      <td>4034654.0</td>\n",
       "    </tr>\n",
       "    <tr>\n",
       "      <th>White</th>\n",
       "      <td>1678184.0</td>\n",
       "    </tr>\n",
       "    <tr>\n",
       "      <th rowspan=\"5\" valign=\"top\">Yes</th>\n",
       "      <th>Asian</th>\n",
       "      <td>549394.0</td>\n",
       "    </tr>\n",
       "    <tr>\n",
       "      <th>Black</th>\n",
       "      <td>14494275.0</td>\n",
       "    </tr>\n",
       "    <tr>\n",
       "      <th>Indigenous</th>\n",
       "      <td>650190.0</td>\n",
       "    </tr>\n",
       "    <tr>\n",
       "      <th>Latino</th>\n",
       "      <td>60266205.0</td>\n",
       "    </tr>\n",
       "    <tr>\n",
       "      <th>White</th>\n",
       "      <td>57900164.0</td>\n",
       "    </tr>\n",
       "  </tbody>\n",
       "</table>\n",
       "</div>"
      ]
     },
     "execution_count": 14,
     "metadata": {},
     "output_type": "execute_result"
    }
   ],
   "execution_count": 14
  },
  {
   "metadata": {
    "ExecuteTime": {
     "end_time": "2025-03-18T14:43:00.479404Z",
     "start_time": "2025-03-18T14:43:00.292520Z"
    }
   },
   "cell_type": "code",
   "source": [
    "plt.figure(figsize=(10, 6))\n",
    "sns.barplot(data=race_literacy, x=\"Literate\", y=\"Population\", hue=\"Race\", palette='Paired')\n",
    "plt.title('Population by Literacy and Race')\n",
    "plt.show()"
   ],
   "id": "5499ebafc4d9b19f",
   "outputs": [
    {
     "data": {
      "text/plain": [
       "<Figure size 1000x600 with 1 Axes>"
      ],
      "image/png": "[encoded data removed]"
     },
     "metadata": {},
     "output_type": "display_data"
    }
   ],
   "execution_count": 15
  },
  {
   "metadata": {
    "ExecuteTime": {
     "end_time": "2025-03-18T14:43:00.835798Z",
     "start_time": "2025-03-18T14:43:00.810370Z"
    }
   },
   "cell_type": "code",
   "source": [
    "race_age = df.groupby(['Age-Group', 'Race']).agg(\n",
    "    Population=('Population', 'sum')\n",
    ")\n",
    "race_age"
   ],
   "id": "e7c59e1221ddcc9c",
   "outputs": [
    {
     "data": {
      "text/plain": [
       "                      Population\n",
       "Age-Group Race                  \n",
       "15-19     Asian          42066.0\n",
       "          Black        1403059.0\n",
       "          Indigenous    123236.0\n",
       "          Latino       7196383.0\n",
       "          White        5610575.0\n",
       "20-24     Asian          49540.0\n",
       "          Black        1725800.0\n",
       "          Indigenous    112621.0\n",
       "          Latino       7500613.0\n",
       "          White        6076604.0\n",
       "25-34     Asian         108560.0\n",
       "          Black        3530238.0\n",
       "          Indigenous    179356.0\n",
       "          Latino      14564226.0\n",
       "          White       12557978.0\n",
       "35-44     Asian         134648.0\n",
       "          Black        3701846.0\n",
       "          Indigenous    148021.0\n",
       "          Latino      14705924.0\n",
       "          White       13552562.0\n",
       "45-54     Asian         116579.0\n",
       "          Black        2962748.0\n",
       "          Indigenous    106617.0\n",
       "          Latino      11565177.0\n",
       "          White       11486257.0\n",
       "55-64     Asian         108995.0\n",
       "          Black        2263936.0\n",
       "          Indigenous     76713.0\n",
       "          Latino       8768536.0\n",
       "          White       10294372.0"
      ],
      "text/html": [
       "<div>\n",
       "<style scoped>\n",
       "    .dataframe tbody tr th:only-of-type {\n",
       "        vertical-align: middle;\n",
       "    }\n",
       "\n",
       "    .dataframe tbody tr th {\n",
       "        vertical-align: top;\n",
       "    }\n",
       "\n",
       "    .dataframe thead th {\n",
       "        text-align: right;\n",
       "    }\n",
       "</style>\n",
       "<table border=\"1\" class=\"dataframe\">\n",
       "  <thead>\n",
       "    <tr style=\"text-align: right;\">\n",
       "      <th></th>\n",
       "      <th></th>\n",
       "      <th>Population</th>\n",
       "    </tr>\n",
       "    <tr>\n",
       "      <th>Age-Group</th>\n",
       "      <th>Race</th>\n",
       "      <th></th>\n",
       "    </tr>\n",
       "  </thead>\n",
       "  <tbody>\n",
       "    <tr>\n",
       "      <th rowspan=\"5\" valign=\"top\">15-19</th>\n",
       "      <th>Asian</th>\n",
       "      <td>42066.0</td>\n",
       "    </tr>\n",
       "    <tr>\n",
       "      <th>Black</th>\n",
       "      <td>1403059.0</td>\n",
       "    </tr>\n",
       "    <tr>\n",
       "      <th>Indigenous</th>\n",
       "      <td>123236.0</td>\n",
       "    </tr>\n",
       "    <tr>\n",
       "      <th>Latino</th>\n",
       "      <td>7196383.0</td>\n",
       "    </tr>\n",
       "    <tr>\n",
       "      <th>White</th>\n",
       "      <td>5610575.0</td>\n",
       "    </tr>\n",
       "    <tr>\n",
       "      <th rowspan=\"5\" valign=\"top\">20-24</th>\n",
       "      <th>Asian</th>\n",
       "      <td>49540.0</td>\n",
       "    </tr>\n",
       "    <tr>\n",
       "      <th>Black</th>\n",
       "      <td>1725800.0</td>\n",
       "    </tr>\n",
       "    <tr>\n",
       "      <th>Indigenous</th>\n",
       "      <td>112621.0</td>\n",
       "    </tr>\n",
       "    <tr>\n",
       "      <th>Latino</th>\n",
       "      <td>7500613.0</td>\n",
       "    </tr>\n",
       "    <tr>\n",
       "      <th>White</th>\n",
       "      <td>6076604.0</td>\n",
       "    </tr>\n",
       "    <tr>\n",
       "      <th rowspan=\"5\" valign=\"top\">25-34</th>\n",
       "      <th>Asian</th>\n",
       "      <td>108560.0</td>\n",
       "    </tr>\n",
       "    <tr>\n",
       "      <th>Black</th>\n",
       "      <td>3530238.0</td>\n",
       "    </tr>\n",
       "    <tr>\n",
       "      <th>Indigenous</th>\n",
       "      <td>179356.0</td>\n",
       "    </tr>\n",
       "    <tr>\n",
       "      <th>Latino</th>\n",
       "      <td>14564226.0</td>\n",
       "    </tr>\n",
       "    <tr>\n",
       "      <th>White</th>\n",
       "      <td>12557978.0</td>\n",
       "    </tr>\n",
       "    <tr>\n",
       "      <th rowspan=\"5\" valign=\"top\">35-44</th>\n",
       "      <th>Asian</th>\n",
       "      <td>134648.0</td>\n",
       "    </tr>\n",
       "    <tr>\n",
       "      <th>Black</th>\n",
       "      <td>3701846.0</td>\n",
       "    </tr>\n",
       "    <tr>\n",
       "      <th>Indigenous</th>\n",
       "      <td>148021.0</td>\n",
       "    </tr>\n",
       "    <tr>\n",
       "      <th>Latino</th>\n",
       "      <td>14705924.0</td>\n",
       "    </tr>\n",
       "    <tr>\n",
       "      <th>White</th>\n",
       "      <td>13552562.0</td>\n",
       "    </tr>\n",
       "    <tr>\n",
       "      <th rowspan=\"5\" valign=\"top\">45-54</th>\n",
       "      <th>Asian</th>\n",
       "      <td>116579.0</td>\n",
       "    </tr>\n",
       "    <tr>\n",
       "      <th>Black</th>\n",
       "      <td>2962748.0</td>\n",
       "    </tr>\n",
       "    <tr>\n",
       "      <th>Indigenous</th>\n",
       "      <td>106617.0</td>\n",
       "    </tr>\n",
       "    <tr>\n",
       "      <th>Latino</th>\n",
       "      <td>11565177.0</td>\n",
       "    </tr>\n",
       "    <tr>\n",
       "      <th>White</th>\n",
       "      <td>11486257.0</td>\n",
       "    </tr>\n",
       "    <tr>\n",
       "      <th rowspan=\"5\" valign=\"top\">55-64</th>\n",
       "      <th>Asian</th>\n",
       "      <td>108995.0</td>\n",
       "    </tr>\n",
       "    <tr>\n",
       "      <th>Black</th>\n",
       "      <td>2263936.0</td>\n",
       "    </tr>\n",
       "    <tr>\n",
       "      <th>Indigenous</th>\n",
       "      <td>76713.0</td>\n",
       "    </tr>\n",
       "    <tr>\n",
       "      <th>Latino</th>\n",
       "      <td>8768536.0</td>\n",
       "    </tr>\n",
       "    <tr>\n",
       "      <th>White</th>\n",
       "      <td>10294372.0</td>\n",
       "    </tr>\n",
       "  </tbody>\n",
       "</table>\n",
       "</div>"
      ]
     },
     "execution_count": 16,
     "metadata": {},
     "output_type": "execute_result"
    }
   ],
   "execution_count": 16
  },
  {
   "metadata": {
    "ExecuteTime": {
     "end_time": "2025-03-18T14:43:01.387783Z",
     "start_time": "2025-03-18T14:43:01.080750Z"
    }
   },
   "cell_type": "code",
   "source": [
    "plt.figure(figsize=(10, 6))\n",
    "sns.barplot(data=race_age, x=\"Age-Group\", y=\"Population\", hue=\"Race\", palette='Paired')\n",
    "plt.title('Population by Age and Race')\n",
    "plt.show()"
   ],
   "id": "186bb73c3e5ebebd",
   "outputs": [
    {
     "data": {
      "text/plain": [
       "<Figure size 1000x600 with 1 Axes>"
      ],
      "image/png": "[encoded data removed]"
     },
     "metadata": {},
     "output_type": "display_data"
    }
   ],
   "execution_count": 17
  },
  {
   "metadata": {
    "ExecuteTime": {
     "end_time": "2025-03-18T14:43:01.814223Z",
     "start_time": "2025-03-18T14:43:01.809202Z"
    }
   },
   "cell_type": "code",
   "source": "",
   "id": "26515250e7ca3a1a",
   "outputs": [],
   "execution_count": null
  }
 ],
 "metadata": {
  "kernelspec": {
   "display_name": "Python 3",
   "language": "python",
   "name": "python3"
  },
  "language_info": {
   "codemirror_mode": {
    "name": "ipython",
    "version": 2
   },
   "file_extension": ".py",
   "mimetype": "text/x-python",
   "name": "python",
   "nbconvert_exporter": "python",
   "pygments_lexer": "ipython2",
   "version": "2.7.6"
  }
 },
 "nbformat": 4,
 "nbformat_minor": 5
}
