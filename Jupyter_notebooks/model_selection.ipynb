{
 "cells": [
  {
   "cell_type": "code",
   "id": "initial_id",
   "metadata": {
    "collapsed": true,
    "ExecuteTime": {
     "end_time": "2025-03-11T17:06:55.631544Z",
     "start_time": "2025-03-11T17:06:55.628244Z"
    }
   },
   "source": [
    "import pandas as pd\n",
    "import statsmodels.api as sm\n",
    "from sklearn.linear_model import LinearRegression\n",
    "from dmba import stepwise_selection\n",
    "from dmba import AIC_score"
   ],
   "outputs": [],
   "execution_count": 220
  },
  {
   "metadata": {
    "ExecuteTime": {
     "end_time": "2025-03-11T17:06:55.694631Z",
     "start_time": "2025-03-11T17:06:55.681269Z"
    }
   },
   "cell_type": "code",
   "source": [
    "df = pd.read_csv(\"/home/satire/PycharmProjects/Statistics/csv/Student_Performance.csv\")\n",
    "df1 = df.copy()"
   ],
   "id": "8249bfd315f26a42",
   "outputs": [],
   "execution_count": 221
  },
  {
   "metadata": {
    "ExecuteTime": {
     "end_time": "2025-03-11T17:06:55.743445Z",
     "start_time": "2025-03-11T17:06:55.734962Z"
    }
   },
   "cell_type": "code",
   "source": [
    "pred = ['Hours Studied', 'Previous Scores', 'Extracurricular Activities',\n",
    "       'Sleep Hours', 'Sample Question Papers Practiced']\n",
    "outcome = 'Performance Index'\n",
    "X = pd.get_dummies(df[pred], drop_first=True, dtype=int)\n",
    "X['Extracurricular Activities_Yes'] = [1 if ea else 0 for ea in X['Extracurricular Activities_Yes']]"
   ],
   "id": "d54e5985860cd2b5",
   "outputs": [],
   "execution_count": 222
  },
  {
   "metadata": {
    "ExecuteTime": {
     "end_time": "2025-03-11T17:06:55.793314Z",
     "start_time": "2025-03-11T17:06:55.786723Z"
    }
   },
   "cell_type": "code",
   "source": "X",
   "id": "5717d903835932d0",
   "outputs": [
    {
     "data": {
      "text/plain": [
       "      Hours Studied  Previous Scores  Sleep Hours  \\\n",
       "0                 7               99            9   \n",
       "1                 4               82            4   \n",
       "2                 8               51            7   \n",
       "3                 5               52            5   \n",
       "4                 7               75            8   \n",
       "...             ...              ...          ...   \n",
       "9995              1               49            4   \n",
       "9996              7               64            8   \n",
       "9997              6               83            8   \n",
       "9998              9               97            7   \n",
       "9999              7               74            8   \n",
       "\n",
       "      Sample Question Papers Practiced  Extracurricular Activities_Yes  \n",
       "0                                    1                               1  \n",
       "1                                    2                               0  \n",
       "2                                    2                               1  \n",
       "3                                    2                               1  \n",
       "4                                    5                               0  \n",
       "...                                ...                             ...  \n",
       "9995                                 2                               1  \n",
       "9996                                 5                               1  \n",
       "9997                                 5                               1  \n",
       "9998                                 0                               1  \n",
       "9999                                 1                               0  \n",
       "\n",
       "[10000 rows x 5 columns]"
      ],
      "text/html": [
       "<div>\n",
       "<style scoped>\n",
       "    .dataframe tbody tr th:only-of-type {\n",
       "        vertical-align: middle;\n",
       "    }\n",
       "\n",
       "    .dataframe tbody tr th {\n",
       "        vertical-align: top;\n",
       "    }\n",
       "\n",
       "    .dataframe thead th {\n",
       "        text-align: right;\n",
       "    }\n",
       "</style>\n",
       "<table border=\"1\" class=\"dataframe\">\n",
       "  <thead>\n",
       "    <tr style=\"text-align: right;\">\n",
       "      <th></th>\n",
       "      <th>Hours Studied</th>\n",
       "      <th>Previous Scores</th>\n",
       "      <th>Sleep Hours</th>\n",
       "      <th>Sample Question Papers Practiced</th>\n",
       "      <th>Extracurricular Activities_Yes</th>\n",
       "    </tr>\n",
       "  </thead>\n",
       "  <tbody>\n",
       "    <tr>\n",
       "      <th>0</th>\n",
       "      <td>7</td>\n",
       "      <td>99</td>\n",
       "      <td>9</td>\n",
       "      <td>1</td>\n",
       "      <td>1</td>\n",
       "    </tr>\n",
       "    <tr>\n",
       "      <th>1</th>\n",
       "      <td>4</td>\n",
       "      <td>82</td>\n",
       "      <td>4</td>\n",
       "      <td>2</td>\n",
       "      <td>0</td>\n",
       "    </tr>\n",
       "    <tr>\n",
       "      <th>2</th>\n",
       "      <td>8</td>\n",
       "      <td>51</td>\n",
       "      <td>7</td>\n",
       "      <td>2</td>\n",
       "      <td>1</td>\n",
       "    </tr>\n",
       "    <tr>\n",
       "      <th>3</th>\n",
       "      <td>5</td>\n",
       "      <td>52</td>\n",
       "      <td>5</td>\n",
       "      <td>2</td>\n",
       "      <td>1</td>\n",
       "    </tr>\n",
       "    <tr>\n",
       "      <th>4</th>\n",
       "      <td>7</td>\n",
       "      <td>75</td>\n",
       "      <td>8</td>\n",
       "      <td>5</td>\n",
       "      <td>0</td>\n",
       "    </tr>\n",
       "    <tr>\n",
       "      <th>...</th>\n",
       "      <td>...</td>\n",
       "      <td>...</td>\n",
       "      <td>...</td>\n",
       "      <td>...</td>\n",
       "      <td>...</td>\n",
       "    </tr>\n",
       "    <tr>\n",
       "      <th>9995</th>\n",
       "      <td>1</td>\n",
       "      <td>49</td>\n",
       "      <td>4</td>\n",
       "      <td>2</td>\n",
       "      <td>1</td>\n",
       "    </tr>\n",
       "    <tr>\n",
       "      <th>9996</th>\n",
       "      <td>7</td>\n",
       "      <td>64</td>\n",
       "      <td>8</td>\n",
       "      <td>5</td>\n",
       "      <td>1</td>\n",
       "    </tr>\n",
       "    <tr>\n",
       "      <th>9997</th>\n",
       "      <td>6</td>\n",
       "      <td>83</td>\n",
       "      <td>8</td>\n",
       "      <td>5</td>\n",
       "      <td>1</td>\n",
       "    </tr>\n",
       "    <tr>\n",
       "      <th>9998</th>\n",
       "      <td>9</td>\n",
       "      <td>97</td>\n",
       "      <td>7</td>\n",
       "      <td>0</td>\n",
       "      <td>1</td>\n",
       "    </tr>\n",
       "    <tr>\n",
       "      <th>9999</th>\n",
       "      <td>7</td>\n",
       "      <td>74</td>\n",
       "      <td>8</td>\n",
       "      <td>1</td>\n",
       "      <td>0</td>\n",
       "    </tr>\n",
       "  </tbody>\n",
       "</table>\n",
       "<p>10000 rows × 5 columns</p>\n",
       "</div>"
      ]
     },
     "execution_count": 223,
     "metadata": {},
     "output_type": "execute_result"
    }
   ],
   "execution_count": 223
  },
  {
   "metadata": {
    "ExecuteTime": {
     "end_time": "2025-03-11T17:06:55.880557Z",
     "start_time": "2025-03-11T17:06:55.865564Z"
    }
   },
   "cell_type": "code",
   "source": [
    "df = sm.OLS(df[outcome], X.assign(const=1))\n",
    "result = df.fit()\n",
    "result.summary()"
   ],
   "id": "fe27146ffc6f7392",
   "outputs": [
    {
     "data": {
      "text/plain": [
       "<class 'statsmodels.iolib.summary.Summary'>\n",
       "\"\"\"\n",
       "                            OLS Regression Results                            \n",
       "==============================================================================\n",
       "Dep. Variable:      Performance Index   R-squared:                       0.989\n",
       "Model:                            OLS   Adj. R-squared:                  0.989\n",
       "Method:                 Least Squares   F-statistic:                 1.757e+05\n",
       "Date:                Tue, 11 Mar 2025   Prob (F-statistic):               0.00\n",
       "Time:                        14:06:55   Log-Likelihood:                -21307.\n",
       "No. Observations:               10000   AIC:                         4.263e+04\n",
       "Df Residuals:                    9994   BIC:                         4.267e+04\n",
       "Df Model:                           5                                         \n",
       "Covariance Type:            nonrobust                                         \n",
       "====================================================================================================\n",
       "                                       coef    std err          t      P>|t|      [0.025      0.975]\n",
       "----------------------------------------------------------------------------------------------------\n",
       "Hours Studied                        2.8530      0.008    362.353      0.000       2.838       2.868\n",
       "Previous Scores                      1.0184      0.001    866.450      0.000       1.016       1.021\n",
       "Sleep Hours                          0.4806      0.012     39.972      0.000       0.457       0.504\n",
       "Sample Question Papers Practiced     0.1938      0.007     27.257      0.000       0.180       0.208\n",
       "Extracurricular Activities_Yes       0.6129      0.041     15.029      0.000       0.533       0.693\n",
       "const                              -34.0756      0.127   -268.010      0.000     -34.325     -33.826\n",
       "==============================================================================\n",
       "Omnibus:                        3.851   Durbin-Watson:                   2.001\n",
       "Prob(Omnibus):                  0.146   Jarque-Bera (JB):                4.036\n",
       "Skew:                           0.013   Prob(JB):                        0.133\n",
       "Kurtosis:                       3.095   Cond. No.                         452.\n",
       "==============================================================================\n",
       "\n",
       "Notes:\n",
       "[1] Standard Errors assume that the covariance matrix of the errors is correctly specified.\n",
       "\"\"\""
      ],
      "text/html": [
       "<table class=\"simpletable\">\n",
       "<caption>OLS Regression Results</caption>\n",
       "<tr>\n",
       "  <th>Dep. Variable:</th>    <td>Performance Index</td> <th>  R-squared:         </th> <td>   0.989</td> \n",
       "</tr>\n",
       "<tr>\n",
       "  <th>Model:</th>                   <td>OLS</td>        <th>  Adj. R-squared:    </th> <td>   0.989</td> \n",
       "</tr>\n",
       "<tr>\n",
       "  <th>Method:</th>             <td>Least Squares</td>   <th>  F-statistic:       </th> <td>1.757e+05</td>\n",
       "</tr>\n",
       "<tr>\n",
       "  <th>Date:</th>             <td>Tue, 11 Mar 2025</td>  <th>  Prob (F-statistic):</th>  <td>  0.00</td>  \n",
       "</tr>\n",
       "<tr>\n",
       "  <th>Time:</th>                 <td>14:06:55</td>      <th>  Log-Likelihood:    </th> <td> -21307.</td> \n",
       "</tr>\n",
       "<tr>\n",
       "  <th>No. Observations:</th>      <td> 10000</td>       <th>  AIC:               </th> <td>4.263e+04</td>\n",
       "</tr>\n",
       "<tr>\n",
       "  <th>Df Residuals:</th>          <td>  9994</td>       <th>  BIC:               </th> <td>4.267e+04</td>\n",
       "</tr>\n",
       "<tr>\n",
       "  <th>Df Model:</th>              <td>     5</td>       <th>                     </th>     <td> </td>    \n",
       "</tr>\n",
       "<tr>\n",
       "  <th>Covariance Type:</th>      <td>nonrobust</td>     <th>                     </th>     <td> </td>    \n",
       "</tr>\n",
       "</table>\n",
       "<table class=\"simpletable\">\n",
       "<tr>\n",
       "                  <td></td>                    <th>coef</th>     <th>std err</th>      <th>t</th>      <th>P>|t|</th>  <th>[0.025</th>    <th>0.975]</th>  \n",
       "</tr>\n",
       "<tr>\n",
       "  <th>Hours Studied</th>                    <td>    2.8530</td> <td>    0.008</td> <td>  362.353</td> <td> 0.000</td> <td>    2.838</td> <td>    2.868</td>\n",
       "</tr>\n",
       "<tr>\n",
       "  <th>Previous Scores</th>                  <td>    1.0184</td> <td>    0.001</td> <td>  866.450</td> <td> 0.000</td> <td>    1.016</td> <td>    1.021</td>\n",
       "</tr>\n",
       "<tr>\n",
       "  <th>Sleep Hours</th>                      <td>    0.4806</td> <td>    0.012</td> <td>   39.972</td> <td> 0.000</td> <td>    0.457</td> <td>    0.504</td>\n",
       "</tr>\n",
       "<tr>\n",
       "  <th>Sample Question Papers Practiced</th> <td>    0.1938</td> <td>    0.007</td> <td>   27.257</td> <td> 0.000</td> <td>    0.180</td> <td>    0.208</td>\n",
       "</tr>\n",
       "<tr>\n",
       "  <th>Extracurricular Activities_Yes</th>   <td>    0.6129</td> <td>    0.041</td> <td>   15.029</td> <td> 0.000</td> <td>    0.533</td> <td>    0.693</td>\n",
       "</tr>\n",
       "<tr>\n",
       "  <th>const</th>                            <td>  -34.0756</td> <td>    0.127</td> <td> -268.010</td> <td> 0.000</td> <td>  -34.325</td> <td>  -33.826</td>\n",
       "</tr>\n",
       "</table>\n",
       "<table class=\"simpletable\">\n",
       "<tr>\n",
       "  <th>Omnibus:</th>       <td> 3.851</td> <th>  Durbin-Watson:     </th> <td>   2.001</td>\n",
       "</tr>\n",
       "<tr>\n",
       "  <th>Prob(Omnibus):</th> <td> 0.146</td> <th>  Jarque-Bera (JB):  </th> <td>   4.036</td>\n",
       "</tr>\n",
       "<tr>\n",
       "  <th>Skew:</th>          <td> 0.013</td> <th>  Prob(JB):          </th> <td>   0.133</td>\n",
       "</tr>\n",
       "<tr>\n",
       "  <th>Kurtosis:</th>      <td> 3.095</td> <th>  Cond. No.          </th> <td>    452.</td>\n",
       "</tr>\n",
       "</table><br/><br/>Notes:<br/>[1] Standard Errors assume that the covariance matrix of the errors is correctly specified."
      ],
      "text/latex": "\\begin{center}\n\\begin{tabular}{lclc}\n\\toprule\n\\textbf{Dep. Variable:}                   & Performance Index & \\textbf{  R-squared:         } &     0.989   \\\\\n\\textbf{Model:}                           &        OLS        & \\textbf{  Adj. R-squared:    } &     0.989   \\\\\n\\textbf{Method:}                          &   Least Squares   & \\textbf{  F-statistic:       } & 1.757e+05   \\\\\n\\textbf{Date:}                            &  Tue, 11 Mar 2025 & \\textbf{  Prob (F-statistic):} &     0.00    \\\\\n\\textbf{Time:}                            &      14:06:55     & \\textbf{  Log-Likelihood:    } &   -21307.   \\\\\n\\textbf{No. Observations:}                &        10000      & \\textbf{  AIC:               } & 4.263e+04   \\\\\n\\textbf{Df Residuals:}                    &         9994      & \\textbf{  BIC:               } & 4.267e+04   \\\\\n\\textbf{Df Model:}                        &            5      & \\textbf{                     } &             \\\\\n\\textbf{Covariance Type:}                 &     nonrobust     & \\textbf{                     } &             \\\\\n\\bottomrule\n\\end{tabular}\n\\begin{tabular}{lcccccc}\n                                          & \\textbf{coef} & \\textbf{std err} & \\textbf{t} & \\textbf{P$> |$t$|$} & \\textbf{[0.025} & \\textbf{0.975]}  \\\\\n\\midrule\n\\textbf{Hours Studied}                    &       2.8530  &        0.008     &   362.353  &         0.000        &        2.838    &        2.868     \\\\\n\\textbf{Previous Scores}                  &       1.0184  &        0.001     &   866.450  &         0.000        &        1.016    &        1.021     \\\\\n\\textbf{Sleep Hours}                      &       0.4806  &        0.012     &    39.972  &         0.000        &        0.457    &        0.504     \\\\\n\\textbf{Sample Question Papers Practiced} &       0.1938  &        0.007     &    27.257  &         0.000        &        0.180    &        0.208     \\\\\n\\textbf{Extracurricular Activities\\_Yes}  &       0.6129  &        0.041     &    15.029  &         0.000        &        0.533    &        0.693     \\\\\n\\textbf{const}                            &     -34.0756  &        0.127     &  -268.010  &         0.000        &      -34.325    &      -33.826     \\\\\n\\bottomrule\n\\end{tabular}\n\\begin{tabular}{lclc}\n\\textbf{Omnibus:}       &  3.851 & \\textbf{  Durbin-Watson:     } &    2.001  \\\\\n\\textbf{Prob(Omnibus):} &  0.146 & \\textbf{  Jarque-Bera (JB):  } &    4.036  \\\\\n\\textbf{Skew:}          &  0.013 & \\textbf{  Prob(JB):          } &    0.133  \\\\\n\\textbf{Kurtosis:}      &  3.095 & \\textbf{  Cond. No.          } &     452.  \\\\\n\\bottomrule\n\\end{tabular}\n%\\caption{OLS Regression Results}\n\\end{center}\n\nNotes: \\newline\n [1] Standard Errors assume that the covariance matrix of the errors is correctly specified."
     },
     "execution_count": 224,
     "metadata": {},
     "output_type": "execute_result"
    }
   ],
   "execution_count": 224
  },
  {
   "metadata": {
    "ExecuteTime": {
     "end_time": "2025-03-11T17:06:55.915439Z",
     "start_time": "2025-03-11T17:06:55.912511Z"
    }
   },
   "cell_type": "code",
   "source": "y = df1[outcome]",
   "id": "b7a0bc9fe242fc31",
   "outputs": [],
   "execution_count": 225
  },
  {
   "metadata": {
    "ExecuteTime": {
     "end_time": "2025-03-11T17:06:56.035964Z",
     "start_time": "2025-03-11T17:06:55.972161Z"
    }
   },
   "cell_type": "code",
   "source": [
    "def train_model(variables): #Train the model on the remaining data\n",
    "    if len(variables) == 0:\n",
    "        return None\n",
    "    model = LinearRegression()\n",
    "    model.fit(X[variables], y)\n",
    "    return model\n",
    "\n",
    "def score_model(model, variables): #Apply score the model to the 1/k holdout(dummy variables)\n",
    "    if len(variables) == 0:\n",
    "        return AIC_score(y, [y.mean()] * len(y), model, df=1)\n",
    "    return AIC_score(y, model.predict(X[variables]), model) #penalizes adding terms to a model\n",
    "best_model, best_variables = stepwise_selection(X.columns, train_model, # start with a constant model and add variables(forward selection)\n",
    "                                            score_model, verbose=True)\n",
    "#record model assessment metrics\n",
    "print(f'Intercept: {best_model.intercept_:.3f}')\n",
    "print('Coefficients')\n",
    "for name, coef in zip(best_variables, best_model.coef_):\n",
    "    print(f' {name}: {coef}')"
   ],
   "id": "a06e6143025676a6",
   "outputs": [
    {
     "name": "stdout",
     "output_type": "stream",
     "text": [
      "Variables: Hours Studied, Previous Scores, Sleep Hours, Sample Question Papers Practiced, Extracurricular Activities_Yes\n",
      "Start: score=87493.05, constant\n",
      "Step: score=69319.90, add Previous Scores\n",
      "Step: score=44900.79, add Hours Studied\n",
      "Step: score=43558.25, add Sleep Hours\n",
      "Step: score=42848.60, add Sample Question Papers Practiced\n",
      "Step: score=42627.11, add Extracurricular Activities_Yes\n",
      "Step: score=42627.11, unchanged None\n",
      "Intercept: -34.076\n",
      "Coefficients\n",
      " Previous Scores: 1.0184341923340543\n",
      " Hours Studied: 2.852982053532594\n",
      " Sleep Hours: 0.4805597547118866\n",
      " Sample Question Papers Practiced: 0.1938021400698875\n",
      " Extracurricular Activities_Yes: 0.6128975819601042\n"
     ]
    }
   ],
   "execution_count": 226
  },
  {
   "metadata": {
    "ExecuteTime": {
     "end_time": "2025-03-11T17:06:56.059601Z",
     "start_time": "2025-03-11T17:06:56.056999Z"
    }
   },
   "cell_type": "code",
   "source": "",
   "id": "3304e0d10c009b5d",
   "outputs": [],
   "execution_count": null
  }
 ],
 "metadata": {
  "kernelspec": {
   "display_name": "Python 3",
   "language": "python",
   "name": "python3"
  },
  "language_info": {
   "codemirror_mode": {
    "name": "ipython",
    "version": 2
   },
   "file_extension": ".py",
   "mimetype": "text/x-python",
   "name": "python",
   "nbconvert_exporter": "python",
   "pygments_lexer": "ipython2",
   "version": "2.7.6"
  }
 },
 "nbformat": 4,
 "nbformat_minor": 5
}
