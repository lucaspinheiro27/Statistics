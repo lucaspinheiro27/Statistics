{
 "cells": [
  {
   "metadata": {},
   "cell_type": "markdown",
   "source": [
    "Sample\n",
    "* A subset from a larger population"
   ],
   "id": "e66141be4a77ae16"
  },
  {
   "metadata": {},
   "cell_type": "markdown",
   "source": [
    "Population\n",
    "* The larger data set or idea of a data set"
   ],
   "id": "4b2345533949ef6"
  },
  {
   "metadata": {},
   "cell_type": "markdown",
   "source": [
    "N (n)\n",
    "* The size of the population (sample)"
   ],
   "id": "92ff1d2b8193ae9d"
  },
  {
   "metadata": {},
   "cell_type": "markdown",
   "source": [
    "Random Sampling\n",
    "* Drawing elements into a sample at random"
   ],
   "id": "1c612d168509e62"
  },
  {
   "metadata": {},
   "cell_type": "markdown",
   "source": [
    "Stratified Sampling\n",
    "* Dividing the population into a strata and randomly sampling from each strata."
   ],
   "id": "998394bb72738a9a"
  },
  {
   "metadata": {},
   "cell_type": "markdown",
   "source": [
    "Stratum\n",
    "* A homonegeneous subgroup of a population with common characteristics"
   ],
   "id": "22663513256c92f9"
  },
  {
   "metadata": {},
   "cell_type": "markdown",
   "source": [
    "Simple random sample\n",
    "* The sample that results from random sampling without stratification"
   ],
   "id": "37bf8441d059eb37"
  },
  {
   "metadata": {},
   "cell_type": "markdown",
   "source": [
    "Bias\n",
    "* Systematic error in the sample"
   ],
   "id": "f28800fae6f2a6c"
  },
  {
   "metadata": {},
   "cell_type": "markdown",
   "source": [
    "Sample Bias\n",
    "* A sample that misrepresents the population."
   ],
   "id": "bcd7f315f0233b4a"
  },
  {
   "metadata": {},
   "cell_type": "markdown",
   "source": [
    "Sample mean\n",
    "* the symbol $$(\\bar{x})$$ is the sample mean, whereas the population mean is $$(\\mu)$$"
   ],
   "id": "1debaaf29e3bcb3f"
  },
  {
   "metadata": {},
   "cell_type": "markdown",
   "source": [
    "Selection Bias\n",
    "* Selectively choosing the data that supports a hypothesis."
   ],
   "id": "9193c32c5212f46a"
  },
  {
   "metadata": {},
   "cell_type": "markdown",
   "source": [
    "Data snooping\n",
    "* Bias resulting from the way in which observations are selected."
   ],
   "id": "a4f715aec670c29d"
  },
  {
   "metadata": {},
   "cell_type": "markdown",
   "source": [
    "Vast search effect\n",
    "* Bias resulting from repeated data modeling, or modeling data with large numbers of predictor variables."
   ],
   "id": "ce0ebe12aed703ae"
  },
  {
   "metadata": {},
   "cell_type": "markdown",
   "source": [
    "Regression to the Mean\n",
    "* Phenomenon involving successive measurements on a given variable, extreme observations tend to be followed by more central ones.\n",
    "* For example; if a student scores 100% on a test, they are likely to score lower on the next test."
   ],
   "id": "14e5715962e5992c"
  },
  {
   "metadata": {},
   "cell_type": "markdown",
   "source": [
    "Sample statistic\n",
    "* A metric calculated for a sample of data drawn from a larger population. The distribution is likely to be more regular and bell-shaped than the distribution of the data itself."
   ],
   "id": "47ecf10ce7651d6a"
  },
  {
   "metadata": {},
   "cell_type": "markdown",
   "source": [
    "Data Distribution\n",
    "* The frequency distribution of individual values in a data set."
   ],
   "id": "232aab3bf1de6122"
  },
  {
   "metadata": {},
   "cell_type": "markdown",
   "source": [
    "Sampling Distribution\n",
    "* The frequency distribution of a sample statistic over many samples."
   ],
   "id": "d4952f4d05fb504c"
  },
  {
   "metadata": {},
   "cell_type": "markdown",
   "source": [
    "Central limit theorem\n",
    "* The tendency of the sampling distribution to take on a normal shape as the size rises."
   ],
   "id": "d1ff916d9d896190"
  },
  {
   "metadata": {},
   "cell_type": "markdown",
   "source": [
    "Standard error\n",
    "* The variability or standard deviation of sample statistic over many sample samples."
   ],
   "id": "78d61f4f6b65578b"
  },
  {
   "cell_type": "code",
   "id": "initial_id",
   "metadata": {
    "collapsed": true,
    "ExecuteTime": {
     "end_time": "2025-02-05T00:53:12.637297Z",
     "start_time": "2025-02-05T00:53:12.606923Z"
    }
   },
   "source": [
    "import pandas as pd\n",
    "import seaborn as sns\n",
    "import matplotlib.pyplot as plt\n",
    "from sklearn.utils import resample"
   ],
   "outputs": [],
   "execution_count": 127
  },
  {
   "metadata": {
    "ExecuteTime": {
     "end_time": "2025-02-05T00:27:33.108766Z",
     "start_time": "2025-02-05T00:27:33.098921Z"
    }
   },
   "cell_type": "code",
   "source": [
    "df = pd.read_csv('/home/satire/PycharmProjects/Statistics/csv/Top 100 tiktokers in 2025.csv', delimiter=',', encoding='latin1')\n",
    "df"
   ],
   "id": "5e96a2699e00f1a2",
   "outputs": [
    {
     "data": {
      "text/plain": [
       "    Rank           Username  Followers  Following  Uploads        Likes\n",
       "0      1       Khabane lame  162400000         78     1251   2500000000\n",
       "1      2    charli d'amelio  155700000       1304     2812  11800000000\n",
       "2      3            MrBeast  107500000        362      394   1100000000\n",
       "3      4       Bella Poarch   94300000        649      771   2400000000\n",
       "4      5        Addison Rae   88500000          1      318   5200000000\n",
       "..   ...                ...        ...        ...      ...          ...\n",
       "95    96    Arnaldo Mangini   32300000        105     2052    251800000\n",
       "96    97           Fujiiian   32300000        464     1571   1900000000\n",
       "97    98        Surthycooks   32300000        176     1242    918400000\n",
       "98    99     Faisal shaikh     3200000          0      456   2000000000\n",
       "99   100  ignacia Antonia??   31700000        269     1409   2500000000\n",
       "\n",
       "[100 rows x 6 columns]"
      ],
      "text/html": [
       "<div>\n",
       "<style scoped>\n",
       "    .dataframe tbody tr th:only-of-type {\n",
       "        vertical-align: middle;\n",
       "    }\n",
       "\n",
       "    .dataframe tbody tr th {\n",
       "        vertical-align: top;\n",
       "    }\n",
       "\n",
       "    .dataframe thead th {\n",
       "        text-align: right;\n",
       "    }\n",
       "</style>\n",
       "<table border=\"1\" class=\"dataframe\">\n",
       "  <thead>\n",
       "    <tr style=\"text-align: right;\">\n",
       "      <th></th>\n",
       "      <th>Rank</th>\n",
       "      <th>Username</th>\n",
       "      <th>Followers</th>\n",
       "      <th>Following</th>\n",
       "      <th>Uploads</th>\n",
       "      <th>Likes</th>\n",
       "    </tr>\n",
       "  </thead>\n",
       "  <tbody>\n",
       "    <tr>\n",
       "      <th>0</th>\n",
       "      <td>1</td>\n",
       "      <td>Khabane lame</td>\n",
       "      <td>162400000</td>\n",
       "      <td>78</td>\n",
       "      <td>1251</td>\n",
       "      <td>2500000000</td>\n",
       "    </tr>\n",
       "    <tr>\n",
       "      <th>1</th>\n",
       "      <td>2</td>\n",
       "      <td>charli d'amelio</td>\n",
       "      <td>155700000</td>\n",
       "      <td>1304</td>\n",
       "      <td>2812</td>\n",
       "      <td>11800000000</td>\n",
       "    </tr>\n",
       "    <tr>\n",
       "      <th>2</th>\n",
       "      <td>3</td>\n",
       "      <td>MrBeast</td>\n",
       "      <td>107500000</td>\n",
       "      <td>362</td>\n",
       "      <td>394</td>\n",
       "      <td>1100000000</td>\n",
       "    </tr>\n",
       "    <tr>\n",
       "      <th>3</th>\n",
       "      <td>4</td>\n",
       "      <td>Bella Poarch</td>\n",
       "      <td>94300000</td>\n",
       "      <td>649</td>\n",
       "      <td>771</td>\n",
       "      <td>2400000000</td>\n",
       "    </tr>\n",
       "    <tr>\n",
       "      <th>4</th>\n",
       "      <td>5</td>\n",
       "      <td>Addison Rae</td>\n",
       "      <td>88500000</td>\n",
       "      <td>1</td>\n",
       "      <td>318</td>\n",
       "      <td>5200000000</td>\n",
       "    </tr>\n",
       "    <tr>\n",
       "      <th>...</th>\n",
       "      <td>...</td>\n",
       "      <td>...</td>\n",
       "      <td>...</td>\n",
       "      <td>...</td>\n",
       "      <td>...</td>\n",
       "      <td>...</td>\n",
       "    </tr>\n",
       "    <tr>\n",
       "      <th>95</th>\n",
       "      <td>96</td>\n",
       "      <td>Arnaldo Mangini</td>\n",
       "      <td>32300000</td>\n",
       "      <td>105</td>\n",
       "      <td>2052</td>\n",
       "      <td>251800000</td>\n",
       "    </tr>\n",
       "    <tr>\n",
       "      <th>96</th>\n",
       "      <td>97</td>\n",
       "      <td>Fujiiian</td>\n",
       "      <td>32300000</td>\n",
       "      <td>464</td>\n",
       "      <td>1571</td>\n",
       "      <td>1900000000</td>\n",
       "    </tr>\n",
       "    <tr>\n",
       "      <th>97</th>\n",
       "      <td>98</td>\n",
       "      <td>Surthycooks</td>\n",
       "      <td>32300000</td>\n",
       "      <td>176</td>\n",
       "      <td>1242</td>\n",
       "      <td>918400000</td>\n",
       "    </tr>\n",
       "    <tr>\n",
       "      <th>98</th>\n",
       "      <td>99</td>\n",
       "      <td>Faisal shaikh</td>\n",
       "      <td>3200000</td>\n",
       "      <td>0</td>\n",
       "      <td>456</td>\n",
       "      <td>2000000000</td>\n",
       "    </tr>\n",
       "    <tr>\n",
       "      <th>99</th>\n",
       "      <td>100</td>\n",
       "      <td>ignacia Antonia??</td>\n",
       "      <td>31700000</td>\n",
       "      <td>269</td>\n",
       "      <td>1409</td>\n",
       "      <td>2500000000</td>\n",
       "    </tr>\n",
       "  </tbody>\n",
       "</table>\n",
       "<p>100 rows × 6 columns</p>\n",
       "</div>"
      ]
     },
     "execution_count": 119,
     "metadata": {},
     "output_type": "execute_result"
    }
   ],
   "execution_count": 119
  },
  {
   "metadata": {
    "ExecuteTime": {
     "end_time": "2025-02-05T00:27:33.172453Z",
     "start_time": "2025-02-05T00:27:33.170028Z"
    }
   },
   "cell_type": "code",
   "source": [
    "max_registrations = len(df['Followers'])\n",
    "print(max_registrations)"
   ],
   "id": "c71b9424319670b1",
   "outputs": [
    {
     "name": "stdout",
     "output_type": "stream",
     "text": [
      "100\n"
     ]
    }
   ],
   "execution_count": 120
  },
  {
   "metadata": {
    "ExecuteTime": {
     "end_time": "2025-02-05T00:27:33.229918Z",
     "start_time": "2025-02-05T00:27:33.224718Z"
    }
   },
   "cell_type": "code",
   "source": "df.columns",
   "id": "2ddaa58ef1b5b7de",
   "outputs": [
    {
     "data": {
      "text/plain": [
       "Index(['Rank', 'Username', 'Followers', 'Following', 'Uploads', 'Likes'], dtype='object')"
      ]
     },
     "execution_count": 121,
     "metadata": {},
     "output_type": "execute_result"
    }
   ],
   "execution_count": 121
  },
  {
   "metadata": {
    "ExecuteTime": {
     "end_time": "2025-02-05T00:27:33.288193Z",
     "start_time": "2025-02-05T00:27:33.282625Z"
    }
   },
   "cell_type": "code",
   "source": "df.isna().sum()",
   "id": "6859471f909e58b2",
   "outputs": [
    {
     "data": {
      "text/plain": [
       "Rank         0\n",
       "Username     0\n",
       "Followers    0\n",
       "Following    0\n",
       "Uploads      0\n",
       "Likes        0\n",
       "dtype: int64"
      ]
     },
     "execution_count": 122,
     "metadata": {},
     "output_type": "execute_result"
    }
   ],
   "execution_count": 122
  },
  {
   "metadata": {
    "ExecuteTime": {
     "end_time": "2025-02-05T00:27:33.363082Z",
     "start_time": "2025-02-05T00:27:33.356539Z"
    }
   },
   "cell_type": "code",
   "source": [
    "sample_data = pd.DataFrame({\n",
    "    'Followers': df['Followers'].sample(10),\n",
    "    'Type': 'Data',\n",
    "})\n",
    "sample_data"
   ],
   "id": "74382c5e9185746d",
   "outputs": [
    {
     "data": {
      "text/plain": [
       "    Followers  Type\n",
       "65   37500000  Data\n",
       "61   37900000  Data\n",
       "23   54800000  Data\n",
       "80   34500000  Data\n",
       "42   43600000  Data\n",
       "94   32400000  Data\n",
       "59   38900000  Data\n",
       "91   32700000  Data\n",
       "64   37700000  Data\n",
       "97   32300000  Data"
      ],
      "text/html": [
       "<div>\n",
       "<style scoped>\n",
       "    .dataframe tbody tr th:only-of-type {\n",
       "        vertical-align: middle;\n",
       "    }\n",
       "\n",
       "    .dataframe tbody tr th {\n",
       "        vertical-align: top;\n",
       "    }\n",
       "\n",
       "    .dataframe thead th {\n",
       "        text-align: right;\n",
       "    }\n",
       "</style>\n",
       "<table border=\"1\" class=\"dataframe\">\n",
       "  <thead>\n",
       "    <tr style=\"text-align: right;\">\n",
       "      <th></th>\n",
       "      <th>Followers</th>\n",
       "      <th>Type</th>\n",
       "    </tr>\n",
       "  </thead>\n",
       "  <tbody>\n",
       "    <tr>\n",
       "      <th>65</th>\n",
       "      <td>37500000</td>\n",
       "      <td>Data</td>\n",
       "    </tr>\n",
       "    <tr>\n",
       "      <th>61</th>\n",
       "      <td>37900000</td>\n",
       "      <td>Data</td>\n",
       "    </tr>\n",
       "    <tr>\n",
       "      <th>23</th>\n",
       "      <td>54800000</td>\n",
       "      <td>Data</td>\n",
       "    </tr>\n",
       "    <tr>\n",
       "      <th>80</th>\n",
       "      <td>34500000</td>\n",
       "      <td>Data</td>\n",
       "    </tr>\n",
       "    <tr>\n",
       "      <th>42</th>\n",
       "      <td>43600000</td>\n",
       "      <td>Data</td>\n",
       "    </tr>\n",
       "    <tr>\n",
       "      <th>94</th>\n",
       "      <td>32400000</td>\n",
       "      <td>Data</td>\n",
       "    </tr>\n",
       "    <tr>\n",
       "      <th>59</th>\n",
       "      <td>38900000</td>\n",
       "      <td>Data</td>\n",
       "    </tr>\n",
       "    <tr>\n",
       "      <th>91</th>\n",
       "      <td>32700000</td>\n",
       "      <td>Data</td>\n",
       "    </tr>\n",
       "    <tr>\n",
       "      <th>64</th>\n",
       "      <td>37700000</td>\n",
       "      <td>Data</td>\n",
       "    </tr>\n",
       "    <tr>\n",
       "      <th>97</th>\n",
       "      <td>32300000</td>\n",
       "      <td>Data</td>\n",
       "    </tr>\n",
       "  </tbody>\n",
       "</table>\n",
       "</div>"
      ]
     },
     "execution_count": 123,
     "metadata": {},
     "output_type": "execute_result"
    }
   ],
   "execution_count": 123
  },
  {
   "metadata": {
    "ExecuteTime": {
     "end_time": "2025-02-05T00:27:33.460772Z",
     "start_time": "2025-02-05T00:27:33.450337Z"
    }
   },
   "cell_type": "code",
   "source": [
    "sample_mean_05 = pd.DataFrame({\n",
    "    'Followers': [df['Followers'].sample(5).mean() for i in range(10)],\n",
    "    'Type': 'Mean of 5',\n",
    "})\n",
    "sample_mean_05"
   ],
   "id": "7cd901648545ef38",
   "outputs": [
    {
     "data": {
      "text/plain": [
       "     Followers       Type\n",
       "0  127240000.6  Mean of 5\n",
       "1   40880000.0  Mean of 5\n",
       "2   38040000.0  Mean of 5\n",
       "3   54480000.0  Mean of 5\n",
       "4   44400000.0  Mean of 5\n",
       "5   55480000.0  Mean of 5\n",
       "6   43820000.0  Mean of 5\n",
       "7   37780000.0  Mean of 5\n",
       "8   55760000.0  Mean of 5\n",
       "9   69180000.0  Mean of 5"
      ],
      "text/html": [
       "<div>\n",
       "<style scoped>\n",
       "    .dataframe tbody tr th:only-of-type {\n",
       "        vertical-align: middle;\n",
       "    }\n",
       "\n",
       "    .dataframe tbody tr th {\n",
       "        vertical-align: top;\n",
       "    }\n",
       "\n",
       "    .dataframe thead th {\n",
       "        text-align: right;\n",
       "    }\n",
       "</style>\n",
       "<table border=\"1\" class=\"dataframe\">\n",
       "  <thead>\n",
       "    <tr style=\"text-align: right;\">\n",
       "      <th></th>\n",
       "      <th>Followers</th>\n",
       "      <th>Type</th>\n",
       "    </tr>\n",
       "  </thead>\n",
       "  <tbody>\n",
       "    <tr>\n",
       "      <th>0</th>\n",
       "      <td>127240000.6</td>\n",
       "      <td>Mean of 5</td>\n",
       "    </tr>\n",
       "    <tr>\n",
       "      <th>1</th>\n",
       "      <td>40880000.0</td>\n",
       "      <td>Mean of 5</td>\n",
       "    </tr>\n",
       "    <tr>\n",
       "      <th>2</th>\n",
       "      <td>38040000.0</td>\n",
       "      <td>Mean of 5</td>\n",
       "    </tr>\n",
       "    <tr>\n",
       "      <th>3</th>\n",
       "      <td>54480000.0</td>\n",
       "      <td>Mean of 5</td>\n",
       "    </tr>\n",
       "    <tr>\n",
       "      <th>4</th>\n",
       "      <td>44400000.0</td>\n",
       "      <td>Mean of 5</td>\n",
       "    </tr>\n",
       "    <tr>\n",
       "      <th>5</th>\n",
       "      <td>55480000.0</td>\n",
       "      <td>Mean of 5</td>\n",
       "    </tr>\n",
       "    <tr>\n",
       "      <th>6</th>\n",
       "      <td>43820000.0</td>\n",
       "      <td>Mean of 5</td>\n",
       "    </tr>\n",
       "    <tr>\n",
       "      <th>7</th>\n",
       "      <td>37780000.0</td>\n",
       "      <td>Mean of 5</td>\n",
       "    </tr>\n",
       "    <tr>\n",
       "      <th>8</th>\n",
       "      <td>55760000.0</td>\n",
       "      <td>Mean of 5</td>\n",
       "    </tr>\n",
       "    <tr>\n",
       "      <th>9</th>\n",
       "      <td>69180000.0</td>\n",
       "      <td>Mean of 5</td>\n",
       "    </tr>\n",
       "  </tbody>\n",
       "</table>\n",
       "</div>"
      ]
     },
     "execution_count": 124,
     "metadata": {},
     "output_type": "execute_result"
    }
   ],
   "execution_count": 124
  },
  {
   "metadata": {
    "ExecuteTime": {
     "end_time": "2025-02-05T00:27:33.529347Z",
     "start_time": "2025-02-05T00:27:33.520005Z"
    }
   },
   "cell_type": "code",
   "source": [
    "sample_mean_20 = pd.DataFrame({\n",
    "    'Followers': [df['Followers'].sample(20).mean() for i in range(10)],\n",
    "    'Type': 'Mean of 20',\n",
    "})\n",
    "sample_mean_20"
   ],
   "id": "e62fc89a208ba9e8",
   "outputs": [
    {
     "data": {
      "text/plain": [
       "      Followers        Type\n",
       "0  4.875000e+07  Mean of 20\n",
       "1  5.489000e+07  Mean of 20\n",
       "2  1.016950e+08  Mean of 20\n",
       "3  5.202500e+07  Mean of 20\n",
       "4  7.104500e+07  Mean of 20\n",
       "5  7.543500e+07  Mean of 20\n",
       "6  6.003500e+07  Mean of 20\n",
       "7  3.879500e+07  Mean of 20\n",
       "8  4.855500e+07  Mean of 20\n",
       "9  4.721500e+07  Mean of 20"
      ],
      "text/html": [
       "<div>\n",
       "<style scoped>\n",
       "    .dataframe tbody tr th:only-of-type {\n",
       "        vertical-align: middle;\n",
       "    }\n",
       "\n",
       "    .dataframe tbody tr th {\n",
       "        vertical-align: top;\n",
       "    }\n",
       "\n",
       "    .dataframe thead th {\n",
       "        text-align: right;\n",
       "    }\n",
       "</style>\n",
       "<table border=\"1\" class=\"dataframe\">\n",
       "  <thead>\n",
       "    <tr style=\"text-align: right;\">\n",
       "      <th></th>\n",
       "      <th>Followers</th>\n",
       "      <th>Type</th>\n",
       "    </tr>\n",
       "  </thead>\n",
       "  <tbody>\n",
       "    <tr>\n",
       "      <th>0</th>\n",
       "      <td>4.875000e+07</td>\n",
       "      <td>Mean of 20</td>\n",
       "    </tr>\n",
       "    <tr>\n",
       "      <th>1</th>\n",
       "      <td>5.489000e+07</td>\n",
       "      <td>Mean of 20</td>\n",
       "    </tr>\n",
       "    <tr>\n",
       "      <th>2</th>\n",
       "      <td>1.016950e+08</td>\n",
       "      <td>Mean of 20</td>\n",
       "    </tr>\n",
       "    <tr>\n",
       "      <th>3</th>\n",
       "      <td>5.202500e+07</td>\n",
       "      <td>Mean of 20</td>\n",
       "    </tr>\n",
       "    <tr>\n",
       "      <th>4</th>\n",
       "      <td>7.104500e+07</td>\n",
       "      <td>Mean of 20</td>\n",
       "    </tr>\n",
       "    <tr>\n",
       "      <th>5</th>\n",
       "      <td>7.543500e+07</td>\n",
       "      <td>Mean of 20</td>\n",
       "    </tr>\n",
       "    <tr>\n",
       "      <th>6</th>\n",
       "      <td>6.003500e+07</td>\n",
       "      <td>Mean of 20</td>\n",
       "    </tr>\n",
       "    <tr>\n",
       "      <th>7</th>\n",
       "      <td>3.879500e+07</td>\n",
       "      <td>Mean of 20</td>\n",
       "    </tr>\n",
       "    <tr>\n",
       "      <th>8</th>\n",
       "      <td>4.855500e+07</td>\n",
       "      <td>Mean of 20</td>\n",
       "    </tr>\n",
       "    <tr>\n",
       "      <th>9</th>\n",
       "      <td>4.721500e+07</td>\n",
       "      <td>Mean of 20</td>\n",
       "    </tr>\n",
       "  </tbody>\n",
       "</table>\n",
       "</div>"
      ]
     },
     "execution_count": 125,
     "metadata": {},
     "output_type": "execute_result"
    }
   ],
   "execution_count": 125
  },
  {
   "metadata": {
    "ExecuteTime": {
     "end_time": "2025-02-05T00:27:33.874273Z",
     "start_time": "2025-02-05T00:27:33.602891Z"
    }
   },
   "cell_type": "code",
   "source": [
    "data = pd.concat([sample_data, sample_mean_05, sample_mean_20])\n",
    "g = sns.FacetGrid(data, col=\"Type\", sharex=False, sharey=False)\n",
    "g.map(sns.histplot, \"Followers\")\n",
    "plt.show()"
   ],
   "id": "70078e43ff06729d",
   "outputs": [
    {
     "data": {
      "text/plain": [
       "<Figure size 900x300 with 3 Axes>"
      ],
      "image/png": "[encoded data removed]"
     },
     "metadata": {},
     "output_type": "display_data"
    }
   ],
   "execution_count": 126
  },
  {
   "metadata": {},
   "cell_type": "markdown",
   "source": [
    "Central Limit Theorem\n",
    "* The mean drawn from multiple samples will resemble the familiar bell-shaped normal curve as the sample size increases. Allows normal-approximation formulas like the t-distribution to be used in calculating sampling distributions for inference (confidence intervals, hypothesis tests)."
   ],
   "id": "6325f09eae86ad35"
  },
  {
   "metadata": {},
   "cell_type": "markdown",
   "source": [
    "Standard Error\n",
    "* Is a single metric that sums up the variability in the sampling distribution for a statistic. The standard error can be estimated using a statistic based on the standard deviation of the sample and the sample size.\n",
    "* Formula\n",
    "$$SE = \\frac{s}{\\sqrt{n}}$$\n",
    "* As the sample size increases, the standard error decreases.\n",
    "* Square root of the sample size is referred to reduce the standard error by a factor of 2, the sample size must be increased by a factor of 4.\n",
    "* Collect a number of brand-new samples from the population\n",
    "* For each new sample, calculate the mean.\n",
    "* Calculate the standard deviation of the statistics from the new samples and use this as an estimate of the standard error."
   ],
   "id": "ec46f84f3002acc0"
  },
  {
   "metadata": {},
   "cell_type": "markdown",
   "source": [
    "The Bootstrap\n",
    "* One way to estimate the sampling distribution of a statistic, or of model parameters, is to draw additional samples with replacement from the sample itself and recalculate the statistic or model for each new sample."
   ],
   "id": "b801815e5e3dbff9"
  },
  {
   "metadata": {},
   "cell_type": "markdown",
   "source": [
    "* Bootstrap sample\n",
    "* A sample taken with replacement from an observed data set.\n",
    "* Resampling\n",
    "* The process of taking repeated samples from observed data involves bootstrapping and permutation tests."
   ],
   "id": "1f5ac0e2cb933e4e"
  },
  {
   "metadata": {},
   "cell_type": "markdown",
   "source": [
    "* Draw a sample value, record it, and replace it.\n",
    "* Repeat n times.\n",
    "* Record the mean of the n resampled values.\n",
    "* Repeated steps 1-3 R(number of iterations of the bootstrap) times.\n",
    "* Use the R results to calculate the standard deviation and produce a histogram or boxplot and find a confidence interval."
   ],
   "id": "5257a1953de92409"
  },
  {
   "metadata": {
    "ExecuteTime": {
     "end_time": "2025-02-05T00:56:05.922830Z",
     "start_time": "2025-02-05T00:56:05.726656Z"
    }
   },
   "cell_type": "code",
   "source": [
    "results = []\n",
    "for nrepeat in range(1000):\n",
    "    sample = resample(df['Followers'])\n",
    "    results.append(sample.median())\n",
    "results = pd.Series(results)\n",
    "print('Bootstrap Statistics:')\n",
    "print(f'original: {df[\"Followers\"].median()}')\n",
    "print(f'bias: {results.mean() - df[\"Followers\"].median()}')\n",
    "print(f'std. error: {results.std()}')"
   ],
   "id": "4d266e05395d4b78",
   "outputs": [
    {
     "name": "stdout",
     "output_type": "stream",
     "text": [
      "Bootstrap Statistics:\n",
      "original: 40850000.0\n",
      "bias: 469400.0\n",
      "std. error: 1485604.47652148\n"
     ]
    }
   ],
   "execution_count": 128
  },
  {
   "metadata": {},
   "cell_type": "code",
   "outputs": [],
   "execution_count": null,
   "source": "",
   "id": "41376f2c08fcf324"
  }
 ],
 "metadata": {
  "kernelspec": {
   "display_name": "Python 3",
   "language": "python",
   "name": "python3"
  },
  "language_info": {
   "codemirror_mode": {
    "name": "ipython",
    "version": 2
   },
   "file_extension": ".py",
   "mimetype": "text/x-python",
   "name": "python",
   "nbconvert_exporter": "python",
   "pygments_lexer": "ipython2",
   "version": "2.7.6"
  }
 },
 "nbformat": 4,
 "nbformat_minor": 5
}
