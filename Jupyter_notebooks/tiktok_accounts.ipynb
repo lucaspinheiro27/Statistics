{
 "cells": [
  {
   "metadata": {},
   "cell_type": "markdown",
   "source": [
    "Sample\n",
    "* A subset from a larger population"
   ],
   "id": "e66141be4a77ae16"
  },
  {
   "metadata": {},
   "cell_type": "markdown",
   "source": [
    "Population\n",
    "* The larger data set or idea of a data set"
   ],
   "id": "4b2345533949ef6"
  },
  {
   "metadata": {},
   "cell_type": "markdown",
   "source": [
    "N (n)\n",
    "* The size of the population (sample)"
   ],
   "id": "92ff1d2b8193ae9d"
  },
  {
   "metadata": {},
   "cell_type": "markdown",
   "source": [
    "Random Sampling\n",
    "* Drawing elements into a sample at random"
   ],
   "id": "1c612d168509e62"
  },
  {
   "metadata": {},
   "cell_type": "markdown",
   "source": [
    "Stratified Sampling\n",
    "* Dividing the population into a strata and randomly sampling from each strata."
   ],
   "id": "998394bb72738a9a"
  },
  {
   "metadata": {},
   "cell_type": "markdown",
   "source": [
    "Stratum\n",
    "* A homonegeneous subgroup of a population with common characteristics"
   ],
   "id": "22663513256c92f9"
  },
  {
   "metadata": {},
   "cell_type": "markdown",
   "source": [
    "Simple random sample\n",
    "* The sample that results from random sampling without stratification"
   ],
   "id": "37bf8441d059eb37"
  },
  {
   "metadata": {},
   "cell_type": "markdown",
   "source": [
    "Bias\n",
    "* Systematic error in the sample"
   ],
   "id": "f28800fae6f2a6c"
  },
  {
   "metadata": {},
   "cell_type": "markdown",
   "source": [
    "Sample Bias\n",
    "* A sample that misrepresents the population."
   ],
   "id": "bcd7f315f0233b4a"
  },
  {
   "metadata": {},
   "cell_type": "markdown",
   "source": [
    "Sample mean\n",
    "* the symbol $$(\\bar{x})$$ is the sample mean, whereas the population mean is $$(\\mu)$$"
   ],
   "id": "1debaaf29e3bcb3f"
  },
  {
   "metadata": {},
   "cell_type": "markdown",
   "source": [
    "Selection Bias\n",
    "* Selectively choosing the data that supports a hypothesis."
   ],
   "id": "9193c32c5212f46a"
  },
  {
   "metadata": {},
   "cell_type": "markdown",
   "source": [
    "Data snooping\n",
    "* Bias resulting from the way in which observations are selected."
   ],
   "id": "a4f715aec670c29d"
  },
  {
   "metadata": {},
   "cell_type": "markdown",
   "source": [
    "Vast search effect\n",
    "* Bias resulting from repeated data modeling, or modeling data with large numbers of predictor variables."
   ],
   "id": "ce0ebe12aed703ae"
  },
  {
   "metadata": {},
   "cell_type": "markdown",
   "source": [
    "Regression to the Mean\n",
    "* Phenomenon involving successive measurements on a given variable, extreme observations tend to be followed by more central ones.\n",
    "* For example; if a student scores 100% on a test, they are likely to score lower on the next test."
   ],
   "id": "14e5715962e5992c"
  },
  {
   "metadata": {},
   "cell_type": "markdown",
   "source": [
    "Sample statistic\n",
    "* A metric calculated for a sample of data drawn from a larger population. The distribution is likely to be more regular and bell-shaped than the distribution of the data itself."
   ],
   "id": "47ecf10ce7651d6a"
  },
  {
   "metadata": {},
   "cell_type": "markdown",
   "source": [
    "Data Distribution\n",
    "* The frequency distribution of individual values in a data set."
   ],
   "id": "232aab3bf1de6122"
  },
  {
   "metadata": {},
   "cell_type": "markdown",
   "source": [
    "Sampling Distribution\n",
    "* The frequency distribution of a sample statistic over many samples."
   ],
   "id": "d4952f4d05fb504c"
  },
  {
   "metadata": {},
   "cell_type": "markdown",
   "source": [
    "Central limit theorem\n",
    "* The tendency of the sampling distribution to take on a normal shape as the size rises."
   ],
   "id": "d1ff916d9d896190"
  },
  {
   "metadata": {},
   "cell_type": "markdown",
   "source": [
    "Standard error\n",
    "* The variability or standard deviation of sample statistic over many sample samples."
   ],
   "id": "78d61f4f6b65578b"
  },
  {
   "cell_type": "code",
   "id": "initial_id",
   "metadata": {
    "collapsed": true,
    "ExecuteTime": {
     "end_time": "2025-02-05T19:02:20.869342Z",
     "start_time": "2025-02-05T19:02:20.866657Z"
    }
   },
   "source": [
    "import pandas as pd\n",
    "import seaborn as sns\n",
    "import matplotlib.pyplot as plt\n",
    "from sklearn.utils import resample\n",
    "from scipy import stats"
   ],
   "outputs": [],
   "execution_count": 23
  },
  {
   "metadata": {
    "ExecuteTime": {
     "end_time": "2025-02-05T19:02:20.906588Z",
     "start_time": "2025-02-05T19:02:20.893207Z"
    }
   },
   "cell_type": "code",
   "source": [
    "df = pd.read_csv('/home/satire/PycharmProjects/Statistics/csv/Top 100 tiktokers in 2025.csv', delimiter=',', encoding='latin1')\n",
    "df"
   ],
   "id": "5e96a2699e00f1a2",
   "outputs": [
    {
     "data": {
      "text/plain": [
       "    Rank           Username  Followers  Following  Uploads        Likes\n",
       "0      1       Khabane lame  162400000         78     1251   2500000000\n",
       "1      2    charli d'amelio  155700000       1304     2812  11800000000\n",
       "2      3            MrBeast  107500000        362      394   1100000000\n",
       "3      4       Bella Poarch   94300000        649      771   2400000000\n",
       "4      5        Addison Rae   88500000          1      318   5200000000\n",
       "..   ...                ...        ...        ...      ...          ...\n",
       "95    96    Arnaldo Mangini   32300000        105     2052    251800000\n",
       "96    97           Fujiiian   32300000        464     1571   1900000000\n",
       "97    98        Surthycooks   32300000        176     1242    918400000\n",
       "98    99     Faisal shaikh     3200000          0      456   2000000000\n",
       "99   100  ignacia Antonia??   31700000        269     1409   2500000000\n",
       "\n",
       "[100 rows x 6 columns]"
      ],
      "text/html": [
       "<div>\n",
       "<style scoped>\n",
       "    .dataframe tbody tr th:only-of-type {\n",
       "        vertical-align: middle;\n",
       "    }\n",
       "\n",
       "    .dataframe tbody tr th {\n",
       "        vertical-align: top;\n",
       "    }\n",
       "\n",
       "    .dataframe thead th {\n",
       "        text-align: right;\n",
       "    }\n",
       "</style>\n",
       "<table border=\"1\" class=\"dataframe\">\n",
       "  <thead>\n",
       "    <tr style=\"text-align: right;\">\n",
       "      <th></th>\n",
       "      <th>Rank</th>\n",
       "      <th>Username</th>\n",
       "      <th>Followers</th>\n",
       "      <th>Following</th>\n",
       "      <th>Uploads</th>\n",
       "      <th>Likes</th>\n",
       "    </tr>\n",
       "  </thead>\n",
       "  <tbody>\n",
       "    <tr>\n",
       "      <th>0</th>\n",
       "      <td>1</td>\n",
       "      <td>Khabane lame</td>\n",
       "      <td>162400000</td>\n",
       "      <td>78</td>\n",
       "      <td>1251</td>\n",
       "      <td>2500000000</td>\n",
       "    </tr>\n",
       "    <tr>\n",
       "      <th>1</th>\n",
       "      <td>2</td>\n",
       "      <td>charli d'amelio</td>\n",
       "      <td>155700000</td>\n",
       "      <td>1304</td>\n",
       "      <td>2812</td>\n",
       "      <td>11800000000</td>\n",
       "    </tr>\n",
       "    <tr>\n",
       "      <th>2</th>\n",
       "      <td>3</td>\n",
       "      <td>MrBeast</td>\n",
       "      <td>107500000</td>\n",
       "      <td>362</td>\n",
       "      <td>394</td>\n",
       "      <td>1100000000</td>\n",
       "    </tr>\n",
       "    <tr>\n",
       "      <th>3</th>\n",
       "      <td>4</td>\n",
       "      <td>Bella Poarch</td>\n",
       "      <td>94300000</td>\n",
       "      <td>649</td>\n",
       "      <td>771</td>\n",
       "      <td>2400000000</td>\n",
       "    </tr>\n",
       "    <tr>\n",
       "      <th>4</th>\n",
       "      <td>5</td>\n",
       "      <td>Addison Rae</td>\n",
       "      <td>88500000</td>\n",
       "      <td>1</td>\n",
       "      <td>318</td>\n",
       "      <td>5200000000</td>\n",
       "    </tr>\n",
       "    <tr>\n",
       "      <th>...</th>\n",
       "      <td>...</td>\n",
       "      <td>...</td>\n",
       "      <td>...</td>\n",
       "      <td>...</td>\n",
       "      <td>...</td>\n",
       "      <td>...</td>\n",
       "    </tr>\n",
       "    <tr>\n",
       "      <th>95</th>\n",
       "      <td>96</td>\n",
       "      <td>Arnaldo Mangini</td>\n",
       "      <td>32300000</td>\n",
       "      <td>105</td>\n",
       "      <td>2052</td>\n",
       "      <td>251800000</td>\n",
       "    </tr>\n",
       "    <tr>\n",
       "      <th>96</th>\n",
       "      <td>97</td>\n",
       "      <td>Fujiiian</td>\n",
       "      <td>32300000</td>\n",
       "      <td>464</td>\n",
       "      <td>1571</td>\n",
       "      <td>1900000000</td>\n",
       "    </tr>\n",
       "    <tr>\n",
       "      <th>97</th>\n",
       "      <td>98</td>\n",
       "      <td>Surthycooks</td>\n",
       "      <td>32300000</td>\n",
       "      <td>176</td>\n",
       "      <td>1242</td>\n",
       "      <td>918400000</td>\n",
       "    </tr>\n",
       "    <tr>\n",
       "      <th>98</th>\n",
       "      <td>99</td>\n",
       "      <td>Faisal shaikh</td>\n",
       "      <td>3200000</td>\n",
       "      <td>0</td>\n",
       "      <td>456</td>\n",
       "      <td>2000000000</td>\n",
       "    </tr>\n",
       "    <tr>\n",
       "      <th>99</th>\n",
       "      <td>100</td>\n",
       "      <td>ignacia Antonia??</td>\n",
       "      <td>31700000</td>\n",
       "      <td>269</td>\n",
       "      <td>1409</td>\n",
       "      <td>2500000000</td>\n",
       "    </tr>\n",
       "  </tbody>\n",
       "</table>\n",
       "<p>100 rows × 6 columns</p>\n",
       "</div>"
      ]
     },
     "execution_count": 24,
     "metadata": {},
     "output_type": "execute_result"
    }
   ],
   "execution_count": 24
  },
  {
   "metadata": {
    "ExecuteTime": {
     "end_time": "2025-02-05T19:02:20.979759Z",
     "start_time": "2025-02-05T19:02:20.975193Z"
    }
   },
   "cell_type": "code",
   "source": [
    "max_registrations = len(df['Followers'])\n",
    "print(max_registrations)"
   ],
   "id": "c71b9424319670b1",
   "outputs": [
    {
     "name": "stdout",
     "output_type": "stream",
     "text": [
      "100\n"
     ]
    }
   ],
   "execution_count": 25
  },
  {
   "metadata": {
    "ExecuteTime": {
     "end_time": "2025-02-05T19:02:21.026648Z",
     "start_time": "2025-02-05T19:02:21.021442Z"
    }
   },
   "cell_type": "code",
   "source": "df.columns",
   "id": "2ddaa58ef1b5b7de",
   "outputs": [
    {
     "data": {
      "text/plain": [
       "Index(['Rank', 'Username', 'Followers', 'Following', 'Uploads', 'Likes'], dtype='object')"
      ]
     },
     "execution_count": 26,
     "metadata": {},
     "output_type": "execute_result"
    }
   ],
   "execution_count": 26
  },
  {
   "metadata": {
    "ExecuteTime": {
     "end_time": "2025-02-05T19:02:21.087480Z",
     "start_time": "2025-02-05T19:02:21.082864Z"
    }
   },
   "cell_type": "code",
   "source": "df.isna().sum()",
   "id": "6859471f909e58b2",
   "outputs": [
    {
     "data": {
      "text/plain": [
       "Rank         0\n",
       "Username     0\n",
       "Followers    0\n",
       "Following    0\n",
       "Uploads      0\n",
       "Likes        0\n",
       "dtype: int64"
      ]
     },
     "execution_count": 27,
     "metadata": {},
     "output_type": "execute_result"
    }
   ],
   "execution_count": 27
  },
  {
   "metadata": {
    "ExecuteTime": {
     "end_time": "2025-02-05T19:02:21.177988Z",
     "start_time": "2025-02-05T19:02:21.171680Z"
    }
   },
   "cell_type": "code",
   "source": [
    "sample_data = pd.DataFrame({\n",
    "    'Followers': df['Followers'].sample(10),\n",
    "    'Type': 'Data',\n",
    "})\n",
    "sample_data"
   ],
   "id": "74382c5e9185746d",
   "outputs": [
    {
     "data": {
      "text/plain": [
       "    Followers  Type\n",
       "44   42900000  Data\n",
       "68   37000000  Data\n",
       "65   37500000  Data\n",
       "18   56300000  Data\n",
       "45   42700000  Data\n",
       "38   44700000  Data\n",
       "80   34500000  Data\n",
       "27   51000000  Data\n",
       "52   40300000  Data\n",
       "20   55400000  Data"
      ],
      "text/html": [
       "<div>\n",
       "<style scoped>\n",
       "    .dataframe tbody tr th:only-of-type {\n",
       "        vertical-align: middle;\n",
       "    }\n",
       "\n",
       "    .dataframe tbody tr th {\n",
       "        vertical-align: top;\n",
       "    }\n",
       "\n",
       "    .dataframe thead th {\n",
       "        text-align: right;\n",
       "    }\n",
       "</style>\n",
       "<table border=\"1\" class=\"dataframe\">\n",
       "  <thead>\n",
       "    <tr style=\"text-align: right;\">\n",
       "      <th></th>\n",
       "      <th>Followers</th>\n",
       "      <th>Type</th>\n",
       "    </tr>\n",
       "  </thead>\n",
       "  <tbody>\n",
       "    <tr>\n",
       "      <th>44</th>\n",
       "      <td>42900000</td>\n",
       "      <td>Data</td>\n",
       "    </tr>\n",
       "    <tr>\n",
       "      <th>68</th>\n",
       "      <td>37000000</td>\n",
       "      <td>Data</td>\n",
       "    </tr>\n",
       "    <tr>\n",
       "      <th>65</th>\n",
       "      <td>37500000</td>\n",
       "      <td>Data</td>\n",
       "    </tr>\n",
       "    <tr>\n",
       "      <th>18</th>\n",
       "      <td>56300000</td>\n",
       "      <td>Data</td>\n",
       "    </tr>\n",
       "    <tr>\n",
       "      <th>45</th>\n",
       "      <td>42700000</td>\n",
       "      <td>Data</td>\n",
       "    </tr>\n",
       "    <tr>\n",
       "      <th>38</th>\n",
       "      <td>44700000</td>\n",
       "      <td>Data</td>\n",
       "    </tr>\n",
       "    <tr>\n",
       "      <th>80</th>\n",
       "      <td>34500000</td>\n",
       "      <td>Data</td>\n",
       "    </tr>\n",
       "    <tr>\n",
       "      <th>27</th>\n",
       "      <td>51000000</td>\n",
       "      <td>Data</td>\n",
       "    </tr>\n",
       "    <tr>\n",
       "      <th>52</th>\n",
       "      <td>40300000</td>\n",
       "      <td>Data</td>\n",
       "    </tr>\n",
       "    <tr>\n",
       "      <th>20</th>\n",
       "      <td>55400000</td>\n",
       "      <td>Data</td>\n",
       "    </tr>\n",
       "  </tbody>\n",
       "</table>\n",
       "</div>"
      ]
     },
     "execution_count": 28,
     "metadata": {},
     "output_type": "execute_result"
    }
   ],
   "execution_count": 28
  },
  {
   "metadata": {
    "ExecuteTime": {
     "end_time": "2025-02-05T19:02:21.249327Z",
     "start_time": "2025-02-05T19:02:21.240130Z"
    }
   },
   "cell_type": "code",
   "source": [
    "sample_mean_05 = pd.DataFrame({\n",
    "    'Followers': [df['Followers'].sample(5).mean() for i in range(10)],\n",
    "    'Type': 'Mean of 5',\n",
    "})\n",
    "sample_mean_05"
   ],
   "id": "7cd901648545ef38",
   "outputs": [
    {
     "data": {
      "text/plain": [
       "    Followers       Type\n",
       "0  43300000.0  Mean of 5\n",
       "1  43480000.0  Mean of 5\n",
       "2  52360000.0  Mean of 5\n",
       "3  38160000.0  Mean of 5\n",
       "4  37100000.0  Mean of 5\n",
       "5  45040000.0  Mean of 5\n",
       "6  41580000.0  Mean of 5\n",
       "7  38800000.0  Mean of 5\n",
       "8  43500000.0  Mean of 5\n",
       "9  53700000.0  Mean of 5"
      ],
      "text/html": [
       "<div>\n",
       "<style scoped>\n",
       "    .dataframe tbody tr th:only-of-type {\n",
       "        vertical-align: middle;\n",
       "    }\n",
       "\n",
       "    .dataframe tbody tr th {\n",
       "        vertical-align: top;\n",
       "    }\n",
       "\n",
       "    .dataframe thead th {\n",
       "        text-align: right;\n",
       "    }\n",
       "</style>\n",
       "<table border=\"1\" class=\"dataframe\">\n",
       "  <thead>\n",
       "    <tr style=\"text-align: right;\">\n",
       "      <th></th>\n",
       "      <th>Followers</th>\n",
       "      <th>Type</th>\n",
       "    </tr>\n",
       "  </thead>\n",
       "  <tbody>\n",
       "    <tr>\n",
       "      <th>0</th>\n",
       "      <td>43300000.0</td>\n",
       "      <td>Mean of 5</td>\n",
       "    </tr>\n",
       "    <tr>\n",
       "      <th>1</th>\n",
       "      <td>43480000.0</td>\n",
       "      <td>Mean of 5</td>\n",
       "    </tr>\n",
       "    <tr>\n",
       "      <th>2</th>\n",
       "      <td>52360000.0</td>\n",
       "      <td>Mean of 5</td>\n",
       "    </tr>\n",
       "    <tr>\n",
       "      <th>3</th>\n",
       "      <td>38160000.0</td>\n",
       "      <td>Mean of 5</td>\n",
       "    </tr>\n",
       "    <tr>\n",
       "      <th>4</th>\n",
       "      <td>37100000.0</td>\n",
       "      <td>Mean of 5</td>\n",
       "    </tr>\n",
       "    <tr>\n",
       "      <th>5</th>\n",
       "      <td>45040000.0</td>\n",
       "      <td>Mean of 5</td>\n",
       "    </tr>\n",
       "    <tr>\n",
       "      <th>6</th>\n",
       "      <td>41580000.0</td>\n",
       "      <td>Mean of 5</td>\n",
       "    </tr>\n",
       "    <tr>\n",
       "      <th>7</th>\n",
       "      <td>38800000.0</td>\n",
       "      <td>Mean of 5</td>\n",
       "    </tr>\n",
       "    <tr>\n",
       "      <th>8</th>\n",
       "      <td>43500000.0</td>\n",
       "      <td>Mean of 5</td>\n",
       "    </tr>\n",
       "    <tr>\n",
       "      <th>9</th>\n",
       "      <td>53700000.0</td>\n",
       "      <td>Mean of 5</td>\n",
       "    </tr>\n",
       "  </tbody>\n",
       "</table>\n",
       "</div>"
      ]
     },
     "execution_count": 29,
     "metadata": {},
     "output_type": "execute_result"
    }
   ],
   "execution_count": 29
  },
  {
   "metadata": {
    "ExecuteTime": {
     "end_time": "2025-02-05T19:02:21.340087Z",
     "start_time": "2025-02-05T19:02:21.328650Z"
    }
   },
   "cell_type": "code",
   "source": [
    "sample_mean_20 = pd.DataFrame({\n",
    "    'Followers': [df['Followers'].sample(20).mean() for i in range(10)],\n",
    "    'Type': 'Mean of 20',\n",
    "})\n",
    "sample_mean_20"
   ],
   "id": "e62fc89a208ba9e8",
   "outputs": [
    {
     "data": {
      "text/plain": [
       "    Followers        Type\n",
       "0  43395000.0  Mean of 20\n",
       "1  53215000.0  Mean of 20\n",
       "2  40845000.0  Mean of 20\n",
       "3  53645000.0  Mean of 20\n",
       "4  46735000.0  Mean of 20\n",
       "5  54760000.0  Mean of 20\n",
       "6  78475000.0  Mean of 20\n",
       "7  51745000.0  Mean of 20\n",
       "8  46160000.0  Mean of 20\n",
       "9  72280000.0  Mean of 20"
      ],
      "text/html": [
       "<div>\n",
       "<style scoped>\n",
       "    .dataframe tbody tr th:only-of-type {\n",
       "        vertical-align: middle;\n",
       "    }\n",
       "\n",
       "    .dataframe tbody tr th {\n",
       "        vertical-align: top;\n",
       "    }\n",
       "\n",
       "    .dataframe thead th {\n",
       "        text-align: right;\n",
       "    }\n",
       "</style>\n",
       "<table border=\"1\" class=\"dataframe\">\n",
       "  <thead>\n",
       "    <tr style=\"text-align: right;\">\n",
       "      <th></th>\n",
       "      <th>Followers</th>\n",
       "      <th>Type</th>\n",
       "    </tr>\n",
       "  </thead>\n",
       "  <tbody>\n",
       "    <tr>\n",
       "      <th>0</th>\n",
       "      <td>43395000.0</td>\n",
       "      <td>Mean of 20</td>\n",
       "    </tr>\n",
       "    <tr>\n",
       "      <th>1</th>\n",
       "      <td>53215000.0</td>\n",
       "      <td>Mean of 20</td>\n",
       "    </tr>\n",
       "    <tr>\n",
       "      <th>2</th>\n",
       "      <td>40845000.0</td>\n",
       "      <td>Mean of 20</td>\n",
       "    </tr>\n",
       "    <tr>\n",
       "      <th>3</th>\n",
       "      <td>53645000.0</td>\n",
       "      <td>Mean of 20</td>\n",
       "    </tr>\n",
       "    <tr>\n",
       "      <th>4</th>\n",
       "      <td>46735000.0</td>\n",
       "      <td>Mean of 20</td>\n",
       "    </tr>\n",
       "    <tr>\n",
       "      <th>5</th>\n",
       "      <td>54760000.0</td>\n",
       "      <td>Mean of 20</td>\n",
       "    </tr>\n",
       "    <tr>\n",
       "      <th>6</th>\n",
       "      <td>78475000.0</td>\n",
       "      <td>Mean of 20</td>\n",
       "    </tr>\n",
       "    <tr>\n",
       "      <th>7</th>\n",
       "      <td>51745000.0</td>\n",
       "      <td>Mean of 20</td>\n",
       "    </tr>\n",
       "    <tr>\n",
       "      <th>8</th>\n",
       "      <td>46160000.0</td>\n",
       "      <td>Mean of 20</td>\n",
       "    </tr>\n",
       "    <tr>\n",
       "      <th>9</th>\n",
       "      <td>72280000.0</td>\n",
       "      <td>Mean of 20</td>\n",
       "    </tr>\n",
       "  </tbody>\n",
       "</table>\n",
       "</div>"
      ]
     },
     "execution_count": 30,
     "metadata": {},
     "output_type": "execute_result"
    }
   ],
   "execution_count": 30
  },
  {
   "metadata": {
    "ExecuteTime": {
     "end_time": "2025-02-05T19:02:21.740291Z",
     "start_time": "2025-02-05T19:02:21.455307Z"
    }
   },
   "cell_type": "code",
   "source": [
    "data = pd.concat([sample_data, sample_mean_05, sample_mean_20])\n",
    "g = sns.FacetGrid(data, col=\"Type\", sharex=False, sharey=False)\n",
    "g.map(sns.histplot, \"Followers\")\n",
    "plt.show()"
   ],
   "id": "70078e43ff06729d",
   "outputs": [
    {
     "data": {
      "text/plain": [
       "<Figure size 900x300 with 3 Axes>"
      ],
      "image/png": "[encoded data removed]"
     },
     "metadata": {},
     "output_type": "display_data"
    }
   ],
   "execution_count": 31
  },
  {
   "metadata": {},
   "cell_type": "markdown",
   "source": [
    "Central Limit Theorem\n",
    "* The mean drawn from multiple samples will resemble the familiar bell-shaped normal curve as the sample size increases. Allows normal-approximation formulas like the t-distribution to be used in calculating sampling distributions for inference (confidence intervals, hypothesis tests)."
   ],
   "id": "6325f09eae86ad35"
  },
  {
   "metadata": {},
   "cell_type": "markdown",
   "source": [
    "Standard Error\n",
    "* Is a single metric that sums up the variability in the sampling distribution for a statistic. The standard error can be estimated using a statistic based on the standard deviation of the sample and the sample size.\n",
    "* Formula\n",
    "$$SE = \\frac{s}{\\sqrt{n}}$$\n",
    "* As the sample size increases, the standard error decreases.\n",
    "* Square root of the sample size is referred to reduce the standard error by a factor of 2, the sample size must be increased by a factor of 4.\n",
    "* Collect a number of brand-new samples from the population\n",
    "* For each new sample, calculate the mean.\n",
    "* Calculate the standard deviation of the statistics from the new samples and use this as an estimate of the standard error."
   ],
   "id": "ec46f84f3002acc0"
  },
  {
   "metadata": {},
   "cell_type": "markdown",
   "source": [
    "The Bootstrap\n",
    "* One way to estimate the sampling distribution of a statistic, or of model parameters, is to draw additional samples with replacement from the sample itself and recalculate the statistic or model for each new sample."
   ],
   "id": "b801815e5e3dbff9"
  },
  {
   "metadata": {},
   "cell_type": "markdown",
   "source": [
    "* Bootstrap sample\n",
    "* A sample taken with replacement from an observed data set.\n",
    "* Resampling\n",
    "* The process of taking repeated samples from observed data involves bootstrapping and permutation tests."
   ],
   "id": "1f5ac0e2cb933e4e"
  },
  {
   "metadata": {},
   "cell_type": "markdown",
   "source": [
    "* Draw a sample value, record it, and replace it.\n",
    "* Repeat n times.\n",
    "* Record the mean of the n resampled values.\n",
    "* Repeated steps 1-3 R(number of iterations of the bootstrap) times.\n",
    "* Use the R results to calculate the standard deviation and produce a histogram or boxplot and find a confidence interval."
   ],
   "id": "5257a1953de92409"
  },
  {
   "metadata": {
    "ExecuteTime": {
     "end_time": "2025-02-05T19:02:21.988441Z",
     "start_time": "2025-02-05T19:02:21.785985Z"
    }
   },
   "cell_type": "code",
   "source": [
    "results = []\n",
    "for nrepeat in range(1000):\n",
    "    sample = resample(df['Followers'])\n",
    "    results.append(sample.median())\n",
    "results = pd.Series(results)\n",
    "print('Bootstrap Statistics:')\n",
    "print(f'original: {df[\"Followers\"].median()}')\n",
    "print(f'bias: {results.mean() - df[\"Followers\"].median()}')\n",
    "print(f'std. error: {results.std()}')"
   ],
   "id": "4d266e05395d4b78",
   "outputs": [
    {
     "name": "stdout",
     "output_type": "stream",
     "text": [
      "Bootstrap Statistics:\n",
      "original: 40850000.0\n",
      "bias: 430450.0\n",
      "std. error: 1483538.3998008557\n"
     ]
    }
   ],
   "execution_count": 32
  },
  {
   "metadata": {},
   "cell_type": "markdown",
   "source": [
    "Confidence Intervals\n",
    "* Another way to understand the potential error in sample estimate."
   ],
   "id": "efd417a38f32caf3"
  },
  {
   "metadata": {},
   "cell_type": "markdown",
   "source": [
    "Confidence level\n",
    "* The percentage of the confidence intervals"
   ],
   "id": "376de4c747b885ba"
  },
  {
   "metadata": {},
   "cell_type": "markdown",
   "source": [
    "Intervals endpoints\n",
    "* The top and bottom of the confidence interval."
   ],
   "id": "c4235c3a0248ae1"
  },
  {
   "metadata": {},
   "cell_type": "markdown",
   "source": [
    "Given a sample of size n, and a sample statistic of interest, the algorithm for a boostrap confidence interval is as follows\n",
    "* Draw a random sample of size n with replacement from the data.\n",
    "* Record the statistic of interest for the sample.\n",
    "* Repeat steps 1-2 R times.\n",
    "* For and x% confidence interval, trim (100-x)/2% of the R results from each end of the distribution.\n",
    "* The trim points are the endpoints of an x% confidence interval.\n",
    "* The percentage associated with the confidence interval is termed the level of confidence, the higher level of confidence, the wider the interval, also greater the uncertainty."
   ],
   "id": "3e120acc608e1e7a"
  },
  {
   "metadata": {},
   "cell_type": "markdown",
   "source": [
    "Normal Distribution\n",
    "* The bell-shaped curve."
   ],
   "id": "4fe389e20d3c73b1"
  },
  {
   "metadata": {},
   "cell_type": "markdown",
   "source": [
    "Error\n",
    "* The difference between a data point and a predicted value."
   ],
   "id": "3c0a5c11da3ed5eb"
  },
  {
   "metadata": {},
   "cell_type": "markdown",
   "source": [
    "Standardize\n",
    "* Subtract the mean and divide by the standard deviation."
   ],
   "id": "9e05cad1ec9f2eb"
  },
  {
   "metadata": {},
   "cell_type": "markdown",
   "source": [
    "Z-score\n",
    "* The result of standardizing a value."
   ],
   "id": "793f294601a824e"
  },
  {
   "metadata": {},
   "cell_type": "markdown",
   "source": [
    "Standard normal\n",
    "* A normal distribution with a mean of 0 and a standard deviation of 1."
   ],
   "id": "b98ac277f53aa2cc"
  },
  {
   "metadata": {},
   "cell_type": "markdown",
   "source": [
    "QQ plot\n",
    "* A plot to visualize how close a sample distribution is to a normal distribution.\n",
    "* If the points roughly fall on the diagonal line, then the sample distribution can be considered normal."
   ],
   "id": "2bb43377f3ae9b83"
  },
  {
   "metadata": {
    "ExecuteTime": {
     "end_time": "2025-02-05T19:02:22.091724Z",
     "start_time": "2025-02-05T19:02:21.993844Z"
    }
   },
   "cell_type": "code",
   "source": [
    "fig, ax = plt.subplots(figsize=(4, 4))\n",
    "norm_sample = stats.norm.rvs(size=100)\n",
    "stats.probplot(norm_sample, plot=ax)"
   ],
   "id": "41376f2c08fcf324",
   "outputs": [
    {
     "data": {
      "text/plain": [
       "((array([-2.46203784, -2.12570747, -1.93122778, -1.79044653, -1.67819304,\n",
       "         -1.58381122, -1.50174123, -1.42869743, -1.36256869, -1.30191411,\n",
       "         -1.24570419, -1.19317644, -1.14374949, -1.09696931, -1.05247413,\n",
       "         -1.00997067, -0.96921765, -0.93001393, -0.89218993, -0.85560121,\n",
       "         -0.82012357, -0.78564937, -0.75208458, -0.71934648, -0.68736185,\n",
       "         -0.65606548, -0.62539893, -0.59530962, -0.56574992, -0.53667655,\n",
       "         -0.50804994, -0.47983378, -0.45199463, -0.42450149, -0.39732558,\n",
       "         -0.37044003, -0.34381966, -0.31744076, -0.29128096, -0.26531902,\n",
       "         -0.23953472, -0.21390872, -0.18842244, -0.16305799, -0.13779803,\n",
       "         -0.1126257 , -0.08752455, -0.06247843, -0.03747145, -0.01248789,\n",
       "          0.01248789,  0.03747145,  0.06247843,  0.08752455,  0.1126257 ,\n",
       "          0.13779803,  0.16305799,  0.18842244,  0.21390872,  0.23953472,\n",
       "          0.26531902,  0.29128096,  0.31744076,  0.34381966,  0.37044003,\n",
       "          0.39732558,  0.42450149,  0.45199463,  0.47983378,  0.50804994,\n",
       "          0.53667655,  0.56574992,  0.59530962,  0.62539893,  0.65606548,\n",
       "          0.68736185,  0.71934648,  0.75208458,  0.78564937,  0.82012357,\n",
       "          0.85560121,  0.89218993,  0.93001393,  0.96921765,  1.00997067,\n",
       "          1.05247413,  1.09696931,  1.14374949,  1.19317644,  1.24570419,\n",
       "          1.30191411,  1.36256869,  1.42869743,  1.50174123,  1.58381122,\n",
       "          1.67819304,  1.79044653,  1.93122778,  2.12570747,  2.46203784]),\n",
       "  array([-2.41528324e+00, -2.28034464e+00, -1.82415397e+00, -1.65067422e+00,\n",
       "         -1.59216386e+00, -1.54773731e+00, -1.48814891e+00, -1.47029598e+00,\n",
       "         -1.46192318e+00, -1.40265963e+00, -1.39283068e+00, -1.27816889e+00,\n",
       "         -1.20565865e+00, -1.01230621e+00, -9.57223202e-01, -9.13213342e-01,\n",
       "         -8.39932351e-01, -8.26602192e-01, -8.23651146e-01, -7.95278516e-01,\n",
       "         -7.86433790e-01, -7.72661135e-01, -7.48282329e-01, -7.40466081e-01,\n",
       "         -7.18773593e-01, -6.89138664e-01, -6.59396134e-01, -6.26765119e-01,\n",
       "         -6.06086266e-01, -6.05399233e-01, -5.87381929e-01, -5.68971268e-01,\n",
       "         -5.59187792e-01, -5.56146043e-01, -5.51153330e-01, -5.36427184e-01,\n",
       "         -3.45088670e-01, -2.03561729e-01, -1.97663507e-01, -1.93298542e-01,\n",
       "         -1.69671986e-01, -1.68890467e-01, -1.31316185e-01, -1.06299047e-01,\n",
       "         -1.03496747e-01, -7.20921510e-02, -1.66617106e-02,  1.77484323e-03,\n",
       "          2.77263217e-02,  2.87663202e-02,  6.47804747e-02,  6.95858705e-02,\n",
       "          1.08896503e-01,  1.13709214e-01,  1.17067874e-01,  1.56157291e-01,\n",
       "          1.84463921e-01,  2.02718729e-01,  2.30842676e-01,  2.72530439e-01,\n",
       "          3.38319586e-01,  4.02137873e-01,  4.20622969e-01,  4.40690061e-01,\n",
       "          4.46555519e-01,  4.61861121e-01,  4.66905990e-01,  4.96204504e-01,\n",
       "          4.99311756e-01,  5.31385234e-01,  5.50157187e-01,  5.68060924e-01,\n",
       "          5.76598538e-01,  5.78285675e-01,  6.02133647e-01,  6.30054887e-01,\n",
       "          6.32817434e-01,  6.93379656e-01,  7.11548817e-01,  7.40439360e-01,\n",
       "          7.69890327e-01,  9.13631070e-01,  9.37172680e-01,  1.02803037e+00,\n",
       "          1.02899906e+00,  1.13536308e+00,  1.14942869e+00,  1.16980066e+00,\n",
       "          1.22874461e+00,  1.23289176e+00,  1.27111312e+00,  1.28687770e+00,\n",
       "          1.36203426e+00,  1.51460824e+00,  1.68714558e+00,  1.72552553e+00,\n",
       "          1.87852904e+00,  1.97864870e+00,  2.20231961e+00,  2.42617797e+00])),\n",
       " (np.float64(1.0038199387440903),\n",
       "  np.float64(0.010944625164995031),\n",
       "  np.float64(0.9974724338422678)))"
      ]
     },
     "execution_count": 33,
     "metadata": {},
     "output_type": "execute_result"
    },
    {
     "data": {
      "text/plain": [
       "<Figure size 400x400 with 1 Axes>"
      ],
      "image/png": "[encoded data removed]"
     },
     "metadata": {},
     "output_type": "display_data"
    }
   ],
   "execution_count": 33
  },
  {
   "metadata": {},
   "cell_type": "markdown",
   "source": "* Converting the data to z-scores just puts the data on the same scale as the standard normal distribution.",
   "id": "f41bed9c27574c95"
  },
  {
   "metadata": {},
   "cell_type": "markdown",
   "source": "Long-Tailed Distributions",
   "id": "3c34f4dc43e03cd5"
  },
  {
   "metadata": {},
   "cell_type": "markdown",
   "source": [
    "Tail\n",
    "* The long narrow portion of a distribution, where extreme values are found."
   ],
   "id": "c070778204d52646"
  },
  {
   "metadata": {},
   "cell_type": "markdown",
   "source": [
    "Skew\n",
    "* Where one tail of a distribution is longer than the other."
   ],
   "id": "1140fd33b9724d60"
  },
  {
   "metadata": {
    "ExecuteTime": {
     "end_time": "2025-02-05T19:02:22.110619Z",
     "start_time": "2025-02-05T19:02:22.108667Z"
    }
   },
   "cell_type": "code",
   "source": "",
   "id": "223b882d443cf57c",
   "outputs": [],
   "execution_count": null
  }
 ],
 "metadata": {
  "kernelspec": {
   "display_name": "Python 3",
   "language": "python",
   "name": "python3"
  },
  "language_info": {
   "codemirror_mode": {
    "name": "ipython",
    "version": 2
   },
   "file_extension": ".py",
   "mimetype": "text/x-python",
   "name": "python",
   "nbconvert_exporter": "python",
   "pygments_lexer": "ipython2",
   "version": "2.7.6"
  }
 },
 "nbformat": 4,
 "nbformat_minor": 5
}
