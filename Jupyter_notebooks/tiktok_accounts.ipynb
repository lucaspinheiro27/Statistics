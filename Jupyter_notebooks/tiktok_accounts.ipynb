{
 "cells": [
  {
   "metadata": {},
   "cell_type": "markdown",
   "source": [
    "Sample\n",
    "* A subset from a larger population"
   ],
   "id": "e66141be4a77ae16"
  },
  {
   "metadata": {},
   "cell_type": "markdown",
   "source": [
    "Population\n",
    "* The larger data set or idea of a data set"
   ],
   "id": "4b2345533949ef6"
  },
  {
   "metadata": {},
   "cell_type": "markdown",
   "source": [
    "N (n)\n",
    "* The size of the population (sample)"
   ],
   "id": "92ff1d2b8193ae9d"
  },
  {
   "metadata": {},
   "cell_type": "markdown",
   "source": [
    "Random Sampling\n",
    "* Drawing elements into a sample at random"
   ],
   "id": "1c612d168509e62"
  },
  {
   "metadata": {},
   "cell_type": "markdown",
   "source": [
    "Stratified Sampling\n",
    "* Dividing the population into a strata and randomly sampling from each strata."
   ],
   "id": "998394bb72738a9a"
  },
  {
   "metadata": {},
   "cell_type": "markdown",
   "source": [
    "Stratum\n",
    "* A homonegeneous subgroup of a population with common characteristics"
   ],
   "id": "22663513256c92f9"
  },
  {
   "metadata": {},
   "cell_type": "markdown",
   "source": [
    "Simple random sample\n",
    "* The sample that results from random sampling without stratification"
   ],
   "id": "37bf8441d059eb37"
  },
  {
   "metadata": {},
   "cell_type": "markdown",
   "source": [
    "Bias\n",
    "* Systematic error in the sample"
   ],
   "id": "f28800fae6f2a6c"
  },
  {
   "metadata": {},
   "cell_type": "markdown",
   "source": [
    "Sample Bias\n",
    "* A sample that misrepresents the population."
   ],
   "id": "bcd7f315f0233b4a"
  },
  {
   "metadata": {},
   "cell_type": "markdown",
   "source": [
    "Sample mean\n",
    "* the symbol $$(\\bar{x})$$ is the sample mean, whereas the population mean is $$(\\mu)$$"
   ],
   "id": "1debaaf29e3bcb3f"
  },
  {
   "metadata": {},
   "cell_type": "markdown",
   "source": [
    "Selection Bias\n",
    "* Selectively choosing the data that supports a hypothesis."
   ],
   "id": "9193c32c5212f46a"
  },
  {
   "metadata": {},
   "cell_type": "markdown",
   "source": [
    "Data snooping\n",
    "* Bias resulting from the way in which observations are selected."
   ],
   "id": "a4f715aec670c29d"
  },
  {
   "metadata": {},
   "cell_type": "markdown",
   "source": [
    "Vast search effect\n",
    "* Bias resulting from repeated data modeling, or modeling data with large numbers of predictor variables."
   ],
   "id": "ce0ebe12aed703ae"
  },
  {
   "metadata": {},
   "cell_type": "markdown",
   "source": [
    "Regression to the Mean\n",
    "* Phenomenon involving successive measurements on a given variable, extreme observations tend to be followed by more central ones.\n",
    "* For example; if a student scores 100% on a test, they are likely to score lower on the next test."
   ],
   "id": "14e5715962e5992c"
  },
  {
   "metadata": {},
   "cell_type": "markdown",
   "source": [
    "Sample statistic\n",
    "* A metric calculated for a sample of data drawn from a larger population. The distribution is likely to be more regular and bell-shaped than the distribution of the data itself."
   ],
   "id": "47ecf10ce7651d6a"
  },
  {
   "metadata": {},
   "cell_type": "markdown",
   "source": [
    "Data Distribution\n",
    "* The frequency distribution of individual values in a data set."
   ],
   "id": "232aab3bf1de6122"
  },
  {
   "metadata": {},
   "cell_type": "markdown",
   "source": [
    "Sampling Distribution\n",
    "* The frequency distribution of a sample statistic over many samples."
   ],
   "id": "d4952f4d05fb504c"
  },
  {
   "metadata": {},
   "cell_type": "markdown",
   "source": [
    "Central limit theorem\n",
    "* The tendency of the sampling distribution to take on a normal shape as the size rises."
   ],
   "id": "d1ff916d9d896190"
  },
  {
   "metadata": {},
   "cell_type": "markdown",
   "source": [
    "Standard error\n",
    "* The variability or standard deviation of sample statistic over many sample samples."
   ],
   "id": "78d61f4f6b65578b"
  },
  {
   "cell_type": "code",
   "id": "initial_id",
   "metadata": {
    "collapsed": true,
    "ExecuteTime": {
     "end_time": "2025-02-06T15:13:19.114224Z",
     "start_time": "2025-02-06T15:13:19.110332Z"
    }
   },
   "source": [
    "import pandas as pd\n",
    "import seaborn as sns\n",
    "import matplotlib.pyplot as plt\n",
    "from sklearn.utils import resample\n",
    "from scipy import stats\n",
    "import numpy as np"
   ],
   "outputs": [],
   "execution_count": 13
  },
  {
   "metadata": {
    "ExecuteTime": {
     "end_time": "2025-02-06T15:13:19.163195Z",
     "start_time": "2025-02-06T15:13:19.150831Z"
    }
   },
   "cell_type": "code",
   "source": [
    "df = pd.read_csv('/home/satire/PycharmProjects/Statistics/csv/Top 100 tiktokers in 2025.csv', delimiter=',', encoding='latin1')\n",
    "df"
   ],
   "id": "5e96a2699e00f1a2",
   "outputs": [
    {
     "data": {
      "text/plain": [
       "    Rank           Username  Followers  Following  Uploads        Likes\n",
       "0      1       Khabane lame  162400000         78     1251   2500000000\n",
       "1      2    charli d'amelio  155700000       1304     2812  11800000000\n",
       "2      3            MrBeast  107500000        362      394   1100000000\n",
       "3      4       Bella Poarch   94300000        649      771   2400000000\n",
       "4      5        Addison Rae   88500000          1      318   5200000000\n",
       "..   ...                ...        ...        ...      ...          ...\n",
       "95    96    Arnaldo Mangini   32300000        105     2052    251800000\n",
       "96    97           Fujiiian   32300000        464     1571   1900000000\n",
       "97    98        Surthycooks   32300000        176     1242    918400000\n",
       "98    99     Faisal shaikh     3200000          0      456   2000000000\n",
       "99   100  ignacia Antonia??   31700000        269     1409   2500000000\n",
       "\n",
       "[100 rows x 6 columns]"
      ],
      "text/html": [
       "<div>\n",
       "<style scoped>\n",
       "    .dataframe tbody tr th:only-of-type {\n",
       "        vertical-align: middle;\n",
       "    }\n",
       "\n",
       "    .dataframe tbody tr th {\n",
       "        vertical-align: top;\n",
       "    }\n",
       "\n",
       "    .dataframe thead th {\n",
       "        text-align: right;\n",
       "    }\n",
       "</style>\n",
       "<table border=\"1\" class=\"dataframe\">\n",
       "  <thead>\n",
       "    <tr style=\"text-align: right;\">\n",
       "      <th></th>\n",
       "      <th>Rank</th>\n",
       "      <th>Username</th>\n",
       "      <th>Followers</th>\n",
       "      <th>Following</th>\n",
       "      <th>Uploads</th>\n",
       "      <th>Likes</th>\n",
       "    </tr>\n",
       "  </thead>\n",
       "  <tbody>\n",
       "    <tr>\n",
       "      <th>0</th>\n",
       "      <td>1</td>\n",
       "      <td>Khabane lame</td>\n",
       "      <td>162400000</td>\n",
       "      <td>78</td>\n",
       "      <td>1251</td>\n",
       "      <td>2500000000</td>\n",
       "    </tr>\n",
       "    <tr>\n",
       "      <th>1</th>\n",
       "      <td>2</td>\n",
       "      <td>charli d'amelio</td>\n",
       "      <td>155700000</td>\n",
       "      <td>1304</td>\n",
       "      <td>2812</td>\n",
       "      <td>11800000000</td>\n",
       "    </tr>\n",
       "    <tr>\n",
       "      <th>2</th>\n",
       "      <td>3</td>\n",
       "      <td>MrBeast</td>\n",
       "      <td>107500000</td>\n",
       "      <td>362</td>\n",
       "      <td>394</td>\n",
       "      <td>1100000000</td>\n",
       "    </tr>\n",
       "    <tr>\n",
       "      <th>3</th>\n",
       "      <td>4</td>\n",
       "      <td>Bella Poarch</td>\n",
       "      <td>94300000</td>\n",
       "      <td>649</td>\n",
       "      <td>771</td>\n",
       "      <td>2400000000</td>\n",
       "    </tr>\n",
       "    <tr>\n",
       "      <th>4</th>\n",
       "      <td>5</td>\n",
       "      <td>Addison Rae</td>\n",
       "      <td>88500000</td>\n",
       "      <td>1</td>\n",
       "      <td>318</td>\n",
       "      <td>5200000000</td>\n",
       "    </tr>\n",
       "    <tr>\n",
       "      <th>...</th>\n",
       "      <td>...</td>\n",
       "      <td>...</td>\n",
       "      <td>...</td>\n",
       "      <td>...</td>\n",
       "      <td>...</td>\n",
       "      <td>...</td>\n",
       "    </tr>\n",
       "    <tr>\n",
       "      <th>95</th>\n",
       "      <td>96</td>\n",
       "      <td>Arnaldo Mangini</td>\n",
       "      <td>32300000</td>\n",
       "      <td>105</td>\n",
       "      <td>2052</td>\n",
       "      <td>251800000</td>\n",
       "    </tr>\n",
       "    <tr>\n",
       "      <th>96</th>\n",
       "      <td>97</td>\n",
       "      <td>Fujiiian</td>\n",
       "      <td>32300000</td>\n",
       "      <td>464</td>\n",
       "      <td>1571</td>\n",
       "      <td>1900000000</td>\n",
       "    </tr>\n",
       "    <tr>\n",
       "      <th>97</th>\n",
       "      <td>98</td>\n",
       "      <td>Surthycooks</td>\n",
       "      <td>32300000</td>\n",
       "      <td>176</td>\n",
       "      <td>1242</td>\n",
       "      <td>918400000</td>\n",
       "    </tr>\n",
       "    <tr>\n",
       "      <th>98</th>\n",
       "      <td>99</td>\n",
       "      <td>Faisal shaikh</td>\n",
       "      <td>3200000</td>\n",
       "      <td>0</td>\n",
       "      <td>456</td>\n",
       "      <td>2000000000</td>\n",
       "    </tr>\n",
       "    <tr>\n",
       "      <th>99</th>\n",
       "      <td>100</td>\n",
       "      <td>ignacia Antonia??</td>\n",
       "      <td>31700000</td>\n",
       "      <td>269</td>\n",
       "      <td>1409</td>\n",
       "      <td>2500000000</td>\n",
       "    </tr>\n",
       "  </tbody>\n",
       "</table>\n",
       "<p>100 rows × 6 columns</p>\n",
       "</div>"
      ]
     },
     "execution_count": 14,
     "metadata": {},
     "output_type": "execute_result"
    }
   ],
   "execution_count": 14
  },
  {
   "metadata": {
    "ExecuteTime": {
     "end_time": "2025-02-06T15:13:19.235778Z",
     "start_time": "2025-02-06T15:13:19.231971Z"
    }
   },
   "cell_type": "code",
   "source": [
    "max_registrations = len(df['Followers'])\n",
    "print(max_registrations)"
   ],
   "id": "c71b9424319670b1",
   "outputs": [
    {
     "name": "stdout",
     "output_type": "stream",
     "text": [
      "100\n"
     ]
    }
   ],
   "execution_count": 15
  },
  {
   "metadata": {
    "ExecuteTime": {
     "end_time": "2025-02-06T15:13:19.285118Z",
     "start_time": "2025-02-06T15:13:19.281062Z"
    }
   },
   "cell_type": "code",
   "source": "df.columns",
   "id": "2ddaa58ef1b5b7de",
   "outputs": [
    {
     "data": {
      "text/plain": [
       "Index(['Rank', 'Username', 'Followers', 'Following', 'Uploads', 'Likes'], dtype='object')"
      ]
     },
     "execution_count": 16,
     "metadata": {},
     "output_type": "execute_result"
    }
   ],
   "execution_count": 16
  },
  {
   "metadata": {
    "ExecuteTime": {
     "end_time": "2025-02-06T15:13:19.365243Z",
     "start_time": "2025-02-06T15:13:19.360807Z"
    }
   },
   "cell_type": "code",
   "source": "df.isna().sum()",
   "id": "6859471f909e58b2",
   "outputs": [
    {
     "data": {
      "text/plain": [
       "Rank         0\n",
       "Username     0\n",
       "Followers    0\n",
       "Following    0\n",
       "Uploads      0\n",
       "Likes        0\n",
       "dtype: int64"
      ]
     },
     "execution_count": 17,
     "metadata": {},
     "output_type": "execute_result"
    }
   ],
   "execution_count": 17
  },
  {
   "metadata": {
    "ExecuteTime": {
     "end_time": "2025-02-06T15:13:19.517958Z",
     "start_time": "2025-02-06T15:13:19.511321Z"
    }
   },
   "cell_type": "code",
   "source": [
    "sample_data = pd.DataFrame({\n",
    "    'Followers': df['Followers'].sample(10),\n",
    "    'Type': 'Data',\n",
    "})\n",
    "sample_data"
   ],
   "id": "74382c5e9185746d",
   "outputs": [
    {
     "data": {
      "text/plain": [
       "    Followers  Type\n",
       "58   38900000  Data\n",
       "51   40800000  Data\n",
       "29   49900000  Data\n",
       "59   38900000  Data\n",
       "28   50800000  Data\n",
       "52   40300000  Data\n",
       "16   58100000  Data\n",
       "84   33900000  Data\n",
       "41   44100000  Data\n",
       "66   37400000  Data"
      ],
      "text/html": [
       "<div>\n",
       "<style scoped>\n",
       "    .dataframe tbody tr th:only-of-type {\n",
       "        vertical-align: middle;\n",
       "    }\n",
       "\n",
       "    .dataframe tbody tr th {\n",
       "        vertical-align: top;\n",
       "    }\n",
       "\n",
       "    .dataframe thead th {\n",
       "        text-align: right;\n",
       "    }\n",
       "</style>\n",
       "<table border=\"1\" class=\"dataframe\">\n",
       "  <thead>\n",
       "    <tr style=\"text-align: right;\">\n",
       "      <th></th>\n",
       "      <th>Followers</th>\n",
       "      <th>Type</th>\n",
       "    </tr>\n",
       "  </thead>\n",
       "  <tbody>\n",
       "    <tr>\n",
       "      <th>58</th>\n",
       "      <td>38900000</td>\n",
       "      <td>Data</td>\n",
       "    </tr>\n",
       "    <tr>\n",
       "      <th>51</th>\n",
       "      <td>40800000</td>\n",
       "      <td>Data</td>\n",
       "    </tr>\n",
       "    <tr>\n",
       "      <th>29</th>\n",
       "      <td>49900000</td>\n",
       "      <td>Data</td>\n",
       "    </tr>\n",
       "    <tr>\n",
       "      <th>59</th>\n",
       "      <td>38900000</td>\n",
       "      <td>Data</td>\n",
       "    </tr>\n",
       "    <tr>\n",
       "      <th>28</th>\n",
       "      <td>50800000</td>\n",
       "      <td>Data</td>\n",
       "    </tr>\n",
       "    <tr>\n",
       "      <th>52</th>\n",
       "      <td>40300000</td>\n",
       "      <td>Data</td>\n",
       "    </tr>\n",
       "    <tr>\n",
       "      <th>16</th>\n",
       "      <td>58100000</td>\n",
       "      <td>Data</td>\n",
       "    </tr>\n",
       "    <tr>\n",
       "      <th>84</th>\n",
       "      <td>33900000</td>\n",
       "      <td>Data</td>\n",
       "    </tr>\n",
       "    <tr>\n",
       "      <th>41</th>\n",
       "      <td>44100000</td>\n",
       "      <td>Data</td>\n",
       "    </tr>\n",
       "    <tr>\n",
       "      <th>66</th>\n",
       "      <td>37400000</td>\n",
       "      <td>Data</td>\n",
       "    </tr>\n",
       "  </tbody>\n",
       "</table>\n",
       "</div>"
      ]
     },
     "execution_count": 18,
     "metadata": {},
     "output_type": "execute_result"
    }
   ],
   "execution_count": 18
  },
  {
   "metadata": {
    "ExecuteTime": {
     "end_time": "2025-02-06T15:13:19.643223Z",
     "start_time": "2025-02-06T15:13:19.634037Z"
    }
   },
   "cell_type": "code",
   "source": [
    "sample_mean_05 = pd.DataFrame({\n",
    "    'Followers': [df['Followers'].sample(5).mean() for i in range(10)],\n",
    "    'Type': 'Mean of 5',\n",
    "})\n",
    "sample_mean_05"
   ],
   "id": "7cd901648545ef38",
   "outputs": [
    {
     "data": {
      "text/plain": [
       "     Followers       Type\n",
       "0   38900000.0  Mean of 5\n",
       "1   38580000.0  Mean of 5\n",
       "2  125620000.6  Mean of 5\n",
       "3   42820000.0  Mean of 5\n",
       "4   36040000.0  Mean of 5\n",
       "5  121940000.6  Mean of 5\n",
       "6   54560000.0  Mean of 5\n",
       "7   53320000.0  Mean of 5\n",
       "8   43000000.0  Mean of 5\n",
       "9   44820000.0  Mean of 5"
      ],
      "text/html": [
       "<div>\n",
       "<style scoped>\n",
       "    .dataframe tbody tr th:only-of-type {\n",
       "        vertical-align: middle;\n",
       "    }\n",
       "\n",
       "    .dataframe tbody tr th {\n",
       "        vertical-align: top;\n",
       "    }\n",
       "\n",
       "    .dataframe thead th {\n",
       "        text-align: right;\n",
       "    }\n",
       "</style>\n",
       "<table border=\"1\" class=\"dataframe\">\n",
       "  <thead>\n",
       "    <tr style=\"text-align: right;\">\n",
       "      <th></th>\n",
       "      <th>Followers</th>\n",
       "      <th>Type</th>\n",
       "    </tr>\n",
       "  </thead>\n",
       "  <tbody>\n",
       "    <tr>\n",
       "      <th>0</th>\n",
       "      <td>38900000.0</td>\n",
       "      <td>Mean of 5</td>\n",
       "    </tr>\n",
       "    <tr>\n",
       "      <th>1</th>\n",
       "      <td>38580000.0</td>\n",
       "      <td>Mean of 5</td>\n",
       "    </tr>\n",
       "    <tr>\n",
       "      <th>2</th>\n",
       "      <td>125620000.6</td>\n",
       "      <td>Mean of 5</td>\n",
       "    </tr>\n",
       "    <tr>\n",
       "      <th>3</th>\n",
       "      <td>42820000.0</td>\n",
       "      <td>Mean of 5</td>\n",
       "    </tr>\n",
       "    <tr>\n",
       "      <th>4</th>\n",
       "      <td>36040000.0</td>\n",
       "      <td>Mean of 5</td>\n",
       "    </tr>\n",
       "    <tr>\n",
       "      <th>5</th>\n",
       "      <td>121940000.6</td>\n",
       "      <td>Mean of 5</td>\n",
       "    </tr>\n",
       "    <tr>\n",
       "      <th>6</th>\n",
       "      <td>54560000.0</td>\n",
       "      <td>Mean of 5</td>\n",
       "    </tr>\n",
       "    <tr>\n",
       "      <th>7</th>\n",
       "      <td>53320000.0</td>\n",
       "      <td>Mean of 5</td>\n",
       "    </tr>\n",
       "    <tr>\n",
       "      <th>8</th>\n",
       "      <td>43000000.0</td>\n",
       "      <td>Mean of 5</td>\n",
       "    </tr>\n",
       "    <tr>\n",
       "      <th>9</th>\n",
       "      <td>44820000.0</td>\n",
       "      <td>Mean of 5</td>\n",
       "    </tr>\n",
       "  </tbody>\n",
       "</table>\n",
       "</div>"
      ]
     },
     "execution_count": 19,
     "metadata": {},
     "output_type": "execute_result"
    }
   ],
   "execution_count": 19
  },
  {
   "metadata": {
    "ExecuteTime": {
     "end_time": "2025-02-06T15:13:19.771987Z",
     "start_time": "2025-02-06T15:13:19.761139Z"
    }
   },
   "cell_type": "code",
   "source": [
    "sample_mean_20 = pd.DataFrame({\n",
    "    'Followers': [df['Followers'].sample(20).mean() for i in range(10)],\n",
    "    'Type': 'Mean of 20',\n",
    "})\n",
    "sample_mean_20"
   ],
   "id": "e62fc89a208ba9e8",
   "outputs": [
    {
     "data": {
      "text/plain": [
       "     Followers        Type\n",
       "0  53980000.00  Mean of 20\n",
       "1  61470000.15  Mean of 20\n",
       "2  79620000.00  Mean of 20\n",
       "3  63795000.15  Mean of 20\n",
       "4  66290000.15  Mean of 20\n",
       "5  47695000.00  Mean of 20\n",
       "6  74120000.00  Mean of 20\n",
       "7  78530000.00  Mean of 20\n",
       "8  40650000.00  Mean of 20\n",
       "9  50140000.00  Mean of 20"
      ],
      "text/html": [
       "<div>\n",
       "<style scoped>\n",
       "    .dataframe tbody tr th:only-of-type {\n",
       "        vertical-align: middle;\n",
       "    }\n",
       "\n",
       "    .dataframe tbody tr th {\n",
       "        vertical-align: top;\n",
       "    }\n",
       "\n",
       "    .dataframe thead th {\n",
       "        text-align: right;\n",
       "    }\n",
       "</style>\n",
       "<table border=\"1\" class=\"dataframe\">\n",
       "  <thead>\n",
       "    <tr style=\"text-align: right;\">\n",
       "      <th></th>\n",
       "      <th>Followers</th>\n",
       "      <th>Type</th>\n",
       "    </tr>\n",
       "  </thead>\n",
       "  <tbody>\n",
       "    <tr>\n",
       "      <th>0</th>\n",
       "      <td>53980000.00</td>\n",
       "      <td>Mean of 20</td>\n",
       "    </tr>\n",
       "    <tr>\n",
       "      <th>1</th>\n",
       "      <td>61470000.15</td>\n",
       "      <td>Mean of 20</td>\n",
       "    </tr>\n",
       "    <tr>\n",
       "      <th>2</th>\n",
       "      <td>79620000.00</td>\n",
       "      <td>Mean of 20</td>\n",
       "    </tr>\n",
       "    <tr>\n",
       "      <th>3</th>\n",
       "      <td>63795000.15</td>\n",
       "      <td>Mean of 20</td>\n",
       "    </tr>\n",
       "    <tr>\n",
       "      <th>4</th>\n",
       "      <td>66290000.15</td>\n",
       "      <td>Mean of 20</td>\n",
       "    </tr>\n",
       "    <tr>\n",
       "      <th>5</th>\n",
       "      <td>47695000.00</td>\n",
       "      <td>Mean of 20</td>\n",
       "    </tr>\n",
       "    <tr>\n",
       "      <th>6</th>\n",
       "      <td>74120000.00</td>\n",
       "      <td>Mean of 20</td>\n",
       "    </tr>\n",
       "    <tr>\n",
       "      <th>7</th>\n",
       "      <td>78530000.00</td>\n",
       "      <td>Mean of 20</td>\n",
       "    </tr>\n",
       "    <tr>\n",
       "      <th>8</th>\n",
       "      <td>40650000.00</td>\n",
       "      <td>Mean of 20</td>\n",
       "    </tr>\n",
       "    <tr>\n",
       "      <th>9</th>\n",
       "      <td>50140000.00</td>\n",
       "      <td>Mean of 20</td>\n",
       "    </tr>\n",
       "  </tbody>\n",
       "</table>\n",
       "</div>"
      ]
     },
     "execution_count": 20,
     "metadata": {},
     "output_type": "execute_result"
    }
   ],
   "execution_count": 20
  },
  {
   "metadata": {
    "ExecuteTime": {
     "end_time": "2025-02-06T15:13:20.253493Z",
     "start_time": "2025-02-06T15:13:19.898390Z"
    }
   },
   "cell_type": "code",
   "source": [
    "data = pd.concat([sample_data, sample_mean_05, sample_mean_20])\n",
    "g = sns.FacetGrid(data, col=\"Type\", sharex=False, sharey=False)\n",
    "g.map(sns.histplot, \"Followers\")\n",
    "plt.show()"
   ],
   "id": "70078e43ff06729d",
   "outputs": [
    {
     "data": {
      "text/plain": [
       "<Figure size 900x300 with 3 Axes>"
      ],
      "image/png": "[encoded data removed]"
     },
     "metadata": {},
     "output_type": "display_data"
    }
   ],
   "execution_count": 21
  },
  {
   "metadata": {},
   "cell_type": "markdown",
   "source": [
    "Central Limit Theorem\n",
    "* The mean drawn from multiple samples will resemble the familiar bell-shaped normal curve as the sample size increases. Allows normal-approximation formulas like the t-distribution to be used in calculating sampling distributions for inference (confidence intervals, hypothesis tests)."
   ],
   "id": "6325f09eae86ad35"
  },
  {
   "metadata": {},
   "cell_type": "markdown",
   "source": [
    "Standard Error\n",
    "* Is a single metric that sums up the variability in the sampling distribution for a statistic. The standard error can be estimated using a statistic based on the standard deviation of the sample and the sample size.\n",
    "* Formula\n",
    "$$SE = \\frac{s}{\\sqrt{n}}$$\n",
    "* As the sample size increases, the standard error decreases.\n",
    "* Square root of the sample size is referred to reduce the standard error by a factor of 2, the sample size must be increased by a factor of 4.\n",
    "* Collect a number of brand-new samples from the population\n",
    "* For each new sample, calculate the mean.\n",
    "* Calculate the standard deviation of the statistics from the new samples and use this as an estimate of the standard error."
   ],
   "id": "ec46f84f3002acc0"
  },
  {
   "metadata": {},
   "cell_type": "markdown",
   "source": [
    "The Bootstrap\n",
    "* One way to estimate the sampling distribution of a statistic, or of model parameters, is to draw additional samples with replacement from the sample itself and recalculate the statistic or model for each new sample."
   ],
   "id": "b801815e5e3dbff9"
  },
  {
   "metadata": {},
   "cell_type": "markdown",
   "source": [
    "* Bootstrap sample\n",
    "* A sample taken with replacement from an observed data set.\n",
    "* Resampling\n",
    "* The process of taking repeated samples from observed data involves bootstrapping and permutation tests."
   ],
   "id": "1f5ac0e2cb933e4e"
  },
  {
   "metadata": {},
   "cell_type": "markdown",
   "source": [
    "* Draw a sample value, record it, and replace it.\n",
    "* Repeat n times.\n",
    "* Record the mean of the n resampled values.\n",
    "* Repeated steps 1-3 R(number of iterations of the bootstrap) times.\n",
    "* Use the R results to calculate the standard deviation and produce a histogram or boxplot and find a confidence interval."
   ],
   "id": "5257a1953de92409"
  },
  {
   "metadata": {
    "ExecuteTime": {
     "end_time": "2025-02-06T15:13:20.602635Z",
     "start_time": "2025-02-06T15:13:20.348828Z"
    }
   },
   "cell_type": "code",
   "source": [
    "results = []\n",
    "for nrepeat in range(1000):\n",
    "    sample = resample(df['Followers'])\n",
    "    results.append(sample.median())\n",
    "results = pd.Series(results)\n",
    "print('Bootstrap Statistics:')\n",
    "print(f'original: {df[\"Followers\"].median()}')\n",
    "print(f'bias: {results.mean() - df[\"Followers\"].median()}')\n",
    "print(f'std. error: {results.std()}')"
   ],
   "id": "4d266e05395d4b78",
   "outputs": [
    {
     "name": "stdout",
     "output_type": "stream",
     "text": [
      "Bootstrap Statistics:\n",
      "original: 40850000.0\n",
      "bias: 500150.0\n",
      "std. error: 1533776.3681343663\n"
     ]
    }
   ],
   "execution_count": 22
  },
  {
   "metadata": {},
   "cell_type": "markdown",
   "source": [
    "Confidence Intervals\n",
    "* Another way to understand the potential error in sample estimate."
   ],
   "id": "efd417a38f32caf3"
  },
  {
   "metadata": {},
   "cell_type": "markdown",
   "source": [
    "Confidence level\n",
    "* The percentage of the confidence intervals"
   ],
   "id": "376de4c747b885ba"
  },
  {
   "metadata": {},
   "cell_type": "markdown",
   "source": [
    "Intervals endpoints\n",
    "* The top and bottom of the confidence interval."
   ],
   "id": "c4235c3a0248ae1"
  },
  {
   "metadata": {},
   "cell_type": "markdown",
   "source": [
    "Given a sample of size n, and a sample statistic of interest, the algorithm for a boostrap confidence interval is as follows\n",
    "* Draw a random sample of size n with replacement from the data.\n",
    "* Record the statistic of interest for the sample.\n",
    "* Repeat steps 1-2 R times.\n",
    "* For and x% confidence interval, trim (100-x)/2% of the R results from each end of the distribution.\n",
    "* The trim points are the endpoints of an x% confidence interval.\n",
    "* The percentage associated with the confidence interval is termed the level of confidence, the higher level of confidence, the wider the interval, also greater the uncertainty."
   ],
   "id": "3e120acc608e1e7a"
  },
  {
   "metadata": {},
   "cell_type": "markdown",
   "source": [
    "Normal Distribution\n",
    "* The bell-shaped curve."
   ],
   "id": "4fe389e20d3c73b1"
  },
  {
   "metadata": {},
   "cell_type": "markdown",
   "source": [
    "Error\n",
    "* The difference between a data point and a predicted value."
   ],
   "id": "3c0a5c11da3ed5eb"
  },
  {
   "metadata": {},
   "cell_type": "markdown",
   "source": [
    "Standardize\n",
    "* Subtract the mean and divide by the standard deviation."
   ],
   "id": "9e05cad1ec9f2eb"
  },
  {
   "metadata": {},
   "cell_type": "markdown",
   "source": [
    "Z-score\n",
    "* The result of standardizing a value."
   ],
   "id": "793f294601a824e"
  },
  {
   "metadata": {},
   "cell_type": "markdown",
   "source": [
    "Standard normal\n",
    "* A normal distribution with a mean of 0 and a standard deviation of 1."
   ],
   "id": "b98ac277f53aa2cc"
  },
  {
   "metadata": {},
   "cell_type": "markdown",
   "source": [
    "QQ plot\n",
    "* A plot to visualize how close a sample distribution is to a normal distribution.\n",
    "* If the points roughly fall on the diagonal line, then the sample distribution can be considered normal."
   ],
   "id": "2bb43377f3ae9b83"
  },
  {
   "metadata": {
    "ExecuteTime": {
     "end_time": "2025-02-06T15:13:20.680552Z",
     "start_time": "2025-02-06T15:13:20.613425Z"
    }
   },
   "cell_type": "code",
   "source": [
    "fig, ax = plt.subplots(figsize=(4, 4))\n",
    "norm_sample = stats.norm.rvs(size=100)\n",
    "stats.probplot(norm_sample, plot=ax)"
   ],
   "id": "41376f2c08fcf324",
   "outputs": [
    {
     "data": {
      "text/plain": [
       "((array([-2.46203784, -2.12570747, -1.93122778, -1.79044653, -1.67819304,\n",
       "         -1.58381122, -1.50174123, -1.42869743, -1.36256869, -1.30191411,\n",
       "         -1.24570419, -1.19317644, -1.14374949, -1.09696931, -1.05247413,\n",
       "         -1.00997067, -0.96921765, -0.93001393, -0.89218993, -0.85560121,\n",
       "         -0.82012357, -0.78564937, -0.75208458, -0.71934648, -0.68736185,\n",
       "         -0.65606548, -0.62539893, -0.59530962, -0.56574992, -0.53667655,\n",
       "         -0.50804994, -0.47983378, -0.45199463, -0.42450149, -0.39732558,\n",
       "         -0.37044003, -0.34381966, -0.31744076, -0.29128096, -0.26531902,\n",
       "         -0.23953472, -0.21390872, -0.18842244, -0.16305799, -0.13779803,\n",
       "         -0.1126257 , -0.08752455, -0.06247843, -0.03747145, -0.01248789,\n",
       "          0.01248789,  0.03747145,  0.06247843,  0.08752455,  0.1126257 ,\n",
       "          0.13779803,  0.16305799,  0.18842244,  0.21390872,  0.23953472,\n",
       "          0.26531902,  0.29128096,  0.31744076,  0.34381966,  0.37044003,\n",
       "          0.39732558,  0.42450149,  0.45199463,  0.47983378,  0.50804994,\n",
       "          0.53667655,  0.56574992,  0.59530962,  0.62539893,  0.65606548,\n",
       "          0.68736185,  0.71934648,  0.75208458,  0.78564937,  0.82012357,\n",
       "          0.85560121,  0.89218993,  0.93001393,  0.96921765,  1.00997067,\n",
       "          1.05247413,  1.09696931,  1.14374949,  1.19317644,  1.24570419,\n",
       "          1.30191411,  1.36256869,  1.42869743,  1.50174123,  1.58381122,\n",
       "          1.67819304,  1.79044653,  1.93122778,  2.12570747,  2.46203784]),\n",
       "  array([-1.99063712, -1.72808561, -1.63479348, -1.62293945, -1.54405105,\n",
       "         -1.45392904, -1.25993946, -1.19386485, -1.18915578, -1.1854242 ,\n",
       "         -1.17234484, -1.07122995, -1.0330484 , -0.99012817, -0.91718431,\n",
       "         -0.83884739, -0.82565725, -0.78864667, -0.7580679 , -0.74977327,\n",
       "         -0.71819764, -0.61355998, -0.60212582, -0.59119831, -0.57616564,\n",
       "         -0.57550982, -0.55583981, -0.54544067, -0.4836695 , -0.47980789,\n",
       "         -0.42847151, -0.38968922, -0.35287646, -0.33607543, -0.3352575 ,\n",
       "         -0.30930225, -0.2567569 , -0.24555419, -0.22131167, -0.21679884,\n",
       "         -0.15462421, -0.15347382, -0.08986684, -0.03969308, -0.03103931,\n",
       "         -0.02416803, -0.01209267,  0.0204887 ,  0.0264979 ,  0.09631244,\n",
       "          0.12983579,  0.13189722,  0.15806791,  0.17431438,  0.18041884,\n",
       "          0.20967641,  0.21296981,  0.22189735,  0.27695478,  0.29044218,\n",
       "          0.34446383,  0.34795465,  0.37615087,  0.38129026,  0.39876305,\n",
       "          0.41555276,  0.41777432,  0.47274497,  0.54102892,  0.54283579,\n",
       "          0.57363684,  0.72748447,  0.75040406,  0.77188696,  0.78645551,\n",
       "          0.80573684,  0.81112145,  0.89238646,  0.90577743,  0.91459179,\n",
       "          0.96665462,  0.9817565 ,  1.08397751,  1.08666057,  1.11429588,\n",
       "          1.15223807,  1.19910508,  1.23794442,  1.2506673 ,  1.26503543,\n",
       "          1.27495751,  1.31186937,  1.31280661,  1.58391927,  1.62577028,\n",
       "          1.64301072,  1.64470593,  1.94280363,  2.19351857,  2.56608171])),\n",
       " (np.float64(0.9501492603476146),\n",
       "  np.float64(0.09459278784946695),\n",
       "  np.float64(0.9978434119150624)))"
      ]
     },
     "execution_count": 23,
     "metadata": {},
     "output_type": "execute_result"
    },
    {
     "data": {
      "text/plain": [
       "<Figure size 400x400 with 1 Axes>"
      ],
      "image/png": "[encoded data removed]"
     },
     "metadata": {},
     "output_type": "display_data"
    }
   ],
   "execution_count": 23
  },
  {
   "metadata": {},
   "cell_type": "markdown",
   "source": "* Converting the data to z-scores just puts the data on the same scale as the standard normal distribution.",
   "id": "f41bed9c27574c95"
  },
  {
   "metadata": {},
   "cell_type": "markdown",
   "source": "Long-Tailed Distributions",
   "id": "3c34f4dc43e03cd5"
  },
  {
   "metadata": {},
   "cell_type": "markdown",
   "source": [
    "Tail\n",
    "* The long narrow portion of a distribution, where extreme values are found."
   ],
   "id": "c070778204d52646"
  },
  {
   "metadata": {},
   "cell_type": "markdown",
   "source": [
    "Skew\n",
    "* Where one tail of a distribution is longer than the other."
   ],
   "id": "1140fd33b9724d60"
  },
  {
   "metadata": {},
   "cell_type": "code",
   "outputs": [],
   "execution_count": null,
   "source": [
    "import numpy as np\n",
    "import matplotlib.pyplot as plt\n",
    "import seaborn as sns\n",
    "\n",
    "# Generate a Pareto distribution\n",
    "shape = 2.0  # shape parameter\n",
    "pareto_data = (np.random.pareto(shape, 1000) + 1) * 1000\n",
    "\n",
    "# Plot the distribution\n",
    "plt.figure(figsize=(10, 6))\n",
    "sns.histplot(pareto_data, bins=50, kde=True)\n",
    "plt.title('Pareto Distribution')\n",
    "plt.xlabel('Value')\n",
    "plt.ylabel('Frequency')\n",
    "plt.show()"
   ],
   "id": "5e4a812eda4b290a"
  },
  {
   "metadata": {
    "ExecuteTime": {
     "end_time": "2025-02-06T15:16:40.474340Z",
     "start_time": "2025-02-06T15:16:40.391833Z"
    }
   },
   "cell_type": "code",
   "source": [
    "mu, sigma = 0, 1\n",
    "long_tail_data = np.random.lognormal(mu, sigma, 1000)\n",
    "fig, ax = plt.subplots(figsize=(4, 4))\n",
    "stats.probplot(long_tail_data, plot=ax)"
   ],
   "id": "223b882d443cf57c",
   "outputs": [
    {
     "data": {
      "text/plain": [
       "((array([-3.19758950e+00, -2.93237785e+00, -2.78437841e+00, -2.67999560e+00,\n",
       "         -2.59855946e+00, -2.53139899e+00, -2.47402263e+00, -2.42379214e+00,\n",
       "         -2.37902149e+00, -2.33856546e+00, -2.30160949e+00, -2.26755284e+00,\n",
       "         -2.23593934e+00, -2.20641415e+00, -2.17869564e+00, -2.15255643e+00,\n",
       "         -2.12781017e+00, -2.10430217e+00, -2.08190261e+00, -2.06050135e+00,\n",
       "         -2.04000420e+00, -2.02032992e+00, -2.00140792e+00, -1.98317650e+00,\n",
       "         -1.96558137e+00, -1.94857451e+00, -1.93211325e+00, -1.91615948e+00,\n",
       "         -1.90067901e+00, -1.88564107e+00, -1.87101783e+00, -1.85678408e+00,\n",
       "         -1.84291686e+00, -1.82939524e+00, -1.81620005e+00, -1.80331371e+00,\n",
       "         -1.79072004e+00, -1.77840415e+00, -1.76635224e+00, -1.75455157e+00,\n",
       "         -1.74299028e+00, -1.73165738e+00, -1.72054262e+00, -1.70963644e+00,\n",
       "         -1.69892989e+00, -1.68841463e+00, -1.67808281e+00, -1.66792707e+00,\n",
       "         -1.65794051e+00, -1.64811661e+00, -1.63844924e+00, -1.62893261e+00,\n",
       "         -1.61956127e+00, -1.61033003e+00, -1.60123402e+00, -1.59226859e+00,\n",
       "         -1.58342935e+00, -1.57471213e+00, -1.56611295e+00, -1.55762804e+00,\n",
       "         -1.54925381e+00, -1.54098684e+00, -1.53282387e+00, -1.52476177e+00,\n",
       "         -1.51679758e+00, -1.50892845e+00, -1.50115166e+00, -1.49346462e+00,\n",
       "         -1.48586482e+00, -1.47834989e+00, -1.47091753e+00, -1.46356555e+00,\n",
       "         -1.45629184e+00, -1.44909437e+00, -1.44197119e+00, -1.43492043e+00,\n",
       "         -1.42794030e+00, -1.42102906e+00, -1.41418503e+00, -1.40740661e+00,\n",
       "         -1.40069224e+00, -1.39404044e+00, -1.38744975e+00, -1.38091878e+00,\n",
       "         -1.37444619e+00, -1.36803067e+00, -1.36167098e+00, -1.35536588e+00,\n",
       "         -1.34911421e+00, -1.34291482e+00, -1.33676663e+00, -1.33066855e+00,\n",
       "         -1.32461956e+00, -1.31861865e+00, -1.31266485e+00, -1.30675722e+00,\n",
       "         -1.30089485e+00, -1.29507686e+00, -1.28930237e+00, -1.28357055e+00,\n",
       "         -1.27788060e+00, -1.27223172e+00, -1.26662315e+00, -1.26105415e+00,\n",
       "         -1.25552398e+00, -1.25003194e+00, -1.24457735e+00, -1.23915954e+00,\n",
       "         -1.23377786e+00, -1.22843168e+00, -1.22312038e+00, -1.21784337e+00,\n",
       "         -1.21260004e+00, -1.20738985e+00, -1.20221223e+00, -1.19706664e+00,\n",
       "         -1.19195255e+00, -1.18686944e+00, -1.18181682e+00, -1.17679419e+00,\n",
       "         -1.17180107e+00, -1.16683699e+00, -1.16190151e+00, -1.15699416e+00,\n",
       "         -1.15211453e+00, -1.14726217e+00, -1.14243667e+00, -1.13763763e+00,\n",
       "         -1.13286465e+00, -1.12811734e+00, -1.12339532e+00, -1.11869822e+00,\n",
       "         -1.11402566e+00, -1.10937731e+00, -1.10475280e+00, -1.10015180e+00,\n",
       "         -1.09557397e+00, -1.09101899e+00, -1.08648653e+00, -1.08197628e+00,\n",
       "         -1.07748793e+00, -1.07302119e+00, -1.06857575e+00, -1.06415133e+00,\n",
       "         -1.05974765e+00, -1.05536442e+00, -1.05100137e+00, -1.04665824e+00,\n",
       "         -1.04233476e+00, -1.03803068e+00, -1.03374574e+00, -1.02947970e+00,\n",
       "         -1.02523232e+00, -1.02100335e+00, -1.01679256e+00, -1.01259972e+00,\n",
       "         -1.00842461e+00, -1.00426700e+00, -1.00012668e+00, -9.96003439e-01,\n",
       "         -9.91897058e-01, -9.87807334e-01, -9.83734067e-01, -9.79677056e-01,\n",
       "         -9.75636106e-01, -9.71611024e-01, -9.67601623e-01, -9.63607717e-01,\n",
       "         -9.59629122e-01, -9.55665660e-01, -9.51717154e-01, -9.47783430e-01,\n",
       "         -9.43864319e-01, -9.39959651e-01, -9.36069261e-01, -9.32192988e-01,\n",
       "         -9.28330671e-01, -9.24482153e-01, -9.20647280e-01, -9.16825898e-01,\n",
       "         -9.13017857e-01, -9.09223011e-01, -9.05441213e-01, -9.01672321e-01,\n",
       "         -8.97916193e-01, -8.94172691e-01, -8.90441678e-01, -8.86723020e-01,\n",
       "         -8.83016583e-01, -8.79322237e-01, -8.75639853e-01, -8.71969305e-01,\n",
       "         -8.68310468e-01, -8.64663218e-01, -8.61027434e-01, -8.57402996e-01,\n",
       "         -8.53789787e-01, -8.50187690e-01, -8.46596591e-01, -8.43016376e-01,\n",
       "         -8.39446935e-01, -8.35888157e-01, -8.32339934e-01, -8.28802160e-01,\n",
       "         -8.25274728e-01, -8.21757535e-01, -8.18250479e-01, -8.14753457e-01,\n",
       "         -8.11266372e-01, -8.07789123e-01, -8.04321614e-01, -8.00863750e-01,\n",
       "         -7.97415434e-01, -7.93976575e-01, -7.90547079e-01, -7.87126857e-01,\n",
       "         -7.83715817e-01, -7.80313872e-01, -7.76920933e-01, -7.73536915e-01,\n",
       "         -7.70161733e-01, -7.66795301e-01, -7.63437536e-01, -7.60088358e-01,\n",
       "         -7.56747683e-01, -7.53415433e-01, -7.50091527e-01, -7.46775888e-01,\n",
       "         -7.43468439e-01, -7.40169103e-01, -7.36877804e-01, -7.33594468e-01,\n",
       "         -7.30319022e-01, -7.27051392e-01, -7.23791507e-01, -7.20539295e-01,\n",
       "         -7.17294687e-01, -7.14057613e-01, -7.10828003e-01, -7.07605791e-01,\n",
       "         -7.04390909e-01, -7.01183291e-01, -6.97982871e-01, -6.94789584e-01,\n",
       "         -6.91603367e-01, -6.88424155e-01, -6.85251886e-01, -6.82086498e-01,\n",
       "         -6.78927930e-01, -6.75776120e-01, -6.72631010e-01, -6.69492539e-01,\n",
       "         -6.66360648e-01, -6.63235280e-01, -6.60116377e-01, -6.57003883e-01,\n",
       "         -6.53897740e-01, -6.50797893e-01, -6.47704287e-01, -6.44616868e-01,\n",
       "         -6.41535581e-01, -6.38460373e-01, -6.35391191e-01, -6.32327983e-01,\n",
       "         -6.29270697e-01, -6.26219281e-01, -6.23173684e-01, -6.20133858e-01,\n",
       "         -6.17099750e-01, -6.14071313e-01, -6.11048498e-01, -6.08031256e-01,\n",
       "         -6.05019539e-01, -6.02013299e-01, -5.99012491e-01, -5.96017067e-01,\n",
       "         -5.93026981e-01, -5.90042188e-01, -5.87062643e-01, -5.84088300e-01,\n",
       "         -5.81119115e-01, -5.78155045e-01, -5.75196045e-01, -5.72242074e-01,\n",
       "         -5.69293087e-01, -5.66349043e-01, -5.63409899e-01, -5.60475614e-01,\n",
       "         -5.57546147e-01, -5.54621458e-01, -5.51701504e-01, -5.48786247e-01,\n",
       "         -5.45875647e-01, -5.42969663e-01, -5.40068258e-01, -5.37171392e-01,\n",
       "         -5.34279026e-01, -5.31391124e-01, -5.28507646e-01, -5.25628557e-01,\n",
       "         -5.22753817e-01, -5.19883391e-01, -5.17017243e-01, -5.14155335e-01,\n",
       "         -5.11297632e-01, -5.08444099e-01, -5.05594699e-01, -5.02749399e-01,\n",
       "         -4.99908163e-01, -4.97070957e-01, -4.94237747e-01, -4.91408498e-01,\n",
       "         -4.88583178e-01, -4.85761752e-01, -4.82944188e-01, -4.80130452e-01,\n",
       "         -4.77320513e-01, -4.74514337e-01, -4.71711893e-01, -4.68913149e-01,\n",
       "         -4.66118073e-01, -4.63326634e-01, -4.60538801e-01, -4.57754542e-01,\n",
       "         -4.54973827e-01, -4.52196626e-01, -4.49422908e-01, -4.46652644e-01,\n",
       "         -4.43885803e-01, -4.41122356e-01, -4.38362274e-01, -4.35605527e-01,\n",
       "         -4.32852086e-01, -4.30101924e-01, -4.27355010e-01, -4.24611318e-01,\n",
       "         -4.21870818e-01, -4.19133483e-01, -4.16399284e-01, -4.13668196e-01,\n",
       "         -4.10940189e-01, -4.08215237e-01, -4.05493313e-01, -4.02774389e-01,\n",
       "         -4.00058440e-01, -3.97345439e-01, -3.94635359e-01, -3.91928175e-01,\n",
       "         -3.89223860e-01, -3.86522388e-01, -3.83823735e-01, -3.81127874e-01,\n",
       "         -3.78434779e-01, -3.75744427e-01, -3.73056792e-01, -3.70371848e-01,\n",
       "         -3.67689572e-01, -3.65009939e-01, -3.62332924e-01, -3.59658504e-01,\n",
       "         -3.56986653e-01, -3.54317348e-01, -3.51650566e-01, -3.48986282e-01,\n",
       "         -3.46324472e-01, -3.43665115e-01, -3.41008186e-01, -3.38353661e-01,\n",
       "         -3.35701519e-01, -3.33051736e-01, -3.30404290e-01, -3.27759157e-01,\n",
       "         -3.25116316e-01, -3.22475743e-01, -3.19837417e-01, -3.17201315e-01,\n",
       "         -3.14567416e-01, -3.11935698e-01, -3.09306138e-01, -3.06678715e-01,\n",
       "         -3.04053407e-01, -3.01430193e-01, -2.98809052e-01, -2.96189962e-01,\n",
       "         -2.93572903e-01, -2.90957852e-01, -2.88344790e-01, -2.85733695e-01,\n",
       "         -2.83124547e-01, -2.80517325e-01, -2.77912008e-01, -2.75308576e-01,\n",
       "         -2.72707009e-01, -2.70107286e-01, -2.67509388e-01, -2.64913294e-01,\n",
       "         -2.62318984e-01, -2.59726438e-01, -2.57135637e-01, -2.54546561e-01,\n",
       "         -2.51959189e-01, -2.49373504e-01, -2.46789484e-01, -2.44207112e-01,\n",
       "         -2.41626367e-01, -2.39047230e-01, -2.36469683e-01, -2.33893705e-01,\n",
       "         -2.31319279e-01, -2.28746384e-01, -2.26175004e-01, -2.23605117e-01,\n",
       "         -2.21036707e-01, -2.18469754e-01, -2.15904240e-01, -2.13340146e-01,\n",
       "         -2.10777454e-01, -2.08216145e-01, -2.05656202e-01, -2.03097605e-01,\n",
       "         -2.00540338e-01, -1.97984381e-01, -1.95429717e-01, -1.92876328e-01,\n",
       "         -1.90324196e-01, -1.87773302e-01, -1.85223630e-01, -1.82675162e-01,\n",
       "         -1.80127879e-01, -1.77581765e-01, -1.75036802e-01, -1.72492971e-01,\n",
       "         -1.69950256e-01, -1.67408640e-01, -1.64868105e-01, -1.62328633e-01,\n",
       "         -1.59790208e-01, -1.57252812e-01, -1.54716428e-01, -1.52181038e-01,\n",
       "         -1.49646627e-01, -1.47113177e-01, -1.44580670e-01, -1.42049091e-01,\n",
       "         -1.39518421e-01, -1.36988645e-01, -1.34459745e-01, -1.31931705e-01,\n",
       "         -1.29404507e-01, -1.26878136e-01, -1.24352575e-01, -1.21827806e-01,\n",
       "         -1.19303813e-01, -1.16780581e-01, -1.14258092e-01, -1.11736329e-01,\n",
       "         -1.09215277e-01, -1.06694919e-01, -1.04175238e-01, -1.01656219e-01,\n",
       "         -9.91378445e-02, -9.66200987e-02, -9.41029651e-02, -9.15864277e-02,\n",
       "         -8.90704701e-02, -8.65550762e-02, -8.40402299e-02, -8.15259149e-02,\n",
       "         -7.90121153e-02, -7.64988148e-02, -7.39859974e-02, -7.14736472e-02,\n",
       "         -6.89617480e-02, -6.64502838e-02, -6.39392387e-02, -6.14285967e-02,\n",
       "         -5.89183419e-02, -5.64084582e-02, -5.38989299e-02, -5.13897409e-02,\n",
       "         -4.88808755e-02, -4.63723177e-02, -4.38640516e-02, -4.13560616e-02,\n",
       "         -3.88483316e-02, -3.63408459e-02, -3.38335886e-02, -3.13265441e-02,\n",
       "         -2.88196964e-02, -2.63130298e-02, -2.38065286e-02, -2.13001769e-02,\n",
       "         -1.87939590e-02, -1.62878591e-02, -1.37818616e-02, -1.12759505e-02,\n",
       "         -8.77011034e-03, -6.26432519e-03, -3.75857938e-03, -1.25285717e-03,\n",
       "          1.25285717e-03,  3.75857938e-03,  6.26432519e-03,  8.77011034e-03,\n",
       "          1.12759505e-02,  1.37818616e-02,  1.62878591e-02,  1.87939590e-02,\n",
       "          2.13001769e-02,  2.38065286e-02,  2.63130298e-02,  2.88196964e-02,\n",
       "          3.13265441e-02,  3.38335886e-02,  3.63408459e-02,  3.88483316e-02,\n",
       "          4.13560616e-02,  4.38640516e-02,  4.63723177e-02,  4.88808755e-02,\n",
       "          5.13897409e-02,  5.38989299e-02,  5.64084582e-02,  5.89183419e-02,\n",
       "          6.14285967e-02,  6.39392387e-02,  6.64502838e-02,  6.89617480e-02,\n",
       "          7.14736472e-02,  7.39859974e-02,  7.64988148e-02,  7.90121153e-02,\n",
       "          8.15259149e-02,  8.40402299e-02,  8.65550762e-02,  8.90704701e-02,\n",
       "          9.15864277e-02,  9.41029651e-02,  9.66200987e-02,  9.91378445e-02,\n",
       "          1.01656219e-01,  1.04175238e-01,  1.06694919e-01,  1.09215277e-01,\n",
       "          1.11736329e-01,  1.14258092e-01,  1.16780581e-01,  1.19303813e-01,\n",
       "          1.21827806e-01,  1.24352575e-01,  1.26878136e-01,  1.29404507e-01,\n",
       "          1.31931705e-01,  1.34459745e-01,  1.36988645e-01,  1.39518421e-01,\n",
       "          1.42049091e-01,  1.44580670e-01,  1.47113177e-01,  1.49646627e-01,\n",
       "          1.52181038e-01,  1.54716428e-01,  1.57252812e-01,  1.59790208e-01,\n",
       "          1.62328633e-01,  1.64868105e-01,  1.67408640e-01,  1.69950256e-01,\n",
       "          1.72492971e-01,  1.75036802e-01,  1.77581765e-01,  1.80127879e-01,\n",
       "          1.82675162e-01,  1.85223630e-01,  1.87773302e-01,  1.90324196e-01,\n",
       "          1.92876328e-01,  1.95429717e-01,  1.97984381e-01,  2.00540338e-01,\n",
       "          2.03097605e-01,  2.05656202e-01,  2.08216145e-01,  2.10777454e-01,\n",
       "          2.13340146e-01,  2.15904240e-01,  2.18469754e-01,  2.21036707e-01,\n",
       "          2.23605117e-01,  2.26175004e-01,  2.28746384e-01,  2.31319279e-01,\n",
       "          2.33893705e-01,  2.36469683e-01,  2.39047230e-01,  2.41626367e-01,\n",
       "          2.44207112e-01,  2.46789484e-01,  2.49373504e-01,  2.51959189e-01,\n",
       "          2.54546561e-01,  2.57135637e-01,  2.59726438e-01,  2.62318984e-01,\n",
       "          2.64913294e-01,  2.67509388e-01,  2.70107286e-01,  2.72707009e-01,\n",
       "          2.75308576e-01,  2.77912008e-01,  2.80517325e-01,  2.83124547e-01,\n",
       "          2.85733695e-01,  2.88344790e-01,  2.90957852e-01,  2.93572903e-01,\n",
       "          2.96189962e-01,  2.98809052e-01,  3.01430193e-01,  3.04053407e-01,\n",
       "          3.06678715e-01,  3.09306138e-01,  3.11935698e-01,  3.14567416e-01,\n",
       "          3.17201315e-01,  3.19837417e-01,  3.22475743e-01,  3.25116316e-01,\n",
       "          3.27759157e-01,  3.30404290e-01,  3.33051736e-01,  3.35701519e-01,\n",
       "          3.38353661e-01,  3.41008186e-01,  3.43665115e-01,  3.46324472e-01,\n",
       "          3.48986282e-01,  3.51650566e-01,  3.54317348e-01,  3.56986653e-01,\n",
       "          3.59658504e-01,  3.62332924e-01,  3.65009939e-01,  3.67689572e-01,\n",
       "          3.70371848e-01,  3.73056792e-01,  3.75744427e-01,  3.78434779e-01,\n",
       "          3.81127874e-01,  3.83823735e-01,  3.86522388e-01,  3.89223860e-01,\n",
       "          3.91928175e-01,  3.94635359e-01,  3.97345439e-01,  4.00058440e-01,\n",
       "          4.02774389e-01,  4.05493313e-01,  4.08215237e-01,  4.10940189e-01,\n",
       "          4.13668196e-01,  4.16399284e-01,  4.19133483e-01,  4.21870818e-01,\n",
       "          4.24611318e-01,  4.27355010e-01,  4.30101924e-01,  4.32852086e-01,\n",
       "          4.35605527e-01,  4.38362274e-01,  4.41122356e-01,  4.43885803e-01,\n",
       "          4.46652644e-01,  4.49422908e-01,  4.52196626e-01,  4.54973827e-01,\n",
       "          4.57754542e-01,  4.60538801e-01,  4.63326634e-01,  4.66118073e-01,\n",
       "          4.68913149e-01,  4.71711893e-01,  4.74514337e-01,  4.77320513e-01,\n",
       "          4.80130452e-01,  4.82944188e-01,  4.85761752e-01,  4.88583178e-01,\n",
       "          4.91408498e-01,  4.94237747e-01,  4.97070957e-01,  4.99908163e-01,\n",
       "          5.02749399e-01,  5.05594699e-01,  5.08444099e-01,  5.11297632e-01,\n",
       "          5.14155335e-01,  5.17017243e-01,  5.19883391e-01,  5.22753817e-01,\n",
       "          5.25628557e-01,  5.28507646e-01,  5.31391124e-01,  5.34279026e-01,\n",
       "          5.37171392e-01,  5.40068258e-01,  5.42969663e-01,  5.45875647e-01,\n",
       "          5.48786247e-01,  5.51701504e-01,  5.54621458e-01,  5.57546147e-01,\n",
       "          5.60475614e-01,  5.63409899e-01,  5.66349043e-01,  5.69293087e-01,\n",
       "          5.72242074e-01,  5.75196045e-01,  5.78155045e-01,  5.81119115e-01,\n",
       "          5.84088300e-01,  5.87062643e-01,  5.90042188e-01,  5.93026981e-01,\n",
       "          5.96017067e-01,  5.99012491e-01,  6.02013299e-01,  6.05019539e-01,\n",
       "          6.08031256e-01,  6.11048498e-01,  6.14071313e-01,  6.17099750e-01,\n",
       "          6.20133858e-01,  6.23173684e-01,  6.26219281e-01,  6.29270697e-01,\n",
       "          6.32327983e-01,  6.35391191e-01,  6.38460373e-01,  6.41535581e-01,\n",
       "          6.44616868e-01,  6.47704287e-01,  6.50797893e-01,  6.53897740e-01,\n",
       "          6.57003883e-01,  6.60116377e-01,  6.63235280e-01,  6.66360648e-01,\n",
       "          6.69492539e-01,  6.72631010e-01,  6.75776120e-01,  6.78927930e-01,\n",
       "          6.82086498e-01,  6.85251886e-01,  6.88424155e-01,  6.91603367e-01,\n",
       "          6.94789584e-01,  6.97982871e-01,  7.01183291e-01,  7.04390909e-01,\n",
       "          7.07605791e-01,  7.10828003e-01,  7.14057613e-01,  7.17294687e-01,\n",
       "          7.20539295e-01,  7.23791507e-01,  7.27051392e-01,  7.30319022e-01,\n",
       "          7.33594468e-01,  7.36877804e-01,  7.40169103e-01,  7.43468439e-01,\n",
       "          7.46775888e-01,  7.50091527e-01,  7.53415433e-01,  7.56747683e-01,\n",
       "          7.60088358e-01,  7.63437536e-01,  7.66795301e-01,  7.70161733e-01,\n",
       "          7.73536915e-01,  7.76920933e-01,  7.80313872e-01,  7.83715817e-01,\n",
       "          7.87126857e-01,  7.90547079e-01,  7.93976575e-01,  7.97415434e-01,\n",
       "          8.00863750e-01,  8.04321614e-01,  8.07789123e-01,  8.11266372e-01,\n",
       "          8.14753457e-01,  8.18250479e-01,  8.21757535e-01,  8.25274728e-01,\n",
       "          8.28802160e-01,  8.32339934e-01,  8.35888157e-01,  8.39446935e-01,\n",
       "          8.43016376e-01,  8.46596591e-01,  8.50187690e-01,  8.53789787e-01,\n",
       "          8.57402996e-01,  8.61027434e-01,  8.64663218e-01,  8.68310468e-01,\n",
       "          8.71969305e-01,  8.75639853e-01,  8.79322237e-01,  8.83016583e-01,\n",
       "          8.86723020e-01,  8.90441678e-01,  8.94172691e-01,  8.97916193e-01,\n",
       "          9.01672321e-01,  9.05441213e-01,  9.09223011e-01,  9.13017857e-01,\n",
       "          9.16825898e-01,  9.20647280e-01,  9.24482153e-01,  9.28330671e-01,\n",
       "          9.32192988e-01,  9.36069261e-01,  9.39959651e-01,  9.43864319e-01,\n",
       "          9.47783430e-01,  9.51717154e-01,  9.55665660e-01,  9.59629122e-01,\n",
       "          9.63607717e-01,  9.67601623e-01,  9.71611024e-01,  9.75636106e-01,\n",
       "          9.79677056e-01,  9.83734067e-01,  9.87807334e-01,  9.91897058e-01,\n",
       "          9.96003439e-01,  1.00012668e+00,  1.00426700e+00,  1.00842461e+00,\n",
       "          1.01259972e+00,  1.01679256e+00,  1.02100335e+00,  1.02523232e+00,\n",
       "          1.02947970e+00,  1.03374574e+00,  1.03803068e+00,  1.04233476e+00,\n",
       "          1.04665824e+00,  1.05100137e+00,  1.05536442e+00,  1.05974765e+00,\n",
       "          1.06415133e+00,  1.06857575e+00,  1.07302119e+00,  1.07748793e+00,\n",
       "          1.08197628e+00,  1.08648653e+00,  1.09101899e+00,  1.09557397e+00,\n",
       "          1.10015180e+00,  1.10475280e+00,  1.10937731e+00,  1.11402566e+00,\n",
       "          1.11869822e+00,  1.12339532e+00,  1.12811734e+00,  1.13286465e+00,\n",
       "          1.13763763e+00,  1.14243667e+00,  1.14726217e+00,  1.15211453e+00,\n",
       "          1.15699416e+00,  1.16190151e+00,  1.16683699e+00,  1.17180107e+00,\n",
       "          1.17679419e+00,  1.18181682e+00,  1.18686944e+00,  1.19195255e+00,\n",
       "          1.19706664e+00,  1.20221223e+00,  1.20738985e+00,  1.21260004e+00,\n",
       "          1.21784337e+00,  1.22312038e+00,  1.22843168e+00,  1.23377786e+00,\n",
       "          1.23915954e+00,  1.24457735e+00,  1.25003194e+00,  1.25552398e+00,\n",
       "          1.26105415e+00,  1.26662315e+00,  1.27223172e+00,  1.27788060e+00,\n",
       "          1.28357055e+00,  1.28930237e+00,  1.29507686e+00,  1.30089485e+00,\n",
       "          1.30675722e+00,  1.31266485e+00,  1.31861865e+00,  1.32461956e+00,\n",
       "          1.33066855e+00,  1.33676663e+00,  1.34291482e+00,  1.34911421e+00,\n",
       "          1.35536588e+00,  1.36167098e+00,  1.36803067e+00,  1.37444619e+00,\n",
       "          1.38091878e+00,  1.38744975e+00,  1.39404044e+00,  1.40069224e+00,\n",
       "          1.40740661e+00,  1.41418503e+00,  1.42102906e+00,  1.42794030e+00,\n",
       "          1.43492043e+00,  1.44197119e+00,  1.44909437e+00,  1.45629184e+00,\n",
       "          1.46356555e+00,  1.47091753e+00,  1.47834989e+00,  1.48586482e+00,\n",
       "          1.49346462e+00,  1.50115166e+00,  1.50892845e+00,  1.51679758e+00,\n",
       "          1.52476177e+00,  1.53282387e+00,  1.54098684e+00,  1.54925381e+00,\n",
       "          1.55762804e+00,  1.56611295e+00,  1.57471213e+00,  1.58342935e+00,\n",
       "          1.59226859e+00,  1.60123402e+00,  1.61033003e+00,  1.61956127e+00,\n",
       "          1.62893261e+00,  1.63844924e+00,  1.64811661e+00,  1.65794051e+00,\n",
       "          1.66792707e+00,  1.67808281e+00,  1.68841463e+00,  1.69892989e+00,\n",
       "          1.70963644e+00,  1.72054262e+00,  1.73165738e+00,  1.74299028e+00,\n",
       "          1.75455157e+00,  1.76635224e+00,  1.77840415e+00,  1.79072004e+00,\n",
       "          1.80331371e+00,  1.81620005e+00,  1.82939524e+00,  1.84291686e+00,\n",
       "          1.85678408e+00,  1.87101783e+00,  1.88564107e+00,  1.90067901e+00,\n",
       "          1.91615948e+00,  1.93211325e+00,  1.94857451e+00,  1.96558137e+00,\n",
       "          1.98317650e+00,  2.00140792e+00,  2.02032992e+00,  2.04000420e+00,\n",
       "          2.06050135e+00,  2.08190261e+00,  2.10430217e+00,  2.12781017e+00,\n",
       "          2.15255643e+00,  2.17869564e+00,  2.20641415e+00,  2.23593934e+00,\n",
       "          2.26755284e+00,  2.30160949e+00,  2.33856546e+00,  2.37902149e+00,\n",
       "          2.42379214e+00,  2.47402263e+00,  2.53139899e+00,  2.59855946e+00,\n",
       "          2.67999560e+00,  2.78437841e+00,  2.93237785e+00,  3.19758950e+00]),\n",
       "  array([ 0.05350135,  0.05692768,  0.07514862,  0.07522121,  0.07707347,\n",
       "          0.08096699,  0.09273586,  0.09699297,  0.09786038,  0.09934903,\n",
       "          0.10101707,  0.1011447 ,  0.10364242,  0.11708586,  0.11743887,\n",
       "          0.11811535,  0.12295046,  0.12354673,  0.124498  ,  0.12533181,\n",
       "          0.12583229,  0.12721364,  0.12734071,  0.13358851,  0.13532245,\n",
       "          0.13742128,  0.13887673,  0.14016516,  0.14396889,  0.14459962,\n",
       "          0.14693747,  0.14844951,  0.15202785,  0.15460111,  0.15488077,\n",
       "          0.16025509,  0.16238365,  0.16249967,  0.164916  ,  0.16621173,\n",
       "          0.16647366,  0.16833323,  0.16879813,  0.17157034,  0.17217696,\n",
       "          0.1724791 ,  0.17679702,  0.18033412,  0.18238914,  0.18396308,\n",
       "          0.18611189,  0.18907582,  0.19187852,  0.19209219,  0.19427663,\n",
       "          0.20018776,  0.20442751,  0.20645496,  0.20718117,  0.21635947,\n",
       "          0.21672514,  0.21680336,  0.21724741,  0.21854666,  0.21876778,\n",
       "          0.22469037,  0.230176  ,  0.23101084,  0.23320269,  0.23351083,\n",
       "          0.23581133,  0.23614477,  0.23878587,  0.23930762,  0.2411458 ,\n",
       "          0.24193172,  0.2479535 ,  0.25250878,  0.25276998,  0.25463747,\n",
       "          0.25557148,  0.25672079,  0.25702995,  0.25868827,  0.25947009,\n",
       "          0.26027036,  0.26143539,  0.26171875,  0.26222082,  0.26237998,\n",
       "          0.26313504,  0.26413097,  0.26482888,  0.26632516,  0.26919657,\n",
       "          0.26956316,  0.27184057,  0.27750558,  0.2776711 ,  0.2781212 ,\n",
       "          0.28079065,  0.2818556 ,  0.281863  ,  0.28239546,  0.28278484,\n",
       "          0.28322446,  0.28361171,  0.2836142 ,  0.28683415,  0.28764792,\n",
       "          0.29172628,  0.29208202,  0.29410214,  0.29523524,  0.29587607,\n",
       "          0.29958107,  0.30247663,  0.30302225,  0.30764391,  0.31300748,\n",
       "          0.31309986,  0.31321994,  0.31394085,  0.31685957,  0.31795756,\n",
       "          0.31804346,  0.3232569 ,  0.32504413,  0.32576714,  0.32804975,\n",
       "          0.32935906,  0.33068877,  0.33194982,  0.33227038,  0.3325951 ,\n",
       "          0.33506557,  0.33535097,  0.33573601,  0.33579795,  0.33591379,\n",
       "          0.33634763,  0.33661492,  0.3371109 ,  0.33857658,  0.3404862 ,\n",
       "          0.34089796,  0.34593068,  0.34688818,  0.3472552 ,  0.34887029,\n",
       "          0.35094177,  0.35403049,  0.3540664 ,  0.35505997,  0.35528099,\n",
       "          0.3566764 ,  0.35745524,  0.35777524,  0.35957644,  0.36166979,\n",
       "          0.36254849,  0.36272333,  0.36493067,  0.36839846,  0.37287891,\n",
       "          0.37563025,  0.37577813,  0.37721711,  0.37862415,  0.37939827,\n",
       "          0.37956904,  0.38155911,  0.38252659,  0.38288932,  0.38631914,\n",
       "          0.38694229,  0.38729922,  0.38780743,  0.38804442,  0.38931606,\n",
       "          0.39104599,  0.3929056 ,  0.39316237,  0.39363873,  0.39454729,\n",
       "          0.39520417,  0.39867463,  0.40034148,  0.4065773 ,  0.40844583,\n",
       "          0.40980419,  0.41215234,  0.41435218,  0.41495104,  0.41742138,\n",
       "          0.41742459,  0.42020689,  0.42215929,  0.42257267,  0.42555138,\n",
       "          0.42709456,  0.42802798,  0.430154  ,  0.4309924 ,  0.43105914,\n",
       "          0.43157406,  0.43163011,  0.43243782,  0.43264423,  0.43338851,\n",
       "          0.43538565,  0.4362776 ,  0.43635466,  0.44132201,  0.44345841,\n",
       "          0.45182402,  0.45186416,  0.4532448 ,  0.45344499,  0.45354311,\n",
       "          0.45445033,  0.45463236,  0.455946  ,  0.45788896,  0.45980782,\n",
       "          0.45987872,  0.4604895 ,  0.46804875,  0.46856399,  0.47150454,\n",
       "          0.47398753,  0.47398807,  0.4742661 ,  0.47571877,  0.47578351,\n",
       "          0.47708011,  0.47721241,  0.47810447,  0.4785135 ,  0.47870152,\n",
       "          0.47999814,  0.48087991,  0.48135946,  0.48582153,  0.48979179,\n",
       "          0.48980378,  0.49008726,  0.49203511,  0.49622998,  0.49719532,\n",
       "          0.49805968,  0.50238245,  0.50391917,  0.5039957 ,  0.50501917,\n",
       "          0.50540377,  0.50771414,  0.51136417,  0.51721638,  0.51866026,\n",
       "          0.51870401,  0.51975852,  0.52474005,  0.52515627,  0.52523323,\n",
       "          0.52643215,  0.52805541,  0.52805825,  0.53203859,  0.53584449,\n",
       "          0.53618793,  0.53781641,  0.53876011,  0.54172777,  0.54226821,\n",
       "          0.54459217,  0.54679512,  0.54705432,  0.55095233,  0.55215734,\n",
       "          0.55334518,  0.55368426,  0.55711398,  0.56155366,  0.56383271,\n",
       "          0.56617026,  0.57241788,  0.57491073,  0.57626725,  0.57639516,\n",
       "          0.57742883,  0.57896486,  0.57949947,  0.58140985,  0.58142357,\n",
       "          0.5832486 ,  0.58366091,  0.58688333,  0.5872981 ,  0.59039664,\n",
       "          0.59051352,  0.59579979,  0.59852348,  0.5985894 ,  0.5997439 ,\n",
       "          0.59982719,  0.60362356,  0.60536401,  0.60819113,  0.61255662,\n",
       "          0.61344027,  0.6147068 ,  0.61961913,  0.62014857,  0.62626311,\n",
       "          0.62744197,  0.62881273,  0.62899499,  0.63231676,  0.63283318,\n",
       "          0.63358162,  0.63369481,  0.63546093,  0.63590996,  0.63591555,\n",
       "          0.63653279,  0.63702253,  0.63862676,  0.63887582,  0.65127508,\n",
       "          0.65268862,  0.65294244,  0.65403375,  0.65420254,  0.66138801,\n",
       "          0.66170762,  0.66213803,  0.66222063,  0.66570089,  0.66612003,\n",
       "          0.66626983,  0.66758259,  0.6676302 ,  0.67036076,  0.67141623,\n",
       "          0.67322657,  0.67361976,  0.67510803,  0.67540744,  0.68374602,\n",
       "          0.6839753 ,  0.6854877 ,  0.6866922 ,  0.69436072,  0.69462973,\n",
       "          0.69859141,  0.70361336,  0.70413306,  0.70416644,  0.7049074 ,\n",
       "          0.70539975,  0.70610609,  0.70651135,  0.70685563,  0.70706843,\n",
       "          0.70950654,  0.71073844,  0.71128967,  0.7121396 ,  0.71415693,\n",
       "          0.71500241,  0.71732977,  0.71959435,  0.72197463,  0.72726778,\n",
       "          0.72801665,  0.73041848,  0.7342423 ,  0.73665257,  0.73679461,\n",
       "          0.73750018,  0.7376687 ,  0.73895021,  0.73924763,  0.73968815,\n",
       "          0.75128762,  0.75193486,  0.75234459,  0.75259899,  0.7536385 ,\n",
       "          0.75380179,  0.76015958,  0.76068584,  0.76120634,  0.76182971,\n",
       "          0.76337968,  0.76943174,  0.77056431,  0.77113534,  0.77573718,\n",
       "          0.77718693,  0.77746505,  0.7788352 ,  0.77988586,  0.7804974 ,\n",
       "          0.78200874,  0.78673039,  0.79347419,  0.79531674,  0.79646926,\n",
       "          0.80164327,  0.80252107,  0.80264432,  0.80275111,  0.80677745,\n",
       "          0.80738713,  0.80847726,  0.80911601,  0.8139109 ,  0.81503808,\n",
       "          0.8178993 ,  0.81853544,  0.81934253,  0.82185683,  0.82382655,\n",
       "          0.82499379,  0.8283505 ,  0.83330283,  0.83967558,  0.84030959,\n",
       "          0.84092975,  0.8428449 ,  0.84376233,  0.84661954,  0.84881814,\n",
       "          0.85050167,  0.85154807,  0.85222998,  0.85225957,  0.85348763,\n",
       "          0.85804557,  0.86089992,  0.86616928,  0.86857081,  0.86909826,\n",
       "          0.86915804,  0.87120053,  0.87335513,  0.87521765,  0.87759622,\n",
       "          0.87866852,  0.88278489,  0.88485428,  0.88647952,  0.8881343 ,\n",
       "          0.88948926,  0.89090031,  0.89126009,  0.89279263,  0.89326003,\n",
       "          0.89358087,  0.89722923,  0.89881264,  0.90002975,  0.90673404,\n",
       "          0.90822818,  0.90899894,  0.91052436,  0.91338636,  0.91509378,\n",
       "          0.91870231,  0.92240029,  0.92251105,  0.93171014,  0.93598333,\n",
       "          0.94118514,  0.94242384,  0.94316873,  0.94468792,  0.94557395,\n",
       "          0.94692888,  0.95446726,  0.95741648,  0.95947127,  0.9639639 ,\n",
       "          0.97025236,  0.97476232,  0.97635239,  0.98070497,  0.98456274,\n",
       "          0.98591789,  0.98686995,  0.99038779,  0.99132548,  0.99228329,\n",
       "          0.99735243,  0.99889744,  1.00312662,  1.00382331,  1.00893046,\n",
       "          1.00955135,  1.01062163,  1.01238917,  1.01429213,  1.01504339,\n",
       "          1.01755117,  1.01769544,  1.01934919,  1.02083282,  1.02509076,\n",
       "          1.02940567,  1.03228124,  1.03529516,  1.03554488,  1.0363209 ,\n",
       "          1.03685281,  1.03761828,  1.03767936,  1.0389561 ,  1.04094018,\n",
       "          1.04706307,  1.04723957,  1.05033681,  1.05034335,  1.05224431,\n",
       "          1.05297832,  1.05382845,  1.05700191,  1.05899568,  1.06423024,\n",
       "          1.06433742,  1.06653873,  1.06873476,  1.07367421,  1.07387382,\n",
       "          1.07857964,  1.07927336,  1.08484055,  1.08542283,  1.08577008,\n",
       "          1.08876701,  1.09133709,  1.09282455,  1.09492808,  1.09645018,\n",
       "          1.09660703,  1.10674533,  1.11020058,  1.11119006,  1.11349579,\n",
       "          1.11537288,  1.1193118 ,  1.12058069,  1.12935048,  1.13575997,\n",
       "          1.14019106,  1.14657146,  1.14971761,  1.15225296,  1.15385856,\n",
       "          1.15725439,  1.16070588,  1.16258235,  1.16584109,  1.16856141,\n",
       "          1.16953935,  1.17337886,  1.17450416,  1.17709492,  1.18153499,\n",
       "          1.18573224,  1.19262719,  1.19847234,  1.20538122,  1.20624146,\n",
       "          1.20932404,  1.21431155,  1.21936874,  1.22090106,  1.22357038,\n",
       "          1.22781723,  1.22878581,  1.23054567,  1.23136268,  1.23278719,\n",
       "          1.23536603,  1.24044797,  1.24123412,  1.24263938,  1.2487831 ,\n",
       "          1.24898178,  1.2512583 ,  1.25682874,  1.26533829,  1.26860884,\n",
       "          1.27084605,  1.27621145,  1.27648194,  1.28708012,  1.28852697,\n",
       "          1.28904809,  1.29001139,  1.29080051,  1.29309913,  1.30104322,\n",
       "          1.30498553,  1.31641379,  1.3164394 ,  1.3195991 ,  1.32023149,\n",
       "          1.32192692,  1.3255416 ,  1.32622723,  1.3287366 ,  1.32877304,\n",
       "          1.33229779,  1.3324786 ,  1.3361114 ,  1.3363964 ,  1.33818927,\n",
       "          1.34405766,  1.35264346,  1.35355683,  1.35805854,  1.36353371,\n",
       "          1.36579733,  1.36588897,  1.36693398,  1.37059609,  1.37352021,\n",
       "          1.37471607,  1.37510305,  1.37814452,  1.37906403,  1.38374689,\n",
       "          1.38695749,  1.38833392,  1.40015097,  1.40389641,  1.4042569 ,\n",
       "          1.40760349,  1.40978753,  1.4199118 ,  1.42446467,  1.42539275,\n",
       "          1.42876982,  1.42891179,  1.44213306,  1.44895359,  1.45128304,\n",
       "          1.46795154,  1.47015932,  1.4703429 ,  1.47273465,  1.47274619,\n",
       "          1.48091057,  1.48600997,  1.48866464,  1.49085282,  1.49732   ,\n",
       "          1.49757027,  1.49772946,  1.50290093,  1.50408602,  1.5057024 ,\n",
       "          1.51624982,  1.52100404,  1.52162482,  1.52387686,  1.52854329,\n",
       "          1.53701802,  1.53815171,  1.54699739,  1.55392815,  1.55412127,\n",
       "          1.55493431,  1.5557619 ,  1.56024112,  1.56207385,  1.56442797,\n",
       "          1.56600431,  1.56682837,  1.56814082,  1.57387183,  1.5751551 ,\n",
       "          1.57764829,  1.57888996,  1.58681866,  1.58769431,  1.59465676,\n",
       "          1.59804845,  1.59932368,  1.6058027 ,  1.60658193,  1.6158566 ,\n",
       "          1.61814495,  1.6228915 ,  1.62618255,  1.62709374,  1.62818598,\n",
       "          1.62822057,  1.6370245 ,  1.63740409,  1.63824662,  1.64008175,\n",
       "          1.64561583,  1.6468941 ,  1.64748909,  1.65027785,  1.6525863 ,\n",
       "          1.6545671 ,  1.65945697,  1.66216607,  1.6638104 ,  1.67118825,\n",
       "          1.67205099,  1.68690704,  1.70067229,  1.70302132,  1.71091088,\n",
       "          1.71350885,  1.72167344,  1.72236148,  1.72611634,  1.74487751,\n",
       "          1.74619148,  1.75048803,  1.75155233,  1.75249233,  1.76177646,\n",
       "          1.78046613,  1.79888156,  1.80880149,  1.81723156,  1.82121523,\n",
       "          1.82124186,  1.82820229,  1.83311304,  1.83519851,  1.83837377,\n",
       "          1.84004869,  1.84200965,  1.84923288,  1.86613453,  1.87176054,\n",
       "          1.87310767,  1.88821618,  1.88846933,  1.89298893,  1.8974709 ,\n",
       "          1.9207687 ,  1.92573595,  1.93316755,  1.94103555,  1.94711153,\n",
       "          1.94973266,  1.95078835,  1.95419477,  1.95676169,  1.9703824 ,\n",
       "          1.98155183,  1.98291274,  1.98353879,  1.99781129,  1.99978433,\n",
       "          2.00708007,  2.01236182,  2.02981651,  2.05051569,  2.05821106,\n",
       "          2.07120916,  2.07259372,  2.07378727,  2.08168941,  2.09640146,\n",
       "          2.09817949,  2.10751367,  2.11092131,  2.11290708,  2.11474115,\n",
       "          2.12066084,  2.12214778,  2.13298553,  2.1346006 ,  2.14773253,\n",
       "          2.15622843,  2.16427297,  2.17087843,  2.17177177,  2.17303925,\n",
       "          2.17968473,  2.18559181,  2.18842146,  2.21140469,  2.21302767,\n",
       "          2.21517641,  2.22071304,  2.23112496,  2.24795401,  2.26008253,\n",
       "          2.261188  ,  2.27121427,  2.27320652,  2.27774177,  2.27842094,\n",
       "          2.28564941,  2.30193735,  2.30313879,  2.32141724,  2.32451519,\n",
       "          2.32490915,  2.33894568,  2.35909728,  2.39265375,  2.39743704,\n",
       "          2.43786135,  2.44611277,  2.45059547,  2.45409141,  2.5025957 ,\n",
       "          2.51652939,  2.52243414,  2.52319937,  2.52856093,  2.54196732,\n",
       "          2.5448097 ,  2.56405801,  2.57356965,  2.58702655,  2.58754927,\n",
       "          2.59218476,  2.59532984,  2.60194392,  2.61036497,  2.61162931,\n",
       "          2.62422297,  2.62593949,  2.63006466,  2.64791564,  2.66065173,\n",
       "          2.6852754 ,  2.69273883,  2.69417462,  2.71358094,  2.72685899,\n",
       "          2.72730963,  2.73541446,  2.7377072 ,  2.74560201,  2.74787009,\n",
       "          2.74964003,  2.75569674,  2.75731311,  2.76735325,  2.77356606,\n",
       "          2.78391042,  2.80735238,  2.80870521,  2.81796677,  2.82361436,\n",
       "          2.85243279,  2.89515714,  2.92290108,  2.93130753,  2.93132061,\n",
       "          2.93642368,  2.93906056,  2.98176788,  2.99911182,  3.02299954,\n",
       "          3.03310112,  3.03535166,  3.03861565,  3.05037777,  3.09259955,\n",
       "          3.10944919,  3.13029655,  3.14241346,  3.14651175,  3.15961264,\n",
       "          3.19351798,  3.20604074,  3.22668491,  3.23180526,  3.24383928,\n",
       "          3.26890916,  3.29769272,  3.32350683,  3.33251992,  3.35838271,\n",
       "          3.448376  ,  3.44950022,  3.45044301,  3.4946009 ,  3.54632152,\n",
       "          3.5477855 ,  3.54797149,  3.54944359,  3.55475254,  3.61814705,\n",
       "          3.62016471,  3.62683028,  3.72025711,  3.72636848,  3.73865827,\n",
       "          3.75299221,  3.77440226,  3.78313688,  3.7846229 ,  3.82613067,\n",
       "          3.92143067,  3.92830873,  4.08572161,  4.09976384,  4.12741437,\n",
       "          4.14406044,  4.14433271,  4.14779721,  4.18587608,  4.21277336,\n",
       "          4.21596976,  4.25280171,  4.2954471 ,  4.30753994,  4.30887397,\n",
       "          4.33500135,  4.34059948,  4.35965577,  4.36784769,  4.41015665,\n",
       "          4.50164061,  4.52235108,  4.5268283 ,  4.53155838,  4.5964785 ,\n",
       "          4.60839019,  4.64866805,  4.70394708,  4.73043789,  4.80422648,\n",
       "          4.81952853,  4.82979903,  4.8615499 ,  4.89997255,  5.02251828,\n",
       "          5.1494855 ,  5.17994778,  5.18494729,  5.19942086,  5.27174445,\n",
       "          5.35340539,  5.41068093,  5.42068283,  5.43153769,  5.53078798,\n",
       "          5.59357309,  5.67729626,  5.68408314,  5.78814407,  5.93033239,\n",
       "          6.03041493,  6.07062006,  6.21500231,  6.30477114,  6.43777827,\n",
       "          6.4549592 ,  6.59842054,  6.62766157,  6.66056735,  6.72573251,\n",
       "          6.78547343,  6.78744367,  6.92648407,  6.9341375 ,  6.94109622,\n",
       "          6.98437714,  7.16229735,  7.29657789,  7.32469508,  7.3661646 ,\n",
       "          7.52543034,  7.76753556,  7.79247308,  7.94768219,  7.96185989,\n",
       "          7.99694419,  8.06702721,  8.42817135,  8.49038195,  8.66696054,\n",
       "          9.24889244, 10.42250946, 10.81028476, 10.99332783, 12.13158125,\n",
       "         13.08693056, 14.28034287, 14.67538808, 15.62337527, 18.41843081])),\n",
       " (np.float64(1.565185611964652),\n",
       "  np.float64(1.611625776897822),\n",
       "  np.float64(0.8137995911600839)))"
      ]
     },
     "execution_count": 28,
     "metadata": {},
     "output_type": "execute_result"
    },
    {
     "data": {
      "text/plain": [
       "<Figure size 400x400 with 1 Axes>"
      ],
      "image/png": "[encoded data removed]"
     },
     "metadata": {},
     "output_type": "display_data"
    }
   ],
   "execution_count": 28
  },
  {
   "metadata": {},
   "cell_type": "markdown",
   "source": "* The points are far below the line for low values and far above the line for high values, indicating that the distribution is not normal.",
   "id": "3b948413cdeb81e1"
  },
  {
   "metadata": {},
   "cell_type": "code",
   "outputs": [],
   "execution_count": null,
   "source": "",
   "id": "733618648066a11d"
  }
 ],
 "metadata": {
  "kernelspec": {
   "display_name": "Python 3",
   "language": "python",
   "name": "python3"
  },
  "language_info": {
   "codemirror_mode": {
    "name": "ipython",
    "version": 2
   },
   "file_extension": ".py",
   "mimetype": "text/x-python",
   "name": "python",
   "nbconvert_exporter": "python",
   "pygments_lexer": "ipython2",
   "version": "2.7.6"
  }
 },
 "nbformat": 4,
 "nbformat_minor": 5
}
