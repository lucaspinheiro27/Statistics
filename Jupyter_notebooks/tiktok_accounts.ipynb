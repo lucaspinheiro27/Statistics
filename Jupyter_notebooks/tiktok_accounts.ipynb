{
 "cells": [
  {
   "metadata": {},
   "cell_type": "markdown",
   "source": [
    "Sample\n",
    "* A subset from a larger population"
   ],
   "id": "e66141be4a77ae16"
  },
  {
   "metadata": {},
   "cell_type": "markdown",
   "source": [
    "Population\n",
    "* The larger data set or idea of a data set"
   ],
   "id": "4b2345533949ef6"
  },
  {
   "metadata": {},
   "cell_type": "markdown",
   "source": [
    "N (n)\n",
    "* The size of the population (sample)"
   ],
   "id": "92ff1d2b8193ae9d"
  },
  {
   "metadata": {},
   "cell_type": "markdown",
   "source": [
    "Random Sampling\n",
    "* Drawing elements into a sample at random"
   ],
   "id": "1c612d168509e62"
  },
  {
   "metadata": {},
   "cell_type": "markdown",
   "source": [
    "Stratified Sampling\n",
    "* Dividing the population into a strata and randomly sampling from each strata."
   ],
   "id": "998394bb72738a9a"
  },
  {
   "metadata": {},
   "cell_type": "markdown",
   "source": [
    "Stratum\n",
    "* A homonegeneous subgroup of a population with common characteristics"
   ],
   "id": "22663513256c92f9"
  },
  {
   "metadata": {},
   "cell_type": "markdown",
   "source": [
    "Simple random sample\n",
    "* The sample that results from random sampling without stratification"
   ],
   "id": "37bf8441d059eb37"
  },
  {
   "metadata": {},
   "cell_type": "markdown",
   "source": [
    "Bias\n",
    "* Systematic error in the sample"
   ],
   "id": "f28800fae6f2a6c"
  },
  {
   "metadata": {},
   "cell_type": "markdown",
   "source": [
    "Sample Bias\n",
    "* A sample that misrepresents the population."
   ],
   "id": "bcd7f315f0233b4a"
  },
  {
   "metadata": {},
   "cell_type": "markdown",
   "source": [
    "Sample mean\n",
    "* the symbol $$(\\bar{x})$$ is the sample mean, whereas the population mean is $$(\\mu)$$"
   ],
   "id": "1debaaf29e3bcb3f"
  },
  {
   "metadata": {},
   "cell_type": "markdown",
   "source": [
    "Selection Bias\n",
    "* Selectively choosing the data that supports a hypothesis."
   ],
   "id": "9193c32c5212f46a"
  },
  {
   "metadata": {},
   "cell_type": "markdown",
   "source": [
    "Data snooping\n",
    "* Bias resulting from the way in which observations are selected."
   ],
   "id": "a4f715aec670c29d"
  },
  {
   "metadata": {},
   "cell_type": "markdown",
   "source": [
    "Vast search effect\n",
    "* Bias resulting from repeated data modeling, or modeling data with large numbers of predictor variables."
   ],
   "id": "ce0ebe12aed703ae"
  },
  {
   "metadata": {},
   "cell_type": "markdown",
   "source": [
    "Regression to the Mean\n",
    "* Phenomenon involving successive measurements on a given variable, extreme observations tend to be followed by more central ones.\n",
    "* For example; if a student scores 100% on a test, they are likely to score lower on the next test."
   ],
   "id": "14e5715962e5992c"
  },
  {
   "metadata": {},
   "cell_type": "markdown",
   "source": [
    "Sample statistic\n",
    "* A metric calculated for a sample of data drawn from a larger population. The distribution is likely to be more regular and bell-shaped than the distribution of the data itself."
   ],
   "id": "47ecf10ce7651d6a"
  },
  {
   "metadata": {},
   "cell_type": "markdown",
   "source": [
    "Data Distribution\n",
    "* The frequency distribution of individual values in a data set."
   ],
   "id": "232aab3bf1de6122"
  },
  {
   "metadata": {},
   "cell_type": "markdown",
   "source": [
    "Sampling Distribution\n",
    "* The frequency distribution of a sample statistic over many samples."
   ],
   "id": "d4952f4d05fb504c"
  },
  {
   "metadata": {},
   "cell_type": "markdown",
   "source": [
    "Central limit theorem\n",
    "* The tendency of the sampling distribution to take on a normal shape as the size rises."
   ],
   "id": "d1ff916d9d896190"
  },
  {
   "metadata": {},
   "cell_type": "markdown",
   "source": [
    "Standard error\n",
    "* The variability or standard deviation of sample statistic over many sample samples."
   ],
   "id": "78d61f4f6b65578b"
  },
  {
   "cell_type": "code",
   "id": "initial_id",
   "metadata": {
    "collapsed": true,
    "ExecuteTime": {
     "end_time": "2025-02-03T23:07:28.028280Z",
     "start_time": "2025-02-03T23:07:28.025088Z"
    }
   },
   "source": [
    "import pandas as pd\n",
    "import numpy as np"
   ],
   "outputs": [],
   "execution_count": 35
  },
  {
   "metadata": {
    "ExecuteTime": {
     "end_time": "2025-02-03T23:07:28.100784Z",
     "start_time": "2025-02-03T23:07:28.090107Z"
    }
   },
   "cell_type": "code",
   "source": [
    "sample = pd.read_csv('/home/satire/PycharmProjects/Statistics/csv/Top 100 tiktokers in 2025.csv', delimiter=',', encoding='latin1')\n",
    "sample"
   ],
   "id": "5e96a2699e00f1a2",
   "outputs": [
    {
     "data": {
      "text/plain": [
       "    Rank           Username  Followers  Following  Uploads        Likes\n",
       "0      1       Khabane lame  162400000         78     1251   2500000000\n",
       "1      2    charli d'amelio  155700000       1304     2812  11800000000\n",
       "2      3            MrBeast  107500000        362      394   1100000000\n",
       "3      4       Bella Poarch   94300000        649      771   2400000000\n",
       "4      5        Addison Rae   88500000          1      318   5200000000\n",
       "..   ...                ...        ...        ...      ...          ...\n",
       "95    96    Arnaldo Mangini   32300000        105     2052    251800000\n",
       "96    97           Fujiiian   32300000        464     1571   1900000000\n",
       "97    98        Surthycooks   32300000        176     1242    918400000\n",
       "98    99     Faisal shaikh     3200000          0      456   2000000000\n",
       "99   100  ignacia Antonia??   31700000        269     1409   2500000000\n",
       "\n",
       "[100 rows x 6 columns]"
      ],
      "text/html": [
       "<div>\n",
       "<style scoped>\n",
       "    .dataframe tbody tr th:only-of-type {\n",
       "        vertical-align: middle;\n",
       "    }\n",
       "\n",
       "    .dataframe tbody tr th {\n",
       "        vertical-align: top;\n",
       "    }\n",
       "\n",
       "    .dataframe thead th {\n",
       "        text-align: right;\n",
       "    }\n",
       "</style>\n",
       "<table border=\"1\" class=\"dataframe\">\n",
       "  <thead>\n",
       "    <tr style=\"text-align: right;\">\n",
       "      <th></th>\n",
       "      <th>Rank</th>\n",
       "      <th>Username</th>\n",
       "      <th>Followers</th>\n",
       "      <th>Following</th>\n",
       "      <th>Uploads</th>\n",
       "      <th>Likes</th>\n",
       "    </tr>\n",
       "  </thead>\n",
       "  <tbody>\n",
       "    <tr>\n",
       "      <th>0</th>\n",
       "      <td>1</td>\n",
       "      <td>Khabane lame</td>\n",
       "      <td>162400000</td>\n",
       "      <td>78</td>\n",
       "      <td>1251</td>\n",
       "      <td>2500000000</td>\n",
       "    </tr>\n",
       "    <tr>\n",
       "      <th>1</th>\n",
       "      <td>2</td>\n",
       "      <td>charli d'amelio</td>\n",
       "      <td>155700000</td>\n",
       "      <td>1304</td>\n",
       "      <td>2812</td>\n",
       "      <td>11800000000</td>\n",
       "    </tr>\n",
       "    <tr>\n",
       "      <th>2</th>\n",
       "      <td>3</td>\n",
       "      <td>MrBeast</td>\n",
       "      <td>107500000</td>\n",
       "      <td>362</td>\n",
       "      <td>394</td>\n",
       "      <td>1100000000</td>\n",
       "    </tr>\n",
       "    <tr>\n",
       "      <th>3</th>\n",
       "      <td>4</td>\n",
       "      <td>Bella Poarch</td>\n",
       "      <td>94300000</td>\n",
       "      <td>649</td>\n",
       "      <td>771</td>\n",
       "      <td>2400000000</td>\n",
       "    </tr>\n",
       "    <tr>\n",
       "      <th>4</th>\n",
       "      <td>5</td>\n",
       "      <td>Addison Rae</td>\n",
       "      <td>88500000</td>\n",
       "      <td>1</td>\n",
       "      <td>318</td>\n",
       "      <td>5200000000</td>\n",
       "    </tr>\n",
       "    <tr>\n",
       "      <th>...</th>\n",
       "      <td>...</td>\n",
       "      <td>...</td>\n",
       "      <td>...</td>\n",
       "      <td>...</td>\n",
       "      <td>...</td>\n",
       "      <td>...</td>\n",
       "    </tr>\n",
       "    <tr>\n",
       "      <th>95</th>\n",
       "      <td>96</td>\n",
       "      <td>Arnaldo Mangini</td>\n",
       "      <td>32300000</td>\n",
       "      <td>105</td>\n",
       "      <td>2052</td>\n",
       "      <td>251800000</td>\n",
       "    </tr>\n",
       "    <tr>\n",
       "      <th>96</th>\n",
       "      <td>97</td>\n",
       "      <td>Fujiiian</td>\n",
       "      <td>32300000</td>\n",
       "      <td>464</td>\n",
       "      <td>1571</td>\n",
       "      <td>1900000000</td>\n",
       "    </tr>\n",
       "    <tr>\n",
       "      <th>97</th>\n",
       "      <td>98</td>\n",
       "      <td>Surthycooks</td>\n",
       "      <td>32300000</td>\n",
       "      <td>176</td>\n",
       "      <td>1242</td>\n",
       "      <td>918400000</td>\n",
       "    </tr>\n",
       "    <tr>\n",
       "      <th>98</th>\n",
       "      <td>99</td>\n",
       "      <td>Faisal shaikh</td>\n",
       "      <td>3200000</td>\n",
       "      <td>0</td>\n",
       "      <td>456</td>\n",
       "      <td>2000000000</td>\n",
       "    </tr>\n",
       "    <tr>\n",
       "      <th>99</th>\n",
       "      <td>100</td>\n",
       "      <td>ignacia Antonia??</td>\n",
       "      <td>31700000</td>\n",
       "      <td>269</td>\n",
       "      <td>1409</td>\n",
       "      <td>2500000000</td>\n",
       "    </tr>\n",
       "  </tbody>\n",
       "</table>\n",
       "<p>100 rows × 6 columns</p>\n",
       "</div>"
      ]
     },
     "execution_count": 36,
     "metadata": {},
     "output_type": "execute_result"
    }
   ],
   "execution_count": 36
  },
  {
   "metadata": {
    "ExecuteTime": {
     "end_time": "2025-02-03T23:07:28.175535Z",
     "start_time": "2025-02-03T23:07:28.172293Z"
    }
   },
   "cell_type": "code",
   "source": "sample.columns",
   "id": "2ddaa58ef1b5b7de",
   "outputs": [
    {
     "data": {
      "text/plain": [
       "Index(['Rank', 'Username', 'Followers', 'Following', 'Uploads', 'Likes'], dtype='object')"
      ]
     },
     "execution_count": 37,
     "metadata": {},
     "output_type": "execute_result"
    }
   ],
   "execution_count": 37
  },
  {
   "metadata": {
    "ExecuteTime": {
     "end_time": "2025-02-03T23:07:28.296466Z",
     "start_time": "2025-02-03T23:07:28.290423Z"
    }
   },
   "cell_type": "code",
   "source": "sample.isna().sum()",
   "id": "6859471f909e58b2",
   "outputs": [
    {
     "data": {
      "text/plain": [
       "Rank         0\n",
       "Username     0\n",
       "Followers    0\n",
       "Following    0\n",
       "Uploads      0\n",
       "Likes        0\n",
       "dtype: int64"
      ]
     },
     "execution_count": 38,
     "metadata": {},
     "output_type": "execute_result"
    }
   ],
   "execution_count": 38
  },
  {
   "metadata": {
    "ExecuteTime": {
     "end_time": "2025-02-03T23:07:28.394948Z",
     "start_time": "2025-02-03T23:07:28.384132Z"
    }
   },
   "cell_type": "code",
   "source": [
    "sample_mean_05 = pd.DataFrame({\n",
    "    'Followers': [sample['Followers'].sample(5).mean() for i in range(100)],\n",
    "    'Type': ['Data'] * 100\n",
    "})"
   ],
   "id": "7cd901648545ef38",
   "outputs": [],
   "execution_count": 39
  },
  {
   "metadata": {
    "ExecuteTime": {
     "end_time": "2025-02-03T23:07:43.685063Z",
     "start_time": "2025-02-03T23:07:43.677416Z"
    }
   },
   "cell_type": "code",
   "source": "sample_mean_05",
   "id": "e62fc89a208ba9e8",
   "outputs": [
    {
     "data": {
      "text/plain": [
       "      Followers  Type\n",
       "0    45380000.0  Data\n",
       "1    38600000.0  Data\n",
       "2    49260000.0  Data\n",
       "3    64540000.0  Data\n",
       "4    39240000.0  Data\n",
       "..          ...   ...\n",
       "95   51600000.0  Data\n",
       "96   48760000.0  Data\n",
       "97   47940000.0  Data\n",
       "98  160200000.0  Data\n",
       "99   74400000.0  Data\n",
       "\n",
       "[100 rows x 2 columns]"
      ],
      "text/html": [
       "<div>\n",
       "<style scoped>\n",
       "    .dataframe tbody tr th:only-of-type {\n",
       "        vertical-align: middle;\n",
       "    }\n",
       "\n",
       "    .dataframe tbody tr th {\n",
       "        vertical-align: top;\n",
       "    }\n",
       "\n",
       "    .dataframe thead th {\n",
       "        text-align: right;\n",
       "    }\n",
       "</style>\n",
       "<table border=\"1\" class=\"dataframe\">\n",
       "  <thead>\n",
       "    <tr style=\"text-align: right;\">\n",
       "      <th></th>\n",
       "      <th>Followers</th>\n",
       "      <th>Type</th>\n",
       "    </tr>\n",
       "  </thead>\n",
       "  <tbody>\n",
       "    <tr>\n",
       "      <th>0</th>\n",
       "      <td>45380000.0</td>\n",
       "      <td>Data</td>\n",
       "    </tr>\n",
       "    <tr>\n",
       "      <th>1</th>\n",
       "      <td>38600000.0</td>\n",
       "      <td>Data</td>\n",
       "    </tr>\n",
       "    <tr>\n",
       "      <th>2</th>\n",
       "      <td>49260000.0</td>\n",
       "      <td>Data</td>\n",
       "    </tr>\n",
       "    <tr>\n",
       "      <th>3</th>\n",
       "      <td>64540000.0</td>\n",
       "      <td>Data</td>\n",
       "    </tr>\n",
       "    <tr>\n",
       "      <th>4</th>\n",
       "      <td>39240000.0</td>\n",
       "      <td>Data</td>\n",
       "    </tr>\n",
       "    <tr>\n",
       "      <th>...</th>\n",
       "      <td>...</td>\n",
       "      <td>...</td>\n",
       "    </tr>\n",
       "    <tr>\n",
       "      <th>95</th>\n",
       "      <td>51600000.0</td>\n",
       "      <td>Data</td>\n",
       "    </tr>\n",
       "    <tr>\n",
       "      <th>96</th>\n",
       "      <td>48760000.0</td>\n",
       "      <td>Data</td>\n",
       "    </tr>\n",
       "    <tr>\n",
       "      <th>97</th>\n",
       "      <td>47940000.0</td>\n",
       "      <td>Data</td>\n",
       "    </tr>\n",
       "    <tr>\n",
       "      <th>98</th>\n",
       "      <td>160200000.0</td>\n",
       "      <td>Data</td>\n",
       "    </tr>\n",
       "    <tr>\n",
       "      <th>99</th>\n",
       "      <td>74400000.0</td>\n",
       "      <td>Data</td>\n",
       "    </tr>\n",
       "  </tbody>\n",
       "</table>\n",
       "<p>100 rows × 2 columns</p>\n",
       "</div>"
      ]
     },
     "execution_count": 41,
     "metadata": {},
     "output_type": "execute_result"
    }
   ],
   "execution_count": 41
  },
  {
   "metadata": {
    "ExecuteTime": {
     "end_time": "2025-02-03T23:07:28.571110Z",
     "start_time": "2025-02-03T23:07:28.569136Z"
    }
   },
   "cell_type": "code",
   "source": "",
   "id": "53d3fa6e5b3c4415",
   "outputs": [],
   "execution_count": null
  }
 ],
 "metadata": {
  "kernelspec": {
   "display_name": "Python 3",
   "language": "python",
   "name": "python3"
  },
  "language_info": {
   "codemirror_mode": {
    "name": "ipython",
    "version": 2
   },
   "file_extension": ".py",
   "mimetype": "text/x-python",
   "name": "python",
   "nbconvert_exporter": "python",
   "pygments_lexer": "ipython2",
   "version": "2.7.6"
  }
 },
 "nbformat": 4,
 "nbformat_minor": 5
}
