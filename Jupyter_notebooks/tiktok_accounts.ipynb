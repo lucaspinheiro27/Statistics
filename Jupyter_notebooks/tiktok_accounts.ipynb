{
 "cells": [
  {
   "metadata": {},
   "cell_type": "markdown",
   "source": [
    "Sample\n",
    "* A subset from a larger population"
   ],
   "id": "e66141be4a77ae16"
  },
  {
   "metadata": {},
   "cell_type": "markdown",
   "source": [
    "Population\n",
    "* The larger data set or idea of a data set"
   ],
   "id": "4b2345533949ef6"
  },
  {
   "metadata": {},
   "cell_type": "markdown",
   "source": [
    "N (n)\n",
    "* The size of the population (sample)"
   ],
   "id": "92ff1d2b8193ae9d"
  },
  {
   "metadata": {},
   "cell_type": "markdown",
   "source": [
    "Random Sampling\n",
    "* Drawing elements into a sample at random"
   ],
   "id": "1c612d168509e62"
  },
  {
   "metadata": {},
   "cell_type": "markdown",
   "source": [
    "Stratified Sampling\n",
    "* Dividing the population into a strata and randomly sampling from each strata."
   ],
   "id": "998394bb72738a9a"
  },
  {
   "metadata": {},
   "cell_type": "markdown",
   "source": [
    "Stratum\n",
    "* A homonegeneous subgroup of a population with common characteristics"
   ],
   "id": "22663513256c92f9"
  },
  {
   "metadata": {},
   "cell_type": "markdown",
   "source": [
    "Simple random sample\n",
    "* The sample that results from random sampling without stratification"
   ],
   "id": "37bf8441d059eb37"
  },
  {
   "metadata": {},
   "cell_type": "markdown",
   "source": [
    "Bias\n",
    "* Systematic error in the sample"
   ],
   "id": "f28800fae6f2a6c"
  },
  {
   "metadata": {},
   "cell_type": "markdown",
   "source": [
    "Sample Bias\n",
    "* A sample that misrepresents the population."
   ],
   "id": "bcd7f315f0233b4a"
  },
  {
   "metadata": {},
   "cell_type": "markdown",
   "source": [
    "Sample mean\n",
    "* the symbol $$(\\bar{x})$$ is the sample mean, whereas the population mean is $$(\\mu)$$"
   ],
   "id": "1debaaf29e3bcb3f"
  },
  {
   "metadata": {},
   "cell_type": "markdown",
   "source": [
    "Selection Bias\n",
    "* Selectively choosing the data that supports a hypothesis."
   ],
   "id": "9193c32c5212f46a"
  },
  {
   "metadata": {},
   "cell_type": "markdown",
   "source": [
    "Data snooping\n",
    "* Bias resulting from the way in which observations are selected."
   ],
   "id": "a4f715aec670c29d"
  },
  {
   "metadata": {},
   "cell_type": "markdown",
   "source": [
    "Vast search effect\n",
    "* Bias resulting from repeated data modeling, or modeling data with large numbers of predictor variables."
   ],
   "id": "ce0ebe12aed703ae"
  },
  {
   "metadata": {},
   "cell_type": "markdown",
   "source": [
    "Regression to the Mean\n",
    "* Phenomenon involving successive measurements on a given variable, extreme observations tend to be followed by more central ones.\n",
    "* For example; if a student scores 100% on a test, they are likely to score lower on the next test."
   ],
   "id": "14e5715962e5992c"
  },
  {
   "metadata": {},
   "cell_type": "markdown",
   "source": [
    "Sample statistic\n",
    "* A metric calculated for a sample of data drawn from a larger population. The distribution is likely to be more regular and bell-shaped than the distribution of the data itself."
   ],
   "id": "47ecf10ce7651d6a"
  },
  {
   "metadata": {},
   "cell_type": "markdown",
   "source": [
    "Data Distribution\n",
    "* The frequency distribution of individual values in a data set."
   ],
   "id": "232aab3bf1de6122"
  },
  {
   "metadata": {},
   "cell_type": "markdown",
   "source": [
    "Sampling Distribution\n",
    "* The frequency distribution of a sample statistic over many samples."
   ],
   "id": "d4952f4d05fb504c"
  },
  {
   "metadata": {},
   "cell_type": "markdown",
   "source": [
    "Central limit theorem\n",
    "* The tendency of the sampling distribution to take on a normal shape as the size rises."
   ],
   "id": "d1ff916d9d896190"
  },
  {
   "metadata": {},
   "cell_type": "markdown",
   "source": [
    "Standard error\n",
    "* The variability or standard deviation of sample statistic over many sample samples."
   ],
   "id": "78d61f4f6b65578b"
  },
  {
   "cell_type": "code",
   "id": "initial_id",
   "metadata": {
    "collapsed": true,
    "ExecuteTime": {
     "end_time": "2025-02-06T15:20:55.919527Z",
     "start_time": "2025-02-06T15:20:55.916345Z"
    }
   },
   "source": [
    "import pandas as pd\n",
    "import seaborn as sns\n",
    "import matplotlib.pyplot as plt\n",
    "from sklearn.utils import resample\n",
    "from scipy import stats\n",
    "import numpy as np"
   ],
   "outputs": [],
   "execution_count": 29
  },
  {
   "metadata": {
    "ExecuteTime": {
     "end_time": "2025-02-06T15:20:55.980196Z",
     "start_time": "2025-02-06T15:20:55.968998Z"
    }
   },
   "cell_type": "code",
   "source": [
    "df = pd.read_csv('/home/satire/PycharmProjects/Statistics/csv/Top 100 tiktokers in 2025.csv', delimiter=',', encoding='latin1')\n",
    "df"
   ],
   "id": "5e96a2699e00f1a2",
   "outputs": [
    {
     "data": {
      "text/plain": [
       "    Rank           Username  Followers  Following  Uploads        Likes\n",
       "0      1       Khabane lame  162400000         78     1251   2500000000\n",
       "1      2    charli d'amelio  155700000       1304     2812  11800000000\n",
       "2      3            MrBeast  107500000        362      394   1100000000\n",
       "3      4       Bella Poarch   94300000        649      771   2400000000\n",
       "4      5        Addison Rae   88500000          1      318   5200000000\n",
       "..   ...                ...        ...        ...      ...          ...\n",
       "95    96    Arnaldo Mangini   32300000        105     2052    251800000\n",
       "96    97           Fujiiian   32300000        464     1571   1900000000\n",
       "97    98        Surthycooks   32300000        176     1242    918400000\n",
       "98    99     Faisal shaikh     3200000          0      456   2000000000\n",
       "99   100  ignacia Antonia??   31700000        269     1409   2500000000\n",
       "\n",
       "[100 rows x 6 columns]"
      ],
      "text/html": [
       "<div>\n",
       "<style scoped>\n",
       "    .dataframe tbody tr th:only-of-type {\n",
       "        vertical-align: middle;\n",
       "    }\n",
       "\n",
       "    .dataframe tbody tr th {\n",
       "        vertical-align: top;\n",
       "    }\n",
       "\n",
       "    .dataframe thead th {\n",
       "        text-align: right;\n",
       "    }\n",
       "</style>\n",
       "<table border=\"1\" class=\"dataframe\">\n",
       "  <thead>\n",
       "    <tr style=\"text-align: right;\">\n",
       "      <th></th>\n",
       "      <th>Rank</th>\n",
       "      <th>Username</th>\n",
       "      <th>Followers</th>\n",
       "      <th>Following</th>\n",
       "      <th>Uploads</th>\n",
       "      <th>Likes</th>\n",
       "    </tr>\n",
       "  </thead>\n",
       "  <tbody>\n",
       "    <tr>\n",
       "      <th>0</th>\n",
       "      <td>1</td>\n",
       "      <td>Khabane lame</td>\n",
       "      <td>162400000</td>\n",
       "      <td>78</td>\n",
       "      <td>1251</td>\n",
       "      <td>2500000000</td>\n",
       "    </tr>\n",
       "    <tr>\n",
       "      <th>1</th>\n",
       "      <td>2</td>\n",
       "      <td>charli d'amelio</td>\n",
       "      <td>155700000</td>\n",
       "      <td>1304</td>\n",
       "      <td>2812</td>\n",
       "      <td>11800000000</td>\n",
       "    </tr>\n",
       "    <tr>\n",
       "      <th>2</th>\n",
       "      <td>3</td>\n",
       "      <td>MrBeast</td>\n",
       "      <td>107500000</td>\n",
       "      <td>362</td>\n",
       "      <td>394</td>\n",
       "      <td>1100000000</td>\n",
       "    </tr>\n",
       "    <tr>\n",
       "      <th>3</th>\n",
       "      <td>4</td>\n",
       "      <td>Bella Poarch</td>\n",
       "      <td>94300000</td>\n",
       "      <td>649</td>\n",
       "      <td>771</td>\n",
       "      <td>2400000000</td>\n",
       "    </tr>\n",
       "    <tr>\n",
       "      <th>4</th>\n",
       "      <td>5</td>\n",
       "      <td>Addison Rae</td>\n",
       "      <td>88500000</td>\n",
       "      <td>1</td>\n",
       "      <td>318</td>\n",
       "      <td>5200000000</td>\n",
       "    </tr>\n",
       "    <tr>\n",
       "      <th>...</th>\n",
       "      <td>...</td>\n",
       "      <td>...</td>\n",
       "      <td>...</td>\n",
       "      <td>...</td>\n",
       "      <td>...</td>\n",
       "      <td>...</td>\n",
       "    </tr>\n",
       "    <tr>\n",
       "      <th>95</th>\n",
       "      <td>96</td>\n",
       "      <td>Arnaldo Mangini</td>\n",
       "      <td>32300000</td>\n",
       "      <td>105</td>\n",
       "      <td>2052</td>\n",
       "      <td>251800000</td>\n",
       "    </tr>\n",
       "    <tr>\n",
       "      <th>96</th>\n",
       "      <td>97</td>\n",
       "      <td>Fujiiian</td>\n",
       "      <td>32300000</td>\n",
       "      <td>464</td>\n",
       "      <td>1571</td>\n",
       "      <td>1900000000</td>\n",
       "    </tr>\n",
       "    <tr>\n",
       "      <th>97</th>\n",
       "      <td>98</td>\n",
       "      <td>Surthycooks</td>\n",
       "      <td>32300000</td>\n",
       "      <td>176</td>\n",
       "      <td>1242</td>\n",
       "      <td>918400000</td>\n",
       "    </tr>\n",
       "    <tr>\n",
       "      <th>98</th>\n",
       "      <td>99</td>\n",
       "      <td>Faisal shaikh</td>\n",
       "      <td>3200000</td>\n",
       "      <td>0</td>\n",
       "      <td>456</td>\n",
       "      <td>2000000000</td>\n",
       "    </tr>\n",
       "    <tr>\n",
       "      <th>99</th>\n",
       "      <td>100</td>\n",
       "      <td>ignacia Antonia??</td>\n",
       "      <td>31700000</td>\n",
       "      <td>269</td>\n",
       "      <td>1409</td>\n",
       "      <td>2500000000</td>\n",
       "    </tr>\n",
       "  </tbody>\n",
       "</table>\n",
       "<p>100 rows × 6 columns</p>\n",
       "</div>"
      ]
     },
     "execution_count": 30,
     "metadata": {},
     "output_type": "execute_result"
    }
   ],
   "execution_count": 30
  },
  {
   "metadata": {
    "ExecuteTime": {
     "end_time": "2025-02-06T15:20:56.071372Z",
     "start_time": "2025-02-06T15:20:56.068383Z"
    }
   },
   "cell_type": "code",
   "source": [
    "max_registrations = len(df['Followers'])\n",
    "print(max_registrations)"
   ],
   "id": "c71b9424319670b1",
   "outputs": [
    {
     "name": "stdout",
     "output_type": "stream",
     "text": [
      "100\n"
     ]
    }
   ],
   "execution_count": 31
  },
  {
   "metadata": {
    "ExecuteTime": {
     "end_time": "2025-02-06T15:20:56.122495Z",
     "start_time": "2025-02-06T15:20:56.117374Z"
    }
   },
   "cell_type": "code",
   "source": "df.columns",
   "id": "2ddaa58ef1b5b7de",
   "outputs": [
    {
     "data": {
      "text/plain": [
       "Index(['Rank', 'Username', 'Followers', 'Following', 'Uploads', 'Likes'], dtype='object')"
      ]
     },
     "execution_count": 32,
     "metadata": {},
     "output_type": "execute_result"
    }
   ],
   "execution_count": 32
  },
  {
   "metadata": {
    "ExecuteTime": {
     "end_time": "2025-02-06T15:20:56.193396Z",
     "start_time": "2025-02-06T15:20:56.189225Z"
    }
   },
   "cell_type": "code",
   "source": "df.isna().sum()",
   "id": "6859471f909e58b2",
   "outputs": [
    {
     "data": {
      "text/plain": [
       "Rank         0\n",
       "Username     0\n",
       "Followers    0\n",
       "Following    0\n",
       "Uploads      0\n",
       "Likes        0\n",
       "dtype: int64"
      ]
     },
     "execution_count": 33,
     "metadata": {},
     "output_type": "execute_result"
    }
   ],
   "execution_count": 33
  },
  {
   "metadata": {
    "ExecuteTime": {
     "end_time": "2025-02-06T15:20:56.288274Z",
     "start_time": "2025-02-06T15:20:56.278759Z"
    }
   },
   "cell_type": "code",
   "source": [
    "sample_data = pd.DataFrame({\n",
    "    'Followers': df['Followers'].sample(10),\n",
    "    'Type': 'Data',\n",
    "})\n",
    "sample_data"
   ],
   "id": "74382c5e9185746d",
   "outputs": [
    {
     "data": {
      "text/plain": [
       "    Followers  Type\n",
       "80   34500000  Data\n",
       "30   49500000  Data\n",
       "40   44200000  Data\n",
       "6    83100000  Data\n",
       "94   32400000  Data\n",
       "52   40300000  Data\n",
       "49   40900000  Data\n",
       "0   162400000  Data\n",
       "70   36700000  Data\n",
       "64   37700000  Data"
      ],
      "text/html": [
       "<div>\n",
       "<style scoped>\n",
       "    .dataframe tbody tr th:only-of-type {\n",
       "        vertical-align: middle;\n",
       "    }\n",
       "\n",
       "    .dataframe tbody tr th {\n",
       "        vertical-align: top;\n",
       "    }\n",
       "\n",
       "    .dataframe thead th {\n",
       "        text-align: right;\n",
       "    }\n",
       "</style>\n",
       "<table border=\"1\" class=\"dataframe\">\n",
       "  <thead>\n",
       "    <tr style=\"text-align: right;\">\n",
       "      <th></th>\n",
       "      <th>Followers</th>\n",
       "      <th>Type</th>\n",
       "    </tr>\n",
       "  </thead>\n",
       "  <tbody>\n",
       "    <tr>\n",
       "      <th>80</th>\n",
       "      <td>34500000</td>\n",
       "      <td>Data</td>\n",
       "    </tr>\n",
       "    <tr>\n",
       "      <th>30</th>\n",
       "      <td>49500000</td>\n",
       "      <td>Data</td>\n",
       "    </tr>\n",
       "    <tr>\n",
       "      <th>40</th>\n",
       "      <td>44200000</td>\n",
       "      <td>Data</td>\n",
       "    </tr>\n",
       "    <tr>\n",
       "      <th>6</th>\n",
       "      <td>83100000</td>\n",
       "      <td>Data</td>\n",
       "    </tr>\n",
       "    <tr>\n",
       "      <th>94</th>\n",
       "      <td>32400000</td>\n",
       "      <td>Data</td>\n",
       "    </tr>\n",
       "    <tr>\n",
       "      <th>52</th>\n",
       "      <td>40300000</td>\n",
       "      <td>Data</td>\n",
       "    </tr>\n",
       "    <tr>\n",
       "      <th>49</th>\n",
       "      <td>40900000</td>\n",
       "      <td>Data</td>\n",
       "    </tr>\n",
       "    <tr>\n",
       "      <th>0</th>\n",
       "      <td>162400000</td>\n",
       "      <td>Data</td>\n",
       "    </tr>\n",
       "    <tr>\n",
       "      <th>70</th>\n",
       "      <td>36700000</td>\n",
       "      <td>Data</td>\n",
       "    </tr>\n",
       "    <tr>\n",
       "      <th>64</th>\n",
       "      <td>37700000</td>\n",
       "      <td>Data</td>\n",
       "    </tr>\n",
       "  </tbody>\n",
       "</table>\n",
       "</div>"
      ]
     },
     "execution_count": 34,
     "metadata": {},
     "output_type": "execute_result"
    }
   ],
   "execution_count": 34
  },
  {
   "metadata": {
    "ExecuteTime": {
     "end_time": "2025-02-06T15:20:56.358773Z",
     "start_time": "2025-02-06T15:20:56.351762Z"
    }
   },
   "cell_type": "code",
   "source": [
    "sample_mean_05 = pd.DataFrame({\n",
    "    'Followers': [df['Followers'].sample(5).mean() for i in range(10)],\n",
    "    'Type': 'Mean of 5',\n",
    "})\n",
    "sample_mean_05"
   ],
   "id": "7cd901648545ef38",
   "outputs": [
    {
     "data": {
      "text/plain": [
       "     Followers       Type\n",
       "0   39360000.0  Mean of 5\n",
       "1  164700000.0  Mean of 5\n",
       "2   54920000.0  Mean of 5\n",
       "3   49040000.0  Mean of 5\n",
       "4   45780000.0  Mean of 5\n",
       "5   49980000.0  Mean of 5\n",
       "6   48480000.0  Mean of 5\n",
       "7   42900000.0  Mean of 5\n",
       "8   37620000.0  Mean of 5\n",
       "9   29240000.0  Mean of 5"
      ],
      "text/html": [
       "<div>\n",
       "<style scoped>\n",
       "    .dataframe tbody tr th:only-of-type {\n",
       "        vertical-align: middle;\n",
       "    }\n",
       "\n",
       "    .dataframe tbody tr th {\n",
       "        vertical-align: top;\n",
       "    }\n",
       "\n",
       "    .dataframe thead th {\n",
       "        text-align: right;\n",
       "    }\n",
       "</style>\n",
       "<table border=\"1\" class=\"dataframe\">\n",
       "  <thead>\n",
       "    <tr style=\"text-align: right;\">\n",
       "      <th></th>\n",
       "      <th>Followers</th>\n",
       "      <th>Type</th>\n",
       "    </tr>\n",
       "  </thead>\n",
       "  <tbody>\n",
       "    <tr>\n",
       "      <th>0</th>\n",
       "      <td>39360000.0</td>\n",
       "      <td>Mean of 5</td>\n",
       "    </tr>\n",
       "    <tr>\n",
       "      <th>1</th>\n",
       "      <td>164700000.0</td>\n",
       "      <td>Mean of 5</td>\n",
       "    </tr>\n",
       "    <tr>\n",
       "      <th>2</th>\n",
       "      <td>54920000.0</td>\n",
       "      <td>Mean of 5</td>\n",
       "    </tr>\n",
       "    <tr>\n",
       "      <th>3</th>\n",
       "      <td>49040000.0</td>\n",
       "      <td>Mean of 5</td>\n",
       "    </tr>\n",
       "    <tr>\n",
       "      <th>4</th>\n",
       "      <td>45780000.0</td>\n",
       "      <td>Mean of 5</td>\n",
       "    </tr>\n",
       "    <tr>\n",
       "      <th>5</th>\n",
       "      <td>49980000.0</td>\n",
       "      <td>Mean of 5</td>\n",
       "    </tr>\n",
       "    <tr>\n",
       "      <th>6</th>\n",
       "      <td>48480000.0</td>\n",
       "      <td>Mean of 5</td>\n",
       "    </tr>\n",
       "    <tr>\n",
       "      <th>7</th>\n",
       "      <td>42900000.0</td>\n",
       "      <td>Mean of 5</td>\n",
       "    </tr>\n",
       "    <tr>\n",
       "      <th>8</th>\n",
       "      <td>37620000.0</td>\n",
       "      <td>Mean of 5</td>\n",
       "    </tr>\n",
       "    <tr>\n",
       "      <th>9</th>\n",
       "      <td>29240000.0</td>\n",
       "      <td>Mean of 5</td>\n",
       "    </tr>\n",
       "  </tbody>\n",
       "</table>\n",
       "</div>"
      ]
     },
     "execution_count": 35,
     "metadata": {},
     "output_type": "execute_result"
    }
   ],
   "execution_count": 35
  },
  {
   "metadata": {
    "ExecuteTime": {
     "end_time": "2025-02-06T15:20:56.452031Z",
     "start_time": "2025-02-06T15:20:56.442988Z"
    }
   },
   "cell_type": "code",
   "source": [
    "sample_mean_20 = pd.DataFrame({\n",
    "    'Followers': [df['Followers'].sample(20).mean() for i in range(10)],\n",
    "    'Type': 'Mean of 20',\n",
    "})\n",
    "sample_mean_20"
   ],
   "id": "e62fc89a208ba9e8",
   "outputs": [
    {
     "data": {
      "text/plain": [
       "     Followers        Type\n",
       "0  44210000.00  Mean of 20\n",
       "1  46745000.00  Mean of 20\n",
       "2  68380000.15  Mean of 20\n",
       "3  48080000.00  Mean of 20\n",
       "4  59030000.00  Mean of 20\n",
       "5  50630000.00  Mean of 20\n",
       "6  50175000.00  Mean of 20\n",
       "7  49510000.00  Mean of 20\n",
       "8  41100000.00  Mean of 20\n",
       "9  43690000.00  Mean of 20"
      ],
      "text/html": [
       "<div>\n",
       "<style scoped>\n",
       "    .dataframe tbody tr th:only-of-type {\n",
       "        vertical-align: middle;\n",
       "    }\n",
       "\n",
       "    .dataframe tbody tr th {\n",
       "        vertical-align: top;\n",
       "    }\n",
       "\n",
       "    .dataframe thead th {\n",
       "        text-align: right;\n",
       "    }\n",
       "</style>\n",
       "<table border=\"1\" class=\"dataframe\">\n",
       "  <thead>\n",
       "    <tr style=\"text-align: right;\">\n",
       "      <th></th>\n",
       "      <th>Followers</th>\n",
       "      <th>Type</th>\n",
       "    </tr>\n",
       "  </thead>\n",
       "  <tbody>\n",
       "    <tr>\n",
       "      <th>0</th>\n",
       "      <td>44210000.00</td>\n",
       "      <td>Mean of 20</td>\n",
       "    </tr>\n",
       "    <tr>\n",
       "      <th>1</th>\n",
       "      <td>46745000.00</td>\n",
       "      <td>Mean of 20</td>\n",
       "    </tr>\n",
       "    <tr>\n",
       "      <th>2</th>\n",
       "      <td>68380000.15</td>\n",
       "      <td>Mean of 20</td>\n",
       "    </tr>\n",
       "    <tr>\n",
       "      <th>3</th>\n",
       "      <td>48080000.00</td>\n",
       "      <td>Mean of 20</td>\n",
       "    </tr>\n",
       "    <tr>\n",
       "      <th>4</th>\n",
       "      <td>59030000.00</td>\n",
       "      <td>Mean of 20</td>\n",
       "    </tr>\n",
       "    <tr>\n",
       "      <th>5</th>\n",
       "      <td>50630000.00</td>\n",
       "      <td>Mean of 20</td>\n",
       "    </tr>\n",
       "    <tr>\n",
       "      <th>6</th>\n",
       "      <td>50175000.00</td>\n",
       "      <td>Mean of 20</td>\n",
       "    </tr>\n",
       "    <tr>\n",
       "      <th>7</th>\n",
       "      <td>49510000.00</td>\n",
       "      <td>Mean of 20</td>\n",
       "    </tr>\n",
       "    <tr>\n",
       "      <th>8</th>\n",
       "      <td>41100000.00</td>\n",
       "      <td>Mean of 20</td>\n",
       "    </tr>\n",
       "    <tr>\n",
       "      <th>9</th>\n",
       "      <td>43690000.00</td>\n",
       "      <td>Mean of 20</td>\n",
       "    </tr>\n",
       "  </tbody>\n",
       "</table>\n",
       "</div>"
      ]
     },
     "execution_count": 36,
     "metadata": {},
     "output_type": "execute_result"
    }
   ],
   "execution_count": 36
  },
  {
   "metadata": {
    "ExecuteTime": {
     "end_time": "2025-02-06T15:20:56.857814Z",
     "start_time": "2025-02-06T15:20:56.551112Z"
    }
   },
   "cell_type": "code",
   "source": [
    "data = pd.concat([sample_data, sample_mean_05, sample_mean_20])\n",
    "g = sns.FacetGrid(data, col=\"Type\", sharex=False, sharey=False)\n",
    "g.map(sns.histplot, \"Followers\")\n",
    "plt.show()"
   ],
   "id": "70078e43ff06729d",
   "outputs": [
    {
     "data": {
      "text/plain": [
       "<Figure size 900x300 with 3 Axes>"
      ],
      "image/png": "[encoded data removed]"
     },
     "metadata": {},
     "output_type": "display_data"
    }
   ],
   "execution_count": 37
  },
  {
   "metadata": {},
   "cell_type": "markdown",
   "source": [
    "Central Limit Theorem\n",
    "* The mean drawn from multiple samples will resemble the familiar bell-shaped normal curve as the sample size increases. Allows normal-approximation formulas like the t-distribution to be used in calculating sampling distributions for inference (confidence intervals, hypothesis tests)."
   ],
   "id": "6325f09eae86ad35"
  },
  {
   "metadata": {},
   "cell_type": "markdown",
   "source": [
    "Standard Error\n",
    "* Is a single metric that sums up the variability in the sampling distribution for a statistic. The standard error can be estimated using a statistic based on the standard deviation of the sample and the sample size.\n",
    "* Formula\n",
    "$$SE = \\frac{s}{\\sqrt{n}}$$\n",
    "* As the sample size increases, the standard error decreases.\n",
    "* Square root of the sample size is referred to reduce the standard error by a factor of 2, the sample size must be increased by a factor of 4.\n",
    "* Collect a number of brand-new samples from the population\n",
    "* For each new sample, calculate the mean.\n",
    "* Calculate the standard deviation of the statistics from the new samples and use this as an estimate of the standard error."
   ],
   "id": "ec46f84f3002acc0"
  },
  {
   "metadata": {},
   "cell_type": "markdown",
   "source": [
    "The Bootstrap\n",
    "* One way to estimate the sampling distribution of a statistic, or of model parameters, is to draw additional samples with replacement from the sample itself and recalculate the statistic or model for each new sample."
   ],
   "id": "b801815e5e3dbff9"
  },
  {
   "metadata": {},
   "cell_type": "markdown",
   "source": [
    "* Bootstrap sample\n",
    "* A sample taken with replacement from an observed data set.\n",
    "* Resampling\n",
    "* The process of taking repeated samples from observed data involves bootstrapping and permutation tests."
   ],
   "id": "1f5ac0e2cb933e4e"
  },
  {
   "metadata": {},
   "cell_type": "markdown",
   "source": [
    "* Draw a sample value, record it, and replace it.\n",
    "* Repeat n times.\n",
    "* Record the mean of the n resampled values.\n",
    "* Repeated steps 1-3 R(number of iterations of the bootstrap) times.\n",
    "* Use the R results to calculate the standard deviation and produce a histogram or boxplot and find a confidence interval."
   ],
   "id": "5257a1953de92409"
  },
  {
   "metadata": {
    "ExecuteTime": {
     "end_time": "2025-02-06T15:20:57.130698Z",
     "start_time": "2025-02-06T15:20:56.910623Z"
    }
   },
   "cell_type": "code",
   "source": [
    "results = []\n",
    "for nrepeat in range(1000):\n",
    "    sample = resample(df['Followers'])\n",
    "    results.append(sample.median())\n",
    "results = pd.Series(results)\n",
    "print('Bootstrap Statistics:')\n",
    "print(f'original: {df[\"Followers\"].median()}')\n",
    "print(f'bias: {results.mean() - df[\"Followers\"].median()}')\n",
    "print(f'std. error: {results.std()}')"
   ],
   "id": "4d266e05395d4b78",
   "outputs": [
    {
     "name": "stdout",
     "output_type": "stream",
     "text": [
      "Bootstrap Statistics:\n",
      "original: 40850000.0\n",
      "bias: 449450.0\n",
      "std. error: 1516214.3989566923\n"
     ]
    }
   ],
   "execution_count": 38
  },
  {
   "metadata": {},
   "cell_type": "markdown",
   "source": [
    "Confidence Intervals\n",
    "* Another way to understand the potential error in sample estimate."
   ],
   "id": "efd417a38f32caf3"
  },
  {
   "metadata": {},
   "cell_type": "markdown",
   "source": [
    "Confidence level\n",
    "* The percentage of the confidence intervals"
   ],
   "id": "376de4c747b885ba"
  },
  {
   "metadata": {},
   "cell_type": "markdown",
   "source": [
    "Intervals endpoints\n",
    "* The top and bottom of the confidence interval."
   ],
   "id": "c4235c3a0248ae1"
  },
  {
   "metadata": {},
   "cell_type": "markdown",
   "source": [
    "Given a sample of size n, and a sample statistic of interest, the algorithm for a boostrap confidence interval is as follows\n",
    "* Draw a random sample of size n with replacement from the data.\n",
    "* Record the statistic of interest for the sample.\n",
    "* Repeat steps 1-2 R times.\n",
    "* For and x% confidence interval, trim (100-x)/2% of the R results from each end of the distribution.\n",
    "* The trim points are the endpoints of an x% confidence interval.\n",
    "* The percentage associated with the confidence interval is termed the level of confidence, the higher level of confidence, the wider the interval, also greater the uncertainty."
   ],
   "id": "3e120acc608e1e7a"
  },
  {
   "metadata": {},
   "cell_type": "markdown",
   "source": [
    "Normal Distribution\n",
    "* The bell-shaped curve."
   ],
   "id": "4fe389e20d3c73b1"
  },
  {
   "metadata": {},
   "cell_type": "markdown",
   "source": [
    "Error\n",
    "* The difference between a data point and a predicted value."
   ],
   "id": "3c0a5c11da3ed5eb"
  },
  {
   "metadata": {},
   "cell_type": "markdown",
   "source": [
    "Standardize\n",
    "* Subtract the mean and divide by the standard deviation."
   ],
   "id": "9e05cad1ec9f2eb"
  },
  {
   "metadata": {},
   "cell_type": "markdown",
   "source": [
    "Z-score\n",
    "* The result of standardizing a value."
   ],
   "id": "793f294601a824e"
  },
  {
   "metadata": {},
   "cell_type": "markdown",
   "source": [
    "Standard normal\n",
    "* A normal distribution with a mean of 0 and a standard deviation of 1."
   ],
   "id": "b98ac277f53aa2cc"
  },
  {
   "metadata": {},
   "cell_type": "markdown",
   "source": [
    "QQ plot\n",
    "* A plot to visualize how close a sample distribution is to a normal distribution.\n",
    "* If the points roughly fall on the diagonal line, then the sample distribution can be considered normal."
   ],
   "id": "2bb43377f3ae9b83"
  },
  {
   "metadata": {
    "ExecuteTime": {
     "end_time": "2025-02-06T15:20:57.212394Z",
     "start_time": "2025-02-06T15:20:57.141652Z"
    }
   },
   "cell_type": "code",
   "source": [
    "fig, ax = plt.subplots(figsize=(4, 4))\n",
    "norm_sample = stats.norm.rvs(size=100)\n",
    "stats.probplot(norm_sample, plot=ax)"
   ],
   "id": "41376f2c08fcf324",
   "outputs": [
    {
     "data": {
      "text/plain": [
       "((array([-2.46203784, -2.12570747, -1.93122778, -1.79044653, -1.67819304,\n",
       "         -1.58381122, -1.50174123, -1.42869743, -1.36256869, -1.30191411,\n",
       "         -1.24570419, -1.19317644, -1.14374949, -1.09696931, -1.05247413,\n",
       "         -1.00997067, -0.96921765, -0.93001393, -0.89218993, -0.85560121,\n",
       "         -0.82012357, -0.78564937, -0.75208458, -0.71934648, -0.68736185,\n",
       "         -0.65606548, -0.62539893, -0.59530962, -0.56574992, -0.53667655,\n",
       "         -0.50804994, -0.47983378, -0.45199463, -0.42450149, -0.39732558,\n",
       "         -0.37044003, -0.34381966, -0.31744076, -0.29128096, -0.26531902,\n",
       "         -0.23953472, -0.21390872, -0.18842244, -0.16305799, -0.13779803,\n",
       "         -0.1126257 , -0.08752455, -0.06247843, -0.03747145, -0.01248789,\n",
       "          0.01248789,  0.03747145,  0.06247843,  0.08752455,  0.1126257 ,\n",
       "          0.13779803,  0.16305799,  0.18842244,  0.21390872,  0.23953472,\n",
       "          0.26531902,  0.29128096,  0.31744076,  0.34381966,  0.37044003,\n",
       "          0.39732558,  0.42450149,  0.45199463,  0.47983378,  0.50804994,\n",
       "          0.53667655,  0.56574992,  0.59530962,  0.62539893,  0.65606548,\n",
       "          0.68736185,  0.71934648,  0.75208458,  0.78564937,  0.82012357,\n",
       "          0.85560121,  0.89218993,  0.93001393,  0.96921765,  1.00997067,\n",
       "          1.05247413,  1.09696931,  1.14374949,  1.19317644,  1.24570419,\n",
       "          1.30191411,  1.36256869,  1.42869743,  1.50174123,  1.58381122,\n",
       "          1.67819304,  1.79044653,  1.93122778,  2.12570747,  2.46203784]),\n",
       "  array([-2.30395575, -2.29854701, -2.09994856, -2.08504739, -2.01927567,\n",
       "         -1.74905127, -1.65999951, -1.63736027, -1.60010921, -1.5123905 ,\n",
       "         -1.50083103, -1.47000565, -1.43667058, -1.39864934, -1.35136117,\n",
       "         -1.33582845, -1.2796373 , -1.27633283, -1.24958916, -1.11799641,\n",
       "         -1.06815854, -0.98304887, -0.96633832, -0.85295365, -0.85026848,\n",
       "         -0.81236141, -0.80555295, -0.7800568 , -0.7552269 , -0.74766828,\n",
       "         -0.73000382, -0.68751458, -0.68507546, -0.62058759, -0.60499249,\n",
       "         -0.60106634, -0.58219197, -0.575132  , -0.57511083, -0.49066815,\n",
       "         -0.49007041, -0.48953807, -0.47375339, -0.46272153, -0.45321761,\n",
       "         -0.41867617, -0.38589805, -0.33763831, -0.21474439, -0.17330959,\n",
       "         -0.13445474, -0.12341491, -0.06592153, -0.05854105, -0.04648846,\n",
       "         -0.00652092,  0.06027892,  0.07425943,  0.16127187,  0.17249221,\n",
       "          0.17814674,  0.18166261,  0.19800797,  0.24160438,  0.24375982,\n",
       "          0.26202837,  0.28874966,  0.31851832,  0.32037251,  0.35971329,\n",
       "          0.39402688,  0.42947118,  0.47552872,  0.51596417,  0.58497933,\n",
       "          0.59471524,  0.66633704,  0.70691197,  0.7177198 ,  0.73581952,\n",
       "          0.78085922,  0.78318741,  0.79326258,  0.7951742 ,  0.82110859,\n",
       "          0.86903392,  0.97180606,  0.99001175,  1.16413982,  1.25954846,\n",
       "          1.49099088,  1.54454859,  1.56642576,  1.60642106,  1.75007369,\n",
       "          1.91152439,  1.92952936,  2.13540633,  2.2232048 ,  2.27656365])),\n",
       " (np.float64(1.0824671824601222),\n",
       "  np.float64(-0.14946313147475465),\n",
       "  np.float64(0.9954613572282013)))"
      ]
     },
     "execution_count": 39,
     "metadata": {},
     "output_type": "execute_result"
    },
    {
     "data": {
      "text/plain": [
       "<Figure size 400x400 with 1 Axes>"
      ],
      "image/png": "[encoded data removed]"
     },
     "metadata": {},
     "output_type": "display_data"
    }
   ],
   "execution_count": 39
  },
  {
   "metadata": {},
   "cell_type": "markdown",
   "source": "* Converting the data to z-scores just puts the data on the same scale as the standard normal distribution.",
   "id": "f41bed9c27574c95"
  },
  {
   "metadata": {},
   "cell_type": "markdown",
   "source": "Long-Tailed Distributions",
   "id": "3c34f4dc43e03cd5"
  },
  {
   "metadata": {},
   "cell_type": "markdown",
   "source": [
    "Tail\n",
    "* The long narrow portion of a distribution, where extreme values are found."
   ],
   "id": "c070778204d52646"
  },
  {
   "metadata": {},
   "cell_type": "markdown",
   "source": [
    "Skew\n",
    "* Where one tail of a distribution is longer than the other."
   ],
   "id": "1140fd33b9724d60"
  },
  {
   "metadata": {
    "ExecuteTime": {
     "end_time": "2025-02-06T15:20:57.298512Z",
     "start_time": "2025-02-06T15:20:57.224918Z"
    }
   },
   "cell_type": "code",
   "source": [
    "mu, sigma = 0, 1\n",
    "long_tail_data = np.random.lognormal(mu, sigma, 1000)\n",
    "fig, ax = plt.subplots(figsize=(4, 4))\n",
    "stats.probplot(long_tail_data, plot=ax)"
   ],
   "id": "223b882d443cf57c",
   "outputs": [
    {
     "data": {
      "text/plain": [
       "((array([-3.19758950e+00, -2.93237785e+00, -2.78437841e+00, -2.67999560e+00,\n",
       "         -2.59855946e+00, -2.53139899e+00, -2.47402263e+00, -2.42379214e+00,\n",
       "         -2.37902149e+00, -2.33856546e+00, -2.30160949e+00, -2.26755284e+00,\n",
       "         -2.23593934e+00, -2.20641415e+00, -2.17869564e+00, -2.15255643e+00,\n",
       "         -2.12781017e+00, -2.10430217e+00, -2.08190261e+00, -2.06050135e+00,\n",
       "         -2.04000420e+00, -2.02032992e+00, -2.00140792e+00, -1.98317650e+00,\n",
       "         -1.96558137e+00, -1.94857451e+00, -1.93211325e+00, -1.91615948e+00,\n",
       "         -1.90067901e+00, -1.88564107e+00, -1.87101783e+00, -1.85678408e+00,\n",
       "         -1.84291686e+00, -1.82939524e+00, -1.81620005e+00, -1.80331371e+00,\n",
       "         -1.79072004e+00, -1.77840415e+00, -1.76635224e+00, -1.75455157e+00,\n",
       "         -1.74299028e+00, -1.73165738e+00, -1.72054262e+00, -1.70963644e+00,\n",
       "         -1.69892989e+00, -1.68841463e+00, -1.67808281e+00, -1.66792707e+00,\n",
       "         -1.65794051e+00, -1.64811661e+00, -1.63844924e+00, -1.62893261e+00,\n",
       "         -1.61956127e+00, -1.61033003e+00, -1.60123402e+00, -1.59226859e+00,\n",
       "         -1.58342935e+00, -1.57471213e+00, -1.56611295e+00, -1.55762804e+00,\n",
       "         -1.54925381e+00, -1.54098684e+00, -1.53282387e+00, -1.52476177e+00,\n",
       "         -1.51679758e+00, -1.50892845e+00, -1.50115166e+00, -1.49346462e+00,\n",
       "         -1.48586482e+00, -1.47834989e+00, -1.47091753e+00, -1.46356555e+00,\n",
       "         -1.45629184e+00, -1.44909437e+00, -1.44197119e+00, -1.43492043e+00,\n",
       "         -1.42794030e+00, -1.42102906e+00, -1.41418503e+00, -1.40740661e+00,\n",
       "         -1.40069224e+00, -1.39404044e+00, -1.38744975e+00, -1.38091878e+00,\n",
       "         -1.37444619e+00, -1.36803067e+00, -1.36167098e+00, -1.35536588e+00,\n",
       "         -1.34911421e+00, -1.34291482e+00, -1.33676663e+00, -1.33066855e+00,\n",
       "         -1.32461956e+00, -1.31861865e+00, -1.31266485e+00, -1.30675722e+00,\n",
       "         -1.30089485e+00, -1.29507686e+00, -1.28930237e+00, -1.28357055e+00,\n",
       "         -1.27788060e+00, -1.27223172e+00, -1.26662315e+00, -1.26105415e+00,\n",
       "         -1.25552398e+00, -1.25003194e+00, -1.24457735e+00, -1.23915954e+00,\n",
       "         -1.23377786e+00, -1.22843168e+00, -1.22312038e+00, -1.21784337e+00,\n",
       "         -1.21260004e+00, -1.20738985e+00, -1.20221223e+00, -1.19706664e+00,\n",
       "         -1.19195255e+00, -1.18686944e+00, -1.18181682e+00, -1.17679419e+00,\n",
       "         -1.17180107e+00, -1.16683699e+00, -1.16190151e+00, -1.15699416e+00,\n",
       "         -1.15211453e+00, -1.14726217e+00, -1.14243667e+00, -1.13763763e+00,\n",
       "         -1.13286465e+00, -1.12811734e+00, -1.12339532e+00, -1.11869822e+00,\n",
       "         -1.11402566e+00, -1.10937731e+00, -1.10475280e+00, -1.10015180e+00,\n",
       "         -1.09557397e+00, -1.09101899e+00, -1.08648653e+00, -1.08197628e+00,\n",
       "         -1.07748793e+00, -1.07302119e+00, -1.06857575e+00, -1.06415133e+00,\n",
       "         -1.05974765e+00, -1.05536442e+00, -1.05100137e+00, -1.04665824e+00,\n",
       "         -1.04233476e+00, -1.03803068e+00, -1.03374574e+00, -1.02947970e+00,\n",
       "         -1.02523232e+00, -1.02100335e+00, -1.01679256e+00, -1.01259972e+00,\n",
       "         -1.00842461e+00, -1.00426700e+00, -1.00012668e+00, -9.96003439e-01,\n",
       "         -9.91897058e-01, -9.87807334e-01, -9.83734067e-01, -9.79677056e-01,\n",
       "         -9.75636106e-01, -9.71611024e-01, -9.67601623e-01, -9.63607717e-01,\n",
       "         -9.59629122e-01, -9.55665660e-01, -9.51717154e-01, -9.47783430e-01,\n",
       "         -9.43864319e-01, -9.39959651e-01, -9.36069261e-01, -9.32192988e-01,\n",
       "         -9.28330671e-01, -9.24482153e-01, -9.20647280e-01, -9.16825898e-01,\n",
       "         -9.13017857e-01, -9.09223011e-01, -9.05441213e-01, -9.01672321e-01,\n",
       "         -8.97916193e-01, -8.94172691e-01, -8.90441678e-01, -8.86723020e-01,\n",
       "         -8.83016583e-01, -8.79322237e-01, -8.75639853e-01, -8.71969305e-01,\n",
       "         -8.68310468e-01, -8.64663218e-01, -8.61027434e-01, -8.57402996e-01,\n",
       "         -8.53789787e-01, -8.50187690e-01, -8.46596591e-01, -8.43016376e-01,\n",
       "         -8.39446935e-01, -8.35888157e-01, -8.32339934e-01, -8.28802160e-01,\n",
       "         -8.25274728e-01, -8.21757535e-01, -8.18250479e-01, -8.14753457e-01,\n",
       "         -8.11266372e-01, -8.07789123e-01, -8.04321614e-01, -8.00863750e-01,\n",
       "         -7.97415434e-01, -7.93976575e-01, -7.90547079e-01, -7.87126857e-01,\n",
       "         -7.83715817e-01, -7.80313872e-01, -7.76920933e-01, -7.73536915e-01,\n",
       "         -7.70161733e-01, -7.66795301e-01, -7.63437536e-01, -7.60088358e-01,\n",
       "         -7.56747683e-01, -7.53415433e-01, -7.50091527e-01, -7.46775888e-01,\n",
       "         -7.43468439e-01, -7.40169103e-01, -7.36877804e-01, -7.33594468e-01,\n",
       "         -7.30319022e-01, -7.27051392e-01, -7.23791507e-01, -7.20539295e-01,\n",
       "         -7.17294687e-01, -7.14057613e-01, -7.10828003e-01, -7.07605791e-01,\n",
       "         -7.04390909e-01, -7.01183291e-01, -6.97982871e-01, -6.94789584e-01,\n",
       "         -6.91603367e-01, -6.88424155e-01, -6.85251886e-01, -6.82086498e-01,\n",
       "         -6.78927930e-01, -6.75776120e-01, -6.72631010e-01, -6.69492539e-01,\n",
       "         -6.66360648e-01, -6.63235280e-01, -6.60116377e-01, -6.57003883e-01,\n",
       "         -6.53897740e-01, -6.50797893e-01, -6.47704287e-01, -6.44616868e-01,\n",
       "         -6.41535581e-01, -6.38460373e-01, -6.35391191e-01, -6.32327983e-01,\n",
       "         -6.29270697e-01, -6.26219281e-01, -6.23173684e-01, -6.20133858e-01,\n",
       "         -6.17099750e-01, -6.14071313e-01, -6.11048498e-01, -6.08031256e-01,\n",
       "         -6.05019539e-01, -6.02013299e-01, -5.99012491e-01, -5.96017067e-01,\n",
       "         -5.93026981e-01, -5.90042188e-01, -5.87062643e-01, -5.84088300e-01,\n",
       "         -5.81119115e-01, -5.78155045e-01, -5.75196045e-01, -5.72242074e-01,\n",
       "         -5.69293087e-01, -5.66349043e-01, -5.63409899e-01, -5.60475614e-01,\n",
       "         -5.57546147e-01, -5.54621458e-01, -5.51701504e-01, -5.48786247e-01,\n",
       "         -5.45875647e-01, -5.42969663e-01, -5.40068258e-01, -5.37171392e-01,\n",
       "         -5.34279026e-01, -5.31391124e-01, -5.28507646e-01, -5.25628557e-01,\n",
       "         -5.22753817e-01, -5.19883391e-01, -5.17017243e-01, -5.14155335e-01,\n",
       "         -5.11297632e-01, -5.08444099e-01, -5.05594699e-01, -5.02749399e-01,\n",
       "         -4.99908163e-01, -4.97070957e-01, -4.94237747e-01, -4.91408498e-01,\n",
       "         -4.88583178e-01, -4.85761752e-01, -4.82944188e-01, -4.80130452e-01,\n",
       "         -4.77320513e-01, -4.74514337e-01, -4.71711893e-01, -4.68913149e-01,\n",
       "         -4.66118073e-01, -4.63326634e-01, -4.60538801e-01, -4.57754542e-01,\n",
       "         -4.54973827e-01, -4.52196626e-01, -4.49422908e-01, -4.46652644e-01,\n",
       "         -4.43885803e-01, -4.41122356e-01, -4.38362274e-01, -4.35605527e-01,\n",
       "         -4.32852086e-01, -4.30101924e-01, -4.27355010e-01, -4.24611318e-01,\n",
       "         -4.21870818e-01, -4.19133483e-01, -4.16399284e-01, -4.13668196e-01,\n",
       "         -4.10940189e-01, -4.08215237e-01, -4.05493313e-01, -4.02774389e-01,\n",
       "         -4.00058440e-01, -3.97345439e-01, -3.94635359e-01, -3.91928175e-01,\n",
       "         -3.89223860e-01, -3.86522388e-01, -3.83823735e-01, -3.81127874e-01,\n",
       "         -3.78434779e-01, -3.75744427e-01, -3.73056792e-01, -3.70371848e-01,\n",
       "         -3.67689572e-01, -3.65009939e-01, -3.62332924e-01, -3.59658504e-01,\n",
       "         -3.56986653e-01, -3.54317348e-01, -3.51650566e-01, -3.48986282e-01,\n",
       "         -3.46324472e-01, -3.43665115e-01, -3.41008186e-01, -3.38353661e-01,\n",
       "         -3.35701519e-01, -3.33051736e-01, -3.30404290e-01, -3.27759157e-01,\n",
       "         -3.25116316e-01, -3.22475743e-01, -3.19837417e-01, -3.17201315e-01,\n",
       "         -3.14567416e-01, -3.11935698e-01, -3.09306138e-01, -3.06678715e-01,\n",
       "         -3.04053407e-01, -3.01430193e-01, -2.98809052e-01, -2.96189962e-01,\n",
       "         -2.93572903e-01, -2.90957852e-01, -2.88344790e-01, -2.85733695e-01,\n",
       "         -2.83124547e-01, -2.80517325e-01, -2.77912008e-01, -2.75308576e-01,\n",
       "         -2.72707009e-01, -2.70107286e-01, -2.67509388e-01, -2.64913294e-01,\n",
       "         -2.62318984e-01, -2.59726438e-01, -2.57135637e-01, -2.54546561e-01,\n",
       "         -2.51959189e-01, -2.49373504e-01, -2.46789484e-01, -2.44207112e-01,\n",
       "         -2.41626367e-01, -2.39047230e-01, -2.36469683e-01, -2.33893705e-01,\n",
       "         -2.31319279e-01, -2.28746384e-01, -2.26175004e-01, -2.23605117e-01,\n",
       "         -2.21036707e-01, -2.18469754e-01, -2.15904240e-01, -2.13340146e-01,\n",
       "         -2.10777454e-01, -2.08216145e-01, -2.05656202e-01, -2.03097605e-01,\n",
       "         -2.00540338e-01, -1.97984381e-01, -1.95429717e-01, -1.92876328e-01,\n",
       "         -1.90324196e-01, -1.87773302e-01, -1.85223630e-01, -1.82675162e-01,\n",
       "         -1.80127879e-01, -1.77581765e-01, -1.75036802e-01, -1.72492971e-01,\n",
       "         -1.69950256e-01, -1.67408640e-01, -1.64868105e-01, -1.62328633e-01,\n",
       "         -1.59790208e-01, -1.57252812e-01, -1.54716428e-01, -1.52181038e-01,\n",
       "         -1.49646627e-01, -1.47113177e-01, -1.44580670e-01, -1.42049091e-01,\n",
       "         -1.39518421e-01, -1.36988645e-01, -1.34459745e-01, -1.31931705e-01,\n",
       "         -1.29404507e-01, -1.26878136e-01, -1.24352575e-01, -1.21827806e-01,\n",
       "         -1.19303813e-01, -1.16780581e-01, -1.14258092e-01, -1.11736329e-01,\n",
       "         -1.09215277e-01, -1.06694919e-01, -1.04175238e-01, -1.01656219e-01,\n",
       "         -9.91378445e-02, -9.66200987e-02, -9.41029651e-02, -9.15864277e-02,\n",
       "         -8.90704701e-02, -8.65550762e-02, -8.40402299e-02, -8.15259149e-02,\n",
       "         -7.90121153e-02, -7.64988148e-02, -7.39859974e-02, -7.14736472e-02,\n",
       "         -6.89617480e-02, -6.64502838e-02, -6.39392387e-02, -6.14285967e-02,\n",
       "         -5.89183419e-02, -5.64084582e-02, -5.38989299e-02, -5.13897409e-02,\n",
       "         -4.88808755e-02, -4.63723177e-02, -4.38640516e-02, -4.13560616e-02,\n",
       "         -3.88483316e-02, -3.63408459e-02, -3.38335886e-02, -3.13265441e-02,\n",
       "         -2.88196964e-02, -2.63130298e-02, -2.38065286e-02, -2.13001769e-02,\n",
       "         -1.87939590e-02, -1.62878591e-02, -1.37818616e-02, -1.12759505e-02,\n",
       "         -8.77011034e-03, -6.26432519e-03, -3.75857938e-03, -1.25285717e-03,\n",
       "          1.25285717e-03,  3.75857938e-03,  6.26432519e-03,  8.77011034e-03,\n",
       "          1.12759505e-02,  1.37818616e-02,  1.62878591e-02,  1.87939590e-02,\n",
       "          2.13001769e-02,  2.38065286e-02,  2.63130298e-02,  2.88196964e-02,\n",
       "          3.13265441e-02,  3.38335886e-02,  3.63408459e-02,  3.88483316e-02,\n",
       "          4.13560616e-02,  4.38640516e-02,  4.63723177e-02,  4.88808755e-02,\n",
       "          5.13897409e-02,  5.38989299e-02,  5.64084582e-02,  5.89183419e-02,\n",
       "          6.14285967e-02,  6.39392387e-02,  6.64502838e-02,  6.89617480e-02,\n",
       "          7.14736472e-02,  7.39859974e-02,  7.64988148e-02,  7.90121153e-02,\n",
       "          8.15259149e-02,  8.40402299e-02,  8.65550762e-02,  8.90704701e-02,\n",
       "          9.15864277e-02,  9.41029651e-02,  9.66200987e-02,  9.91378445e-02,\n",
       "          1.01656219e-01,  1.04175238e-01,  1.06694919e-01,  1.09215277e-01,\n",
       "          1.11736329e-01,  1.14258092e-01,  1.16780581e-01,  1.19303813e-01,\n",
       "          1.21827806e-01,  1.24352575e-01,  1.26878136e-01,  1.29404507e-01,\n",
       "          1.31931705e-01,  1.34459745e-01,  1.36988645e-01,  1.39518421e-01,\n",
       "          1.42049091e-01,  1.44580670e-01,  1.47113177e-01,  1.49646627e-01,\n",
       "          1.52181038e-01,  1.54716428e-01,  1.57252812e-01,  1.59790208e-01,\n",
       "          1.62328633e-01,  1.64868105e-01,  1.67408640e-01,  1.69950256e-01,\n",
       "          1.72492971e-01,  1.75036802e-01,  1.77581765e-01,  1.80127879e-01,\n",
       "          1.82675162e-01,  1.85223630e-01,  1.87773302e-01,  1.90324196e-01,\n",
       "          1.92876328e-01,  1.95429717e-01,  1.97984381e-01,  2.00540338e-01,\n",
       "          2.03097605e-01,  2.05656202e-01,  2.08216145e-01,  2.10777454e-01,\n",
       "          2.13340146e-01,  2.15904240e-01,  2.18469754e-01,  2.21036707e-01,\n",
       "          2.23605117e-01,  2.26175004e-01,  2.28746384e-01,  2.31319279e-01,\n",
       "          2.33893705e-01,  2.36469683e-01,  2.39047230e-01,  2.41626367e-01,\n",
       "          2.44207112e-01,  2.46789484e-01,  2.49373504e-01,  2.51959189e-01,\n",
       "          2.54546561e-01,  2.57135637e-01,  2.59726438e-01,  2.62318984e-01,\n",
       "          2.64913294e-01,  2.67509388e-01,  2.70107286e-01,  2.72707009e-01,\n",
       "          2.75308576e-01,  2.77912008e-01,  2.80517325e-01,  2.83124547e-01,\n",
       "          2.85733695e-01,  2.88344790e-01,  2.90957852e-01,  2.93572903e-01,\n",
       "          2.96189962e-01,  2.98809052e-01,  3.01430193e-01,  3.04053407e-01,\n",
       "          3.06678715e-01,  3.09306138e-01,  3.11935698e-01,  3.14567416e-01,\n",
       "          3.17201315e-01,  3.19837417e-01,  3.22475743e-01,  3.25116316e-01,\n",
       "          3.27759157e-01,  3.30404290e-01,  3.33051736e-01,  3.35701519e-01,\n",
       "          3.38353661e-01,  3.41008186e-01,  3.43665115e-01,  3.46324472e-01,\n",
       "          3.48986282e-01,  3.51650566e-01,  3.54317348e-01,  3.56986653e-01,\n",
       "          3.59658504e-01,  3.62332924e-01,  3.65009939e-01,  3.67689572e-01,\n",
       "          3.70371848e-01,  3.73056792e-01,  3.75744427e-01,  3.78434779e-01,\n",
       "          3.81127874e-01,  3.83823735e-01,  3.86522388e-01,  3.89223860e-01,\n",
       "          3.91928175e-01,  3.94635359e-01,  3.97345439e-01,  4.00058440e-01,\n",
       "          4.02774389e-01,  4.05493313e-01,  4.08215237e-01,  4.10940189e-01,\n",
       "          4.13668196e-01,  4.16399284e-01,  4.19133483e-01,  4.21870818e-01,\n",
       "          4.24611318e-01,  4.27355010e-01,  4.30101924e-01,  4.32852086e-01,\n",
       "          4.35605527e-01,  4.38362274e-01,  4.41122356e-01,  4.43885803e-01,\n",
       "          4.46652644e-01,  4.49422908e-01,  4.52196626e-01,  4.54973827e-01,\n",
       "          4.57754542e-01,  4.60538801e-01,  4.63326634e-01,  4.66118073e-01,\n",
       "          4.68913149e-01,  4.71711893e-01,  4.74514337e-01,  4.77320513e-01,\n",
       "          4.80130452e-01,  4.82944188e-01,  4.85761752e-01,  4.88583178e-01,\n",
       "          4.91408498e-01,  4.94237747e-01,  4.97070957e-01,  4.99908163e-01,\n",
       "          5.02749399e-01,  5.05594699e-01,  5.08444099e-01,  5.11297632e-01,\n",
       "          5.14155335e-01,  5.17017243e-01,  5.19883391e-01,  5.22753817e-01,\n",
       "          5.25628557e-01,  5.28507646e-01,  5.31391124e-01,  5.34279026e-01,\n",
       "          5.37171392e-01,  5.40068258e-01,  5.42969663e-01,  5.45875647e-01,\n",
       "          5.48786247e-01,  5.51701504e-01,  5.54621458e-01,  5.57546147e-01,\n",
       "          5.60475614e-01,  5.63409899e-01,  5.66349043e-01,  5.69293087e-01,\n",
       "          5.72242074e-01,  5.75196045e-01,  5.78155045e-01,  5.81119115e-01,\n",
       "          5.84088300e-01,  5.87062643e-01,  5.90042188e-01,  5.93026981e-01,\n",
       "          5.96017067e-01,  5.99012491e-01,  6.02013299e-01,  6.05019539e-01,\n",
       "          6.08031256e-01,  6.11048498e-01,  6.14071313e-01,  6.17099750e-01,\n",
       "          6.20133858e-01,  6.23173684e-01,  6.26219281e-01,  6.29270697e-01,\n",
       "          6.32327983e-01,  6.35391191e-01,  6.38460373e-01,  6.41535581e-01,\n",
       "          6.44616868e-01,  6.47704287e-01,  6.50797893e-01,  6.53897740e-01,\n",
       "          6.57003883e-01,  6.60116377e-01,  6.63235280e-01,  6.66360648e-01,\n",
       "          6.69492539e-01,  6.72631010e-01,  6.75776120e-01,  6.78927930e-01,\n",
       "          6.82086498e-01,  6.85251886e-01,  6.88424155e-01,  6.91603367e-01,\n",
       "          6.94789584e-01,  6.97982871e-01,  7.01183291e-01,  7.04390909e-01,\n",
       "          7.07605791e-01,  7.10828003e-01,  7.14057613e-01,  7.17294687e-01,\n",
       "          7.20539295e-01,  7.23791507e-01,  7.27051392e-01,  7.30319022e-01,\n",
       "          7.33594468e-01,  7.36877804e-01,  7.40169103e-01,  7.43468439e-01,\n",
       "          7.46775888e-01,  7.50091527e-01,  7.53415433e-01,  7.56747683e-01,\n",
       "          7.60088358e-01,  7.63437536e-01,  7.66795301e-01,  7.70161733e-01,\n",
       "          7.73536915e-01,  7.76920933e-01,  7.80313872e-01,  7.83715817e-01,\n",
       "          7.87126857e-01,  7.90547079e-01,  7.93976575e-01,  7.97415434e-01,\n",
       "          8.00863750e-01,  8.04321614e-01,  8.07789123e-01,  8.11266372e-01,\n",
       "          8.14753457e-01,  8.18250479e-01,  8.21757535e-01,  8.25274728e-01,\n",
       "          8.28802160e-01,  8.32339934e-01,  8.35888157e-01,  8.39446935e-01,\n",
       "          8.43016376e-01,  8.46596591e-01,  8.50187690e-01,  8.53789787e-01,\n",
       "          8.57402996e-01,  8.61027434e-01,  8.64663218e-01,  8.68310468e-01,\n",
       "          8.71969305e-01,  8.75639853e-01,  8.79322237e-01,  8.83016583e-01,\n",
       "          8.86723020e-01,  8.90441678e-01,  8.94172691e-01,  8.97916193e-01,\n",
       "          9.01672321e-01,  9.05441213e-01,  9.09223011e-01,  9.13017857e-01,\n",
       "          9.16825898e-01,  9.20647280e-01,  9.24482153e-01,  9.28330671e-01,\n",
       "          9.32192988e-01,  9.36069261e-01,  9.39959651e-01,  9.43864319e-01,\n",
       "          9.47783430e-01,  9.51717154e-01,  9.55665660e-01,  9.59629122e-01,\n",
       "          9.63607717e-01,  9.67601623e-01,  9.71611024e-01,  9.75636106e-01,\n",
       "          9.79677056e-01,  9.83734067e-01,  9.87807334e-01,  9.91897058e-01,\n",
       "          9.96003439e-01,  1.00012668e+00,  1.00426700e+00,  1.00842461e+00,\n",
       "          1.01259972e+00,  1.01679256e+00,  1.02100335e+00,  1.02523232e+00,\n",
       "          1.02947970e+00,  1.03374574e+00,  1.03803068e+00,  1.04233476e+00,\n",
       "          1.04665824e+00,  1.05100137e+00,  1.05536442e+00,  1.05974765e+00,\n",
       "          1.06415133e+00,  1.06857575e+00,  1.07302119e+00,  1.07748793e+00,\n",
       "          1.08197628e+00,  1.08648653e+00,  1.09101899e+00,  1.09557397e+00,\n",
       "          1.10015180e+00,  1.10475280e+00,  1.10937731e+00,  1.11402566e+00,\n",
       "          1.11869822e+00,  1.12339532e+00,  1.12811734e+00,  1.13286465e+00,\n",
       "          1.13763763e+00,  1.14243667e+00,  1.14726217e+00,  1.15211453e+00,\n",
       "          1.15699416e+00,  1.16190151e+00,  1.16683699e+00,  1.17180107e+00,\n",
       "          1.17679419e+00,  1.18181682e+00,  1.18686944e+00,  1.19195255e+00,\n",
       "          1.19706664e+00,  1.20221223e+00,  1.20738985e+00,  1.21260004e+00,\n",
       "          1.21784337e+00,  1.22312038e+00,  1.22843168e+00,  1.23377786e+00,\n",
       "          1.23915954e+00,  1.24457735e+00,  1.25003194e+00,  1.25552398e+00,\n",
       "          1.26105415e+00,  1.26662315e+00,  1.27223172e+00,  1.27788060e+00,\n",
       "          1.28357055e+00,  1.28930237e+00,  1.29507686e+00,  1.30089485e+00,\n",
       "          1.30675722e+00,  1.31266485e+00,  1.31861865e+00,  1.32461956e+00,\n",
       "          1.33066855e+00,  1.33676663e+00,  1.34291482e+00,  1.34911421e+00,\n",
       "          1.35536588e+00,  1.36167098e+00,  1.36803067e+00,  1.37444619e+00,\n",
       "          1.38091878e+00,  1.38744975e+00,  1.39404044e+00,  1.40069224e+00,\n",
       "          1.40740661e+00,  1.41418503e+00,  1.42102906e+00,  1.42794030e+00,\n",
       "          1.43492043e+00,  1.44197119e+00,  1.44909437e+00,  1.45629184e+00,\n",
       "          1.46356555e+00,  1.47091753e+00,  1.47834989e+00,  1.48586482e+00,\n",
       "          1.49346462e+00,  1.50115166e+00,  1.50892845e+00,  1.51679758e+00,\n",
       "          1.52476177e+00,  1.53282387e+00,  1.54098684e+00,  1.54925381e+00,\n",
       "          1.55762804e+00,  1.56611295e+00,  1.57471213e+00,  1.58342935e+00,\n",
       "          1.59226859e+00,  1.60123402e+00,  1.61033003e+00,  1.61956127e+00,\n",
       "          1.62893261e+00,  1.63844924e+00,  1.64811661e+00,  1.65794051e+00,\n",
       "          1.66792707e+00,  1.67808281e+00,  1.68841463e+00,  1.69892989e+00,\n",
       "          1.70963644e+00,  1.72054262e+00,  1.73165738e+00,  1.74299028e+00,\n",
       "          1.75455157e+00,  1.76635224e+00,  1.77840415e+00,  1.79072004e+00,\n",
       "          1.80331371e+00,  1.81620005e+00,  1.82939524e+00,  1.84291686e+00,\n",
       "          1.85678408e+00,  1.87101783e+00,  1.88564107e+00,  1.90067901e+00,\n",
       "          1.91615948e+00,  1.93211325e+00,  1.94857451e+00,  1.96558137e+00,\n",
       "          1.98317650e+00,  2.00140792e+00,  2.02032992e+00,  2.04000420e+00,\n",
       "          2.06050135e+00,  2.08190261e+00,  2.10430217e+00,  2.12781017e+00,\n",
       "          2.15255643e+00,  2.17869564e+00,  2.20641415e+00,  2.23593934e+00,\n",
       "          2.26755284e+00,  2.30160949e+00,  2.33856546e+00,  2.37902149e+00,\n",
       "          2.42379214e+00,  2.47402263e+00,  2.53139899e+00,  2.59855946e+00,\n",
       "          2.67999560e+00,  2.78437841e+00,  2.93237785e+00,  3.19758950e+00]),\n",
       "  array([ 0.04892163,  0.0565918 ,  0.06147998,  0.06838816,  0.07100733,\n",
       "          0.0747044 ,  0.07495363,  0.08116111,  0.08211412,  0.08858906,\n",
       "          0.09080242,  0.09690184,  0.0993185 ,  0.10071615,  0.10548911,\n",
       "          0.10658971,  0.10661833,  0.11615139,  0.11879365,  0.12046909,\n",
       "          0.12203989,  0.12288381,  0.12522059,  0.12589751,  0.13023998,\n",
       "          0.13558499,  0.13872603,  0.13909808,  0.14452057,  0.14603229,\n",
       "          0.14709784,  0.15333933,  0.15540235,  0.15739523,  0.16175915,\n",
       "          0.16267164,  0.16347936,  0.16510699,  0.16703062,  0.16721931,\n",
       "          0.16971061,  0.16974045,  0.17071056,  0.17125673,  0.17171437,\n",
       "          0.17405023,  0.1748696 ,  0.17529062,  0.17876883,  0.17966323,\n",
       "          0.18928199,  0.18930199,  0.1894128 ,  0.19672649,  0.19858799,\n",
       "          0.19997178,  0.2005821 ,  0.20295473,  0.20367325,  0.20606678,\n",
       "          0.20733196,  0.20785003,  0.20838026,  0.21033914,  0.21098817,\n",
       "          0.21235403,  0.21257938,  0.2152281 ,  0.22122633,  0.22126067,\n",
       "          0.22489367,  0.22654804,  0.2290355 ,  0.22934924,  0.2308661 ,\n",
       "          0.23427566,  0.23437231,  0.23517931,  0.23543933,  0.23707555,\n",
       "          0.24221793,  0.24263208,  0.24506268,  0.24613925,  0.24730221,\n",
       "          0.24822712,  0.25116929,  0.2513676 ,  0.25213184,  0.25318022,\n",
       "          0.25378972,  0.25555833,  0.25560532,  0.25595965,  0.25892945,\n",
       "          0.25935049,  0.26153009,  0.26717335,  0.26723768,  0.2723165 ,\n",
       "          0.27290417,  0.2760739 ,  0.27640357,  0.27805203,  0.28202511,\n",
       "          0.2827307 ,  0.28592107,  0.2860916 ,  0.28681714,  0.28684405,\n",
       "          0.28723113,  0.28778279,  0.28866466,  0.28921965,  0.28974906,\n",
       "          0.29030855,  0.29136055,  0.2914218 ,  0.29221351,  0.29240548,\n",
       "          0.29877882,  0.299566  ,  0.30110814,  0.3018316 ,  0.3043534 ,\n",
       "          0.30601368,  0.30808554,  0.30954007,  0.31160474,  0.31978295,\n",
       "          0.32377313,  0.32407085,  0.32453675,  0.3245873 ,  0.32481286,\n",
       "          0.32747891,  0.32936292,  0.33317449,  0.33415417,  0.33584798,\n",
       "          0.33658809,  0.33722168,  0.33733186,  0.33805743,  0.33982207,\n",
       "          0.34179375,  0.34337473,  0.34377829,  0.34477611,  0.34716636,\n",
       "          0.34854791,  0.34939739,  0.35010283,  0.35034717,  0.35238694,\n",
       "          0.35705878,  0.3583098 ,  0.36151414,  0.36323071,  0.36477079,\n",
       "          0.36568352,  0.36774379,  0.36825885,  0.36901099,  0.37137968,\n",
       "          0.37580017,  0.37657126,  0.37663875,  0.37718872,  0.38094027,\n",
       "          0.38538836,  0.38712947,  0.39059488,  0.39071736,  0.3913184 ,\n",
       "          0.39304614,  0.39546973,  0.39769145,  0.40028746,  0.40037705,\n",
       "          0.40152379,  0.40165093,  0.40628944,  0.41501398,  0.41550845,\n",
       "          0.41749175,  0.41819103,  0.41969076,  0.41990658,  0.42050893,\n",
       "          0.42072718,  0.42399689,  0.42466654,  0.42469017,  0.42488156,\n",
       "          0.42493756,  0.42527861,  0.42616936,  0.4283812 ,  0.43114084,\n",
       "          0.43153298,  0.43233625,  0.43591429,  0.43629514,  0.43972754,\n",
       "          0.44407672,  0.44495224,  0.44564167,  0.44589161,  0.44716004,\n",
       "          0.45076474,  0.4509588 ,  0.45405278,  0.45606334,  0.45676667,\n",
       "          0.45809487,  0.45974105,  0.46126421,  0.46363234,  0.46418908,\n",
       "          0.4683556 ,  0.46879772,  0.47408167,  0.47587631,  0.4759812 ,\n",
       "          0.48056769,  0.48142283,  0.48253796,  0.48596915,  0.48683331,\n",
       "          0.48802334,  0.48995565,  0.49047255,  0.49095641,  0.49260727,\n",
       "          0.49661704,  0.49686029,  0.4979501 ,  0.4984596 ,  0.49907132,\n",
       "          0.50013758,  0.50390767,  0.50689879,  0.50855298,  0.5086281 ,\n",
       "          0.51158112,  0.51181269,  0.51215945,  0.51488371,  0.51627794,\n",
       "          0.51747541,  0.51815986,  0.51855308,  0.51879416,  0.52224635,\n",
       "          0.52448578,  0.52491431,  0.52510059,  0.52546417,  0.52701526,\n",
       "          0.53012273,  0.53018999,  0.53050944,  0.53094726,  0.53105393,\n",
       "          0.53447231,  0.53724805,  0.53813989,  0.53949497,  0.53978066,\n",
       "          0.53978257,  0.54015884,  0.54087613,  0.5414695 ,  0.54173731,\n",
       "          0.54459449,  0.54465794,  0.54482363,  0.54615519,  0.54798382,\n",
       "          0.55201001,  0.55236948,  0.55332664,  0.55351939,  0.55459643,\n",
       "          0.55479934,  0.55556841,  0.55763731,  0.55765048,  0.55801683,\n",
       "          0.56174525,  0.56201969,  0.5630092 ,  0.56438908,  0.56588064,\n",
       "          0.5687171 ,  0.57119653,  0.57455566,  0.57528783,  0.57892917,\n",
       "          0.58423335,  0.58844835,  0.58930842,  0.59026773,  0.59144807,\n",
       "          0.59229825,  0.59474722,  0.59558324,  0.59955535,  0.60449997,\n",
       "          0.61076498,  0.6108471 ,  0.61190229,  0.61421713,  0.61441874,\n",
       "          0.61699483,  0.61871262,  0.62594505,  0.62717959,  0.62828035,\n",
       "          0.62909417,  0.6308767 ,  0.63582072,  0.63723771,  0.64150915,\n",
       "          0.64303999,  0.64969972,  0.65064765,  0.65182108,  0.65413977,\n",
       "          0.65645576,  0.65861078,  0.65936946,  0.6599514 ,  0.66571732,\n",
       "          0.66634863,  0.66745778,  0.66984288,  0.67192193,  0.67273469,\n",
       "          0.67297644,  0.67592296,  0.67987299,  0.68125649,  0.68427812,\n",
       "          0.68492095,  0.68498832,  0.69063175,  0.69071281,  0.69124302,\n",
       "          0.69311431,  0.69440413,  0.69657635,  0.69681701,  0.70014801,\n",
       "          0.70276504,  0.70480201,  0.7054644 ,  0.70765155,  0.70810962,\n",
       "          0.70865366,  0.70872847,  0.70882844,  0.71459658,  0.71850004,\n",
       "          0.72382899,  0.72404562,  0.72512943,  0.73451344,  0.73850529,\n",
       "          0.73987781,  0.74018847,  0.74213269,  0.74363369,  0.74558326,\n",
       "          0.74761994,  0.74804466,  0.75160036,  0.75364839,  0.75899782,\n",
       "          0.76290446,  0.76604021,  0.77552167,  0.77745932,  0.78198925,\n",
       "          0.78479277,  0.78544034,  0.78673459,  0.78896367,  0.7894754 ,\n",
       "          0.79171916,  0.79490986,  0.79559154,  0.79563253,  0.79855342,\n",
       "          0.8003895 ,  0.80251948,  0.80677641,  0.80715528,  0.80725589,\n",
       "          0.8086339 ,  0.80999121,  0.81111284,  0.81311648,  0.81325753,\n",
       "          0.81408054,  0.81454245,  0.81687494,  0.81752323,  0.82075763,\n",
       "          0.82246848,  0.82374021,  0.82582333,  0.83285696,  0.83286443,\n",
       "          0.8362314 ,  0.83634251,  0.83906887,  0.84024737,  0.84249912,\n",
       "          0.84415498,  0.84475969,  0.84653156,  0.84679993,  0.84732146,\n",
       "          0.84910189,  0.84963709,  0.8529238 ,  0.85626745,  0.85627039,\n",
       "          0.85658844,  0.85899563,  0.85923032,  0.86165323,  0.86645485,\n",
       "          0.86780286,  0.87380263,  0.87716808,  0.87777002,  0.87895462,\n",
       "          0.88695487,  0.88860951,  0.89267033,  0.89453624,  0.89505239,\n",
       "          0.89551252,  0.89610748,  0.89830719,  0.89838135,  0.89871619,\n",
       "          0.89966043,  0.90084557,  0.90310566,  0.90373438,  0.90505439,\n",
       "          0.90727238,  0.90846509,  0.91690891,  0.91712937,  0.91713366,\n",
       "          0.91815484,  0.91838192,  0.91886234,  0.92088822,  0.92102807,\n",
       "          0.9217465 ,  0.9219019 ,  0.92264306,  0.92330619,  0.92506976,\n",
       "          0.9254497 ,  0.9271714 ,  0.92718975,  0.92762169,  0.92786466,\n",
       "          0.93462152,  0.93854425,  0.9392821 ,  0.94397396,  0.94399282,\n",
       "          0.94458083,  0.94682837,  0.94753552,  0.9484342 ,  0.94877224,\n",
       "          0.95229921,  0.95637482,  0.96100969,  0.96105841,  0.96468618,\n",
       "          0.96575225,  0.97033385,  0.97046018,  0.97105077,  0.97447979,\n",
       "          0.98135953,  0.98156362,  0.9824647 ,  0.98363796,  0.98602759,\n",
       "          0.99650801,  0.99933286,  1.0002609 ,  1.00134455,  1.00324217,\n",
       "          1.00549911,  1.00740356,  1.01066315,  1.01073065,  1.0111654 ,\n",
       "          1.01734424,  1.01794724,  1.01946708,  1.02214783,  1.02647867,\n",
       "          1.02747201,  1.03113082,  1.03744335,  1.03916465,  1.04581977,\n",
       "          1.05262182,  1.05412683,  1.05639846,  1.05789851,  1.05962061,\n",
       "          1.06176894,  1.0627965 ,  1.06505985,  1.06812375,  1.06864591,\n",
       "          1.0715408 ,  1.07471472,  1.07507718,  1.07671762,  1.0770225 ,\n",
       "          1.07880641,  1.08033317,  1.08629732,  1.09404851,  1.09426106,\n",
       "          1.09727229,  1.09897298,  1.1103267 ,  1.1137682 ,  1.11519884,\n",
       "          1.11962469,  1.11996986,  1.12199627,  1.12288638,  1.12663517,\n",
       "          1.12710713,  1.12894753,  1.1314139 ,  1.13155719,  1.13176236,\n",
       "          1.13488325,  1.13490595,  1.13580077,  1.13639006,  1.14467765,\n",
       "          1.14899792,  1.15905495,  1.1592157 ,  1.15984989,  1.16001795,\n",
       "          1.16310673,  1.16426543,  1.16438526,  1.16492369,  1.16641708,\n",
       "          1.17323371,  1.18441638,  1.18574339,  1.18599675,  1.18831362,\n",
       "          1.18902778,  1.18966673,  1.19757778,  1.19898431,  1.21197951,\n",
       "          1.21554018,  1.21667828,  1.21735153,  1.21766075,  1.21894793,\n",
       "          1.22206496,  1.22456811,  1.22522936,  1.22574946,  1.22918969,\n",
       "          1.22971008,  1.23149714,  1.23280492,  1.23541659,  1.24214354,\n",
       "          1.24580211,  1.24943011,  1.2528066 ,  1.25291553,  1.25548887,\n",
       "          1.25626763,  1.25633081,  1.25652344,  1.25880296,  1.2611007 ,\n",
       "          1.26581053,  1.2705852 ,  1.27298424,  1.27956882,  1.27965358,\n",
       "          1.28480667,  1.28532675,  1.288478  ,  1.2900323 ,  1.29199066,\n",
       "          1.29262518,  1.29330617,  1.29565505,  1.29830992,  1.30010191,\n",
       "          1.30425952,  1.30714073,  1.31448735,  1.31918912,  1.31978527,\n",
       "          1.32151886,  1.32186762,  1.32316863,  1.32508147,  1.32665696,\n",
       "          1.3268131 ,  1.3281548 ,  1.33614921,  1.33787692,  1.33826199,\n",
       "          1.34532358,  1.34850446,  1.35624097,  1.35852582,  1.36032751,\n",
       "          1.36112182,  1.36366671,  1.36436122,  1.36687779,  1.36849206,\n",
       "          1.37372939,  1.38167143,  1.39010692,  1.39145831,  1.39829601,\n",
       "          1.40036266,  1.40854337,  1.41066407,  1.42059441,  1.4296114 ,\n",
       "          1.43012746,  1.43328431,  1.43947599,  1.44678968,  1.45148631,\n",
       "          1.45454562,  1.455133  ,  1.4629478 ,  1.46341284,  1.46842302,\n",
       "          1.47275933,  1.47437946,  1.47488866,  1.47563046,  1.47648823,\n",
       "          1.49199903,  1.49694591,  1.51051746,  1.51434504,  1.51650552,\n",
       "          1.52155293,  1.52550769,  1.52780953,  1.53129622,  1.53355107,\n",
       "          1.53845457,  1.5425804 ,  1.54301951,  1.54543022,  1.54800804,\n",
       "          1.55253648,  1.55639682,  1.56772213,  1.5877788 ,  1.58869974,\n",
       "          1.59517993,  1.59960758,  1.60100945,  1.60282964,  1.60663376,\n",
       "          1.61545763,  1.62039325,  1.62087604,  1.62648845,  1.63997204,\n",
       "          1.64214704,  1.64742849,  1.64923004,  1.65619153,  1.65692546,\n",
       "          1.65852366,  1.65989898,  1.66261757,  1.66571841,  1.67164765,\n",
       "          1.68088882,  1.68227764,  1.69351919,  1.70049424,  1.70113119,\n",
       "          1.702897  ,  1.70472761,  1.71013919,  1.71623404,  1.71766993,\n",
       "          1.7186353 ,  1.71989326,  1.72183226,  1.73709106,  1.73832013,\n",
       "          1.74229923,  1.74803174,  1.75750222,  1.7638126 ,  1.76575144,\n",
       "          1.76596458,  1.76645473,  1.78754985,  1.79136398,  1.79560818,\n",
       "          1.80349735,  1.80833459,  1.82353391,  1.84546282,  1.84815543,\n",
       "          1.84870482,  1.85606412,  1.86248435,  1.88806297,  1.89053199,\n",
       "          1.89206939,  1.90077899,  1.90575453,  1.91860085,  1.92500294,\n",
       "          1.93180947,  1.93439523,  1.9367441 ,  1.94410411,  1.95486595,\n",
       "          1.95902342,  1.96019214,  1.9655531 ,  1.97026051,  1.97441586,\n",
       "          1.99382535,  1.99627104,  2.00265741,  2.02134578,  2.0321875 ,\n",
       "          2.04405932,  2.05282819,  2.05935158,  2.07585655,  2.08348905,\n",
       "          2.08394491,  2.09772015,  2.10276671,  2.11244116,  2.11380964,\n",
       "          2.16464599,  2.16688869,  2.1695913 ,  2.17540317,  2.18695452,\n",
       "          2.18783117,  2.18895927,  2.19750169,  2.21421323,  2.21478283,\n",
       "          2.21725715,  2.22197253,  2.22235684,  2.22427117,  2.23635211,\n",
       "          2.24000697,  2.26359529,  2.26974164,  2.27392084,  2.27421879,\n",
       "          2.27480851,  2.28765175,  2.29014541,  2.29428696,  2.31226594,\n",
       "          2.32589483,  2.34056995,  2.34153347,  2.34595778,  2.3773281 ,\n",
       "          2.38245356,  2.38483279,  2.41128057,  2.41155215,  2.44045658,\n",
       "          2.48050244,  2.49295876,  2.49460615,  2.5004842 ,  2.51224121,\n",
       "          2.51654013,  2.53452373,  2.53593966,  2.54792494,  2.55861482,\n",
       "          2.5700978 ,  2.58576323,  2.59715078,  2.61321017,  2.6202233 ,\n",
       "          2.62837453,  2.63974228,  2.65126245,  2.65611161,  2.6603944 ,\n",
       "          2.66751746,  2.67367055,  2.68674228,  2.72323097,  2.73022805,\n",
       "          2.73558057,  2.7453502 ,  2.75207852,  2.75712566,  2.76358114,\n",
       "          2.76703018,  2.77959213,  2.78342109,  2.80350555,  2.80414645,\n",
       "          2.81589084,  2.81688485,  2.81828306,  2.83440433,  2.84433089,\n",
       "          2.85208353,  2.8530593 ,  2.8628107 ,  2.86815787,  2.87438173,\n",
       "          2.88473269,  2.89727422,  2.96704511,  2.97222571,  2.98164975,\n",
       "          3.02030503,  3.0259202 ,  3.04200651,  3.04709894,  3.07759972,\n",
       "          3.07846561,  3.09815107,  3.11527552,  3.11858283,  3.12238092,\n",
       "          3.14333421,  3.15416129,  3.18452803,  3.20081274,  3.20635077,\n",
       "          3.2107111 ,  3.23082141,  3.23513549,  3.24707177,  3.28801106,\n",
       "          3.29490583,  3.30663698,  3.32037573,  3.35134172,  3.36922949,\n",
       "          3.38633304,  3.4168271 ,  3.43474869,  3.4743604 ,  3.48292589,\n",
       "          3.53249578,  3.53883769,  3.54717172,  3.54724065,  3.59294504,\n",
       "          3.61889619,  3.64399115,  3.6546099 ,  3.665592  ,  3.66576487,\n",
       "          3.67826092,  3.68066123,  3.70270045,  3.72075659,  3.7631688 ,\n",
       "          3.83899865,  3.84834579,  3.87121751,  3.88460185,  3.92581781,\n",
       "          3.94079543,  3.98853194,  4.01554496,  4.02829716,  4.10040159,\n",
       "          4.11798307,  4.13862191,  4.1482687 ,  4.1906523 ,  4.21197066,\n",
       "          4.21329405,  4.2189777 ,  4.2290317 ,  4.26345875,  4.32963334,\n",
       "          4.35539791,  4.36844497,  4.38985479,  4.38998537,  4.42717872,\n",
       "          4.48025146,  4.49828957,  4.50088644,  4.5029075 ,  4.51155106,\n",
       "          4.51342832,  4.51501624,  4.57639212,  4.59121952,  4.63312439,\n",
       "          4.83337025,  4.85508507,  4.93122992,  4.93176844,  4.93823995,\n",
       "          5.0137894 ,  5.03977586,  5.04983635,  5.05859533,  5.05898468,\n",
       "          5.06755401,  5.07456594,  5.09034708,  5.10877031,  5.11751408,\n",
       "          5.15001705,  5.17137784,  5.27726343,  5.3111995 ,  5.40209238,\n",
       "          5.53250874,  5.62163831,  5.63592674,  5.66578694,  5.77146415,\n",
       "          5.77395946,  5.85241125,  5.86377928,  5.86495101,  5.9057473 ,\n",
       "          5.94060503,  6.12898796,  6.16562917,  6.22122858,  6.22880511,\n",
       "          6.50357822,  6.53277777,  6.55906724,  6.56497875,  6.56734487,\n",
       "          6.73324959,  7.1335179 ,  7.60561533,  8.09586099,  8.12216357,\n",
       "          8.15097159,  8.23970323,  8.27985712,  8.67748467,  8.98803283,\n",
       "          9.01292036,  9.25616471,  9.57233031, 10.16532972, 12.78468808,\n",
       "         13.08450272, 14.30611129, 14.95239937, 15.54796909, 17.3382044 ])),\n",
       " (np.float64(1.5306087767721452),\n",
       "  np.float64(1.5992190262566721),\n",
       "  np.float64(0.8211566626680253)))"
      ]
     },
     "execution_count": 40,
     "metadata": {},
     "output_type": "execute_result"
    },
    {
     "data": {
      "text/plain": [
       "<Figure size 400x400 with 1 Axes>"
      ],
      "image/png": "[encoded data removed]"
     },
     "metadata": {},
     "output_type": "display_data"
    }
   ],
   "execution_count": 40
  },
  {
   "metadata": {},
   "cell_type": "markdown",
   "source": "* The points are far below the line for low values and far above the line for high values, indicating that the distribution is not normal.",
   "id": "3b948413cdeb81e1"
  },
  {
   "metadata": {
    "ExecuteTime": {
     "end_time": "2025-02-06T15:20:57.348828Z",
     "start_time": "2025-02-06T15:20:57.345973Z"
    }
   },
   "cell_type": "code",
   "source": "",
   "id": "733618648066a11d",
   "outputs": [],
   "execution_count": null
  }
 ],
 "metadata": {
  "kernelspec": {
   "display_name": "Python 3",
   "language": "python",
   "name": "python3"
  },
  "language_info": {
   "codemirror_mode": {
    "name": "ipython",
    "version": 2
   },
   "file_extension": ".py",
   "mimetype": "text/x-python",
   "name": "python",
   "nbconvert_exporter": "python",
   "pygments_lexer": "ipython2",
   "version": "2.7.6"
  }
 },
 "nbformat": 4,
 "nbformat_minor": 5
}
