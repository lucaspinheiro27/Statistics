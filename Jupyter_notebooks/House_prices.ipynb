{
 "cells": [
  {
   "cell_type": "code",
   "id": "initial_id",
   "metadata": {
    "collapsed": true,
    "ExecuteTime": {
     "end_time": "2025-03-24T20:35:14.842419Z",
     "start_time": "2025-03-24T20:35:14.837314Z"
    }
   },
   "source": [
    "import pandas as pd\n",
    "import numpy as np\n",
    "import matplotlib.pyplot as plt\n",
    "import seaborn as sns"
   ],
   "outputs": [],
   "execution_count": 472
  },
  {
   "metadata": {
    "ExecuteTime": {
     "end_time": "2025-03-24T20:35:14.903288Z",
     "start_time": "2025-03-24T20:35:14.877396Z"
    }
   },
   "cell_type": "code",
   "source": [
    "houses = pd.read_csv('/home/satire/PycharmProjects/Statistics/csv/test.csv')\n",
    "houses_test = pd.read_csv('/home/satire/PycharmProjects/Statistics/csv/train.csv')"
   ],
   "id": "7f13602ff545629c",
   "outputs": [],
   "execution_count": 473
  },
  {
   "metadata": {
    "ExecuteTime": {
     "end_time": "2025-03-24T20:35:14.932491Z",
     "start_time": "2025-03-24T20:35:14.929420Z"
    }
   },
   "cell_type": "code",
   "source": [
    "print(f\"Shape of houses dataset: {houses.shape}\")\n",
    "print(f\"Shape of houses_test dataset: {houses_test.shape}\")"
   ],
   "id": "7b49500efbef4205",
   "outputs": [
    {
     "name": "stdout",
     "output_type": "stream",
     "text": [
      "Shape of houses dataset: (1459, 80)\n",
      "Shape of houses_test dataset: (1460, 81)\n"
     ]
    }
   ],
   "execution_count": 474
  },
  {
   "metadata": {
    "ExecuteTime": {
     "end_time": "2025-03-24T20:35:15.040582Z",
     "start_time": "2025-03-24T20:35:15.034946Z"
    }
   },
   "cell_type": "code",
   "source": [
    "def handle_missing_values(df, threshold=0.70):\n",
    "    df = df.drop(['Id'], axis=1)\n",
    "    total_missing = df.isnull().sum().sort_values(ascending=False)\n",
    "    percent_missing = (df.isnull().sum() / df.isnull().count()).sort_values(ascending=False)\n",
    "    missing_values = pd.concat([total_missing, percent_missing], axis=1, keys=['Total', 'Percent'])\n",
    "\n",
    "    missing_features = percent_missing[percent_missing > threshold].index\n",
    "    df.drop(missing_features, axis=1, inplace=True)\n",
    "\n",
    "    print(f\"Missing features dropped: {missing_features}\")\n",
    "    print(f\"Remaining missing values:\\n{df.isnull().sum()}\")\n",
    "\n",
    "    return df"
   ],
   "id": "3f40be254988caf1",
   "outputs": [],
   "execution_count": 475
  },
  {
   "metadata": {
    "ExecuteTime": {
     "end_time": "2025-03-24T20:35:15.121658Z",
     "start_time": "2025-03-24T20:35:15.099351Z"
    }
   },
   "cell_type": "code",
   "source": [
    "houses = handle_missing_values(houses)\n",
    "houses_test = handle_missing_values(houses_test)"
   ],
   "id": "5f12337328cd6c79",
   "outputs": [
    {
     "name": "stdout",
     "output_type": "stream",
     "text": [
      "Missing features dropped: Index(['PoolQC', 'MiscFeature', 'Alley', 'Fence'], dtype='object')\n",
      "Remaining missing values:\n",
      "MSSubClass         0\n",
      "MSZoning           4\n",
      "LotFrontage      227\n",
      "LotArea            0\n",
      "Street             0\n",
      "                ... \n",
      "MiscVal            0\n",
      "MoSold             0\n",
      "YrSold             0\n",
      "SaleType           1\n",
      "SaleCondition      0\n",
      "Length: 75, dtype: int64\n",
      "Missing features dropped: Index(['PoolQC', 'MiscFeature', 'Alley', 'Fence'], dtype='object')\n",
      "Remaining missing values:\n",
      "MSSubClass         0\n",
      "MSZoning           0\n",
      "LotFrontage      259\n",
      "LotArea            0\n",
      "Street             0\n",
      "                ... \n",
      "MoSold             0\n",
      "YrSold             0\n",
      "SaleType           0\n",
      "SaleCondition      0\n",
      "SalePrice          0\n",
      "Length: 76, dtype: int64\n"
     ]
    }
   ],
   "execution_count": 476
  },
  {
   "metadata": {
    "ExecuteTime": {
     "end_time": "2025-03-24T20:35:15.153580Z",
     "start_time": "2025-03-24T20:35:15.150767Z"
    }
   },
   "cell_type": "code",
   "source": [
    "def fill_numerical_missing(df):\n",
    "    numerical_columns = df.select_dtypes(include=[np.number])\n",
    "    df[numerical_columns.columns] = numerical_columns.fillna(numerical_columns.mean())\n",
    "    return df"
   ],
   "id": "9b0a98c9c71db43e",
   "outputs": [],
   "execution_count": 477
  },
  {
   "metadata": {
    "ExecuteTime": {
     "end_time": "2025-03-24T20:35:15.209435Z",
     "start_time": "2025-03-24T20:35:15.195567Z"
    }
   },
   "cell_type": "code",
   "source": [
    "houses = fill_numerical_missing(houses)\n",
    "houses_test = fill_numerical_missing(houses_test)"
   ],
   "id": "81535dff16ec010",
   "outputs": [],
   "execution_count": 478
  },
  {
   "metadata": {
    "ExecuteTime": {
     "end_time": "2025-03-24T20:35:15.248293Z",
     "start_time": "2025-03-24T20:35:15.243686Z"
    }
   },
   "cell_type": "code",
   "source": [
    "print(f\"Numerical Variables in houses: {houses.select_dtypes(include=[np.number]).columns}\")\n",
    "print(f\"Numerical Variables in houses_test: {houses_test.select_dtypes(include=[np.number]).columns}\")"
   ],
   "id": "8f49cff3d772d514",
   "outputs": [
    {
     "name": "stdout",
     "output_type": "stream",
     "text": [
      "Numerical Variables in houses: Index(['MSSubClass', 'LotFrontage', 'LotArea', 'OverallQual', 'OverallCond',\n",
      "       'YearBuilt', 'YearRemodAdd', 'MasVnrArea', 'BsmtFinSF1', 'BsmtFinSF2',\n",
      "       'BsmtUnfSF', 'TotalBsmtSF', '1stFlrSF', '2ndFlrSF', 'LowQualFinSF',\n",
      "       'GrLivArea', 'BsmtFullBath', 'BsmtHalfBath', 'FullBath', 'HalfBath',\n",
      "       'BedroomAbvGr', 'KitchenAbvGr', 'TotRmsAbvGrd', 'Fireplaces',\n",
      "       'GarageYrBlt', 'GarageCars', 'GarageArea', 'WoodDeckSF', 'OpenPorchSF',\n",
      "       'EnclosedPorch', '3SsnPorch', 'ScreenPorch', 'PoolArea', 'MiscVal',\n",
      "       'MoSold', 'YrSold'],\n",
      "      dtype='object')\n",
      "Numerical Variables in houses_test: Index(['MSSubClass', 'LotFrontage', 'LotArea', 'OverallQual', 'OverallCond',\n",
      "       'YearBuilt', 'YearRemodAdd', 'MasVnrArea', 'BsmtFinSF1', 'BsmtFinSF2',\n",
      "       'BsmtUnfSF', 'TotalBsmtSF', '1stFlrSF', '2ndFlrSF', 'LowQualFinSF',\n",
      "       'GrLivArea', 'BsmtFullBath', 'BsmtHalfBath', 'FullBath', 'HalfBath',\n",
      "       'BedroomAbvGr', 'KitchenAbvGr', 'TotRmsAbvGrd', 'Fireplaces',\n",
      "       'GarageYrBlt', 'GarageCars', 'GarageArea', 'WoodDeckSF', 'OpenPorchSF',\n",
      "       'EnclosedPorch', '3SsnPorch', 'ScreenPorch', 'PoolArea', 'MiscVal',\n",
      "       'MoSold', 'YrSold', 'SalePrice'],\n",
      "      dtype='object')\n"
     ]
    }
   ],
   "execution_count": 479
  },
  {
   "metadata": {
    "ExecuteTime": {
     "end_time": "2025-03-24T20:35:15.295322Z",
     "start_time": "2025-03-24T20:35:15.291838Z"
    }
   },
   "cell_type": "code",
   "source": [
    "houses_categorical = houses.select_dtypes(exclude=[np.number])\n",
    "houses_categorical_test = houses_test.select_dtypes(exclude=[np.number])"
   ],
   "id": "5d891176423393a1",
   "outputs": [],
   "execution_count": 480
  },
  {
   "metadata": {
    "ExecuteTime": {
     "end_time": "2025-03-24T20:35:15.344553Z",
     "start_time": "2025-03-24T20:35:15.341118Z"
    }
   },
   "cell_type": "code",
   "source": [
    "print(f\"Categorical Variables in houses: {houses_categorical.columns}\")\n",
    "print(f\"Categorical Variables in houses_test: {houses_categorical_test.columns}\")"
   ],
   "id": "6d7410a021050a47",
   "outputs": [
    {
     "name": "stdout",
     "output_type": "stream",
     "text": [
      "Categorical Variables in houses: Index(['MSZoning', 'Street', 'LotShape', 'LandContour', 'Utilities',\n",
      "       'LotConfig', 'LandSlope', 'Neighborhood', 'Condition1', 'Condition2',\n",
      "       'BldgType', 'HouseStyle', 'RoofStyle', 'RoofMatl', 'Exterior1st',\n",
      "       'Exterior2nd', 'MasVnrType', 'ExterQual', 'ExterCond', 'Foundation',\n",
      "       'BsmtQual', 'BsmtCond', 'BsmtExposure', 'BsmtFinType1', 'BsmtFinType2',\n",
      "       'Heating', 'HeatingQC', 'CentralAir', 'Electrical', 'KitchenQual',\n",
      "       'Functional', 'FireplaceQu', 'GarageType', 'GarageFinish', 'GarageQual',\n",
      "       'GarageCond', 'PavedDrive', 'SaleType', 'SaleCondition'],\n",
      "      dtype='object')\n",
      "Categorical Variables in houses_test: Index(['MSZoning', 'Street', 'LotShape', 'LandContour', 'Utilities',\n",
      "       'LotConfig', 'LandSlope', 'Neighborhood', 'Condition1', 'Condition2',\n",
      "       'BldgType', 'HouseStyle', 'RoofStyle', 'RoofMatl', 'Exterior1st',\n",
      "       'Exterior2nd', 'MasVnrType', 'ExterQual', 'ExterCond', 'Foundation',\n",
      "       'BsmtQual', 'BsmtCond', 'BsmtExposure', 'BsmtFinType1', 'BsmtFinType2',\n",
      "       'Heating', 'HeatingQC', 'CentralAir', 'Electrical', 'KitchenQual',\n",
      "       'Functional', 'FireplaceQu', 'GarageType', 'GarageFinish', 'GarageQual',\n",
      "       'GarageCond', 'PavedDrive', 'SaleType', 'SaleCondition'],\n",
      "      dtype='object')\n"
     ]
    }
   ],
   "execution_count": 481
  },
  {
   "metadata": {
    "ExecuteTime": {
     "end_time": "2025-03-24T20:35:15.392257Z",
     "start_time": "2025-03-24T20:35:15.390116Z"
    }
   },
   "cell_type": "code",
   "source": "",
   "id": "18be721cf1c7a082",
   "outputs": [],
   "execution_count": null
  }
 ],
 "metadata": {
  "kernelspec": {
   "display_name": "Python 3",
   "language": "python",
   "name": "python3"
  },
  "language_info": {
   "codemirror_mode": {
    "name": "ipython",
    "version": 2
   },
   "file_extension": ".py",
   "mimetype": "text/x-python",
   "name": "python",
   "nbconvert_exporter": "python",
   "pygments_lexer": "ipython2",
   "version": "2.7.6"
  }
 },
 "nbformat": 4,
 "nbformat_minor": 5
}
